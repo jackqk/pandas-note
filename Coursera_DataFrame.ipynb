{
  "nbformat": 4,
  "nbformat_minor": 0,
  "metadata": {
    "colab": {
      "name": "Coursera_DataFrame.ipynb",
      "provenance": [],
      "collapsed_sections": [
        "cW0vjIHSOFct",
        "s05reUuJOMnG",
        "RWneWgrIQcdb",
        "FllStfeqQeII",
        "ZFHCyC5eYPRX",
        "a88rroHsBmDt",
        "d1uv2v2uuSaU",
        "k6IlrxlTsaB3",
        "az3LSny5sYpS",
        "ZN6TmQ1py7rF",
        "afdetcu53GdA",
        "U5aalHknQyO1",
        "WSPKkTqteece",
        "u-vNFDuTjme6",
        "_uPVZP5ESN_l",
        "ZV9odXxgwccq",
        "a_K_BcNo0MYp",
        "P86KvDHK2ps3",
        "iMtDs3-i2v9x",
        "DUWAW0lexFj8",
        "K4TH-OKXYOhk",
        "afF8oXrAYTW4",
        "s5i1yEB7bmh6",
        "ZgdkL6_z1iIQ",
        "xpamilePY8ee",
        "jpnWzKTrdclM",
        "pmYlkidmfE0J",
        "VWUcbFRln8H7",
        "n6YIhKTyoNqv",
        "KfCGDtGTs_dF",
        "mURrNJgfB7xo",
        "ShmzuKD_CqB-",
        "qZ8oFx9nIqcC",
        "lhEyoym1LIM3",
        "aWqUe4ExQv2J",
        "K0sjpmhrRE5n",
        "XOWk9XXSRNTB",
        "xVoKg_LDS7EO",
        "T2ZrL3G-ZQpQ",
        "TEKvLOQoZgSI"
      ],
      "include_colab_link": true
    },
    "kernelspec": {
      "name": "python3",
      "display_name": "Python 3"
    }
  },
  "cells": [
    {
      "cell_type": "markdown",
      "metadata": {
        "id": "view-in-github",
        "colab_type": "text"
      },
      "source": [
        "<a href=\"https://colab.research.google.com/github/jackqk/pandas-note/blob/master/Coursera_DataFrame.ipynb\" target=\"_parent\"><img src=\"https://colab.research.google.com/assets/colab-badge.svg\" alt=\"Open In Colab\"/></a>"
      ]
    },
    {
      "cell_type": "markdown",
      "metadata": {
        "id": "GbIf7oOgMN8E",
        "colab_type": "text"
      },
      "source": [
        "# **The DataFrame Data Structure**\n"
      ]
    },
    {
      "cell_type": "code",
      "metadata": {
        "id": "oRz4eG-cN_0y",
        "colab_type": "code",
        "colab": {}
      },
      "source": [
        "import pandas as pd\n",
        "import numpy as np"
      ],
      "execution_count": 0,
      "outputs": []
    },
    {
      "cell_type": "markdown",
      "metadata": {
        "id": "cW0vjIHSOFct",
        "colab_type": "text"
      },
      "source": [
        "# **一、创建DataFrame**"
      ]
    },
    {
      "cell_type": "markdown",
      "metadata": {
        "id": "s05reUuJOMnG",
        "colab_type": "text"
      },
      "source": [
        "## Series创建"
      ]
    },
    {
      "cell_type": "code",
      "metadata": {
        "id": "KpYfCoe-PT_R",
        "colab_type": "code",
        "outputId": "ec4b587e-780f-4256-b358-a8cd45ede8df",
        "colab": {
          "base_uri": "https://localhost:8080/",
          "height": 138
        }
      },
      "source": [
        "purchase_1 = pd.Series({'Name':'Chris',\n",
        "                       'Item Purchased':'Dog Food',\n",
        "                       'Cost':22.50})\n",
        "purchase_2 = pd.Series({'Name':'kevyn',\n",
        "                       'Item Purchased':'Kitty Litter',\n",
        "                       'Cost':2.50})\n",
        "purchase_3 = pd.Series({'Name':'Vinod',\n",
        "                       'Item Purchased':'Bird Seed',\n",
        "                       'Cost':5.00})\n",
        "df = pd.DataFrame([purchase_1, purchase_2, purchase_3], index = ['Store 1', 'Store 1', 'Store 2'])\n",
        "df"
      ],
      "execution_count": 0,
      "outputs": [
        {
          "output_type": "execute_result",
          "data": {
            "text/html": [
              "<div>\n",
              "<style scoped>\n",
              "    .dataframe tbody tr th:only-of-type {\n",
              "        vertical-align: middle;\n",
              "    }\n",
              "\n",
              "    .dataframe tbody tr th {\n",
              "        vertical-align: top;\n",
              "    }\n",
              "\n",
              "    .dataframe thead th {\n",
              "        text-align: right;\n",
              "    }\n",
              "</style>\n",
              "<table border=\"1\" class=\"dataframe\">\n",
              "  <thead>\n",
              "    <tr style=\"text-align: right;\">\n",
              "      <th></th>\n",
              "      <th>Name</th>\n",
              "      <th>Item Purchased</th>\n",
              "      <th>Cost</th>\n",
              "    </tr>\n",
              "  </thead>\n",
              "  <tbody>\n",
              "    <tr>\n",
              "      <th>Store 1</th>\n",
              "      <td>Chris</td>\n",
              "      <td>Dog Food</td>\n",
              "      <td>22.5</td>\n",
              "    </tr>\n",
              "    <tr>\n",
              "      <th>Store 1</th>\n",
              "      <td>kevyn</td>\n",
              "      <td>Kitty Litter</td>\n",
              "      <td>2.5</td>\n",
              "    </tr>\n",
              "    <tr>\n",
              "      <th>Store 2</th>\n",
              "      <td>Vinod</td>\n",
              "      <td>Bird Seed</td>\n",
              "      <td>5.0</td>\n",
              "    </tr>\n",
              "  </tbody>\n",
              "</table>\n",
              "</div>"
            ],
            "text/plain": [
              "          Name Item Purchased  Cost\n",
              "Store 1  Chris       Dog Food  22.5\n",
              "Store 1  kevyn   Kitty Litter   2.5\n",
              "Store 2  Vinod      Bird Seed   5.0"
            ]
          },
          "metadata": {
            "tags": []
          },
          "execution_count": 4
        }
      ]
    },
    {
      "cell_type": "markdown",
      "metadata": {
        "id": "RWneWgrIQcdb",
        "colab_type": "text"
      },
      "source": [
        "# **二、查询/选择**\n",
        "DataFrame的行、列都是为了方便我们查询的<br>\n",
        "由于index、column都可以是多个的，因此若结果是一条以上，则返回DataFrame；否则，返回Series。<br>\n",
        "**dataframe 的查询基本要使用loc、iloc**"
      ]
    },
    {
      "cell_type": "markdown",
      "metadata": {
        "id": "FllStfeqQeII",
        "colab_type": "text"
      },
      "source": [
        "## 选择行（index）"
      ]
    },
    {
      "cell_type": "code",
      "metadata": {
        "id": "hQ0uyljsQtNw",
        "colab_type": "code",
        "outputId": "7c3f90df-3909-423f-8b9d-ff1fbdcffb80",
        "colab": {
          "base_uri": "https://localhost:8080/",
          "height": 118
        }
      },
      "source": [
        "#返回Series\n",
        "print(type(df.loc['Store 2']))\n",
        "print()\n",
        "df.loc['Store 2']"
      ],
      "execution_count": 0,
      "outputs": [
        {
          "output_type": "stream",
          "text": [
            "<class 'pandas.core.series.Series'>\n",
            "\n"
          ],
          "name": "stdout"
        },
        {
          "output_type": "execute_result",
          "data": {
            "text/plain": [
              "Name                  Vinod\n",
              "Item Purchased    Bird Seed\n",
              "Cost                      5\n",
              "Name: Store 2, dtype: object"
            ]
          },
          "metadata": {
            "tags": []
          },
          "execution_count": 5
        }
      ]
    },
    {
      "cell_type": "code",
      "metadata": {
        "id": "su-5UtGGWdYy",
        "colab_type": "code",
        "outputId": "a96759f7-0433-4d83-ecf7-9880f157672c",
        "colab": {
          "base_uri": "https://localhost:8080/",
          "height": 141
        }
      },
      "source": [
        "#返回DataFrame\n",
        "print(type(df.loc['Store 1']))\n",
        "print()\n",
        "df.loc['Store 1']"
      ],
      "execution_count": 0,
      "outputs": [
        {
          "output_type": "stream",
          "text": [
            "<class 'pandas.core.frame.DataFrame'>\n",
            "\n"
          ],
          "name": "stdout"
        },
        {
          "output_type": "execute_result",
          "data": {
            "text/html": [
              "<div>\n",
              "<style scoped>\n",
              "    .dataframe tbody tr th:only-of-type {\n",
              "        vertical-align: middle;\n",
              "    }\n",
              "\n",
              "    .dataframe tbody tr th {\n",
              "        vertical-align: top;\n",
              "    }\n",
              "\n",
              "    .dataframe thead th {\n",
              "        text-align: right;\n",
              "    }\n",
              "</style>\n",
              "<table border=\"1\" class=\"dataframe\">\n",
              "  <thead>\n",
              "    <tr style=\"text-align: right;\">\n",
              "      <th></th>\n",
              "      <th>Name</th>\n",
              "      <th>Item Purchased</th>\n",
              "      <th>Cost</th>\n",
              "    </tr>\n",
              "  </thead>\n",
              "  <tbody>\n",
              "    <tr>\n",
              "      <th>Store 1</th>\n",
              "      <td>Chris</td>\n",
              "      <td>Dog Food</td>\n",
              "      <td>22.5</td>\n",
              "    </tr>\n",
              "    <tr>\n",
              "      <th>Store 1</th>\n",
              "      <td>kevyn</td>\n",
              "      <td>Kitty Litter</td>\n",
              "      <td>2.5</td>\n",
              "    </tr>\n",
              "  </tbody>\n",
              "</table>\n",
              "</div>"
            ],
            "text/plain": [
              "          Name Item Purchased  Cost\n",
              "Store 1  Chris       Dog Food  22.5\n",
              "Store 1  kevyn   Kitty Litter   2.5"
            ]
          },
          "metadata": {
            "tags": []
          },
          "execution_count": 6
        }
      ]
    },
    {
      "cell_type": "markdown",
      "metadata": {
        "id": "ZFHCyC5eYPRX",
        "colab_type": "text"
      },
      "source": [
        "## 选择列（column）\n",
        "\n"
      ]
    },
    {
      "cell_type": "code",
      "metadata": {
        "id": "GOrDawJCfBlY",
        "colab_type": "code",
        "outputId": "567cbd32-ca26-475d-b2cf-7be2db26ff2d",
        "colab": {
          "base_uri": "https://localhost:8080/",
          "height": 84
        }
      },
      "source": [
        "#方法一：选择某列所有数据\n",
        "df['Cost']"
      ],
      "execution_count": 0,
      "outputs": [
        {
          "output_type": "execute_result",
          "data": {
            "text/plain": [
              "Store 1    22.5\n",
              "Store 1     2.5\n",
              "Store 2     5.0\n",
              "Name: Cost, dtype: float64"
            ]
          },
          "metadata": {
            "tags": []
          },
          "execution_count": 7
        }
      ]
    },
    {
      "cell_type": "code",
      "metadata": {
        "id": "RiGpbt8DYxt3",
        "colab_type": "code",
        "outputId": "9cf1d761-b55a-4190-fdd4-e831989d5c1e",
        "colab": {
          "base_uri": "https://localhost:8080/",
          "height": 169
        }
      },
      "source": [
        "#方法二：矩阵转置，将列改为行\n",
        "print(df.T)\n",
        "print()\n",
        "\n",
        "df.T.loc['Cost']\n"
      ],
      "execution_count": 0,
      "outputs": [
        {
          "output_type": "stream",
          "text": [
            "                 Store 1       Store 1    Store 2\n",
            "Name               Chris         kevyn      Vinod\n",
            "Item Purchased  Dog Food  Kitty Litter  Bird Seed\n",
            "Cost                22.5           2.5          5\n",
            "\n"
          ],
          "name": "stdout"
        },
        {
          "output_type": "execute_result",
          "data": {
            "text/plain": [
              "Store 1    22.5\n",
              "Store 1     2.5\n",
              "Store 2       5\n",
              "Name: Cost, dtype: object"
            ]
          },
          "metadata": {
            "tags": []
          },
          "execution_count": 8
        }
      ]
    },
    {
      "cell_type": "markdown",
      "metadata": {
        "id": "a88rroHsBmDt",
        "colab_type": "text"
      },
      "source": [
        "## 选择某一项"
      ]
    },
    {
      "cell_type": "code",
      "metadata": {
        "id": "nYVtlTQwtN0_",
        "colab_type": "code",
        "outputId": "f50c3bf1-eda1-4352-be0a-4ab5af106a82",
        "colab": {
          "base_uri": "https://localhost:8080/",
          "height": 67
        }
      },
      "source": [
        "#方法一：使用列名,这个是chain call\n",
        "#这种方法的缺点是，速度可能会慢，最好避免\n",
        "#这种方法返回的是副本，若是想改变数据，这个方法就不行。\n",
        "df.loc['Store 1']['Cost']"
      ],
      "execution_count": 0,
      "outputs": [
        {
          "output_type": "execute_result",
          "data": {
            "text/plain": [
              "Store 1    22.5\n",
              "Store 1     2.5\n",
              "Name: Cost, dtype: float64"
            ]
          },
          "metadata": {
            "tags": []
          },
          "execution_count": 9
        }
      ]
    },
    {
      "cell_type": "code",
      "metadata": {
        "id": "stvDoFIzs1Wi",
        "colab_type": "code",
        "outputId": "ebda65a7-a344-4a43-e723-acd3700a5797",
        "colab": {
          "base_uri": "https://localhost:8080/",
          "height": 67
        }
      },
      "source": [
        "#方法二：选择某一行的某一列\n",
        "df.loc['Store 1', 'Cost']\n",
        "\n",
        "#可支持切片\n",
        "#df.loc[:, ['Name', 'Cost']]"
      ],
      "execution_count": 0,
      "outputs": [
        {
          "output_type": "execute_result",
          "data": {
            "text/plain": [
              "Store 1    22.5\n",
              "Store 1     2.5\n",
              "Name: Cost, dtype: float64"
            ]
          },
          "metadata": {
            "tags": []
          },
          "execution_count": 10
        }
      ]
    },
    {
      "cell_type": "markdown",
      "metadata": {
        "id": "d1uv2v2uuSaU",
        "colab_type": "text"
      },
      "source": [
        "## Boolean Mask\n",
        "Boolean Mask：可以是一维的Series，也可以是二维DataFrame；其中每个元素是True或者False<br>\n",
        "直接中括号被用来搞Boolean Mask"
      ]
    },
    {
      "cell_type": "code",
      "metadata": {
        "id": "COUi3_-wvW8H",
        "colab_type": "code",
        "outputId": "2f5dc90a-68ff-4288-e7d7-23c7e825f951",
        "colab": {
          "base_uri": "https://localhost:8080/",
          "height": 198
        }
      },
      "source": [
        "#数据准备\n",
        "url = 'https://raw.githubusercontent.com/irJERAD/Intro-to-Data-Science-in-Python/master/MyNotebooks/olympics.csv'\n",
        "df = pd.read_csv(url, index_col=0, skiprows=1)\n",
        "for col in df.columns:\n",
        "  if col[:2] == '01':\n",
        "    df.rename(columns={col:'Gold'+col[4:]}, inplace=True)\n",
        "  if col[:2] == '02':\n",
        "    df.rename(columns={col : 'Silver'+col[4:]}, inplace=True)\n",
        "  if col[:2] == '03':\n",
        "    df.rename(columns={col : 'Bronze' + col[4:]}, inplace=True)\n",
        "  if col[:1] == '№':\n",
        "    df.rename(columns={col: '#' + col[2:]}, inplace=True)\n",
        "df.head()"
      ],
      "execution_count": 0,
      "outputs": [
        {
          "output_type": "execute_result",
          "data": {
            "text/html": [
              "<div>\n",
              "<style scoped>\n",
              "    .dataframe tbody tr th:only-of-type {\n",
              "        vertical-align: middle;\n",
              "    }\n",
              "\n",
              "    .dataframe tbody tr th {\n",
              "        vertical-align: top;\n",
              "    }\n",
              "\n",
              "    .dataframe thead th {\n",
              "        text-align: right;\n",
              "    }\n",
              "</style>\n",
              "<table border=\"1\" class=\"dataframe\">\n",
              "  <thead>\n",
              "    <tr style=\"text-align: right;\">\n",
              "      <th></th>\n",
              "      <th>#Summer</th>\n",
              "      <th>Gold</th>\n",
              "      <th>Silver</th>\n",
              "      <th>Bronze</th>\n",
              "      <th>Total</th>\n",
              "      <th>#Winter</th>\n",
              "      <th>Gold.1</th>\n",
              "      <th>Silver.1</th>\n",
              "      <th>Bronze.1</th>\n",
              "      <th>Total.1</th>\n",
              "      <th>#Games</th>\n",
              "      <th>Gold.2</th>\n",
              "      <th>Silver.2</th>\n",
              "      <th>Bronze.2</th>\n",
              "      <th>Combined total</th>\n",
              "    </tr>\n",
              "  </thead>\n",
              "  <tbody>\n",
              "    <tr>\n",
              "      <th>Afghanistan (AFG)</th>\n",
              "      <td>13</td>\n",
              "      <td>0</td>\n",
              "      <td>0</td>\n",
              "      <td>2</td>\n",
              "      <td>2</td>\n",
              "      <td>0</td>\n",
              "      <td>0</td>\n",
              "      <td>0</td>\n",
              "      <td>0</td>\n",
              "      <td>0</td>\n",
              "      <td>13</td>\n",
              "      <td>0</td>\n",
              "      <td>0</td>\n",
              "      <td>2</td>\n",
              "      <td>2</td>\n",
              "    </tr>\n",
              "    <tr>\n",
              "      <th>Algeria (ALG)</th>\n",
              "      <td>12</td>\n",
              "      <td>5</td>\n",
              "      <td>2</td>\n",
              "      <td>8</td>\n",
              "      <td>15</td>\n",
              "      <td>3</td>\n",
              "      <td>0</td>\n",
              "      <td>0</td>\n",
              "      <td>0</td>\n",
              "      <td>0</td>\n",
              "      <td>15</td>\n",
              "      <td>5</td>\n",
              "      <td>2</td>\n",
              "      <td>8</td>\n",
              "      <td>15</td>\n",
              "    </tr>\n",
              "    <tr>\n",
              "      <th>Argentina (ARG)</th>\n",
              "      <td>23</td>\n",
              "      <td>18</td>\n",
              "      <td>24</td>\n",
              "      <td>28</td>\n",
              "      <td>70</td>\n",
              "      <td>18</td>\n",
              "      <td>0</td>\n",
              "      <td>0</td>\n",
              "      <td>0</td>\n",
              "      <td>0</td>\n",
              "      <td>41</td>\n",
              "      <td>18</td>\n",
              "      <td>24</td>\n",
              "      <td>28</td>\n",
              "      <td>70</td>\n",
              "    </tr>\n",
              "    <tr>\n",
              "      <th>Armenia (ARM)</th>\n",
              "      <td>5</td>\n",
              "      <td>1</td>\n",
              "      <td>2</td>\n",
              "      <td>9</td>\n",
              "      <td>12</td>\n",
              "      <td>6</td>\n",
              "      <td>0</td>\n",
              "      <td>0</td>\n",
              "      <td>0</td>\n",
              "      <td>0</td>\n",
              "      <td>11</td>\n",
              "      <td>1</td>\n",
              "      <td>2</td>\n",
              "      <td>9</td>\n",
              "      <td>12</td>\n",
              "    </tr>\n",
              "    <tr>\n",
              "      <th>Australasia (ANZ) [ANZ]</th>\n",
              "      <td>2</td>\n",
              "      <td>3</td>\n",
              "      <td>4</td>\n",
              "      <td>5</td>\n",
              "      <td>12</td>\n",
              "      <td>0</td>\n",
              "      <td>0</td>\n",
              "      <td>0</td>\n",
              "      <td>0</td>\n",
              "      <td>0</td>\n",
              "      <td>2</td>\n",
              "      <td>3</td>\n",
              "      <td>4</td>\n",
              "      <td>5</td>\n",
              "      <td>12</td>\n",
              "    </tr>\n",
              "  </tbody>\n",
              "</table>\n",
              "</div>"
            ],
            "text/plain": [
              "                         #Summer  Gold  ...  Bronze.2  Combined total\n",
              "Afghanistan (AFG)             13     0  ...         2               2\n",
              "Algeria (ALG)                 12     5  ...         8              15\n",
              "Argentina (ARG)               23    18  ...        28              70\n",
              "Armenia (ARM)                  5     1  ...         9              12\n",
              "Australasia (ANZ) [ANZ]        2     3  ...         5              12\n",
              "\n",
              "[5 rows x 15 columns]"
            ]
          },
          "metadata": {
            "tags": []
          },
          "execution_count": 12
        }
      ]
    },
    {
      "cell_type": "code",
      "metadata": {
        "id": "YkPvS2d8vr8H",
        "colab_type": "code",
        "outputId": "b2de07a9-63bb-4ce5-b9eb-9d04b8a5a7e3",
        "colab": {
          "base_uri": "https://localhost:8080/",
          "height": 219
        }
      },
      "source": [
        "# 夏季奥运会上获得过金牌的国家的Boolean Mask\n",
        "df['Gold'] > 0"
      ],
      "execution_count": 0,
      "outputs": [
        {
          "output_type": "execute_result",
          "data": {
            "text/plain": [
              "Afghanistan (AFG)                               False\n",
              "Algeria (ALG)                                    True\n",
              "Argentina (ARG)                                  True\n",
              "Armenia (ARM)                                    True\n",
              "Australasia (ANZ) [ANZ]                          True\n",
              "                                                ...  \n",
              "Independent Olympic Participants (IOP) [IOP]    False\n",
              "Zambia (ZAM) [ZAM]                              False\n",
              "Zimbabwe (ZIM) [ZIM]                             True\n",
              "Mixed team (ZZX) [ZZX]                           True\n",
              "Totals                                           True\n",
              "Name: Gold, Length: 147, dtype: bool"
            ]
          },
          "metadata": {
            "tags": []
          },
          "execution_count": 13
        }
      ]
    },
    {
      "cell_type": "markdown",
      "metadata": {
        "id": "k6IlrxlTsaB3",
        "colab_type": "text"
      },
      "source": [
        "### 方法一：where语句（与sql中的where差不多）\n",
        "不符合条件那一行，全部为NaN"
      ]
    },
    {
      "cell_type": "code",
      "metadata": {
        "id": "njyWNjl8wIif",
        "colab_type": "code",
        "outputId": "e7cb1ca0-01d3-454d-ac31-19742ff848be",
        "colab": {
          "base_uri": "https://localhost:8080/",
          "height": 198
        }
      },
      "source": [
        "# 检索在夏季奥运会获得过金牌的国家\n",
        "only_gold = df.where(df['Gold'] > 0)\n",
        "only_gold.head()"
      ],
      "execution_count": 0,
      "outputs": [
        {
          "output_type": "execute_result",
          "data": {
            "text/html": [
              "<div>\n",
              "<style scoped>\n",
              "    .dataframe tbody tr th:only-of-type {\n",
              "        vertical-align: middle;\n",
              "    }\n",
              "\n",
              "    .dataframe tbody tr th {\n",
              "        vertical-align: top;\n",
              "    }\n",
              "\n",
              "    .dataframe thead th {\n",
              "        text-align: right;\n",
              "    }\n",
              "</style>\n",
              "<table border=\"1\" class=\"dataframe\">\n",
              "  <thead>\n",
              "    <tr style=\"text-align: right;\">\n",
              "      <th></th>\n",
              "      <th>#Summer</th>\n",
              "      <th>Gold</th>\n",
              "      <th>Silver</th>\n",
              "      <th>Bronze</th>\n",
              "      <th>Total</th>\n",
              "      <th>#Winter</th>\n",
              "      <th>Gold.1</th>\n",
              "      <th>Silver.1</th>\n",
              "      <th>Bronze.1</th>\n",
              "      <th>Total.1</th>\n",
              "      <th>#Games</th>\n",
              "      <th>Gold.2</th>\n",
              "      <th>Silver.2</th>\n",
              "      <th>Bronze.2</th>\n",
              "      <th>Combined total</th>\n",
              "    </tr>\n",
              "  </thead>\n",
              "  <tbody>\n",
              "    <tr>\n",
              "      <th>Afghanistan (AFG)</th>\n",
              "      <td>NaN</td>\n",
              "      <td>NaN</td>\n",
              "      <td>NaN</td>\n",
              "      <td>NaN</td>\n",
              "      <td>NaN</td>\n",
              "      <td>NaN</td>\n",
              "      <td>NaN</td>\n",
              "      <td>NaN</td>\n",
              "      <td>NaN</td>\n",
              "      <td>NaN</td>\n",
              "      <td>NaN</td>\n",
              "      <td>NaN</td>\n",
              "      <td>NaN</td>\n",
              "      <td>NaN</td>\n",
              "      <td>NaN</td>\n",
              "    </tr>\n",
              "    <tr>\n",
              "      <th>Algeria (ALG)</th>\n",
              "      <td>12.0</td>\n",
              "      <td>5.0</td>\n",
              "      <td>2.0</td>\n",
              "      <td>8.0</td>\n",
              "      <td>15.0</td>\n",
              "      <td>3.0</td>\n",
              "      <td>0.0</td>\n",
              "      <td>0.0</td>\n",
              "      <td>0.0</td>\n",
              "      <td>0.0</td>\n",
              "      <td>15.0</td>\n",
              "      <td>5.0</td>\n",
              "      <td>2.0</td>\n",
              "      <td>8.0</td>\n",
              "      <td>15.0</td>\n",
              "    </tr>\n",
              "    <tr>\n",
              "      <th>Argentina (ARG)</th>\n",
              "      <td>23.0</td>\n",
              "      <td>18.0</td>\n",
              "      <td>24.0</td>\n",
              "      <td>28.0</td>\n",
              "      <td>70.0</td>\n",
              "      <td>18.0</td>\n",
              "      <td>0.0</td>\n",
              "      <td>0.0</td>\n",
              "      <td>0.0</td>\n",
              "      <td>0.0</td>\n",
              "      <td>41.0</td>\n",
              "      <td>18.0</td>\n",
              "      <td>24.0</td>\n",
              "      <td>28.0</td>\n",
              "      <td>70.0</td>\n",
              "    </tr>\n",
              "    <tr>\n",
              "      <th>Armenia (ARM)</th>\n",
              "      <td>5.0</td>\n",
              "      <td>1.0</td>\n",
              "      <td>2.0</td>\n",
              "      <td>9.0</td>\n",
              "      <td>12.0</td>\n",
              "      <td>6.0</td>\n",
              "      <td>0.0</td>\n",
              "      <td>0.0</td>\n",
              "      <td>0.0</td>\n",
              "      <td>0.0</td>\n",
              "      <td>11.0</td>\n",
              "      <td>1.0</td>\n",
              "      <td>2.0</td>\n",
              "      <td>9.0</td>\n",
              "      <td>12.0</td>\n",
              "    </tr>\n",
              "    <tr>\n",
              "      <th>Australasia (ANZ) [ANZ]</th>\n",
              "      <td>2.0</td>\n",
              "      <td>3.0</td>\n",
              "      <td>4.0</td>\n",
              "      <td>5.0</td>\n",
              "      <td>12.0</td>\n",
              "      <td>0.0</td>\n",
              "      <td>0.0</td>\n",
              "      <td>0.0</td>\n",
              "      <td>0.0</td>\n",
              "      <td>0.0</td>\n",
              "      <td>2.0</td>\n",
              "      <td>3.0</td>\n",
              "      <td>4.0</td>\n",
              "      <td>5.0</td>\n",
              "      <td>12.0</td>\n",
              "    </tr>\n",
              "  </tbody>\n",
              "</table>\n",
              "</div>"
            ],
            "text/plain": [
              "                         #Summer  Gold  ...  Bronze.2  Combined total\n",
              "Afghanistan (AFG)            NaN   NaN  ...       NaN             NaN\n",
              "Algeria (ALG)               12.0   5.0  ...       8.0            15.0\n",
              "Argentina (ARG)             23.0  18.0  ...      28.0            70.0\n",
              "Armenia (ARM)                5.0   1.0  ...       9.0            12.0\n",
              "Australasia (ANZ) [ANZ]      2.0   3.0  ...       5.0            12.0\n",
              "\n",
              "[5 rows x 15 columns]"
            ]
          },
          "metadata": {
            "tags": []
          },
          "execution_count": 16
        }
      ]
    },
    {
      "cell_type": "code",
      "metadata": {
        "id": "zs798RM2wjkS",
        "colab_type": "code",
        "outputId": "4522e80f-6848-45bd-c288-ab7f57301215",
        "colab": {
          "base_uri": "https://localhost:8080/",
          "height": 34
        }
      },
      "source": [
        "#count对没有NaN的计数\n",
        "only_gold['Gold'].count()"
      ],
      "execution_count": 0,
      "outputs": [
        {
          "output_type": "execute_result",
          "data": {
            "text/plain": [
              "100"
            ]
          },
          "metadata": {
            "tags": []
          },
          "execution_count": 15
        }
      ]
    },
    {
      "cell_type": "code",
      "metadata": {
        "id": "aKKRKHe3wya3",
        "colab_type": "code",
        "outputId": "589a1e61-804a-46bb-e20b-e91b13b3dee2",
        "colab": {
          "base_uri": "https://localhost:8080/",
          "height": 34
        }
      },
      "source": [
        "#对比上面的，得知筛选了一部分了\n",
        "df['Gold'].count()"
      ],
      "execution_count": 0,
      "outputs": [
        {
          "output_type": "execute_result",
          "data": {
            "text/plain": [
              "147"
            ]
          },
          "metadata": {
            "tags": []
          },
          "execution_count": 82
        }
      ]
    },
    {
      "cell_type": "markdown",
      "metadata": {
        "id": "az3LSny5sYpS",
        "colab_type": "text"
      },
      "source": [
        "###方法二：直接干\n",
        "返回原始数据副本,这种方法没有Nan，pandas自动帮你过滤掉了。<br>\n",
        "在语法上可以想象成，将where放到中括号里面了。"
      ]
    },
    {
      "cell_type": "code",
      "metadata": {
        "id": "9fX-eALOsmet",
        "colab_type": "code",
        "outputId": "76d60c54-6a0c-4d3d-8aa4-27fbe29b983d",
        "colab": {
          "base_uri": "https://localhost:8080/",
          "height": 34
        }
      },
      "source": [
        "only_gold = df[df['Gold'] > 0]\n",
        "only_gold.head()"
      ],
      "execution_count": 0,
      "outputs": [
        {
          "output_type": "execute_result",
          "data": {
            "text/plain": [
              "100"
            ]
          },
          "metadata": {
            "tags": []
          },
          "execution_count": 125
        }
      ]
    },
    {
      "cell_type": "code",
      "metadata": {
        "id": "echvJ2zkva3P",
        "colab_type": "code",
        "outputId": "65ddf1bb-61ca-4f22-deda-b7bc67480553",
        "colab": {
          "base_uri": "https://localhost:8080/",
          "height": 34
        }
      },
      "source": [
        "#在夏季、冬季奥运会拿过金牌的国家\n",
        "len(df[(df['Gold'] > 0) | (df['Gold.1'] > 0)])"
      ],
      "execution_count": 0,
      "outputs": [
        {
          "output_type": "execute_result",
          "data": {
            "text/plain": [
              "101"
            ]
          },
          "metadata": {
            "tags": []
          },
          "execution_count": 133
        }
      ]
    },
    {
      "cell_type": "code",
      "metadata": {
        "id": "hcLm-_K6wG8b",
        "colab_type": "code",
        "outputId": "628351c2-148a-4631-d07f-1a0211985d92",
        "colab": {
          "base_uri": "https://localhost:8080/",
          "height": 114
        }
      },
      "source": [
        "df[(df['Gold'] == 0) & (df['Gold.1'] > 0)]"
      ],
      "execution_count": 0,
      "outputs": [
        {
          "output_type": "execute_result",
          "data": {
            "text/html": [
              "<div>\n",
              "<style scoped>\n",
              "    .dataframe tbody tr th:only-of-type {\n",
              "        vertical-align: middle;\n",
              "    }\n",
              "\n",
              "    .dataframe tbody tr th {\n",
              "        vertical-align: top;\n",
              "    }\n",
              "\n",
              "    .dataframe thead th {\n",
              "        text-align: right;\n",
              "    }\n",
              "</style>\n",
              "<table border=\"1\" class=\"dataframe\">\n",
              "  <thead>\n",
              "    <tr style=\"text-align: right;\">\n",
              "      <th></th>\n",
              "      <th>#Summer</th>\n",
              "      <th>Gold</th>\n",
              "      <th>Silver</th>\n",
              "      <th>Bronze</th>\n",
              "      <th>Total</th>\n",
              "      <th>#Winter</th>\n",
              "      <th>Gold.1</th>\n",
              "      <th>Silver.1</th>\n",
              "      <th>Bronze.1</th>\n",
              "      <th>Total.1</th>\n",
              "      <th>#Games</th>\n",
              "      <th>Gold.2</th>\n",
              "      <th>Silver.2</th>\n",
              "      <th>Bronze.2</th>\n",
              "      <th>Combined total</th>\n",
              "    </tr>\n",
              "  </thead>\n",
              "  <tbody>\n",
              "    <tr>\n",
              "      <th>Liechtenstein (LIE)</th>\n",
              "      <td>16</td>\n",
              "      <td>0</td>\n",
              "      <td>0</td>\n",
              "      <td>0</td>\n",
              "      <td>0</td>\n",
              "      <td>18</td>\n",
              "      <td>2</td>\n",
              "      <td>2</td>\n",
              "      <td>5</td>\n",
              "      <td>9</td>\n",
              "      <td>34</td>\n",
              "      <td>2</td>\n",
              "      <td>2</td>\n",
              "      <td>5</td>\n",
              "      <td>9</td>\n",
              "    </tr>\n",
              "  </tbody>\n",
              "</table>\n",
              "</div>"
            ],
            "text/plain": [
              "                     #Summer  Gold  Silver  ...  Silver.2  Bronze.2  Combined total\n",
              "Liechtenstein (LIE)       16     0       0  ...         2         5               9\n",
              "\n",
              "[1 rows x 15 columns]"
            ]
          },
          "metadata": {
            "tags": []
          },
          "execution_count": 135
        }
      ]
    },
    {
      "cell_type": "markdown",
      "metadata": {
        "id": "ZN6TmQ1py7rF",
        "colab_type": "text"
      },
      "source": [
        "# **三、常用 Operation**\n",
        "有些操作会对原始DataFrame产生影响"
      ]
    },
    {
      "cell_type": "markdown",
      "metadata": {
        "id": "afdetcu53GdA",
        "colab_type": "text"
      },
      "source": [
        "## 插入"
      ]
    },
    {
      "cell_type": "code",
      "metadata": {
        "id": "ybV1elKl3m3x",
        "colab_type": "code",
        "colab": {}
      },
      "source": [
        "purchase_1 = pd.Series({'Name':'Chris',\n",
        "                       'Item Purchased':'Dog Food',\n",
        "                       'Cost':22.50})\n",
        "purchase_2 = pd.Series({'Name':'kevyn',\n",
        "                       'Item Purchased':'Kitty Litter',\n",
        "                       'Cost':2.50})\n",
        "purchase_3 = pd.Series({'Name':'Vinod',\n",
        "                       'Item Purchased':'Bird Seed',\n",
        "                       'Cost':5.00})\n",
        "df = pd.DataFrame([purchase_1, purchase_2, purchase_3], index = ['Store 1', 'Store 1', 'Store 2'])"
      ],
      "execution_count": 0,
      "outputs": []
    },
    {
      "cell_type": "markdown",
      "metadata": {
        "id": "U5aalHknQyO1",
        "colab_type": "text"
      },
      "source": [
        "### 插入列"
      ]
    },
    {
      "cell_type": "code",
      "metadata": {
        "id": "ah2pzVPEHYrC",
        "colab_type": "code",
        "outputId": "06de93d0-d9a2-438a-d4b9-59f7197282e7",
        "colab": {
          "base_uri": "https://localhost:8080/",
          "height": 138
        }
      },
      "source": [
        "df['Delivered'] = True\n",
        "df"
      ],
      "execution_count": 0,
      "outputs": [
        {
          "output_type": "execute_result",
          "data": {
            "text/html": [
              "<div>\n",
              "<style scoped>\n",
              "    .dataframe tbody tr th:only-of-type {\n",
              "        vertical-align: middle;\n",
              "    }\n",
              "\n",
              "    .dataframe tbody tr th {\n",
              "        vertical-align: top;\n",
              "    }\n",
              "\n",
              "    .dataframe thead th {\n",
              "        text-align: right;\n",
              "    }\n",
              "</style>\n",
              "<table border=\"1\" class=\"dataframe\">\n",
              "  <thead>\n",
              "    <tr style=\"text-align: right;\">\n",
              "      <th></th>\n",
              "      <th>Name</th>\n",
              "      <th>Item Purchased</th>\n",
              "      <th>Cost</th>\n",
              "      <th>Delivered</th>\n",
              "    </tr>\n",
              "  </thead>\n",
              "  <tbody>\n",
              "    <tr>\n",
              "      <th>Store 1</th>\n",
              "      <td>Chris</td>\n",
              "      <td>Dog Food</td>\n",
              "      <td>22.5</td>\n",
              "      <td>True</td>\n",
              "    </tr>\n",
              "    <tr>\n",
              "      <th>Store 1</th>\n",
              "      <td>kevyn</td>\n",
              "      <td>Kitty Litter</td>\n",
              "      <td>2.5</td>\n",
              "      <td>True</td>\n",
              "    </tr>\n",
              "    <tr>\n",
              "      <th>Store 2</th>\n",
              "      <td>Vinod</td>\n",
              "      <td>Bird Seed</td>\n",
              "      <td>5.0</td>\n",
              "      <td>True</td>\n",
              "    </tr>\n",
              "  </tbody>\n",
              "</table>\n",
              "</div>"
            ],
            "text/plain": [
              "          Name Item Purchased  Cost  Delivered\n",
              "Store 1  Chris       Dog Food  22.5       True\n",
              "Store 1  kevyn   Kitty Litter   2.5       True\n",
              "Store 2  Vinod      Bird Seed   5.0       True"
            ]
          },
          "metadata": {
            "tags": []
          },
          "execution_count": 12
        }
      ]
    },
    {
      "cell_type": "code",
      "metadata": {
        "id": "khTcpitmQ0MA",
        "colab_type": "code",
        "outputId": "10ddb7ac-c4bb-4f4d-c3d6-4f8226d64a6a",
        "colab": {
          "base_uri": "https://localhost:8080/",
          "height": 205
        }
      },
      "source": [
        "# 长度要对齐\n",
        "df['Date'] = ['December 1', 'January 1', 'mid_may']\n",
        "print(df)\n",
        "\n",
        "#df['Feedback'] = ['Positive', 'Negative']  拨错\n",
        "df['Feedback'] = ['Positive', None, 'Negative']\n",
        "df"
      ],
      "execution_count": 0,
      "outputs": [
        {
          "output_type": "stream",
          "text": [
            "          Name Item Purchased  Cost  Delivered        Date\n",
            "Store 1  Chris       Dog Food  22.5       True  December 1\n",
            "Store 1  kevyn   Kitty Litter   2.5       True   January 1\n",
            "Store 2  Vinod      Bird Seed   5.0       True     mid_may\n"
          ],
          "name": "stdout"
        },
        {
          "output_type": "execute_result",
          "data": {
            "text/html": [
              "<div>\n",
              "<style scoped>\n",
              "    .dataframe tbody tr th:only-of-type {\n",
              "        vertical-align: middle;\n",
              "    }\n",
              "\n",
              "    .dataframe tbody tr th {\n",
              "        vertical-align: top;\n",
              "    }\n",
              "\n",
              "    .dataframe thead th {\n",
              "        text-align: right;\n",
              "    }\n",
              "</style>\n",
              "<table border=\"1\" class=\"dataframe\">\n",
              "  <thead>\n",
              "    <tr style=\"text-align: right;\">\n",
              "      <th></th>\n",
              "      <th>Name</th>\n",
              "      <th>Item Purchased</th>\n",
              "      <th>Cost</th>\n",
              "      <th>Delivered</th>\n",
              "      <th>Date</th>\n",
              "      <th>Feedback</th>\n",
              "    </tr>\n",
              "  </thead>\n",
              "  <tbody>\n",
              "    <tr>\n",
              "      <th>Store 1</th>\n",
              "      <td>Chris</td>\n",
              "      <td>Dog Food</td>\n",
              "      <td>22.5</td>\n",
              "      <td>True</td>\n",
              "      <td>December 1</td>\n",
              "      <td>Positive</td>\n",
              "    </tr>\n",
              "    <tr>\n",
              "      <th>Store 1</th>\n",
              "      <td>kevyn</td>\n",
              "      <td>Kitty Litter</td>\n",
              "      <td>2.5</td>\n",
              "      <td>True</td>\n",
              "      <td>January 1</td>\n",
              "      <td>None</td>\n",
              "    </tr>\n",
              "    <tr>\n",
              "      <th>Store 2</th>\n",
              "      <td>Vinod</td>\n",
              "      <td>Bird Seed</td>\n",
              "      <td>5.0</td>\n",
              "      <td>True</td>\n",
              "      <td>mid_may</td>\n",
              "      <td>Negative</td>\n",
              "    </tr>\n",
              "  </tbody>\n",
              "</table>\n",
              "</div>"
            ],
            "text/plain": [
              "          Name Item Purchased  Cost  Delivered        Date  Feedback\n",
              "Store 1  Chris       Dog Food  22.5       True  December 1  Positive\n",
              "Store 1  kevyn   Kitty Litter   2.5       True   January 1      None\n",
              "Store 2  Vinod      Bird Seed   5.0       True     mid_may  Negative"
            ]
          },
          "metadata": {
            "tags": []
          },
          "execution_count": 13
        }
      ]
    },
    {
      "cell_type": "code",
      "metadata": {
        "id": "ssrL7QXoHJp5",
        "colab_type": "code",
        "outputId": "3f041aec-9f87-4e64-b53c-4c3152436f04",
        "colab": {
          "base_uri": "https://localhost:8080/",
          "height": 138
        }
      },
      "source": [
        "#长度不用对齐\n",
        "#pandas自动帮你填充缺省值\n",
        "adf = df.reset_index()\n",
        "adf['Date'] = pd.Series({0:'December 1', 2:'mid-May'})\n",
        "adf"
      ],
      "execution_count": 0,
      "outputs": [
        {
          "output_type": "execute_result",
          "data": {
            "text/html": [
              "<div>\n",
              "<style scoped>\n",
              "    .dataframe tbody tr th:only-of-type {\n",
              "        vertical-align: middle;\n",
              "    }\n",
              "\n",
              "    .dataframe tbody tr th {\n",
              "        vertical-align: top;\n",
              "    }\n",
              "\n",
              "    .dataframe thead th {\n",
              "        text-align: right;\n",
              "    }\n",
              "</style>\n",
              "<table border=\"1\" class=\"dataframe\">\n",
              "  <thead>\n",
              "    <tr style=\"text-align: right;\">\n",
              "      <th></th>\n",
              "      <th>index</th>\n",
              "      <th>Name</th>\n",
              "      <th>Item Purchased</th>\n",
              "      <th>Cost</th>\n",
              "      <th>Delivered</th>\n",
              "      <th>Date</th>\n",
              "      <th>Feedback</th>\n",
              "    </tr>\n",
              "  </thead>\n",
              "  <tbody>\n",
              "    <tr>\n",
              "      <th>0</th>\n",
              "      <td>Store 1</td>\n",
              "      <td>Chris</td>\n",
              "      <td>Dog Food</td>\n",
              "      <td>22.5</td>\n",
              "      <td>True</td>\n",
              "      <td>December 1</td>\n",
              "      <td>Positive</td>\n",
              "    </tr>\n",
              "    <tr>\n",
              "      <th>1</th>\n",
              "      <td>Store 1</td>\n",
              "      <td>kevyn</td>\n",
              "      <td>Kitty Litter</td>\n",
              "      <td>2.5</td>\n",
              "      <td>True</td>\n",
              "      <td>NaN</td>\n",
              "      <td>None</td>\n",
              "    </tr>\n",
              "    <tr>\n",
              "      <th>2</th>\n",
              "      <td>Store 2</td>\n",
              "      <td>Vinod</td>\n",
              "      <td>Bird Seed</td>\n",
              "      <td>5.0</td>\n",
              "      <td>True</td>\n",
              "      <td>mid-May</td>\n",
              "      <td>Negative</td>\n",
              "    </tr>\n",
              "  </tbody>\n",
              "</table>\n",
              "</div>"
            ],
            "text/plain": [
              "     index   Name Item Purchased  Cost  Delivered        Date  Feedback\n",
              "0  Store 1  Chris       Dog Food  22.5       True  December 1  Positive\n",
              "1  Store 1  kevyn   Kitty Litter   2.5       True         NaN      None\n",
              "2  Store 2  Vinod      Bird Seed   5.0       True     mid-May  Negative"
            ]
          },
          "metadata": {
            "tags": []
          },
          "execution_count": 14
        }
      ]
    },
    {
      "cell_type": "markdown",
      "metadata": {
        "id": "WSPKkTqteece",
        "colab_type": "text"
      },
      "source": [
        "## 修改\n",
        "如果不想修改 ，这先使用copy()"
      ]
    },
    {
      "cell_type": "code",
      "metadata": {
        "id": "W46GT08cehSG",
        "colab_type": "code",
        "colab": {}
      },
      "source": [
        "purchase_1 = pd.Series({'Name': 'Chris',\n",
        "                        'Item Purchased': 'Dog Food',\n",
        "                        'Cost': 22.50})\n",
        "purchase_2 = pd.Series({'Name': 'Kevyn',\n",
        "                        'Item Purchased': 'Kitty Litter',\n",
        "                        'Cost': 2.50})\n",
        "purchase_3 = pd.Series({'Name': 'Vinod',\n",
        "                        'Item Purchased': 'Bird Seed',\n",
        "                        'Cost': 5.00})\n",
        "\n",
        "df = pd.DataFrame([purchase_1, purchase_2, purchase_3], index=['Store 1', 'Store 1', 'Store 2'])"
      ],
      "execution_count": 0,
      "outputs": []
    },
    {
      "cell_type": "markdown",
      "metadata": {
        "id": "u-vNFDuTjme6",
        "colab_type": "text"
      },
      "source": [
        "### 方法一：修改列"
      ]
    },
    {
      "cell_type": "code",
      "metadata": {
        "id": "Bivbkv8aekrm",
        "colab_type": "code",
        "outputId": "cfce243a-a1e4-4ad8-caf1-6a7d9935538d",
        "colab": {
          "base_uri": "https://localhost:8080/",
          "height": 138
        }
      },
      "source": [
        "#原来的价格打八折\n",
        "df['Cost'] *= 0.8\n",
        "df"
      ],
      "execution_count": 0,
      "outputs": [
        {
          "output_type": "execute_result",
          "data": {
            "text/html": [
              "<div>\n",
              "<style scoped>\n",
              "    .dataframe tbody tr th:only-of-type {\n",
              "        vertical-align: middle;\n",
              "    }\n",
              "\n",
              "    .dataframe tbody tr th {\n",
              "        vertical-align: top;\n",
              "    }\n",
              "\n",
              "    .dataframe thead th {\n",
              "        text-align: right;\n",
              "    }\n",
              "</style>\n",
              "<table border=\"1\" class=\"dataframe\">\n",
              "  <thead>\n",
              "    <tr style=\"text-align: right;\">\n",
              "      <th></th>\n",
              "      <th>Name</th>\n",
              "      <th>Item Purchased</th>\n",
              "      <th>Cost</th>\n",
              "    </tr>\n",
              "  </thead>\n",
              "  <tbody>\n",
              "    <tr>\n",
              "      <th>Store 1</th>\n",
              "      <td>Chris</td>\n",
              "      <td>Dog Food</td>\n",
              "      <td>19.6</td>\n",
              "    </tr>\n",
              "    <tr>\n",
              "      <th>Store 1</th>\n",
              "      <td>Kevyn</td>\n",
              "      <td>Kitty Litter</td>\n",
              "      <td>3.6</td>\n",
              "    </tr>\n",
              "    <tr>\n",
              "      <th>Store 2</th>\n",
              "      <td>Vinod</td>\n",
              "      <td>Bird Seed</td>\n",
              "      <td>5.6</td>\n",
              "    </tr>\n",
              "  </tbody>\n",
              "</table>\n",
              "</div>"
            ],
            "text/plain": [
              "          Name Item Purchased  Cost\n",
              "Store 1  Chris       Dog Food  19.6\n",
              "Store 1  Kevyn   Kitty Litter   3.6\n",
              "Store 2  Vinod      Bird Seed   5.6"
            ]
          },
          "metadata": {
            "tags": []
          },
          "execution_count": 43
        }
      ]
    },
    {
      "cell_type": "markdown",
      "metadata": {
        "id": "_uPVZP5ESN_l",
        "colab_type": "text"
      },
      "source": [
        "### 方法二：\n"
      ]
    },
    {
      "cell_type": "code",
      "metadata": {
        "id": "w6defnoKSSlN",
        "colab_type": "code",
        "outputId": "f1ce1a3b-4fb0-43ed-dfdb-f8cea3b17bb8",
        "colab": {
          "base_uri": "https://localhost:8080/",
          "height": 138
        }
      },
      "source": [
        "#按个数赋值\n",
        "df['Cost'] = [2,4,6]\n",
        "df"
      ],
      "execution_count": 0,
      "outputs": [
        {
          "output_type": "execute_result",
          "data": {
            "text/html": [
              "<div>\n",
              "<style scoped>\n",
              "    .dataframe tbody tr th:only-of-type {\n",
              "        vertical-align: middle;\n",
              "    }\n",
              "\n",
              "    .dataframe tbody tr th {\n",
              "        vertical-align: top;\n",
              "    }\n",
              "\n",
              "    .dataframe thead th {\n",
              "        text-align: right;\n",
              "    }\n",
              "</style>\n",
              "<table border=\"1\" class=\"dataframe\">\n",
              "  <thead>\n",
              "    <tr style=\"text-align: right;\">\n",
              "      <th></th>\n",
              "      <th>Name</th>\n",
              "      <th>Item Purchased</th>\n",
              "      <th>Cost</th>\n",
              "      <th>new_colume</th>\n",
              "    </tr>\n",
              "  </thead>\n",
              "  <tbody>\n",
              "    <tr>\n",
              "      <th>Store 1</th>\n",
              "      <td>Chris</td>\n",
              "      <td>Dog Food</td>\n",
              "      <td>2</td>\n",
              "      <td>None</td>\n",
              "    </tr>\n",
              "    <tr>\n",
              "      <th>Store 1</th>\n",
              "      <td>kevyn</td>\n",
              "      <td>Kitty Litter</td>\n",
              "      <td>4</td>\n",
              "      <td>None</td>\n",
              "    </tr>\n",
              "    <tr>\n",
              "      <th>Store 2</th>\n",
              "      <td>Vinod</td>\n",
              "      <td>Bird Seed</td>\n",
              "      <td>6</td>\n",
              "      <td>None</td>\n",
              "    </tr>\n",
              "  </tbody>\n",
              "</table>\n",
              "</div>"
            ],
            "text/plain": [
              "          Name Item Purchased  Cost new_colume\n",
              "Store 1  Chris       Dog Food     2       None\n",
              "Store 1  kevyn   Kitty Litter     4       None\n",
              "Store 2  Vinod      Bird Seed     6       None"
            ]
          },
          "metadata": {
            "tags": []
          },
          "execution_count": 25
        }
      ]
    },
    {
      "cell_type": "markdown",
      "metadata": {
        "id": "ZV9odXxgwccq",
        "colab_type": "text"
      },
      "source": [
        "### 方法三：按条件修改，如果做，**待完成**"
      ]
    },
    {
      "cell_type": "code",
      "metadata": {
        "id": "ElvgYJJ0wbVm",
        "colab_type": "code",
        "colab": {}
      },
      "source": [
        ""
      ],
      "execution_count": 0,
      "outputs": []
    },
    {
      "cell_type": "markdown",
      "metadata": {
        "id": "a_K_BcNo0MYp",
        "colab_type": "text"
      },
      "source": [
        "## 删除\n",
        "如用drop，有两个参数需要注意：inplace=True这就地更改，不返回副本。axis=0表示删除好难过，axis=1表示删除列"
      ]
    },
    {
      "cell_type": "markdown",
      "metadata": {
        "id": "P86KvDHK2ps3",
        "colab_type": "text"
      },
      "source": [
        "### 删除行\n",
        "传入index删除"
      ]
    },
    {
      "cell_type": "code",
      "metadata": {
        "id": "lpwL3n170QZs",
        "colab_type": "code",
        "outputId": "7ab45a9c-b77e-4fd2-c925-d4c34de15b79",
        "colab": {
          "base_uri": "https://localhost:8080/",
          "height": 188
        }
      },
      "source": [
        "#方法一：不会修改原有数据，而是返回一个结果的副本\n",
        "result = df.drop('Store 1')\n",
        "\n",
        "print(result)\n",
        "print()\n",
        "df"
      ],
      "execution_count": 0,
      "outputs": [
        {
          "output_type": "stream",
          "text": [
            "          Name Item Purchased  Cost Location\n",
            "Store 2  Vinod      Bird Seed   5.0     None\n",
            "\n"
          ],
          "name": "stdout"
        },
        {
          "output_type": "execute_result",
          "data": {
            "text/html": [
              "<div>\n",
              "<style scoped>\n",
              "    .dataframe tbody tr th:only-of-type {\n",
              "        vertical-align: middle;\n",
              "    }\n",
              "\n",
              "    .dataframe tbody tr th {\n",
              "        vertical-align: top;\n",
              "    }\n",
              "\n",
              "    .dataframe thead th {\n",
              "        text-align: right;\n",
              "    }\n",
              "</style>\n",
              "<table border=\"1\" class=\"dataframe\">\n",
              "  <thead>\n",
              "    <tr style=\"text-align: right;\">\n",
              "      <th></th>\n",
              "      <th>Name</th>\n",
              "      <th>Item Purchased</th>\n",
              "      <th>Cost</th>\n",
              "      <th>Location</th>\n",
              "    </tr>\n",
              "  </thead>\n",
              "  <tbody>\n",
              "    <tr>\n",
              "      <th>Store 1</th>\n",
              "      <td>Chris</td>\n",
              "      <td>Dog Food</td>\n",
              "      <td>22.5</td>\n",
              "      <td>None</td>\n",
              "    </tr>\n",
              "    <tr>\n",
              "      <th>Store 1</th>\n",
              "      <td>kevyn</td>\n",
              "      <td>Kitty Litter</td>\n",
              "      <td>2.5</td>\n",
              "      <td>None</td>\n",
              "    </tr>\n",
              "    <tr>\n",
              "      <th>Store 2</th>\n",
              "      <td>Vinod</td>\n",
              "      <td>Bird Seed</td>\n",
              "      <td>5.0</td>\n",
              "      <td>None</td>\n",
              "    </tr>\n",
              "  </tbody>\n",
              "</table>\n",
              "</div>"
            ],
            "text/plain": [
              "          Name Item Purchased  Cost Location\n",
              "Store 1  Chris       Dog Food  22.5     None\n",
              "Store 1  kevyn   Kitty Litter   2.5     None\n",
              "Store 2  Vinod      Bird Seed   5.0     None"
            ]
          },
          "metadata": {
            "tags": []
          },
          "execution_count": 12
        }
      ]
    },
    {
      "cell_type": "code",
      "metadata": {
        "id": "wkC2Cw0W0TvQ",
        "colab_type": "code",
        "outputId": "63857914-6bde-42a3-d489-a94eb28cddfa",
        "colab": {
          "base_uri": "https://localhost:8080/",
          "height": 78
        }
      },
      "source": [
        "#方法二：copy + drop\n",
        "#暂时不知道这样做的意图。\n",
        "copy_df = df.copy()\n",
        "copy_df = copy_df.drop('Store 1')\n",
        "copy_df"
      ],
      "execution_count": 0,
      "outputs": [
        {
          "output_type": "execute_result",
          "data": {
            "text/html": [
              "<div>\n",
              "<style scoped>\n",
              "    .dataframe tbody tr th:only-of-type {\n",
              "        vertical-align: middle;\n",
              "    }\n",
              "\n",
              "    .dataframe tbody tr th {\n",
              "        vertical-align: top;\n",
              "    }\n",
              "\n",
              "    .dataframe thead th {\n",
              "        text-align: right;\n",
              "    }\n",
              "</style>\n",
              "<table border=\"1\" class=\"dataframe\">\n",
              "  <thead>\n",
              "    <tr style=\"text-align: right;\">\n",
              "      <th></th>\n",
              "      <th>Name</th>\n",
              "      <th>Item Purchased</th>\n",
              "      <th>Cost</th>\n",
              "      <th>Location</th>\n",
              "    </tr>\n",
              "  </thead>\n",
              "  <tbody>\n",
              "    <tr>\n",
              "      <th>Store 2</th>\n",
              "      <td>Vinod</td>\n",
              "      <td>Bird Seed</td>\n",
              "      <td>5.0</td>\n",
              "      <td>None</td>\n",
              "    </tr>\n",
              "  </tbody>\n",
              "</table>\n",
              "</div>"
            ],
            "text/plain": [
              "          Name Item Purchased  Cost Location\n",
              "Store 2  Vinod      Bird Seed   5.0     None"
            ]
          },
          "metadata": {
            "tags": []
          },
          "execution_count": 13
        }
      ]
    },
    {
      "cell_type": "code",
      "metadata": {
        "id": "m81LxSQI0Vyq",
        "colab_type": "code",
        "outputId": "547611b5-6e4b-4de9-e89b-9ff8d4dcf216",
        "colab": {
          "base_uri": "https://localhost:8080/",
          "height": 138
        }
      },
      "source": [
        "df"
      ],
      "execution_count": 0,
      "outputs": [
        {
          "output_type": "execute_result",
          "data": {
            "text/html": [
              "<div>\n",
              "<style scoped>\n",
              "    .dataframe tbody tr th:only-of-type {\n",
              "        vertical-align: middle;\n",
              "    }\n",
              "\n",
              "    .dataframe tbody tr th {\n",
              "        vertical-align: top;\n",
              "    }\n",
              "\n",
              "    .dataframe thead th {\n",
              "        text-align: right;\n",
              "    }\n",
              "</style>\n",
              "<table border=\"1\" class=\"dataframe\">\n",
              "  <thead>\n",
              "    <tr style=\"text-align: right;\">\n",
              "      <th></th>\n",
              "      <th>Name</th>\n",
              "      <th>Item Purchased</th>\n",
              "      <th>Cost</th>\n",
              "      <th>Location</th>\n",
              "    </tr>\n",
              "  </thead>\n",
              "  <tbody>\n",
              "    <tr>\n",
              "      <th>Store 1</th>\n",
              "      <td>Chris</td>\n",
              "      <td>Dog Food</td>\n",
              "      <td>22.5</td>\n",
              "      <td>None</td>\n",
              "    </tr>\n",
              "    <tr>\n",
              "      <th>Store 1</th>\n",
              "      <td>kevyn</td>\n",
              "      <td>Kitty Litter</td>\n",
              "      <td>2.5</td>\n",
              "      <td>None</td>\n",
              "    </tr>\n",
              "    <tr>\n",
              "      <th>Store 2</th>\n",
              "      <td>Vinod</td>\n",
              "      <td>Bird Seed</td>\n",
              "      <td>5.0</td>\n",
              "      <td>None</td>\n",
              "    </tr>\n",
              "  </tbody>\n",
              "</table>\n",
              "</div>"
            ],
            "text/plain": [
              "          Name Item Purchased  Cost Location\n",
              "Store 1  Chris       Dog Food  22.5     None\n",
              "Store 1  kevyn   Kitty Litter   2.5     None\n",
              "Store 2  Vinod      Bird Seed   5.0     None"
            ]
          },
          "metadata": {
            "tags": []
          },
          "execution_count": 14
        }
      ]
    },
    {
      "cell_type": "markdown",
      "metadata": {
        "id": "iMtDs3-i2v9x",
        "colab_type": "text"
      },
      "source": [
        "### 删除列"
      ]
    },
    {
      "cell_type": "code",
      "metadata": {
        "id": "qAS_T-Jd08Ky",
        "colab_type": "code",
        "outputId": "1f9150c0-e9e1-420b-b625-efe69386d0da",
        "colab": {
          "base_uri": "https://localhost:8080/",
          "height": 222
        }
      },
      "source": [
        "#方法一：修改axis参数\n",
        "result = df.drop('Cost', axis = 1)\n",
        "print(df)\n",
        "print()\n",
        "result"
      ],
      "execution_count": 0,
      "outputs": [
        {
          "output_type": "stream",
          "text": [
            "          Name Item Purchased  Cost Location\n",
            "Store 1  Chris       Dog Food  22.5     None\n",
            "Store 1  kevyn   Kitty Litter   2.5     None\n",
            "Store 2  Vinod      Bird Seed   5.0     None\n",
            "\n"
          ],
          "name": "stdout"
        },
        {
          "output_type": "execute_result",
          "data": {
            "text/html": [
              "<div>\n",
              "<style scoped>\n",
              "    .dataframe tbody tr th:only-of-type {\n",
              "        vertical-align: middle;\n",
              "    }\n",
              "\n",
              "    .dataframe tbody tr th {\n",
              "        vertical-align: top;\n",
              "    }\n",
              "\n",
              "    .dataframe thead th {\n",
              "        text-align: right;\n",
              "    }\n",
              "</style>\n",
              "<table border=\"1\" class=\"dataframe\">\n",
              "  <thead>\n",
              "    <tr style=\"text-align: right;\">\n",
              "      <th></th>\n",
              "      <th>Name</th>\n",
              "      <th>Item Purchased</th>\n",
              "      <th>Location</th>\n",
              "    </tr>\n",
              "  </thead>\n",
              "  <tbody>\n",
              "    <tr>\n",
              "      <th>Store 1</th>\n",
              "      <td>Chris</td>\n",
              "      <td>Dog Food</td>\n",
              "      <td>None</td>\n",
              "    </tr>\n",
              "    <tr>\n",
              "      <th>Store 1</th>\n",
              "      <td>kevyn</td>\n",
              "      <td>Kitty Litter</td>\n",
              "      <td>None</td>\n",
              "    </tr>\n",
              "    <tr>\n",
              "      <th>Store 2</th>\n",
              "      <td>Vinod</td>\n",
              "      <td>Bird Seed</td>\n",
              "      <td>None</td>\n",
              "    </tr>\n",
              "  </tbody>\n",
              "</table>\n",
              "</div>"
            ],
            "text/plain": [
              "          Name Item Purchased Location\n",
              "Store 1  Chris       Dog Food     None\n",
              "Store 1  kevyn   Kitty Litter     None\n",
              "Store 2  Vinod      Bird Seed     None"
            ]
          },
          "metadata": {
            "tags": []
          },
          "execution_count": 15
        }
      ]
    },
    {
      "cell_type": "code",
      "metadata": {
        "id": "4h3RL3vP2nyT",
        "colab_type": "code",
        "colab": {}
      },
      "source": [
        "# 方法二：del关键字，就地生效，不返回副本\n",
        "del copy_df['Name']\n",
        "copy_df"
      ],
      "execution_count": 0,
      "outputs": []
    },
    {
      "cell_type": "markdown",
      "metadata": {
        "id": "DUWAW0lexFj8",
        "colab_type": "text"
      },
      "source": [
        "### 删除NaN的值\n",
        "dropna()不影响原始DataFrame"
      ]
    },
    {
      "cell_type": "code",
      "metadata": {
        "id": "Zvn1Jd5-xLeG",
        "colab_type": "code",
        "outputId": "d6abe641-38cc-4a06-ad93-605bb17808ea",
        "colab": {
          "base_uri": "https://localhost:8080/",
          "height": 138
        }
      },
      "source": [
        "import numpy as np\n",
        "df_na = pd.DataFrame(np.random.randint(1,10, (3,5)))\n",
        "df_na"
      ],
      "execution_count": 0,
      "outputs": [
        {
          "output_type": "execute_result",
          "data": {
            "text/html": [
              "<div>\n",
              "<style scoped>\n",
              "    .dataframe tbody tr th:only-of-type {\n",
              "        vertical-align: middle;\n",
              "    }\n",
              "\n",
              "    .dataframe tbody tr th {\n",
              "        vertical-align: top;\n",
              "    }\n",
              "\n",
              "    .dataframe thead th {\n",
              "        text-align: right;\n",
              "    }\n",
              "</style>\n",
              "<table border=\"1\" class=\"dataframe\">\n",
              "  <thead>\n",
              "    <tr style=\"text-align: right;\">\n",
              "      <th></th>\n",
              "      <th>0</th>\n",
              "      <th>1</th>\n",
              "      <th>2</th>\n",
              "      <th>3</th>\n",
              "      <th>4</th>\n",
              "    </tr>\n",
              "  </thead>\n",
              "  <tbody>\n",
              "    <tr>\n",
              "      <th>0</th>\n",
              "      <td>6</td>\n",
              "      <td>9</td>\n",
              "      <td>8</td>\n",
              "      <td>3</td>\n",
              "      <td>7</td>\n",
              "    </tr>\n",
              "    <tr>\n",
              "      <th>1</th>\n",
              "      <td>5</td>\n",
              "      <td>9</td>\n",
              "      <td>6</td>\n",
              "      <td>9</td>\n",
              "      <td>5</td>\n",
              "    </tr>\n",
              "    <tr>\n",
              "      <th>2</th>\n",
              "      <td>2</td>\n",
              "      <td>9</td>\n",
              "      <td>9</td>\n",
              "      <td>3</td>\n",
              "      <td>5</td>\n",
              "    </tr>\n",
              "  </tbody>\n",
              "</table>\n",
              "</div>"
            ],
            "text/plain": [
              "   0  1  2  3  4\n",
              "0  6  9  8  3  7\n",
              "1  5  9  6  9  5\n",
              "2  2  9  9  3  5"
            ]
          },
          "metadata": {
            "tags": []
          },
          "execution_count": 126
        }
      ]
    },
    {
      "cell_type": "code",
      "metadata": {
        "id": "G2KQS1b7mLcx",
        "colab_type": "code",
        "outputId": "217970a3-7dc6-45ac-a3ed-551d10c1af29",
        "colab": {
          "base_uri": "https://localhost:8080/",
          "height": 175
        }
      },
      "source": [
        "#删除有NaN的行\n",
        "df_na.loc[1,1] = np.nan\n",
        "print(df_na)\n",
        "\n",
        "df_na.dropna(axis=0)\n"
      ],
      "execution_count": 0,
      "outputs": [
        {
          "output_type": "stream",
          "text": [
            "   0    1  2  3  4\n",
            "0  6  9.0  8  3  7\n",
            "1  5  NaN  6  9  5\n",
            "2  2  9.0  9  3  5\n"
          ],
          "name": "stdout"
        },
        {
          "output_type": "execute_result",
          "data": {
            "text/html": [
              "<div>\n",
              "<style scoped>\n",
              "    .dataframe tbody tr th:only-of-type {\n",
              "        vertical-align: middle;\n",
              "    }\n",
              "\n",
              "    .dataframe tbody tr th {\n",
              "        vertical-align: top;\n",
              "    }\n",
              "\n",
              "    .dataframe thead th {\n",
              "        text-align: right;\n",
              "    }\n",
              "</style>\n",
              "<table border=\"1\" class=\"dataframe\">\n",
              "  <thead>\n",
              "    <tr style=\"text-align: right;\">\n",
              "      <th></th>\n",
              "      <th>0</th>\n",
              "      <th>1</th>\n",
              "      <th>2</th>\n",
              "      <th>3</th>\n",
              "      <th>4</th>\n",
              "    </tr>\n",
              "  </thead>\n",
              "  <tbody>\n",
              "    <tr>\n",
              "      <th>0</th>\n",
              "      <td>6</td>\n",
              "      <td>9.0</td>\n",
              "      <td>8</td>\n",
              "      <td>3</td>\n",
              "      <td>7</td>\n",
              "    </tr>\n",
              "    <tr>\n",
              "      <th>2</th>\n",
              "      <td>2</td>\n",
              "      <td>9.0</td>\n",
              "      <td>9</td>\n",
              "      <td>3</td>\n",
              "      <td>5</td>\n",
              "    </tr>\n",
              "  </tbody>\n",
              "</table>\n",
              "</div>"
            ],
            "text/plain": [
              "   0    1  2  3  4\n",
              "0  6  9.0  8  3  7\n",
              "2  2  9.0  9  3  5"
            ]
          },
          "metadata": {
            "tags": []
          },
          "execution_count": 129
        }
      ]
    },
    {
      "cell_type": "code",
      "metadata": {
        "id": "oJA7xuq9mhuU",
        "colab_type": "code",
        "outputId": "be9bac09-b0f3-4847-e755-e56324dcbf75",
        "colab": {
          "base_uri": "https://localhost:8080/",
          "height": 205
        }
      },
      "source": [
        "#删除有NaN的列\n",
        "df_na.loc[2,2] = np.nan\n",
        "print(df_na)\n",
        "df_na.dropna(axis=1)"
      ],
      "execution_count": 0,
      "outputs": [
        {
          "output_type": "stream",
          "text": [
            "   0    1    2  3  4\n",
            "0  6  1.0  8.0  4  5\n",
            "1  9  NaN  3.0  5  5\n",
            "2  2  6.0  NaN  4  7\n"
          ],
          "name": "stdout"
        },
        {
          "output_type": "execute_result",
          "data": {
            "text/html": [
              "<div>\n",
              "<style scoped>\n",
              "    .dataframe tbody tr th:only-of-type {\n",
              "        vertical-align: middle;\n",
              "    }\n",
              "\n",
              "    .dataframe tbody tr th {\n",
              "        vertical-align: top;\n",
              "    }\n",
              "\n",
              "    .dataframe thead th {\n",
              "        text-align: right;\n",
              "    }\n",
              "</style>\n",
              "<table border=\"1\" class=\"dataframe\">\n",
              "  <thead>\n",
              "    <tr style=\"text-align: right;\">\n",
              "      <th></th>\n",
              "      <th>0</th>\n",
              "      <th>3</th>\n",
              "      <th>4</th>\n",
              "    </tr>\n",
              "  </thead>\n",
              "  <tbody>\n",
              "    <tr>\n",
              "      <th>0</th>\n",
              "      <td>6</td>\n",
              "      <td>4</td>\n",
              "      <td>5</td>\n",
              "    </tr>\n",
              "    <tr>\n",
              "      <th>1</th>\n",
              "      <td>9</td>\n",
              "      <td>5</td>\n",
              "      <td>5</td>\n",
              "    </tr>\n",
              "    <tr>\n",
              "      <th>2</th>\n",
              "      <td>2</td>\n",
              "      <td>4</td>\n",
              "      <td>7</td>\n",
              "    </tr>\n",
              "  </tbody>\n",
              "</table>\n",
              "</div>"
            ],
            "text/plain": [
              "   0  3  4\n",
              "0  6  4  5\n",
              "1  9  5  5\n",
              "2  2  4  7"
            ]
          },
          "metadata": {
            "tags": []
          },
          "execution_count": 109
        }
      ]
    },
    {
      "cell_type": "markdown",
      "metadata": {
        "id": "K4TH-OKXYOhk",
        "colab_type": "text"
      },
      "source": [
        "## index操作\n",
        "**函数汇总**<br>\n",
        "排序：sort_index()<br>"
      ]
    },
    {
      "cell_type": "code",
      "metadata": {
        "id": "LL6qJbqXYnIP",
        "colab_type": "code",
        "outputId": "967572d0-082e-44ea-959f-cbe1d6f32f3a",
        "colab": {
          "base_uri": "https://localhost:8080/",
          "height": 232
        }
      },
      "source": [
        "url = 'https://raw.githubusercontent.com/irJERAD/Intro-to-Data-Science-in-Python/master/MyNotebooks/olympics.csv'\n",
        "df = pd.read_csv(url, index_col=0, skiprows=1)\n",
        "df.head()"
      ],
      "execution_count": 0,
      "outputs": [
        {
          "output_type": "execute_result",
          "data": {
            "text/html": [
              "<div>\n",
              "<style scoped>\n",
              "    .dataframe tbody tr th:only-of-type {\n",
              "        vertical-align: middle;\n",
              "    }\n",
              "\n",
              "    .dataframe tbody tr th {\n",
              "        vertical-align: top;\n",
              "    }\n",
              "\n",
              "    .dataframe thead th {\n",
              "        text-align: right;\n",
              "    }\n",
              "</style>\n",
              "<table border=\"1\" class=\"dataframe\">\n",
              "  <thead>\n",
              "    <tr style=\"text-align: right;\">\n",
              "      <th></th>\n",
              "      <th>№ Summer</th>\n",
              "      <th>01 !</th>\n",
              "      <th>02 !</th>\n",
              "      <th>03 !</th>\n",
              "      <th>Total</th>\n",
              "      <th>№ Winter</th>\n",
              "      <th>01 !.1</th>\n",
              "      <th>02 !.1</th>\n",
              "      <th>03 !.1</th>\n",
              "      <th>Total.1</th>\n",
              "      <th>№ Games</th>\n",
              "      <th>01 !.2</th>\n",
              "      <th>02 !.2</th>\n",
              "      <th>03 !.2</th>\n",
              "      <th>Combined total</th>\n",
              "    </tr>\n",
              "  </thead>\n",
              "  <tbody>\n",
              "    <tr>\n",
              "      <th>Afghanistan (AFG)</th>\n",
              "      <td>13</td>\n",
              "      <td>0</td>\n",
              "      <td>0</td>\n",
              "      <td>2</td>\n",
              "      <td>2</td>\n",
              "      <td>0</td>\n",
              "      <td>0</td>\n",
              "      <td>0</td>\n",
              "      <td>0</td>\n",
              "      <td>0</td>\n",
              "      <td>13</td>\n",
              "      <td>0</td>\n",
              "      <td>0</td>\n",
              "      <td>2</td>\n",
              "      <td>2</td>\n",
              "    </tr>\n",
              "    <tr>\n",
              "      <th>Algeria (ALG)</th>\n",
              "      <td>12</td>\n",
              "      <td>5</td>\n",
              "      <td>2</td>\n",
              "      <td>8</td>\n",
              "      <td>15</td>\n",
              "      <td>3</td>\n",
              "      <td>0</td>\n",
              "      <td>0</td>\n",
              "      <td>0</td>\n",
              "      <td>0</td>\n",
              "      <td>15</td>\n",
              "      <td>5</td>\n",
              "      <td>2</td>\n",
              "      <td>8</td>\n",
              "      <td>15</td>\n",
              "    </tr>\n",
              "    <tr>\n",
              "      <th>Argentina (ARG)</th>\n",
              "      <td>23</td>\n",
              "      <td>18</td>\n",
              "      <td>24</td>\n",
              "      <td>28</td>\n",
              "      <td>70</td>\n",
              "      <td>18</td>\n",
              "      <td>0</td>\n",
              "      <td>0</td>\n",
              "      <td>0</td>\n",
              "      <td>0</td>\n",
              "      <td>41</td>\n",
              "      <td>18</td>\n",
              "      <td>24</td>\n",
              "      <td>28</td>\n",
              "      <td>70</td>\n",
              "    </tr>\n",
              "    <tr>\n",
              "      <th>Armenia (ARM)</th>\n",
              "      <td>5</td>\n",
              "      <td>1</td>\n",
              "      <td>2</td>\n",
              "      <td>9</td>\n",
              "      <td>12</td>\n",
              "      <td>6</td>\n",
              "      <td>0</td>\n",
              "      <td>0</td>\n",
              "      <td>0</td>\n",
              "      <td>0</td>\n",
              "      <td>11</td>\n",
              "      <td>1</td>\n",
              "      <td>2</td>\n",
              "      <td>9</td>\n",
              "      <td>12</td>\n",
              "    </tr>\n",
              "    <tr>\n",
              "      <th>Australasia (ANZ) [ANZ]</th>\n",
              "      <td>2</td>\n",
              "      <td>3</td>\n",
              "      <td>4</td>\n",
              "      <td>5</td>\n",
              "      <td>12</td>\n",
              "      <td>0</td>\n",
              "      <td>0</td>\n",
              "      <td>0</td>\n",
              "      <td>0</td>\n",
              "      <td>0</td>\n",
              "      <td>2</td>\n",
              "      <td>3</td>\n",
              "      <td>4</td>\n",
              "      <td>5</td>\n",
              "      <td>12</td>\n",
              "    </tr>\n",
              "  </tbody>\n",
              "</table>\n",
              "</div>"
            ],
            "text/plain": [
              "                         № Summer  01 !  02 !  ...  02 !.2  03 !.2  Combined total\n",
              "Afghanistan (AFG)              13     0     0  ...       0       2               2\n",
              "Algeria (ALG)                  12     5     2  ...       2       8              15\n",
              "Argentina (ARG)                23    18    24  ...      24      28              70\n",
              "Armenia (ARM)                   5     1     2  ...       2       9              12\n",
              "Australasia (ANZ) [ANZ]         2     3     4  ...       4       5              12\n",
              "\n",
              "[5 rows x 15 columns]"
            ]
          },
          "metadata": {
            "tags": []
          },
          "execution_count": 18
        }
      ]
    },
    {
      "cell_type": "markdown",
      "metadata": {
        "id": "afF8oXrAYTW4",
        "colab_type": "text"
      },
      "source": [
        "### 方法一：将其他列设为index\n",
        "set_index是一个破坏性过程，如果你以前的index是有用的，你需要备份"
      ]
    },
    {
      "cell_type": "code",
      "metadata": {
        "id": "Hu9tPZcdYo3F",
        "colab_type": "code",
        "outputId": "607d81b6-e570-4164-a002-f7adbc9f17d8",
        "colab": {
          "base_uri": "https://localhost:8080/",
          "height": 252
        }
      },
      "source": [
        "#备份\n",
        "df['country'] = df.index\n",
        "df.head()"
      ],
      "execution_count": 0,
      "outputs": [
        {
          "output_type": "execute_result",
          "data": {
            "text/html": [
              "<div>\n",
              "<style scoped>\n",
              "    .dataframe tbody tr th:only-of-type {\n",
              "        vertical-align: middle;\n",
              "    }\n",
              "\n",
              "    .dataframe tbody tr th {\n",
              "        vertical-align: top;\n",
              "    }\n",
              "\n",
              "    .dataframe thead th {\n",
              "        text-align: right;\n",
              "    }\n",
              "</style>\n",
              "<table border=\"1\" class=\"dataframe\">\n",
              "  <thead>\n",
              "    <tr style=\"text-align: right;\">\n",
              "      <th></th>\n",
              "      <th>№ Summer</th>\n",
              "      <th>01 !</th>\n",
              "      <th>02 !</th>\n",
              "      <th>03 !</th>\n",
              "      <th>Total</th>\n",
              "      <th>№ Winter</th>\n",
              "      <th>01 !.1</th>\n",
              "      <th>02 !.1</th>\n",
              "      <th>03 !.1</th>\n",
              "      <th>Total.1</th>\n",
              "      <th>№ Games</th>\n",
              "      <th>01 !.2</th>\n",
              "      <th>02 !.2</th>\n",
              "      <th>03 !.2</th>\n",
              "      <th>Combined total</th>\n",
              "      <th>country</th>\n",
              "    </tr>\n",
              "  </thead>\n",
              "  <tbody>\n",
              "    <tr>\n",
              "      <th>Afghanistan (AFG)</th>\n",
              "      <td>13</td>\n",
              "      <td>0</td>\n",
              "      <td>0</td>\n",
              "      <td>2</td>\n",
              "      <td>2</td>\n",
              "      <td>0</td>\n",
              "      <td>0</td>\n",
              "      <td>0</td>\n",
              "      <td>0</td>\n",
              "      <td>0</td>\n",
              "      <td>13</td>\n",
              "      <td>0</td>\n",
              "      <td>0</td>\n",
              "      <td>2</td>\n",
              "      <td>2</td>\n",
              "      <td>Afghanistan (AFG)</td>\n",
              "    </tr>\n",
              "    <tr>\n",
              "      <th>Algeria (ALG)</th>\n",
              "      <td>12</td>\n",
              "      <td>5</td>\n",
              "      <td>2</td>\n",
              "      <td>8</td>\n",
              "      <td>15</td>\n",
              "      <td>3</td>\n",
              "      <td>0</td>\n",
              "      <td>0</td>\n",
              "      <td>0</td>\n",
              "      <td>0</td>\n",
              "      <td>15</td>\n",
              "      <td>5</td>\n",
              "      <td>2</td>\n",
              "      <td>8</td>\n",
              "      <td>15</td>\n",
              "      <td>Algeria (ALG)</td>\n",
              "    </tr>\n",
              "    <tr>\n",
              "      <th>Argentina (ARG)</th>\n",
              "      <td>23</td>\n",
              "      <td>18</td>\n",
              "      <td>24</td>\n",
              "      <td>28</td>\n",
              "      <td>70</td>\n",
              "      <td>18</td>\n",
              "      <td>0</td>\n",
              "      <td>0</td>\n",
              "      <td>0</td>\n",
              "      <td>0</td>\n",
              "      <td>41</td>\n",
              "      <td>18</td>\n",
              "      <td>24</td>\n",
              "      <td>28</td>\n",
              "      <td>70</td>\n",
              "      <td>Argentina (ARG)</td>\n",
              "    </tr>\n",
              "    <tr>\n",
              "      <th>Armenia (ARM)</th>\n",
              "      <td>5</td>\n",
              "      <td>1</td>\n",
              "      <td>2</td>\n",
              "      <td>9</td>\n",
              "      <td>12</td>\n",
              "      <td>6</td>\n",
              "      <td>0</td>\n",
              "      <td>0</td>\n",
              "      <td>0</td>\n",
              "      <td>0</td>\n",
              "      <td>11</td>\n",
              "      <td>1</td>\n",
              "      <td>2</td>\n",
              "      <td>9</td>\n",
              "      <td>12</td>\n",
              "      <td>Armenia (ARM)</td>\n",
              "    </tr>\n",
              "    <tr>\n",
              "      <th>Australasia (ANZ) [ANZ]</th>\n",
              "      <td>2</td>\n",
              "      <td>3</td>\n",
              "      <td>4</td>\n",
              "      <td>5</td>\n",
              "      <td>12</td>\n",
              "      <td>0</td>\n",
              "      <td>0</td>\n",
              "      <td>0</td>\n",
              "      <td>0</td>\n",
              "      <td>0</td>\n",
              "      <td>2</td>\n",
              "      <td>3</td>\n",
              "      <td>4</td>\n",
              "      <td>5</td>\n",
              "      <td>12</td>\n",
              "      <td>Australasia (ANZ) [ANZ]</td>\n",
              "    </tr>\n",
              "  </tbody>\n",
              "</table>\n",
              "</div>"
            ],
            "text/plain": [
              "                         № Summer  ...                  country\n",
              "Afghanistan (AFG)              13  ...        Afghanistan (AFG)\n",
              "Algeria (ALG)                  12  ...            Algeria (ALG)\n",
              "Argentina (ARG)                23  ...          Argentina (ARG)\n",
              "Armenia (ARM)                   5  ...            Armenia (ARM)\n",
              "Australasia (ANZ) [ANZ]         2  ...  Australasia (ANZ) [ANZ]\n",
              "\n",
              "[5 rows x 16 columns]"
            ]
          },
          "metadata": {
            "tags": []
          },
          "execution_count": 19
        }
      ]
    },
    {
      "cell_type": "code",
      "metadata": {
        "id": "Qs2jXJC9Y_1h",
        "colab_type": "code",
        "outputId": "505f06c7-6609-4ab1-bb02-687260b2c148",
        "colab": {
          "base_uri": "https://localhost:8080/",
          "height": 262
        }
      },
      "source": [
        "#设置Total为新的index\n",
        "df = df.set_index('Total')\n",
        "df.head()"
      ],
      "execution_count": 0,
      "outputs": [
        {
          "output_type": "execute_result",
          "data": {
            "text/html": [
              "<div>\n",
              "<style scoped>\n",
              "    .dataframe tbody tr th:only-of-type {\n",
              "        vertical-align: middle;\n",
              "    }\n",
              "\n",
              "    .dataframe tbody tr th {\n",
              "        vertical-align: top;\n",
              "    }\n",
              "\n",
              "    .dataframe thead th {\n",
              "        text-align: right;\n",
              "    }\n",
              "</style>\n",
              "<table border=\"1\" class=\"dataframe\">\n",
              "  <thead>\n",
              "    <tr style=\"text-align: right;\">\n",
              "      <th></th>\n",
              "      <th>№ Summer</th>\n",
              "      <th>01 !</th>\n",
              "      <th>02 !</th>\n",
              "      <th>03 !</th>\n",
              "      <th>№ Winter</th>\n",
              "      <th>01 !.1</th>\n",
              "      <th>02 !.1</th>\n",
              "      <th>03 !.1</th>\n",
              "      <th>Total.1</th>\n",
              "      <th>№ Games</th>\n",
              "      <th>01 !.2</th>\n",
              "      <th>02 !.2</th>\n",
              "      <th>03 !.2</th>\n",
              "      <th>Combined total</th>\n",
              "      <th>country</th>\n",
              "    </tr>\n",
              "    <tr>\n",
              "      <th>Total</th>\n",
              "      <th></th>\n",
              "      <th></th>\n",
              "      <th></th>\n",
              "      <th></th>\n",
              "      <th></th>\n",
              "      <th></th>\n",
              "      <th></th>\n",
              "      <th></th>\n",
              "      <th></th>\n",
              "      <th></th>\n",
              "      <th></th>\n",
              "      <th></th>\n",
              "      <th></th>\n",
              "      <th></th>\n",
              "      <th></th>\n",
              "    </tr>\n",
              "  </thead>\n",
              "  <tbody>\n",
              "    <tr>\n",
              "      <th>2</th>\n",
              "      <td>13</td>\n",
              "      <td>0</td>\n",
              "      <td>0</td>\n",
              "      <td>2</td>\n",
              "      <td>0</td>\n",
              "      <td>0</td>\n",
              "      <td>0</td>\n",
              "      <td>0</td>\n",
              "      <td>0</td>\n",
              "      <td>13</td>\n",
              "      <td>0</td>\n",
              "      <td>0</td>\n",
              "      <td>2</td>\n",
              "      <td>2</td>\n",
              "      <td>Afghanistan (AFG)</td>\n",
              "    </tr>\n",
              "    <tr>\n",
              "      <th>15</th>\n",
              "      <td>12</td>\n",
              "      <td>5</td>\n",
              "      <td>2</td>\n",
              "      <td>8</td>\n",
              "      <td>3</td>\n",
              "      <td>0</td>\n",
              "      <td>0</td>\n",
              "      <td>0</td>\n",
              "      <td>0</td>\n",
              "      <td>15</td>\n",
              "      <td>5</td>\n",
              "      <td>2</td>\n",
              "      <td>8</td>\n",
              "      <td>15</td>\n",
              "      <td>Algeria (ALG)</td>\n",
              "    </tr>\n",
              "    <tr>\n",
              "      <th>70</th>\n",
              "      <td>23</td>\n",
              "      <td>18</td>\n",
              "      <td>24</td>\n",
              "      <td>28</td>\n",
              "      <td>18</td>\n",
              "      <td>0</td>\n",
              "      <td>0</td>\n",
              "      <td>0</td>\n",
              "      <td>0</td>\n",
              "      <td>41</td>\n",
              "      <td>18</td>\n",
              "      <td>24</td>\n",
              "      <td>28</td>\n",
              "      <td>70</td>\n",
              "      <td>Argentina (ARG)</td>\n",
              "    </tr>\n",
              "    <tr>\n",
              "      <th>12</th>\n",
              "      <td>5</td>\n",
              "      <td>1</td>\n",
              "      <td>2</td>\n",
              "      <td>9</td>\n",
              "      <td>6</td>\n",
              "      <td>0</td>\n",
              "      <td>0</td>\n",
              "      <td>0</td>\n",
              "      <td>0</td>\n",
              "      <td>11</td>\n",
              "      <td>1</td>\n",
              "      <td>2</td>\n",
              "      <td>9</td>\n",
              "      <td>12</td>\n",
              "      <td>Armenia (ARM)</td>\n",
              "    </tr>\n",
              "    <tr>\n",
              "      <th>12</th>\n",
              "      <td>2</td>\n",
              "      <td>3</td>\n",
              "      <td>4</td>\n",
              "      <td>5</td>\n",
              "      <td>0</td>\n",
              "      <td>0</td>\n",
              "      <td>0</td>\n",
              "      <td>0</td>\n",
              "      <td>0</td>\n",
              "      <td>2</td>\n",
              "      <td>3</td>\n",
              "      <td>4</td>\n",
              "      <td>5</td>\n",
              "      <td>12</td>\n",
              "      <td>Australasia (ANZ) [ANZ]</td>\n",
              "    </tr>\n",
              "  </tbody>\n",
              "</table>\n",
              "</div>"
            ],
            "text/plain": [
              "       № Summer  01 !  02 !  ...  03 !.2  Combined total                  country\n",
              "Total                        ...                                                 \n",
              "2            13     0     0  ...       2               2        Afghanistan (AFG)\n",
              "15           12     5     2  ...       8              15            Algeria (ALG)\n",
              "70           23    18    24  ...      28              70          Argentina (ARG)\n",
              "12            5     1     2  ...       9              12            Armenia (ARM)\n",
              "12            2     3     4  ...       5              12  Australasia (ANZ) [ANZ]\n",
              "\n",
              "[5 rows x 15 columns]"
            ]
          },
          "metadata": {
            "tags": []
          },
          "execution_count": 20
        }
      ]
    },
    {
      "cell_type": "code",
      "metadata": {
        "id": "XJOZGPv8ZHG7",
        "colab_type": "code",
        "outputId": "22fa6b9f-3c05-49c3-9f40-cde6efe7ec9b",
        "colab": {
          "base_uri": "https://localhost:8080/",
          "height": 232
        }
      },
      "source": [
        "#处理一下第一行\n",
        "#这种做法，会为index列提供一个名字\n",
        "#如果不想要，就将他赋值为None即可\n",
        "df.index.name = None\n",
        "df.head()"
      ],
      "execution_count": 0,
      "outputs": [
        {
          "output_type": "execute_result",
          "data": {
            "text/html": [
              "<div>\n",
              "<style scoped>\n",
              "    .dataframe tbody tr th:only-of-type {\n",
              "        vertical-align: middle;\n",
              "    }\n",
              "\n",
              "    .dataframe tbody tr th {\n",
              "        vertical-align: top;\n",
              "    }\n",
              "\n",
              "    .dataframe thead th {\n",
              "        text-align: right;\n",
              "    }\n",
              "</style>\n",
              "<table border=\"1\" class=\"dataframe\">\n",
              "  <thead>\n",
              "    <tr style=\"text-align: right;\">\n",
              "      <th></th>\n",
              "      <th>№ Summer</th>\n",
              "      <th>01 !</th>\n",
              "      <th>02 !</th>\n",
              "      <th>03 !</th>\n",
              "      <th>№ Winter</th>\n",
              "      <th>01 !.1</th>\n",
              "      <th>02 !.1</th>\n",
              "      <th>03 !.1</th>\n",
              "      <th>Total.1</th>\n",
              "      <th>№ Games</th>\n",
              "      <th>01 !.2</th>\n",
              "      <th>02 !.2</th>\n",
              "      <th>03 !.2</th>\n",
              "      <th>Combined total</th>\n",
              "      <th>country</th>\n",
              "    </tr>\n",
              "  </thead>\n",
              "  <tbody>\n",
              "    <tr>\n",
              "      <th>2</th>\n",
              "      <td>13</td>\n",
              "      <td>0</td>\n",
              "      <td>0</td>\n",
              "      <td>2</td>\n",
              "      <td>0</td>\n",
              "      <td>0</td>\n",
              "      <td>0</td>\n",
              "      <td>0</td>\n",
              "      <td>0</td>\n",
              "      <td>13</td>\n",
              "      <td>0</td>\n",
              "      <td>0</td>\n",
              "      <td>2</td>\n",
              "      <td>2</td>\n",
              "      <td>Afghanistan (AFG)</td>\n",
              "    </tr>\n",
              "    <tr>\n",
              "      <th>15</th>\n",
              "      <td>12</td>\n",
              "      <td>5</td>\n",
              "      <td>2</td>\n",
              "      <td>8</td>\n",
              "      <td>3</td>\n",
              "      <td>0</td>\n",
              "      <td>0</td>\n",
              "      <td>0</td>\n",
              "      <td>0</td>\n",
              "      <td>15</td>\n",
              "      <td>5</td>\n",
              "      <td>2</td>\n",
              "      <td>8</td>\n",
              "      <td>15</td>\n",
              "      <td>Algeria (ALG)</td>\n",
              "    </tr>\n",
              "    <tr>\n",
              "      <th>70</th>\n",
              "      <td>23</td>\n",
              "      <td>18</td>\n",
              "      <td>24</td>\n",
              "      <td>28</td>\n",
              "      <td>18</td>\n",
              "      <td>0</td>\n",
              "      <td>0</td>\n",
              "      <td>0</td>\n",
              "      <td>0</td>\n",
              "      <td>41</td>\n",
              "      <td>18</td>\n",
              "      <td>24</td>\n",
              "      <td>28</td>\n",
              "      <td>70</td>\n",
              "      <td>Argentina (ARG)</td>\n",
              "    </tr>\n",
              "    <tr>\n",
              "      <th>12</th>\n",
              "      <td>5</td>\n",
              "      <td>1</td>\n",
              "      <td>2</td>\n",
              "      <td>9</td>\n",
              "      <td>6</td>\n",
              "      <td>0</td>\n",
              "      <td>0</td>\n",
              "      <td>0</td>\n",
              "      <td>0</td>\n",
              "      <td>11</td>\n",
              "      <td>1</td>\n",
              "      <td>2</td>\n",
              "      <td>9</td>\n",
              "      <td>12</td>\n",
              "      <td>Armenia (ARM)</td>\n",
              "    </tr>\n",
              "    <tr>\n",
              "      <th>12</th>\n",
              "      <td>2</td>\n",
              "      <td>3</td>\n",
              "      <td>4</td>\n",
              "      <td>5</td>\n",
              "      <td>0</td>\n",
              "      <td>0</td>\n",
              "      <td>0</td>\n",
              "      <td>0</td>\n",
              "      <td>0</td>\n",
              "      <td>2</td>\n",
              "      <td>3</td>\n",
              "      <td>4</td>\n",
              "      <td>5</td>\n",
              "      <td>12</td>\n",
              "      <td>Australasia (ANZ) [ANZ]</td>\n",
              "    </tr>\n",
              "  </tbody>\n",
              "</table>\n",
              "</div>"
            ],
            "text/plain": [
              "    № Summer  01 !  02 !  ...  03 !.2  Combined total                  country\n",
              "2         13     0     0  ...       2               2        Afghanistan (AFG)\n",
              "15        12     5     2  ...       8              15            Algeria (ALG)\n",
              "70        23    18    24  ...      28              70          Argentina (ARG)\n",
              "12         5     1     2  ...       9              12            Armenia (ARM)\n",
              "12         2     3     4  ...       5              12  Australasia (ANZ) [ANZ]\n",
              "\n",
              "[5 rows x 15 columns]"
            ]
          },
          "metadata": {
            "tags": []
          },
          "execution_count": 21
        }
      ]
    },
    {
      "cell_type": "markdown",
      "metadata": {
        "id": "s5i1yEB7bmh6",
        "colab_type": "text"
      },
      "source": [
        "### 方法二：设置有序整数为index（类似DB中的主键）"
      ]
    },
    {
      "cell_type": "code",
      "metadata": {
        "id": "i7Aa9yLRb2G2",
        "colab_type": "code",
        "outputId": "2e8633a2-6e6f-4d7d-ef36-12fe7349ce7e",
        "colab": {
          "base_uri": "https://localhost:8080/",
          "height": 252
        }
      },
      "source": [
        "#因为之前index name给删掉了\n",
        "df.index.name='Total'\n",
        "df = df.reset_index()\n",
        "  df.head()"
      ],
      "execution_count": 0,
      "outputs": [
        {
          "output_type": "execute_result",
          "data": {
            "text/html": [
              "<div>\n",
              "<style scoped>\n",
              "    .dataframe tbody tr th:only-of-type {\n",
              "        vertical-align: middle;\n",
              "    }\n",
              "\n",
              "    .dataframe tbody tr th {\n",
              "        vertical-align: top;\n",
              "    }\n",
              "\n",
              "    .dataframe thead th {\n",
              "        text-align: right;\n",
              "    }\n",
              "</style>\n",
              "<table border=\"1\" class=\"dataframe\">\n",
              "  <thead>\n",
              "    <tr style=\"text-align: right;\">\n",
              "      <th></th>\n",
              "      <th>Total</th>\n",
              "      <th>№ Summer</th>\n",
              "      <th>01 !</th>\n",
              "      <th>02 !</th>\n",
              "      <th>03 !</th>\n",
              "      <th>№ Winter</th>\n",
              "      <th>01 !.1</th>\n",
              "      <th>02 !.1</th>\n",
              "      <th>03 !.1</th>\n",
              "      <th>Total.1</th>\n",
              "      <th>№ Games</th>\n",
              "      <th>01 !.2</th>\n",
              "      <th>02 !.2</th>\n",
              "      <th>03 !.2</th>\n",
              "      <th>Combined total</th>\n",
              "      <th>country</th>\n",
              "    </tr>\n",
              "  </thead>\n",
              "  <tbody>\n",
              "    <tr>\n",
              "      <th>0</th>\n",
              "      <td>2</td>\n",
              "      <td>13</td>\n",
              "      <td>0</td>\n",
              "      <td>0</td>\n",
              "      <td>2</td>\n",
              "      <td>0</td>\n",
              "      <td>0</td>\n",
              "      <td>0</td>\n",
              "      <td>0</td>\n",
              "      <td>0</td>\n",
              "      <td>13</td>\n",
              "      <td>0</td>\n",
              "      <td>0</td>\n",
              "      <td>2</td>\n",
              "      <td>2</td>\n",
              "      <td>Afghanistan (AFG)</td>\n",
              "    </tr>\n",
              "    <tr>\n",
              "      <th>1</th>\n",
              "      <td>15</td>\n",
              "      <td>12</td>\n",
              "      <td>5</td>\n",
              "      <td>2</td>\n",
              "      <td>8</td>\n",
              "      <td>3</td>\n",
              "      <td>0</td>\n",
              "      <td>0</td>\n",
              "      <td>0</td>\n",
              "      <td>0</td>\n",
              "      <td>15</td>\n",
              "      <td>5</td>\n",
              "      <td>2</td>\n",
              "      <td>8</td>\n",
              "      <td>15</td>\n",
              "      <td>Algeria (ALG)</td>\n",
              "    </tr>\n",
              "    <tr>\n",
              "      <th>2</th>\n",
              "      <td>70</td>\n",
              "      <td>23</td>\n",
              "      <td>18</td>\n",
              "      <td>24</td>\n",
              "      <td>28</td>\n",
              "      <td>18</td>\n",
              "      <td>0</td>\n",
              "      <td>0</td>\n",
              "      <td>0</td>\n",
              "      <td>0</td>\n",
              "      <td>41</td>\n",
              "      <td>18</td>\n",
              "      <td>24</td>\n",
              "      <td>28</td>\n",
              "      <td>70</td>\n",
              "      <td>Argentina (ARG)</td>\n",
              "    </tr>\n",
              "    <tr>\n",
              "      <th>3</th>\n",
              "      <td>12</td>\n",
              "      <td>5</td>\n",
              "      <td>1</td>\n",
              "      <td>2</td>\n",
              "      <td>9</td>\n",
              "      <td>6</td>\n",
              "      <td>0</td>\n",
              "      <td>0</td>\n",
              "      <td>0</td>\n",
              "      <td>0</td>\n",
              "      <td>11</td>\n",
              "      <td>1</td>\n",
              "      <td>2</td>\n",
              "      <td>9</td>\n",
              "      <td>12</td>\n",
              "      <td>Armenia (ARM)</td>\n",
              "    </tr>\n",
              "    <tr>\n",
              "      <th>4</th>\n",
              "      <td>12</td>\n",
              "      <td>2</td>\n",
              "      <td>3</td>\n",
              "      <td>4</td>\n",
              "      <td>5</td>\n",
              "      <td>0</td>\n",
              "      <td>0</td>\n",
              "      <td>0</td>\n",
              "      <td>0</td>\n",
              "      <td>0</td>\n",
              "      <td>2</td>\n",
              "      <td>3</td>\n",
              "      <td>4</td>\n",
              "      <td>5</td>\n",
              "      <td>12</td>\n",
              "      <td>Australasia (ANZ) [ANZ]</td>\n",
              "    </tr>\n",
              "  </tbody>\n",
              "</table>\n",
              "</div>"
            ],
            "text/plain": [
              "   Total  № Summer  01 !  ...  03 !.2  Combined total                  country\n",
              "0      2        13     0  ...       2               2        Afghanistan (AFG)\n",
              "1     15        12     5  ...       8              15            Algeria (ALG)\n",
              "2     70        23    18  ...      28              70          Argentina (ARG)\n",
              "3     12         5     1  ...       9              12            Armenia (ARM)\n",
              "4     12         2     3  ...       5              12  Australasia (ANZ) [ANZ]\n",
              "\n",
              "[5 rows x 16 columns]"
            ]
          },
          "metadata": {
            "tags": []
          },
          "execution_count": 72
        }
      ]
    },
    {
      "cell_type": "markdown",
      "metadata": {
        "id": "ZgdkL6_z1iIQ",
        "colab_type": "text"
      },
      "source": [
        "### 方法三：Multi-Index\n",
        "类似数据库中的联合主键"
      ]
    },
    {
      "cell_type": "code",
      "metadata": {
        "id": "nQloVLG78sC9",
        "colab_type": "code",
        "outputId": "dd15164c-5c40-4e16-f4e5-c626e8b46ed3",
        "colab": {
          "base_uri": "https://localhost:8080/",
          "height": 315
        }
      },
      "source": [
        "  url = 'https://raw.githubusercontent.com/irJERAD/Intro-to-Data-Science-in-Python/master/MyNotebooks/census.csv'\n",
        "  df = pd.read_csv(url)\n",
        "df.head()"
      ],
      "execution_count": 0,
      "outputs": [
        {
          "output_type": "execute_result",
          "data": {
            "text/html": [
              "<div>\n",
              "<style scoped>\n",
              "    .dataframe tbody tr th:only-of-type {\n",
              "        vertical-align: middle;\n",
              "    }\n",
              "\n",
              "    .dataframe tbody tr th {\n",
              "        vertical-align: top;\n",
              "    }\n",
              "\n",
              "    .dataframe thead th {\n",
              "        text-align: right;\n",
              "    }\n",
              "</style>\n",
              "<table border=\"1\" class=\"dataframe\">\n",
              "  <thead>\n",
              "    <tr style=\"text-align: right;\">\n",
              "      <th></th>\n",
              "      <th>SUMLEV</th>\n",
              "      <th>REGION</th>\n",
              "      <th>DIVISION</th>\n",
              "      <th>STATE</th>\n",
              "      <th>COUNTY</th>\n",
              "      <th>STNAME</th>\n",
              "      <th>CTYNAME</th>\n",
              "      <th>CENSUS2010POP</th>\n",
              "      <th>ESTIMATESBASE2010</th>\n",
              "      <th>POPESTIMATE2010</th>\n",
              "      <th>POPESTIMATE2011</th>\n",
              "      <th>POPESTIMATE2012</th>\n",
              "      <th>POPESTIMATE2013</th>\n",
              "      <th>POPESTIMATE2014</th>\n",
              "      <th>POPESTIMATE2015</th>\n",
              "      <th>NPOPCHG_2010</th>\n",
              "      <th>NPOPCHG_2011</th>\n",
              "      <th>NPOPCHG_2012</th>\n",
              "      <th>NPOPCHG_2013</th>\n",
              "      <th>NPOPCHG_2014</th>\n",
              "      <th>NPOPCHG_2015</th>\n",
              "      <th>BIRTHS2010</th>\n",
              "      <th>BIRTHS2011</th>\n",
              "      <th>BIRTHS2012</th>\n",
              "      <th>BIRTHS2013</th>\n",
              "      <th>BIRTHS2014</th>\n",
              "      <th>BIRTHS2015</th>\n",
              "      <th>DEATHS2010</th>\n",
              "      <th>DEATHS2011</th>\n",
              "      <th>DEATHS2012</th>\n",
              "      <th>DEATHS2013</th>\n",
              "      <th>DEATHS2014</th>\n",
              "      <th>DEATHS2015</th>\n",
              "      <th>NATURALINC2010</th>\n",
              "      <th>NATURALINC2011</th>\n",
              "      <th>NATURALINC2012</th>\n",
              "      <th>NATURALINC2013</th>\n",
              "      <th>NATURALINC2014</th>\n",
              "      <th>NATURALINC2015</th>\n",
              "      <th>INTERNATIONALMIG2010</th>\n",
              "      <th>...</th>\n",
              "      <th>RESIDUAL2013</th>\n",
              "      <th>RESIDUAL2014</th>\n",
              "      <th>RESIDUAL2015</th>\n",
              "      <th>GQESTIMATESBASE2010</th>\n",
              "      <th>GQESTIMATES2010</th>\n",
              "      <th>GQESTIMATES2011</th>\n",
              "      <th>GQESTIMATES2012</th>\n",
              "      <th>GQESTIMATES2013</th>\n",
              "      <th>GQESTIMATES2014</th>\n",
              "      <th>GQESTIMATES2015</th>\n",
              "      <th>RBIRTH2011</th>\n",
              "      <th>RBIRTH2012</th>\n",
              "      <th>RBIRTH2013</th>\n",
              "      <th>RBIRTH2014</th>\n",
              "      <th>RBIRTH2015</th>\n",
              "      <th>RDEATH2011</th>\n",
              "      <th>RDEATH2012</th>\n",
              "      <th>RDEATH2013</th>\n",
              "      <th>RDEATH2014</th>\n",
              "      <th>RDEATH2015</th>\n",
              "      <th>RNATURALINC2011</th>\n",
              "      <th>RNATURALINC2012</th>\n",
              "      <th>RNATURALINC2013</th>\n",
              "      <th>RNATURALINC2014</th>\n",
              "      <th>RNATURALINC2015</th>\n",
              "      <th>RINTERNATIONALMIG2011</th>\n",
              "      <th>RINTERNATIONALMIG2012</th>\n",
              "      <th>RINTERNATIONALMIG2013</th>\n",
              "      <th>RINTERNATIONALMIG2014</th>\n",
              "      <th>RINTERNATIONALMIG2015</th>\n",
              "      <th>RDOMESTICMIG2011</th>\n",
              "      <th>RDOMESTICMIG2012</th>\n",
              "      <th>RDOMESTICMIG2013</th>\n",
              "      <th>RDOMESTICMIG2014</th>\n",
              "      <th>RDOMESTICMIG2015</th>\n",
              "      <th>RNETMIG2011</th>\n",
              "      <th>RNETMIG2012</th>\n",
              "      <th>RNETMIG2013</th>\n",
              "      <th>RNETMIG2014</th>\n",
              "      <th>RNETMIG2015</th>\n",
              "    </tr>\n",
              "  </thead>\n",
              "  <tbody>\n",
              "    <tr>\n",
              "      <th>0</th>\n",
              "      <td>40</td>\n",
              "      <td>3</td>\n",
              "      <td>6</td>\n",
              "      <td>1</td>\n",
              "      <td>0</td>\n",
              "      <td>Alabama</td>\n",
              "      <td>Alabama</td>\n",
              "      <td>4779736</td>\n",
              "      <td>4780127</td>\n",
              "      <td>4785161</td>\n",
              "      <td>4801108</td>\n",
              "      <td>4816089</td>\n",
              "      <td>4830533</td>\n",
              "      <td>4846411</td>\n",
              "      <td>4858979</td>\n",
              "      <td>5034</td>\n",
              "      <td>15947</td>\n",
              "      <td>14981</td>\n",
              "      <td>14444</td>\n",
              "      <td>15878</td>\n",
              "      <td>12568</td>\n",
              "      <td>14226</td>\n",
              "      <td>59689</td>\n",
              "      <td>59062</td>\n",
              "      <td>57938</td>\n",
              "      <td>58334</td>\n",
              "      <td>58305</td>\n",
              "      <td>11089</td>\n",
              "      <td>48811</td>\n",
              "      <td>48357</td>\n",
              "      <td>50843</td>\n",
              "      <td>50228</td>\n",
              "      <td>50330</td>\n",
              "      <td>3137</td>\n",
              "      <td>10878</td>\n",
              "      <td>10705</td>\n",
              "      <td>7095</td>\n",
              "      <td>8106</td>\n",
              "      <td>7975</td>\n",
              "      <td>1357</td>\n",
              "      <td>...</td>\n",
              "      <td>677</td>\n",
              "      <td>-573</td>\n",
              "      <td>1135</td>\n",
              "      <td>116185</td>\n",
              "      <td>116212</td>\n",
              "      <td>115560</td>\n",
              "      <td>115666</td>\n",
              "      <td>116963</td>\n",
              "      <td>119088</td>\n",
              "      <td>119599</td>\n",
              "      <td>12.453020</td>\n",
              "      <td>12.282581</td>\n",
              "      <td>12.012080</td>\n",
              "      <td>12.056286</td>\n",
              "      <td>12.014973</td>\n",
              "      <td>10.183524</td>\n",
              "      <td>10.056360</td>\n",
              "      <td>10.541099</td>\n",
              "      <td>10.380963</td>\n",
              "      <td>10.371556</td>\n",
              "      <td>2.269496</td>\n",
              "      <td>2.226220</td>\n",
              "      <td>1.470981</td>\n",
              "      <td>1.675322</td>\n",
              "      <td>1.643417</td>\n",
              "      <td>1.027720</td>\n",
              "      <td>1.019840</td>\n",
              "      <td>1.002216</td>\n",
              "      <td>1.142716</td>\n",
              "      <td>1.179963</td>\n",
              "      <td>0.002295</td>\n",
              "      <td>-0.193196</td>\n",
              "      <td>0.381066</td>\n",
              "      <td>0.582002</td>\n",
              "      <td>-0.467369</td>\n",
              "      <td>1.030015</td>\n",
              "      <td>0.826644</td>\n",
              "      <td>1.383282</td>\n",
              "      <td>1.724718</td>\n",
              "      <td>0.712594</td>\n",
              "    </tr>\n",
              "    <tr>\n",
              "      <th>1</th>\n",
              "      <td>50</td>\n",
              "      <td>3</td>\n",
              "      <td>6</td>\n",
              "      <td>1</td>\n",
              "      <td>1</td>\n",
              "      <td>Alabama</td>\n",
              "      <td>Autauga County</td>\n",
              "      <td>54571</td>\n",
              "      <td>54571</td>\n",
              "      <td>54660</td>\n",
              "      <td>55253</td>\n",
              "      <td>55175</td>\n",
              "      <td>55038</td>\n",
              "      <td>55290</td>\n",
              "      <td>55347</td>\n",
              "      <td>89</td>\n",
              "      <td>593</td>\n",
              "      <td>-78</td>\n",
              "      <td>-137</td>\n",
              "      <td>252</td>\n",
              "      <td>57</td>\n",
              "      <td>151</td>\n",
              "      <td>636</td>\n",
              "      <td>615</td>\n",
              "      <td>574</td>\n",
              "      <td>623</td>\n",
              "      <td>600</td>\n",
              "      <td>152</td>\n",
              "      <td>507</td>\n",
              "      <td>558</td>\n",
              "      <td>583</td>\n",
              "      <td>504</td>\n",
              "      <td>467</td>\n",
              "      <td>-1</td>\n",
              "      <td>129</td>\n",
              "      <td>57</td>\n",
              "      <td>-9</td>\n",
              "      <td>119</td>\n",
              "      <td>133</td>\n",
              "      <td>33</td>\n",
              "      <td>...</td>\n",
              "      <td>22</td>\n",
              "      <td>-10</td>\n",
              "      <td>45</td>\n",
              "      <td>455</td>\n",
              "      <td>455</td>\n",
              "      <td>455</td>\n",
              "      <td>455</td>\n",
              "      <td>455</td>\n",
              "      <td>455</td>\n",
              "      <td>455</td>\n",
              "      <td>11.572789</td>\n",
              "      <td>11.138479</td>\n",
              "      <td>10.416194</td>\n",
              "      <td>11.293597</td>\n",
              "      <td>10.846281</td>\n",
              "      <td>9.225478</td>\n",
              "      <td>10.106133</td>\n",
              "      <td>10.579514</td>\n",
              "      <td>9.136393</td>\n",
              "      <td>8.442022</td>\n",
              "      <td>2.347311</td>\n",
              "      <td>1.032347</td>\n",
              "      <td>-0.163320</td>\n",
              "      <td>2.157204</td>\n",
              "      <td>2.404259</td>\n",
              "      <td>0.363924</td>\n",
              "      <td>0.289782</td>\n",
              "      <td>0.290347</td>\n",
              "      <td>0.326300</td>\n",
              "      <td>0.343466</td>\n",
              "      <td>7.242091</td>\n",
              "      <td>-2.915927</td>\n",
              "      <td>-3.012349</td>\n",
              "      <td>2.265971</td>\n",
              "      <td>-2.530799</td>\n",
              "      <td>7.606016</td>\n",
              "      <td>-2.626146</td>\n",
              "      <td>-2.722002</td>\n",
              "      <td>2.592270</td>\n",
              "      <td>-2.187333</td>\n",
              "    </tr>\n",
              "    <tr>\n",
              "      <th>2</th>\n",
              "      <td>50</td>\n",
              "      <td>3</td>\n",
              "      <td>6</td>\n",
              "      <td>1</td>\n",
              "      <td>3</td>\n",
              "      <td>Alabama</td>\n",
              "      <td>Baldwin County</td>\n",
              "      <td>182265</td>\n",
              "      <td>182265</td>\n",
              "      <td>183193</td>\n",
              "      <td>186659</td>\n",
              "      <td>190396</td>\n",
              "      <td>195126</td>\n",
              "      <td>199713</td>\n",
              "      <td>203709</td>\n",
              "      <td>928</td>\n",
              "      <td>3466</td>\n",
              "      <td>3737</td>\n",
              "      <td>4730</td>\n",
              "      <td>4587</td>\n",
              "      <td>3996</td>\n",
              "      <td>517</td>\n",
              "      <td>2187</td>\n",
              "      <td>2092</td>\n",
              "      <td>2160</td>\n",
              "      <td>2186</td>\n",
              "      <td>2240</td>\n",
              "      <td>532</td>\n",
              "      <td>1825</td>\n",
              "      <td>1879</td>\n",
              "      <td>1902</td>\n",
              "      <td>2044</td>\n",
              "      <td>1992</td>\n",
              "      <td>-15</td>\n",
              "      <td>362</td>\n",
              "      <td>213</td>\n",
              "      <td>258</td>\n",
              "      <td>142</td>\n",
              "      <td>248</td>\n",
              "      <td>69</td>\n",
              "      <td>...</td>\n",
              "      <td>91</td>\n",
              "      <td>434</td>\n",
              "      <td>58</td>\n",
              "      <td>2307</td>\n",
              "      <td>2307</td>\n",
              "      <td>2307</td>\n",
              "      <td>2249</td>\n",
              "      <td>2304</td>\n",
              "      <td>2308</td>\n",
              "      <td>2309</td>\n",
              "      <td>11.826352</td>\n",
              "      <td>11.096524</td>\n",
              "      <td>11.205586</td>\n",
              "      <td>11.072868</td>\n",
              "      <td>11.104997</td>\n",
              "      <td>9.868812</td>\n",
              "      <td>9.966716</td>\n",
              "      <td>9.867141</td>\n",
              "      <td>10.353587</td>\n",
              "      <td>9.875515</td>\n",
              "      <td>1.957540</td>\n",
              "      <td>1.129809</td>\n",
              "      <td>1.338445</td>\n",
              "      <td>0.719281</td>\n",
              "      <td>1.229482</td>\n",
              "      <td>1.011215</td>\n",
              "      <td>0.912334</td>\n",
              "      <td>0.881921</td>\n",
              "      <td>1.073855</td>\n",
              "      <td>1.095627</td>\n",
              "      <td>14.832960</td>\n",
              "      <td>17.647293</td>\n",
              "      <td>21.845705</td>\n",
              "      <td>19.243287</td>\n",
              "      <td>17.197872</td>\n",
              "      <td>15.844176</td>\n",
              "      <td>18.559627</td>\n",
              "      <td>22.727626</td>\n",
              "      <td>20.317142</td>\n",
              "      <td>18.293499</td>\n",
              "    </tr>\n",
              "    <tr>\n",
              "      <th>3</th>\n",
              "      <td>50</td>\n",
              "      <td>3</td>\n",
              "      <td>6</td>\n",
              "      <td>1</td>\n",
              "      <td>5</td>\n",
              "      <td>Alabama</td>\n",
              "      <td>Barbour County</td>\n",
              "      <td>27457</td>\n",
              "      <td>27457</td>\n",
              "      <td>27341</td>\n",
              "      <td>27226</td>\n",
              "      <td>27159</td>\n",
              "      <td>26973</td>\n",
              "      <td>26815</td>\n",
              "      <td>26489</td>\n",
              "      <td>-116</td>\n",
              "      <td>-115</td>\n",
              "      <td>-67</td>\n",
              "      <td>-186</td>\n",
              "      <td>-158</td>\n",
              "      <td>-326</td>\n",
              "      <td>70</td>\n",
              "      <td>335</td>\n",
              "      <td>300</td>\n",
              "      <td>283</td>\n",
              "      <td>260</td>\n",
              "      <td>269</td>\n",
              "      <td>128</td>\n",
              "      <td>319</td>\n",
              "      <td>291</td>\n",
              "      <td>294</td>\n",
              "      <td>310</td>\n",
              "      <td>309</td>\n",
              "      <td>-58</td>\n",
              "      <td>16</td>\n",
              "      <td>9</td>\n",
              "      <td>-11</td>\n",
              "      <td>-50</td>\n",
              "      <td>-40</td>\n",
              "      <td>2</td>\n",
              "      <td>...</td>\n",
              "      <td>19</td>\n",
              "      <td>-1</td>\n",
              "      <td>-5</td>\n",
              "      <td>3193</td>\n",
              "      <td>3193</td>\n",
              "      <td>3382</td>\n",
              "      <td>3388</td>\n",
              "      <td>3389</td>\n",
              "      <td>3353</td>\n",
              "      <td>3352</td>\n",
              "      <td>12.278483</td>\n",
              "      <td>11.032454</td>\n",
              "      <td>10.455923</td>\n",
              "      <td>9.667584</td>\n",
              "      <td>10.093051</td>\n",
              "      <td>11.692048</td>\n",
              "      <td>10.701480</td>\n",
              "      <td>10.862337</td>\n",
              "      <td>11.526735</td>\n",
              "      <td>11.593877</td>\n",
              "      <td>0.586435</td>\n",
              "      <td>0.330974</td>\n",
              "      <td>-0.406414</td>\n",
              "      <td>-1.859151</td>\n",
              "      <td>-1.500825</td>\n",
              "      <td>-0.146609</td>\n",
              "      <td>-0.257424</td>\n",
              "      <td>-0.110840</td>\n",
              "      <td>-0.074366</td>\n",
              "      <td>0.000000</td>\n",
              "      <td>-4.728132</td>\n",
              "      <td>-2.500690</td>\n",
              "      <td>-7.056824</td>\n",
              "      <td>-3.904217</td>\n",
              "      <td>-10.543299</td>\n",
              "      <td>-4.874741</td>\n",
              "      <td>-2.758113</td>\n",
              "      <td>-7.167664</td>\n",
              "      <td>-3.978583</td>\n",
              "      <td>-10.543299</td>\n",
              "    </tr>\n",
              "    <tr>\n",
              "      <th>4</th>\n",
              "      <td>50</td>\n",
              "      <td>3</td>\n",
              "      <td>6</td>\n",
              "      <td>1</td>\n",
              "      <td>7</td>\n",
              "      <td>Alabama</td>\n",
              "      <td>Bibb County</td>\n",
              "      <td>22915</td>\n",
              "      <td>22919</td>\n",
              "      <td>22861</td>\n",
              "      <td>22733</td>\n",
              "      <td>22642</td>\n",
              "      <td>22512</td>\n",
              "      <td>22549</td>\n",
              "      <td>22583</td>\n",
              "      <td>-58</td>\n",
              "      <td>-128</td>\n",
              "      <td>-91</td>\n",
              "      <td>-130</td>\n",
              "      <td>37</td>\n",
              "      <td>34</td>\n",
              "      <td>44</td>\n",
              "      <td>266</td>\n",
              "      <td>245</td>\n",
              "      <td>259</td>\n",
              "      <td>247</td>\n",
              "      <td>253</td>\n",
              "      <td>34</td>\n",
              "      <td>278</td>\n",
              "      <td>237</td>\n",
              "      <td>281</td>\n",
              "      <td>211</td>\n",
              "      <td>223</td>\n",
              "      <td>10</td>\n",
              "      <td>-12</td>\n",
              "      <td>8</td>\n",
              "      <td>-22</td>\n",
              "      <td>36</td>\n",
              "      <td>30</td>\n",
              "      <td>2</td>\n",
              "      <td>...</td>\n",
              "      <td>14</td>\n",
              "      <td>-16</td>\n",
              "      <td>-21</td>\n",
              "      <td>2224</td>\n",
              "      <td>2224</td>\n",
              "      <td>2224</td>\n",
              "      <td>2224</td>\n",
              "      <td>2224</td>\n",
              "      <td>2233</td>\n",
              "      <td>2236</td>\n",
              "      <td>11.668202</td>\n",
              "      <td>10.798898</td>\n",
              "      <td>11.471852</td>\n",
              "      <td>10.962917</td>\n",
              "      <td>11.211557</td>\n",
              "      <td>12.194587</td>\n",
              "      <td>10.446281</td>\n",
              "      <td>12.446295</td>\n",
              "      <td>9.365083</td>\n",
              "      <td>9.882124</td>\n",
              "      <td>-0.526385</td>\n",
              "      <td>0.352617</td>\n",
              "      <td>-0.974443</td>\n",
              "      <td>1.597834</td>\n",
              "      <td>1.329434</td>\n",
              "      <td>0.438654</td>\n",
              "      <td>0.705234</td>\n",
              "      <td>0.797272</td>\n",
              "      <td>0.932070</td>\n",
              "      <td>0.930604</td>\n",
              "      <td>-5.527043</td>\n",
              "      <td>-5.068871</td>\n",
              "      <td>-6.201001</td>\n",
              "      <td>-0.177537</td>\n",
              "      <td>0.177258</td>\n",
              "      <td>-5.088389</td>\n",
              "      <td>-4.363636</td>\n",
              "      <td>-5.403729</td>\n",
              "      <td>0.754533</td>\n",
              "      <td>1.107861</td>\n",
              "    </tr>\n",
              "  </tbody>\n",
              "</table>\n",
              "<p>5 rows × 100 columns</p>\n",
              "</div>"
            ],
            "text/plain": [
              "   SUMLEV  REGION  DIVISION  ...  RNETMIG2013  RNETMIG2014 RNETMIG2015\n",
              "0      40       3         6  ...     1.383282     1.724718    0.712594\n",
              "1      50       3         6  ...    -2.722002     2.592270   -2.187333\n",
              "2      50       3         6  ...    22.727626    20.317142   18.293499\n",
              "3      50       3         6  ...    -7.167664    -3.978583  -10.543299\n",
              "4      50       3         6  ...    -5.403729     0.754533    1.107861\n",
              "\n",
              "[5 rows x 100 columns]"
            ]
          },
          "metadata": {
            "tags": []
          },
          "execution_count": 22
        }
      ]
    },
    {
      "cell_type": "code",
      "metadata": {
        "id": "BXqCvaQkC6E-",
        "colab_type": "code",
        "outputId": "82b21dff-89c9-4e61-c75d-77848a5bf1d6",
        "colab": {
          "base_uri": "https://localhost:8080/",
          "height": 34
        }
      },
      "source": [
        "df['SUMLEV'].unique()"
      ],
      "execution_count": 0,
      "outputs": [
        {
          "output_type": "execute_result",
          "data": {
            "text/plain": [
              "array([40, 50])"
            ]
          },
          "metadata": {
            "tags": []
          },
          "execution_count": 23
        }
      ]
    },
    {
      "cell_type": "code",
      "metadata": {
        "id": "GeqcV5XwDB7c",
        "colab_type": "code",
        "outputId": "8fa5c331-781f-489a-bfee-5f02fcdc5e32",
        "colab": {
          "base_uri": "https://localhost:8080/",
          "height": 332
        }
      },
      "source": [
        "#筛选标号为50的数据\n",
        "df = df[df['SUMLEV'] == 50]\n",
        "df.head()"
      ],
      "execution_count": 0,
      "outputs": [
        {
          "output_type": "execute_result",
          "data": {
            "text/html": [
              "<div>\n",
              "<style scoped>\n",
              "    .dataframe tbody tr th:only-of-type {\n",
              "        vertical-align: middle;\n",
              "    }\n",
              "\n",
              "    .dataframe tbody tr th {\n",
              "        vertical-align: top;\n",
              "    }\n",
              "\n",
              "    .dataframe thead th {\n",
              "        text-align: right;\n",
              "    }\n",
              "</style>\n",
              "<table border=\"1\" class=\"dataframe\">\n",
              "  <thead>\n",
              "    <tr style=\"text-align: right;\">\n",
              "      <th></th>\n",
              "      <th>SUMLEV</th>\n",
              "      <th>REGION</th>\n",
              "      <th>DIVISION</th>\n",
              "      <th>STATE</th>\n",
              "      <th>COUNTY</th>\n",
              "      <th>STNAME</th>\n",
              "      <th>CTYNAME</th>\n",
              "      <th>CENSUS2010POP</th>\n",
              "      <th>ESTIMATESBASE2010</th>\n",
              "      <th>POPESTIMATE2010</th>\n",
              "      <th>POPESTIMATE2011</th>\n",
              "      <th>POPESTIMATE2012</th>\n",
              "      <th>POPESTIMATE2013</th>\n",
              "      <th>POPESTIMATE2014</th>\n",
              "      <th>POPESTIMATE2015</th>\n",
              "      <th>NPOPCHG_2010</th>\n",
              "      <th>NPOPCHG_2011</th>\n",
              "      <th>NPOPCHG_2012</th>\n",
              "      <th>NPOPCHG_2013</th>\n",
              "      <th>NPOPCHG_2014</th>\n",
              "      <th>NPOPCHG_2015</th>\n",
              "      <th>BIRTHS2010</th>\n",
              "      <th>BIRTHS2011</th>\n",
              "      <th>BIRTHS2012</th>\n",
              "      <th>BIRTHS2013</th>\n",
              "      <th>BIRTHS2014</th>\n",
              "      <th>BIRTHS2015</th>\n",
              "      <th>DEATHS2010</th>\n",
              "      <th>DEATHS2011</th>\n",
              "      <th>DEATHS2012</th>\n",
              "      <th>DEATHS2013</th>\n",
              "      <th>DEATHS2014</th>\n",
              "      <th>DEATHS2015</th>\n",
              "      <th>NATURALINC2010</th>\n",
              "      <th>NATURALINC2011</th>\n",
              "      <th>NATURALINC2012</th>\n",
              "      <th>NATURALINC2013</th>\n",
              "      <th>NATURALINC2014</th>\n",
              "      <th>NATURALINC2015</th>\n",
              "      <th>INTERNATIONALMIG2010</th>\n",
              "      <th>...</th>\n",
              "      <th>RESIDUAL2013</th>\n",
              "      <th>RESIDUAL2014</th>\n",
              "      <th>RESIDUAL2015</th>\n",
              "      <th>GQESTIMATESBASE2010</th>\n",
              "      <th>GQESTIMATES2010</th>\n",
              "      <th>GQESTIMATES2011</th>\n",
              "      <th>GQESTIMATES2012</th>\n",
              "      <th>GQESTIMATES2013</th>\n",
              "      <th>GQESTIMATES2014</th>\n",
              "      <th>GQESTIMATES2015</th>\n",
              "      <th>RBIRTH2011</th>\n",
              "      <th>RBIRTH2012</th>\n",
              "      <th>RBIRTH2013</th>\n",
              "      <th>RBIRTH2014</th>\n",
              "      <th>RBIRTH2015</th>\n",
              "      <th>RDEATH2011</th>\n",
              "      <th>RDEATH2012</th>\n",
              "      <th>RDEATH2013</th>\n",
              "      <th>RDEATH2014</th>\n",
              "      <th>RDEATH2015</th>\n",
              "      <th>RNATURALINC2011</th>\n",
              "      <th>RNATURALINC2012</th>\n",
              "      <th>RNATURALINC2013</th>\n",
              "      <th>RNATURALINC2014</th>\n",
              "      <th>RNATURALINC2015</th>\n",
              "      <th>RINTERNATIONALMIG2011</th>\n",
              "      <th>RINTERNATIONALMIG2012</th>\n",
              "      <th>RINTERNATIONALMIG2013</th>\n",
              "      <th>RINTERNATIONALMIG2014</th>\n",
              "      <th>RINTERNATIONALMIG2015</th>\n",
              "      <th>RDOMESTICMIG2011</th>\n",
              "      <th>RDOMESTICMIG2012</th>\n",
              "      <th>RDOMESTICMIG2013</th>\n",
              "      <th>RDOMESTICMIG2014</th>\n",
              "      <th>RDOMESTICMIG2015</th>\n",
              "      <th>RNETMIG2011</th>\n",
              "      <th>RNETMIG2012</th>\n",
              "      <th>RNETMIG2013</th>\n",
              "      <th>RNETMIG2014</th>\n",
              "      <th>RNETMIG2015</th>\n",
              "    </tr>\n",
              "  </thead>\n",
              "  <tbody>\n",
              "    <tr>\n",
              "      <th>1</th>\n",
              "      <td>50</td>\n",
              "      <td>3</td>\n",
              "      <td>6</td>\n",
              "      <td>1</td>\n",
              "      <td>1</td>\n",
              "      <td>Alabama</td>\n",
              "      <td>Autauga County</td>\n",
              "      <td>54571</td>\n",
              "      <td>54571</td>\n",
              "      <td>54660</td>\n",
              "      <td>55253</td>\n",
              "      <td>55175</td>\n",
              "      <td>55038</td>\n",
              "      <td>55290</td>\n",
              "      <td>55347</td>\n",
              "      <td>89</td>\n",
              "      <td>593</td>\n",
              "      <td>-78</td>\n",
              "      <td>-137</td>\n",
              "      <td>252</td>\n",
              "      <td>57</td>\n",
              "      <td>151</td>\n",
              "      <td>636</td>\n",
              "      <td>615</td>\n",
              "      <td>574</td>\n",
              "      <td>623</td>\n",
              "      <td>600</td>\n",
              "      <td>152</td>\n",
              "      <td>507</td>\n",
              "      <td>558</td>\n",
              "      <td>583</td>\n",
              "      <td>504</td>\n",
              "      <td>467</td>\n",
              "      <td>-1</td>\n",
              "      <td>129</td>\n",
              "      <td>57</td>\n",
              "      <td>-9</td>\n",
              "      <td>119</td>\n",
              "      <td>133</td>\n",
              "      <td>33</td>\n",
              "      <td>...</td>\n",
              "      <td>22</td>\n",
              "      <td>-10</td>\n",
              "      <td>45</td>\n",
              "      <td>455</td>\n",
              "      <td>455</td>\n",
              "      <td>455</td>\n",
              "      <td>455</td>\n",
              "      <td>455</td>\n",
              "      <td>455</td>\n",
              "      <td>455</td>\n",
              "      <td>11.572789</td>\n",
              "      <td>11.138479</td>\n",
              "      <td>10.416194</td>\n",
              "      <td>11.293597</td>\n",
              "      <td>10.846281</td>\n",
              "      <td>9.225478</td>\n",
              "      <td>10.106133</td>\n",
              "      <td>10.579514</td>\n",
              "      <td>9.136393</td>\n",
              "      <td>8.442022</td>\n",
              "      <td>2.347311</td>\n",
              "      <td>1.032347</td>\n",
              "      <td>-0.163320</td>\n",
              "      <td>2.157204</td>\n",
              "      <td>2.404259</td>\n",
              "      <td>0.363924</td>\n",
              "      <td>0.289782</td>\n",
              "      <td>0.290347</td>\n",
              "      <td>0.326300</td>\n",
              "      <td>0.343466</td>\n",
              "      <td>7.242091</td>\n",
              "      <td>-2.915927</td>\n",
              "      <td>-3.012349</td>\n",
              "      <td>2.265971</td>\n",
              "      <td>-2.530799</td>\n",
              "      <td>7.606016</td>\n",
              "      <td>-2.626146</td>\n",
              "      <td>-2.722002</td>\n",
              "      <td>2.592270</td>\n",
              "      <td>-2.187333</td>\n",
              "    </tr>\n",
              "    <tr>\n",
              "      <th>2</th>\n",
              "      <td>50</td>\n",
              "      <td>3</td>\n",
              "      <td>6</td>\n",
              "      <td>1</td>\n",
              "      <td>3</td>\n",
              "      <td>Alabama</td>\n",
              "      <td>Baldwin County</td>\n",
              "      <td>182265</td>\n",
              "      <td>182265</td>\n",
              "      <td>183193</td>\n",
              "      <td>186659</td>\n",
              "      <td>190396</td>\n",
              "      <td>195126</td>\n",
              "      <td>199713</td>\n",
              "      <td>203709</td>\n",
              "      <td>928</td>\n",
              "      <td>3466</td>\n",
              "      <td>3737</td>\n",
              "      <td>4730</td>\n",
              "      <td>4587</td>\n",
              "      <td>3996</td>\n",
              "      <td>517</td>\n",
              "      <td>2187</td>\n",
              "      <td>2092</td>\n",
              "      <td>2160</td>\n",
              "      <td>2186</td>\n",
              "      <td>2240</td>\n",
              "      <td>532</td>\n",
              "      <td>1825</td>\n",
              "      <td>1879</td>\n",
              "      <td>1902</td>\n",
              "      <td>2044</td>\n",
              "      <td>1992</td>\n",
              "      <td>-15</td>\n",
              "      <td>362</td>\n",
              "      <td>213</td>\n",
              "      <td>258</td>\n",
              "      <td>142</td>\n",
              "      <td>248</td>\n",
              "      <td>69</td>\n",
              "      <td>...</td>\n",
              "      <td>91</td>\n",
              "      <td>434</td>\n",
              "      <td>58</td>\n",
              "      <td>2307</td>\n",
              "      <td>2307</td>\n",
              "      <td>2307</td>\n",
              "      <td>2249</td>\n",
              "      <td>2304</td>\n",
              "      <td>2308</td>\n",
              "      <td>2309</td>\n",
              "      <td>11.826352</td>\n",
              "      <td>11.096524</td>\n",
              "      <td>11.205586</td>\n",
              "      <td>11.072868</td>\n",
              "      <td>11.104997</td>\n",
              "      <td>9.868812</td>\n",
              "      <td>9.966716</td>\n",
              "      <td>9.867141</td>\n",
              "      <td>10.353587</td>\n",
              "      <td>9.875515</td>\n",
              "      <td>1.957540</td>\n",
              "      <td>1.129809</td>\n",
              "      <td>1.338445</td>\n",
              "      <td>0.719281</td>\n",
              "      <td>1.229482</td>\n",
              "      <td>1.011215</td>\n",
              "      <td>0.912334</td>\n",
              "      <td>0.881921</td>\n",
              "      <td>1.073855</td>\n",
              "      <td>1.095627</td>\n",
              "      <td>14.832960</td>\n",
              "      <td>17.647293</td>\n",
              "      <td>21.845705</td>\n",
              "      <td>19.243287</td>\n",
              "      <td>17.197872</td>\n",
              "      <td>15.844176</td>\n",
              "      <td>18.559627</td>\n",
              "      <td>22.727626</td>\n",
              "      <td>20.317142</td>\n",
              "      <td>18.293499</td>\n",
              "    </tr>\n",
              "    <tr>\n",
              "      <th>3</th>\n",
              "      <td>50</td>\n",
              "      <td>3</td>\n",
              "      <td>6</td>\n",
              "      <td>1</td>\n",
              "      <td>5</td>\n",
              "      <td>Alabama</td>\n",
              "      <td>Barbour County</td>\n",
              "      <td>27457</td>\n",
              "      <td>27457</td>\n",
              "      <td>27341</td>\n",
              "      <td>27226</td>\n",
              "      <td>27159</td>\n",
              "      <td>26973</td>\n",
              "      <td>26815</td>\n",
              "      <td>26489</td>\n",
              "      <td>-116</td>\n",
              "      <td>-115</td>\n",
              "      <td>-67</td>\n",
              "      <td>-186</td>\n",
              "      <td>-158</td>\n",
              "      <td>-326</td>\n",
              "      <td>70</td>\n",
              "      <td>335</td>\n",
              "      <td>300</td>\n",
              "      <td>283</td>\n",
              "      <td>260</td>\n",
              "      <td>269</td>\n",
              "      <td>128</td>\n",
              "      <td>319</td>\n",
              "      <td>291</td>\n",
              "      <td>294</td>\n",
              "      <td>310</td>\n",
              "      <td>309</td>\n",
              "      <td>-58</td>\n",
              "      <td>16</td>\n",
              "      <td>9</td>\n",
              "      <td>-11</td>\n",
              "      <td>-50</td>\n",
              "      <td>-40</td>\n",
              "      <td>2</td>\n",
              "      <td>...</td>\n",
              "      <td>19</td>\n",
              "      <td>-1</td>\n",
              "      <td>-5</td>\n",
              "      <td>3193</td>\n",
              "      <td>3193</td>\n",
              "      <td>3382</td>\n",
              "      <td>3388</td>\n",
              "      <td>3389</td>\n",
              "      <td>3353</td>\n",
              "      <td>3352</td>\n",
              "      <td>12.278483</td>\n",
              "      <td>11.032454</td>\n",
              "      <td>10.455923</td>\n",
              "      <td>9.667584</td>\n",
              "      <td>10.093051</td>\n",
              "      <td>11.692048</td>\n",
              "      <td>10.701480</td>\n",
              "      <td>10.862337</td>\n",
              "      <td>11.526735</td>\n",
              "      <td>11.593877</td>\n",
              "      <td>0.586435</td>\n",
              "      <td>0.330974</td>\n",
              "      <td>-0.406414</td>\n",
              "      <td>-1.859151</td>\n",
              "      <td>-1.500825</td>\n",
              "      <td>-0.146609</td>\n",
              "      <td>-0.257424</td>\n",
              "      <td>-0.110840</td>\n",
              "      <td>-0.074366</td>\n",
              "      <td>0.000000</td>\n",
              "      <td>-4.728132</td>\n",
              "      <td>-2.500690</td>\n",
              "      <td>-7.056824</td>\n",
              "      <td>-3.904217</td>\n",
              "      <td>-10.543299</td>\n",
              "      <td>-4.874741</td>\n",
              "      <td>-2.758113</td>\n",
              "      <td>-7.167664</td>\n",
              "      <td>-3.978583</td>\n",
              "      <td>-10.543299</td>\n",
              "    </tr>\n",
              "    <tr>\n",
              "      <th>4</th>\n",
              "      <td>50</td>\n",
              "      <td>3</td>\n",
              "      <td>6</td>\n",
              "      <td>1</td>\n",
              "      <td>7</td>\n",
              "      <td>Alabama</td>\n",
              "      <td>Bibb County</td>\n",
              "      <td>22915</td>\n",
              "      <td>22919</td>\n",
              "      <td>22861</td>\n",
              "      <td>22733</td>\n",
              "      <td>22642</td>\n",
              "      <td>22512</td>\n",
              "      <td>22549</td>\n",
              "      <td>22583</td>\n",
              "      <td>-58</td>\n",
              "      <td>-128</td>\n",
              "      <td>-91</td>\n",
              "      <td>-130</td>\n",
              "      <td>37</td>\n",
              "      <td>34</td>\n",
              "      <td>44</td>\n",
              "      <td>266</td>\n",
              "      <td>245</td>\n",
              "      <td>259</td>\n",
              "      <td>247</td>\n",
              "      <td>253</td>\n",
              "      <td>34</td>\n",
              "      <td>278</td>\n",
              "      <td>237</td>\n",
              "      <td>281</td>\n",
              "      <td>211</td>\n",
              "      <td>223</td>\n",
              "      <td>10</td>\n",
              "      <td>-12</td>\n",
              "      <td>8</td>\n",
              "      <td>-22</td>\n",
              "      <td>36</td>\n",
              "      <td>30</td>\n",
              "      <td>2</td>\n",
              "      <td>...</td>\n",
              "      <td>14</td>\n",
              "      <td>-16</td>\n",
              "      <td>-21</td>\n",
              "      <td>2224</td>\n",
              "      <td>2224</td>\n",
              "      <td>2224</td>\n",
              "      <td>2224</td>\n",
              "      <td>2224</td>\n",
              "      <td>2233</td>\n",
              "      <td>2236</td>\n",
              "      <td>11.668202</td>\n",
              "      <td>10.798898</td>\n",
              "      <td>11.471852</td>\n",
              "      <td>10.962917</td>\n",
              "      <td>11.211557</td>\n",
              "      <td>12.194587</td>\n",
              "      <td>10.446281</td>\n",
              "      <td>12.446295</td>\n",
              "      <td>9.365083</td>\n",
              "      <td>9.882124</td>\n",
              "      <td>-0.526385</td>\n",
              "      <td>0.352617</td>\n",
              "      <td>-0.974443</td>\n",
              "      <td>1.597834</td>\n",
              "      <td>1.329434</td>\n",
              "      <td>0.438654</td>\n",
              "      <td>0.705234</td>\n",
              "      <td>0.797272</td>\n",
              "      <td>0.932070</td>\n",
              "      <td>0.930604</td>\n",
              "      <td>-5.527043</td>\n",
              "      <td>-5.068871</td>\n",
              "      <td>-6.201001</td>\n",
              "      <td>-0.177537</td>\n",
              "      <td>0.177258</td>\n",
              "      <td>-5.088389</td>\n",
              "      <td>-4.363636</td>\n",
              "      <td>-5.403729</td>\n",
              "      <td>0.754533</td>\n",
              "      <td>1.107861</td>\n",
              "    </tr>\n",
              "    <tr>\n",
              "      <th>5</th>\n",
              "      <td>50</td>\n",
              "      <td>3</td>\n",
              "      <td>6</td>\n",
              "      <td>1</td>\n",
              "      <td>9</td>\n",
              "      <td>Alabama</td>\n",
              "      <td>Blount County</td>\n",
              "      <td>57322</td>\n",
              "      <td>57322</td>\n",
              "      <td>57373</td>\n",
              "      <td>57711</td>\n",
              "      <td>57776</td>\n",
              "      <td>57734</td>\n",
              "      <td>57658</td>\n",
              "      <td>57673</td>\n",
              "      <td>51</td>\n",
              "      <td>338</td>\n",
              "      <td>65</td>\n",
              "      <td>-42</td>\n",
              "      <td>-76</td>\n",
              "      <td>15</td>\n",
              "      <td>183</td>\n",
              "      <td>744</td>\n",
              "      <td>710</td>\n",
              "      <td>646</td>\n",
              "      <td>618</td>\n",
              "      <td>603</td>\n",
              "      <td>133</td>\n",
              "      <td>570</td>\n",
              "      <td>592</td>\n",
              "      <td>585</td>\n",
              "      <td>589</td>\n",
              "      <td>590</td>\n",
              "      <td>50</td>\n",
              "      <td>174</td>\n",
              "      <td>118</td>\n",
              "      <td>61</td>\n",
              "      <td>29</td>\n",
              "      <td>13</td>\n",
              "      <td>5</td>\n",
              "      <td>...</td>\n",
              "      <td>-22</td>\n",
              "      <td>-14</td>\n",
              "      <td>53</td>\n",
              "      <td>489</td>\n",
              "      <td>489</td>\n",
              "      <td>489</td>\n",
              "      <td>489</td>\n",
              "      <td>489</td>\n",
              "      <td>489</td>\n",
              "      <td>489</td>\n",
              "      <td>12.929686</td>\n",
              "      <td>12.295756</td>\n",
              "      <td>11.185179</td>\n",
              "      <td>10.711314</td>\n",
              "      <td>10.456859</td>\n",
              "      <td>9.905808</td>\n",
              "      <td>10.252236</td>\n",
              "      <td>10.128993</td>\n",
              "      <td>10.208680</td>\n",
              "      <td>10.231421</td>\n",
              "      <td>3.023878</td>\n",
              "      <td>2.043520</td>\n",
              "      <td>1.056186</td>\n",
              "      <td>0.502634</td>\n",
              "      <td>0.225438</td>\n",
              "      <td>0.052136</td>\n",
              "      <td>0.329041</td>\n",
              "      <td>0.346290</td>\n",
              "      <td>0.485302</td>\n",
              "      <td>0.485559</td>\n",
              "      <td>1.807375</td>\n",
              "      <td>-1.177622</td>\n",
              "      <td>-1.748766</td>\n",
              "      <td>-2.062535</td>\n",
              "      <td>-1.369970</td>\n",
              "      <td>1.859511</td>\n",
              "      <td>-0.848580</td>\n",
              "      <td>-1.402476</td>\n",
              "      <td>-1.577232</td>\n",
              "      <td>-0.884411</td>\n",
              "    </tr>\n",
              "  </tbody>\n",
              "</table>\n",
              "<p>5 rows × 100 columns</p>\n",
              "</div>"
            ],
            "text/plain": [
              "   SUMLEV  REGION  DIVISION  ...  RNETMIG2013  RNETMIG2014 RNETMIG2015\n",
              "1      50       3         6  ...    -2.722002     2.592270   -2.187333\n",
              "2      50       3         6  ...    22.727626    20.317142   18.293499\n",
              "3      50       3         6  ...    -7.167664    -3.978583  -10.543299\n",
              "4      50       3         6  ...    -5.403729     0.754533    1.107861\n",
              "5      50       3         6  ...    -1.402476    -1.577232   -0.884411\n",
              "\n",
              "[5 rows x 100 columns]"
            ]
          },
          "metadata": {
            "tags": []
          },
          "execution_count": 24
        }
      ]
    },
    {
      "cell_type": "code",
      "metadata": {
        "id": "bs_jyqNLDXjC",
        "colab_type": "code",
        "outputId": "9eec7f87-bf43-4fda-b703-a6d89e8c28d8",
        "colab": {
          "base_uri": "https://localhost:8080/",
          "height": 302
        }
      },
      "source": [
        "columns_to_keep = ['STNAME',\n",
        "                  'CTYNAME',\n",
        "                  'BIRTHS2010',\n",
        "                  'BIRTHS2011',\n",
        "                  'BIRTHS2012',\n",
        "                  'BIRTHS2013',\n",
        "                  'BIRTHS2014',\n",
        "                  'BIRTHS2015',\n",
        "                  'POPESTIMATE2010',\n",
        "                  'POPESTIMATE2011',\n",
        "                  'POPESTIMATE2012',\n",
        "                  'POPESTIMATE2013',\n",
        "                  'POPESTIMATE2014',\n",
        "                  'POPESTIMATE2015']\n",
        "df = df[columns_to_keep]\n",
        "df.head()"
      ],
      "execution_count": 0,
      "outputs": [
        {
          "output_type": "execute_result",
          "data": {
            "text/html": [
              "<div>\n",
              "<style scoped>\n",
              "    .dataframe tbody tr th:only-of-type {\n",
              "        vertical-align: middle;\n",
              "    }\n",
              "\n",
              "    .dataframe tbody tr th {\n",
              "        vertical-align: top;\n",
              "    }\n",
              "\n",
              "    .dataframe thead th {\n",
              "        text-align: right;\n",
              "    }\n",
              "</style>\n",
              "<table border=\"1\" class=\"dataframe\">\n",
              "  <thead>\n",
              "    <tr style=\"text-align: right;\">\n",
              "      <th></th>\n",
              "      <th>STNAME</th>\n",
              "      <th>CTYNAME</th>\n",
              "      <th>BIRTHS2010</th>\n",
              "      <th>BIRTHS2011</th>\n",
              "      <th>BIRTHS2012</th>\n",
              "      <th>BIRTHS2013</th>\n",
              "      <th>BIRTHS2014</th>\n",
              "      <th>BIRTHS2015</th>\n",
              "      <th>POPESTIMATE2010</th>\n",
              "      <th>POPESTIMATE2011</th>\n",
              "      <th>POPESTIMATE2012</th>\n",
              "      <th>POPESTIMATE2013</th>\n",
              "      <th>POPESTIMATE2014</th>\n",
              "      <th>POPESTIMATE2015</th>\n",
              "    </tr>\n",
              "  </thead>\n",
              "  <tbody>\n",
              "    <tr>\n",
              "      <th>1</th>\n",
              "      <td>Alabama</td>\n",
              "      <td>Autauga County</td>\n",
              "      <td>151</td>\n",
              "      <td>636</td>\n",
              "      <td>615</td>\n",
              "      <td>574</td>\n",
              "      <td>623</td>\n",
              "      <td>600</td>\n",
              "      <td>54660</td>\n",
              "      <td>55253</td>\n",
              "      <td>55175</td>\n",
              "      <td>55038</td>\n",
              "      <td>55290</td>\n",
              "      <td>55347</td>\n",
              "    </tr>\n",
              "    <tr>\n",
              "      <th>2</th>\n",
              "      <td>Alabama</td>\n",
              "      <td>Baldwin County</td>\n",
              "      <td>517</td>\n",
              "      <td>2187</td>\n",
              "      <td>2092</td>\n",
              "      <td>2160</td>\n",
              "      <td>2186</td>\n",
              "      <td>2240</td>\n",
              "      <td>183193</td>\n",
              "      <td>186659</td>\n",
              "      <td>190396</td>\n",
              "      <td>195126</td>\n",
              "      <td>199713</td>\n",
              "      <td>203709</td>\n",
              "    </tr>\n",
              "    <tr>\n",
              "      <th>3</th>\n",
              "      <td>Alabama</td>\n",
              "      <td>Barbour County</td>\n",
              "      <td>70</td>\n",
              "      <td>335</td>\n",
              "      <td>300</td>\n",
              "      <td>283</td>\n",
              "      <td>260</td>\n",
              "      <td>269</td>\n",
              "      <td>27341</td>\n",
              "      <td>27226</td>\n",
              "      <td>27159</td>\n",
              "      <td>26973</td>\n",
              "      <td>26815</td>\n",
              "      <td>26489</td>\n",
              "    </tr>\n",
              "    <tr>\n",
              "      <th>4</th>\n",
              "      <td>Alabama</td>\n",
              "      <td>Bibb County</td>\n",
              "      <td>44</td>\n",
              "      <td>266</td>\n",
              "      <td>245</td>\n",
              "      <td>259</td>\n",
              "      <td>247</td>\n",
              "      <td>253</td>\n",
              "      <td>22861</td>\n",
              "      <td>22733</td>\n",
              "      <td>22642</td>\n",
              "      <td>22512</td>\n",
              "      <td>22549</td>\n",
              "      <td>22583</td>\n",
              "    </tr>\n",
              "    <tr>\n",
              "      <th>5</th>\n",
              "      <td>Alabama</td>\n",
              "      <td>Blount County</td>\n",
              "      <td>183</td>\n",
              "      <td>744</td>\n",
              "      <td>710</td>\n",
              "      <td>646</td>\n",
              "      <td>618</td>\n",
              "      <td>603</td>\n",
              "      <td>57373</td>\n",
              "      <td>57711</td>\n",
              "      <td>57776</td>\n",
              "      <td>57734</td>\n",
              "      <td>57658</td>\n",
              "      <td>57673</td>\n",
              "    </tr>\n",
              "  </tbody>\n",
              "</table>\n",
              "</div>"
            ],
            "text/plain": [
              "    STNAME         CTYNAME  ...  POPESTIMATE2014  POPESTIMATE2015\n",
              "1  Alabama  Autauga County  ...            55290            55347\n",
              "2  Alabama  Baldwin County  ...           199713           203709\n",
              "3  Alabama  Barbour County  ...            26815            26489\n",
              "4  Alabama     Bibb County  ...            22549            22583\n",
              "5  Alabama   Blount County  ...            57658            57673\n",
              "\n",
              "[5 rows x 14 columns]"
            ]
          },
          "metadata": {
            "tags": []
          },
          "execution_count": 25
        }
      ]
    },
    {
      "cell_type": "code",
      "metadata": {
        "id": "7h4ET0SmEEX0",
        "colab_type": "code",
        "outputId": "c1711907-d289-459b-e6c6-a9e7dd0efcaf",
        "colab": {
          "base_uri": "https://localhost:8080/",
          "height": 332
        }
      },
      "source": [
        "#开始创建multi index\n",
        "df =df.set_index(['STNAME', 'CTYNAME'])\n",
        "df.head()"
      ],
      "execution_count": 0,
      "outputs": [
        {
          "output_type": "execute_result",
          "data": {
            "text/html": [
              "<div>\n",
              "<style scoped>\n",
              "    .dataframe tbody tr th:only-of-type {\n",
              "        vertical-align: middle;\n",
              "    }\n",
              "\n",
              "    .dataframe tbody tr th {\n",
              "        vertical-align: top;\n",
              "    }\n",
              "\n",
              "    .dataframe thead th {\n",
              "        text-align: right;\n",
              "    }\n",
              "</style>\n",
              "<table border=\"1\" class=\"dataframe\">\n",
              "  <thead>\n",
              "    <tr style=\"text-align: right;\">\n",
              "      <th></th>\n",
              "      <th></th>\n",
              "      <th>BIRTHS2010</th>\n",
              "      <th>BIRTHS2011</th>\n",
              "      <th>BIRTHS2012</th>\n",
              "      <th>BIRTHS2013</th>\n",
              "      <th>BIRTHS2014</th>\n",
              "      <th>BIRTHS2015</th>\n",
              "      <th>POPESTIMATE2010</th>\n",
              "      <th>POPESTIMATE2011</th>\n",
              "      <th>POPESTIMATE2012</th>\n",
              "      <th>POPESTIMATE2013</th>\n",
              "      <th>POPESTIMATE2014</th>\n",
              "      <th>POPESTIMATE2015</th>\n",
              "    </tr>\n",
              "    <tr>\n",
              "      <th>STNAME</th>\n",
              "      <th>CTYNAME</th>\n",
              "      <th></th>\n",
              "      <th></th>\n",
              "      <th></th>\n",
              "      <th></th>\n",
              "      <th></th>\n",
              "      <th></th>\n",
              "      <th></th>\n",
              "      <th></th>\n",
              "      <th></th>\n",
              "      <th></th>\n",
              "      <th></th>\n",
              "      <th></th>\n",
              "    </tr>\n",
              "  </thead>\n",
              "  <tbody>\n",
              "    <tr>\n",
              "      <th rowspan=\"5\" valign=\"top\">Alabama</th>\n",
              "      <th>Autauga County</th>\n",
              "      <td>151</td>\n",
              "      <td>636</td>\n",
              "      <td>615</td>\n",
              "      <td>574</td>\n",
              "      <td>623</td>\n",
              "      <td>600</td>\n",
              "      <td>54660</td>\n",
              "      <td>55253</td>\n",
              "      <td>55175</td>\n",
              "      <td>55038</td>\n",
              "      <td>55290</td>\n",
              "      <td>55347</td>\n",
              "    </tr>\n",
              "    <tr>\n",
              "      <th>Baldwin County</th>\n",
              "      <td>517</td>\n",
              "      <td>2187</td>\n",
              "      <td>2092</td>\n",
              "      <td>2160</td>\n",
              "      <td>2186</td>\n",
              "      <td>2240</td>\n",
              "      <td>183193</td>\n",
              "      <td>186659</td>\n",
              "      <td>190396</td>\n",
              "      <td>195126</td>\n",
              "      <td>199713</td>\n",
              "      <td>203709</td>\n",
              "    </tr>\n",
              "    <tr>\n",
              "      <th>Barbour County</th>\n",
              "      <td>70</td>\n",
              "      <td>335</td>\n",
              "      <td>300</td>\n",
              "      <td>283</td>\n",
              "      <td>260</td>\n",
              "      <td>269</td>\n",
              "      <td>27341</td>\n",
              "      <td>27226</td>\n",
              "      <td>27159</td>\n",
              "      <td>26973</td>\n",
              "      <td>26815</td>\n",
              "      <td>26489</td>\n",
              "    </tr>\n",
              "    <tr>\n",
              "      <th>Bibb County</th>\n",
              "      <td>44</td>\n",
              "      <td>266</td>\n",
              "      <td>245</td>\n",
              "      <td>259</td>\n",
              "      <td>247</td>\n",
              "      <td>253</td>\n",
              "      <td>22861</td>\n",
              "      <td>22733</td>\n",
              "      <td>22642</td>\n",
              "      <td>22512</td>\n",
              "      <td>22549</td>\n",
              "      <td>22583</td>\n",
              "    </tr>\n",
              "    <tr>\n",
              "      <th>Blount County</th>\n",
              "      <td>183</td>\n",
              "      <td>744</td>\n",
              "      <td>710</td>\n",
              "      <td>646</td>\n",
              "      <td>618</td>\n",
              "      <td>603</td>\n",
              "      <td>57373</td>\n",
              "      <td>57711</td>\n",
              "      <td>57776</td>\n",
              "      <td>57734</td>\n",
              "      <td>57658</td>\n",
              "      <td>57673</td>\n",
              "    </tr>\n",
              "  </tbody>\n",
              "</table>\n",
              "</div>"
            ],
            "text/plain": [
              "                        BIRTHS2010  ...  POPESTIMATE2015\n",
              "STNAME  CTYNAME                     ...                 \n",
              "Alabama Autauga County         151  ...            55347\n",
              "        Baldwin County         517  ...           203709\n",
              "        Barbour County          70  ...            26489\n",
              "        Bibb County             44  ...            22583\n",
              "        Blount County          183  ...            57673\n",
              "\n",
              "[5 rows x 12 columns]"
            ]
          },
          "metadata": {
            "tags": []
          },
          "execution_count": 26
        }
      ]
    },
    {
      "cell_type": "code",
      "metadata": {
        "id": "TOII2vt6EbDK",
        "colab_type": "code",
        "outputId": "93be771e-574e-4e4f-9381-d7f3ceab8c04",
        "colab": {
          "base_uri": "https://localhost:8080/",
          "height": 236
        }
      },
      "source": [
        "#multi index的选择\n",
        "df.loc['Alabama', 'Autauga County']"
      ],
      "execution_count": 0,
      "outputs": [
        {
          "output_type": "execute_result",
          "data": {
            "text/plain": [
              "BIRTHS2010           151\n",
              "BIRTHS2011           636\n",
              "BIRTHS2012           615\n",
              "BIRTHS2013           574\n",
              "BIRTHS2014           623\n",
              "BIRTHS2015           600\n",
              "POPESTIMATE2010    54660\n",
              "POPESTIMATE2011    55253\n",
              "POPESTIMATE2012    55175\n",
              "POPESTIMATE2013    55038\n",
              "POPESTIMATE2014    55290\n",
              "POPESTIMATE2015    55347\n",
              "Name: (Alabama, Autauga County), dtype: int64"
            ]
          },
          "metadata": {
            "tags": []
          },
          "execution_count": 31
        }
      ]
    },
    {
      "cell_type": "code",
      "metadata": {
        "id": "NsyySeg9FDKx",
        "colab_type": "code",
        "colab": {}
      },
      "source": [
        "df.loc[ [('Alabama', 'Baldwin County'), ('Alabama', 'Bibb County'), ('Michigan', 'Washtenaw Country')] ]"
      ],
      "execution_count": 0,
      "outputs": []
    },
    {
      "cell_type": "markdown",
      "metadata": {
        "id": "xpamilePY8ee",
        "colab_type": "text"
      },
      "source": [
        "## CSV操作"
      ]
    },
    {
      "cell_type": "code",
      "metadata": {
        "id": "JRlHPEpoY-_T",
        "colab_type": "code",
        "outputId": "d1f93711-06bd-46b1-b592-7240c03bda21",
        "colab": {
          "base_uri": "https://localhost:8080/",
          "height": 383
        }
      },
      "source": [
        "url = 'https://raw.githubusercontent.com/irJERAD/Intro-to-Data-Science-in-Python/master/MyNotebooks/olympics.csv'\n",
        "df = pd.read_csv(url)\n",
        "print(df.head())\n",
        "print()\n",
        "\n",
        "#注意比较上面的column、index\n",
        "df = pd.read_csv(url, index_col=0, skiprows=1)\n",
        "df.head()"
      ],
      "execution_count": 0,
      "outputs": [
        {
          "output_type": "stream",
          "text": [
            "                   0         1     2     3  ...    12    13    14              15\n",
            "0                NaN  № Summer  01 !  02 !  ...  01 !  02 !  03 !  Combined total\n",
            "1  Afghanistan (AFG)        13     0     0  ...     0     0     2               2\n",
            "2      Algeria (ALG)        12     5     2  ...     5     2     8              15\n",
            "3    Argentina (ARG)        23    18    24  ...    18    24    28              70\n",
            "4      Armenia (ARM)         5     1     2  ...     1     2     9              12\n",
            "\n",
            "[5 rows x 16 columns]\n",
            "\n"
          ],
          "name": "stdout"
        },
        {
          "output_type": "execute_result",
          "data": {
            "text/html": [
              "<div>\n",
              "<style scoped>\n",
              "    .dataframe tbody tr th:only-of-type {\n",
              "        vertical-align: middle;\n",
              "    }\n",
              "\n",
              "    .dataframe tbody tr th {\n",
              "        vertical-align: top;\n",
              "    }\n",
              "\n",
              "    .dataframe thead th {\n",
              "        text-align: right;\n",
              "    }\n",
              "</style>\n",
              "<table border=\"1\" class=\"dataframe\">\n",
              "  <thead>\n",
              "    <tr style=\"text-align: right;\">\n",
              "      <th></th>\n",
              "      <th>№ Summer</th>\n",
              "      <th>01 !</th>\n",
              "      <th>02 !</th>\n",
              "      <th>03 !</th>\n",
              "      <th>Total</th>\n",
              "      <th>№ Winter</th>\n",
              "      <th>01 !.1</th>\n",
              "      <th>02 !.1</th>\n",
              "      <th>03 !.1</th>\n",
              "      <th>Total.1</th>\n",
              "      <th>№ Games</th>\n",
              "      <th>01 !.2</th>\n",
              "      <th>02 !.2</th>\n",
              "      <th>03 !.2</th>\n",
              "      <th>Combined total</th>\n",
              "    </tr>\n",
              "  </thead>\n",
              "  <tbody>\n",
              "    <tr>\n",
              "      <th>Afghanistan (AFG)</th>\n",
              "      <td>13</td>\n",
              "      <td>0</td>\n",
              "      <td>0</td>\n",
              "      <td>2</td>\n",
              "      <td>2</td>\n",
              "      <td>0</td>\n",
              "      <td>0</td>\n",
              "      <td>0</td>\n",
              "      <td>0</td>\n",
              "      <td>0</td>\n",
              "      <td>13</td>\n",
              "      <td>0</td>\n",
              "      <td>0</td>\n",
              "      <td>2</td>\n",
              "      <td>2</td>\n",
              "    </tr>\n",
              "    <tr>\n",
              "      <th>Algeria (ALG)</th>\n",
              "      <td>12</td>\n",
              "      <td>5</td>\n",
              "      <td>2</td>\n",
              "      <td>8</td>\n",
              "      <td>15</td>\n",
              "      <td>3</td>\n",
              "      <td>0</td>\n",
              "      <td>0</td>\n",
              "      <td>0</td>\n",
              "      <td>0</td>\n",
              "      <td>15</td>\n",
              "      <td>5</td>\n",
              "      <td>2</td>\n",
              "      <td>8</td>\n",
              "      <td>15</td>\n",
              "    </tr>\n",
              "    <tr>\n",
              "      <th>Argentina (ARG)</th>\n",
              "      <td>23</td>\n",
              "      <td>18</td>\n",
              "      <td>24</td>\n",
              "      <td>28</td>\n",
              "      <td>70</td>\n",
              "      <td>18</td>\n",
              "      <td>0</td>\n",
              "      <td>0</td>\n",
              "      <td>0</td>\n",
              "      <td>0</td>\n",
              "      <td>41</td>\n",
              "      <td>18</td>\n",
              "      <td>24</td>\n",
              "      <td>28</td>\n",
              "      <td>70</td>\n",
              "    </tr>\n",
              "    <tr>\n",
              "      <th>Armenia (ARM)</th>\n",
              "      <td>5</td>\n",
              "      <td>1</td>\n",
              "      <td>2</td>\n",
              "      <td>9</td>\n",
              "      <td>12</td>\n",
              "      <td>6</td>\n",
              "      <td>0</td>\n",
              "      <td>0</td>\n",
              "      <td>0</td>\n",
              "      <td>0</td>\n",
              "      <td>11</td>\n",
              "      <td>1</td>\n",
              "      <td>2</td>\n",
              "      <td>9</td>\n",
              "      <td>12</td>\n",
              "    </tr>\n",
              "    <tr>\n",
              "      <th>Australasia (ANZ) [ANZ]</th>\n",
              "      <td>2</td>\n",
              "      <td>3</td>\n",
              "      <td>4</td>\n",
              "      <td>5</td>\n",
              "      <td>12</td>\n",
              "      <td>0</td>\n",
              "      <td>0</td>\n",
              "      <td>0</td>\n",
              "      <td>0</td>\n",
              "      <td>0</td>\n",
              "      <td>2</td>\n",
              "      <td>3</td>\n",
              "      <td>4</td>\n",
              "      <td>5</td>\n",
              "      <td>12</td>\n",
              "    </tr>\n",
              "  </tbody>\n",
              "</table>\n",
              "</div>"
            ],
            "text/plain": [
              "                         № Summer  01 !  02 !  ...  02 !.2  03 !.2  Combined total\n",
              "Afghanistan (AFG)              13     0     0  ...       0       2               2\n",
              "Algeria (ALG)                  12     5     2  ...       2       8              15\n",
              "Argentina (ARG)                23    18    24  ...      24      28              70\n",
              "Armenia (ARM)                   5     1     2  ...       2       9              12\n",
              "Australasia (ANZ) [ANZ]         2     3     4  ...       4       5              12\n",
              "\n",
              "[5 rows x 15 columns]"
            ]
          },
          "metadata": {
            "tags": []
          },
          "execution_count": 28
        }
      ]
    },
    {
      "cell_type": "markdown",
      "metadata": {
        "id": "jpnWzKTrdclM",
        "colab_type": "text"
      },
      "source": [
        "### 从原始文件中选择column、row"
      ]
    },
    {
      "cell_type": "code",
      "metadata": {
        "id": "rMOjTt1qaviB",
        "colab_type": "code",
        "outputId": "6784c70b-5ae8-4f41-beae-cb1c0507cba4",
        "colab": {
          "base_uri": "https://localhost:8080/",
          "height": 252
        }
      },
      "source": [
        "#index_col：选哪一列当索引列（对应数据库里的主键）\n",
        "#skiprows：原始数据，第一行是垃圾数据，跳过\n",
        "  df = pd.read_csv(url, index_col=0, skiprows=1)\n",
        "df.head()"
      ],
      "execution_count": 0,
      "outputs": [
        {
          "output_type": "execute_result",
          "data": {
            "text/html": [
              "<div>\n",
              "<style scoped>\n",
              "    .dataframe tbody tr th:only-of-type {\n",
              "        vertical-align: middle;\n",
              "    }\n",
              "\n",
              "    .dataframe tbody tr th {\n",
              "        vertical-align: top;\n",
              "    }\n",
              "\n",
              "    .dataframe thead th {\n",
              "        text-align: right;\n",
              "    }\n",
              "</style>\n",
              "<table border=\"1\" class=\"dataframe\">\n",
              "  <thead>\n",
              "    <tr style=\"text-align: right;\">\n",
              "      <th></th>\n",
              "      <th>№ Summer</th>\n",
              "      <th>01 !</th>\n",
              "      <th>02 !</th>\n",
              "      <th>03 !</th>\n",
              "      <th>Total</th>\n",
              "      <th>№ Winter</th>\n",
              "      <th>01 !.1</th>\n",
              "      <th>02 !.1</th>\n",
              "      <th>03 !.1</th>\n",
              "      <th>Total.1</th>\n",
              "      <th>№ Games</th>\n",
              "      <th>01 !.2</th>\n",
              "      <th>02 !.2</th>\n",
              "      <th>03 !.2</th>\n",
              "      <th>Combined total</th>\n",
              "    </tr>\n",
              "  </thead>\n",
              "  <tbody>\n",
              "    <tr>\n",
              "      <th>Afghanistan (AFG)</th>\n",
              "      <td>13</td>\n",
              "      <td>0</td>\n",
              "      <td>0</td>\n",
              "      <td>2</td>\n",
              "      <td>2</td>\n",
              "      <td>0</td>\n",
              "      <td>0</td>\n",
              "      <td>0</td>\n",
              "      <td>0</td>\n",
              "      <td>0</td>\n",
              "      <td>13</td>\n",
              "      <td>0</td>\n",
              "      <td>0</td>\n",
              "      <td>2</td>\n",
              "      <td>2</td>\n",
              "    </tr>\n",
              "    <tr>\n",
              "      <th>Algeria (ALG)</th>\n",
              "      <td>12</td>\n",
              "      <td>5</td>\n",
              "      <td>2</td>\n",
              "      <td>8</td>\n",
              "      <td>15</td>\n",
              "      <td>3</td>\n",
              "      <td>0</td>\n",
              "      <td>0</td>\n",
              "      <td>0</td>\n",
              "      <td>0</td>\n",
              "      <td>15</td>\n",
              "      <td>5</td>\n",
              "      <td>2</td>\n",
              "      <td>8</td>\n",
              "      <td>15</td>\n",
              "    </tr>\n",
              "    <tr>\n",
              "      <th>Argentina (ARG)</th>\n",
              "      <td>23</td>\n",
              "      <td>18</td>\n",
              "      <td>24</td>\n",
              "      <td>28</td>\n",
              "      <td>70</td>\n",
              "      <td>18</td>\n",
              "      <td>0</td>\n",
              "      <td>0</td>\n",
              "      <td>0</td>\n",
              "      <td>0</td>\n",
              "      <td>41</td>\n",
              "      <td>18</td>\n",
              "      <td>24</td>\n",
              "      <td>28</td>\n",
              "      <td>70</td>\n",
              "    </tr>\n",
              "    <tr>\n",
              "      <th>Armenia (ARM)</th>\n",
              "      <td>5</td>\n",
              "      <td>1</td>\n",
              "      <td>2</td>\n",
              "      <td>9</td>\n",
              "      <td>12</td>\n",
              "      <td>6</td>\n",
              "      <td>0</td>\n",
              "      <td>0</td>\n",
              "      <td>0</td>\n",
              "      <td>0</td>\n",
              "      <td>11</td>\n",
              "      <td>1</td>\n",
              "      <td>2</td>\n",
              "      <td>9</td>\n",
              "      <td>12</td>\n",
              "    </tr>\n",
              "    <tr>\n",
              "      <th>Australasia (ANZ) [ANZ]</th>\n",
              "      <td>2</td>\n",
              "      <td>3</td>\n",
              "      <td>4</td>\n",
              "      <td>5</td>\n",
              "      <td>12</td>\n",
              "      <td>0</td>\n",
              "      <td>0</td>\n",
              "      <td>0</td>\n",
              "      <td>0</td>\n",
              "      <td>0</td>\n",
              "      <td>2</td>\n",
              "      <td>3</td>\n",
              "      <td>4</td>\n",
              "      <td>5</td>\n",
              "      <td>12</td>\n",
              "    </tr>\n",
              "  </tbody>\n",
              "</table>\n",
              "</div>"
            ],
            "text/plain": [
              "                         № Summer  01 !  02 !  ...  02 !.2  03 !.2  Combined total\n",
              "Afghanistan (AFG)              13     0     0  ...       0       2               2\n",
              "Algeria (ALG)                  12     5     2  ...       2       8              15\n",
              "Argentina (ARG)                23    18    24  ...      24      28              70\n",
              "Armenia (ARM)                   5     1     2  ...       2       9              12\n",
              "Australasia (ANZ) [ANZ]         2     3     4  ...       4       5              12\n",
              "\n",
              "[5 rows x 15 columns]"
            ]
          },
          "metadata": {
            "tags": []
          },
          "execution_count": 69
        }
      ]
    },
    {
      "cell_type": "markdown",
      "metadata": {
        "id": "pmYlkidmfE0J",
        "colab_type": "text"
      },
      "source": [
        "### 修改列名"
      ]
    },
    {
      "cell_type": "code",
      "metadata": {
        "id": "rSOEi-6Idt97",
        "colab_type": "code",
        "outputId": "10d9c904-f161-4f65-b252-71fa8ce5612a",
        "colab": {
          "base_uri": "https://localhost:8080/",
          "height": 84
        }
      },
      "source": [
        "df.columns"
      ],
      "execution_count": 0,
      "outputs": [
        {
          "output_type": "execute_result",
          "data": {
            "text/plain": [
              "Index(['№ Summer', '01 !', '02 !', '03 !', 'Total', '№ Winter', '01 !.1',\n",
              "       '02 !.1', '03 !.1', 'Total.1', '№ Games', '01 !.2', '02 !.2', '03 !.2',\n",
              "       'Combined total'],\n",
              "      dtype='object')"
            ]
          },
          "metadata": {
            "tags": []
          },
          "execution_count": 70
        }
      ]
    },
    {
      "cell_type": "code",
      "metadata": {
        "id": "iylcdpnwfHJR",
        "colab_type": "code",
        "outputId": "57b3bc63-a99c-4a4b-e2c8-7c05af496fde",
        "colab": {
          "base_uri": "https://localhost:8080/",
          "height": 252
        }
      },
      "source": [
        "#遍历df.columns，并用df.rename进行修改\n",
        "for col in df.columns:\n",
        "    if col[:2] == '01':\n",
        "    df.rename(columns={col:'Gold'+col[4:]}, inplace=True)\n",
        "  if col[:2] == '02':\n",
        "    df.rename(columns={col : 'Silver'+col[4:]}, inplace=True)\n",
        "  if col[:2] == '03':\n",
        "    df.rename(columns={col : 'Bronze' + col[4:]}, inplace=True)\n",
        "  if col[:1] == '№':\n",
        "    df.rename(columns={col: '#' + col[2:]}, inplace=True)\n",
        "df.head()"
      ],
      "execution_count": 0,
      "outputs": [
        {
          "output_type": "execute_result",
          "data": {
            "text/html": [
              "<div>\n",
              "<style scoped>\n",
              "    .dataframe tbody tr th:only-of-type {\n",
              "        vertical-align: middle;\n",
              "    }\n",
              "\n",
              "    .dataframe tbody tr th {\n",
              "        vertical-align: top;\n",
              "    }\n",
              "\n",
              "    .dataframe thead th {\n",
              "        text-align: right;\n",
              "    }\n",
              "</style>\n",
              "<table border=\"1\" class=\"dataframe\">\n",
              "  <thead>\n",
              "    <tr style=\"text-align: right;\">\n",
              "      <th></th>\n",
              "      <th>#Summer</th>\n",
              "      <th>Gold</th>\n",
              "      <th>Silver</th>\n",
              "      <th>Bronze</th>\n",
              "      <th>Total</th>\n",
              "      <th>#Winter</th>\n",
              "      <th>Gold.1</th>\n",
              "      <th>Silver.1</th>\n",
              "      <th>Bronze.1</th>\n",
              "      <th>Total.1</th>\n",
              "      <th>#Games</th>\n",
              "      <th>Gold.2</th>\n",
              "      <th>Silver.2</th>\n",
              "      <th>Bronze.2</th>\n",
              "      <th>Combined total</th>\n",
              "    </tr>\n",
              "  </thead>\n",
              "  <tbody>\n",
              "    <tr>\n",
              "      <th>Afghanistan (AFG)</th>\n",
              "      <td>13</td>\n",
              "      <td>0</td>\n",
              "      <td>0</td>\n",
              "      <td>2</td>\n",
              "      <td>2</td>\n",
              "      <td>0</td>\n",
              "      <td>0</td>\n",
              "      <td>0</td>\n",
              "      <td>0</td>\n",
              "      <td>0</td>\n",
              "      <td>13</td>\n",
              "      <td>0</td>\n",
              "      <td>0</td>\n",
              "      <td>2</td>\n",
              "      <td>2</td>\n",
              "    </tr>\n",
              "    <tr>\n",
              "      <th>Algeria (ALG)</th>\n",
              "      <td>12</td>\n",
              "      <td>5</td>\n",
              "      <td>2</td>\n",
              "      <td>8</td>\n",
              "      <td>15</td>\n",
              "      <td>3</td>\n",
              "      <td>0</td>\n",
              "      <td>0</td>\n",
              "      <td>0</td>\n",
              "      <td>0</td>\n",
              "      <td>15</td>\n",
              "      <td>5</td>\n",
              "      <td>2</td>\n",
              "      <td>8</td>\n",
              "      <td>15</td>\n",
              "    </tr>\n",
              "    <tr>\n",
              "      <th>Argentina (ARG)</th>\n",
              "      <td>23</td>\n",
              "      <td>18</td>\n",
              "      <td>24</td>\n",
              "      <td>28</td>\n",
              "      <td>70</td>\n",
              "      <td>18</td>\n",
              "      <td>0</td>\n",
              "      <td>0</td>\n",
              "      <td>0</td>\n",
              "      <td>0</td>\n",
              "      <td>41</td>\n",
              "      <td>18</td>\n",
              "      <td>24</td>\n",
              "      <td>28</td>\n",
              "      <td>70</td>\n",
              "    </tr>\n",
              "    <tr>\n",
              "      <th>Armenia (ARM)</th>\n",
              "      <td>5</td>\n",
              "      <td>1</td>\n",
              "      <td>2</td>\n",
              "      <td>9</td>\n",
              "      <td>12</td>\n",
              "      <td>6</td>\n",
              "      <td>0</td>\n",
              "      <td>0</td>\n",
              "      <td>0</td>\n",
              "      <td>0</td>\n",
              "      <td>11</td>\n",
              "      <td>1</td>\n",
              "      <td>2</td>\n",
              "      <td>9</td>\n",
              "      <td>12</td>\n",
              "    </tr>\n",
              "    <tr>\n",
              "      <th>Australasia (ANZ) [ANZ]</th>\n",
              "      <td>2</td>\n",
              "      <td>3</td>\n",
              "      <td>4</td>\n",
              "      <td>5</td>\n",
              "      <td>12</td>\n",
              "      <td>0</td>\n",
              "      <td>0</td>\n",
              "      <td>0</td>\n",
              "      <td>0</td>\n",
              "      <td>0</td>\n",
              "      <td>2</td>\n",
              "      <td>3</td>\n",
              "      <td>4</td>\n",
              "      <td>5</td>\n",
              "      <td>12</td>\n",
              "    </tr>\n",
              "  </tbody>\n",
              "</table>\n",
              "</div>"
            ],
            "text/plain": [
              "                         #Summer  Gold  ...  Bronze.2  Combined total\n",
              "Afghanistan (AFG)             13     0  ...         2               2\n",
              "Algeria (ALG)                 12     5  ...         8              15\n",
              "Argentina (ARG)               23    18  ...        28              70\n",
              "Armenia (ARM)                  5     1  ...         9              12\n",
              "Australasia (ANZ) [ANZ]        2     3  ...         5              12\n",
              "\n",
              "[5 rows x 15 columns]"
            ]
          },
          "metadata": {
            "tags": []
          },
          "execution_count": 71
        }
      ]
    },
    {
      "cell_type": "markdown",
      "metadata": {
        "id": "VWUcbFRln8H7",
        "colab_type": "text"
      },
      "source": [
        "## Miss Values（处理）\n",
        "大部分pandas的数学函数、统计函数都会忽略NaN"
      ]
    },
    {
      "cell_type": "markdown",
      "metadata": {
        "id": "n6YIhKTyoNqv",
        "colab_type": "text"
      },
      "source": [
        "### 从文件读入时，Miss Values处理"
      ]
    },
    {
      "cell_type": "markdown",
      "metadata": {
        "id": "Zz9mNmdbovwK",
        "colab_type": "text"
      },
      "source": [
        "read_csv(na_values)  指定missing value的默认值</br>\n",
        "read_csv(na_filter)  如果空白对你的数据集是有意义的，可以将它关系，但这种情况很少见"
      ]
    },
    {
      "cell_type": "code",
      "metadata": {
        "id": "CE1DX5bMqngG",
        "colab_type": "code",
        "outputId": "db0a6f9c-8ecb-4c16-a0d8-d2aace2eea8b",
        "colab": {
          "base_uri": "https://localhost:8080/",
          "height": 198
        }
      },
      "source": [
        "url = 'https://raw.githubusercontent.com/irJERAD/Intro-to-Data-Science-in-Python/950bb9291107265bb66cbde3584ffe52b82ae254/MyNotebooks/log.txt'\n",
        "df = pd.read_csv(url)\n",
        "df.head()"
      ],
      "execution_count": 0,
      "outputs": [
        {
          "output_type": "execute_result",
          "data": {
            "text/html": [
              "<div>\n",
              "<style scoped>\n",
              "    .dataframe tbody tr th:only-of-type {\n",
              "        vertical-align: middle;\n",
              "    }\n",
              "\n",
              "    .dataframe tbody tr th {\n",
              "        vertical-align: top;\n",
              "    }\n",
              "\n",
              "    .dataframe thead th {\n",
              "        text-align: right;\n",
              "    }\n",
              "</style>\n",
              "<table border=\"1\" class=\"dataframe\">\n",
              "  <thead>\n",
              "    <tr style=\"text-align: right;\">\n",
              "      <th></th>\n",
              "      <th>time</th>\n",
              "      <th>user</th>\n",
              "      <th>video</th>\n",
              "      <th>playback position</th>\n",
              "      <th>paused</th>\n",
              "      <th>volume</th>\n",
              "    </tr>\n",
              "  </thead>\n",
              "  <tbody>\n",
              "    <tr>\n",
              "      <th>0</th>\n",
              "      <td>1469974424</td>\n",
              "      <td>cheryl</td>\n",
              "      <td>intro.html</td>\n",
              "      <td>5</td>\n",
              "      <td>False</td>\n",
              "      <td>10.0</td>\n",
              "    </tr>\n",
              "    <tr>\n",
              "      <th>1</th>\n",
              "      <td>1469974454</td>\n",
              "      <td>cheryl</td>\n",
              "      <td>intro.html</td>\n",
              "      <td>6</td>\n",
              "      <td>NaN</td>\n",
              "      <td>NaN</td>\n",
              "    </tr>\n",
              "    <tr>\n",
              "      <th>2</th>\n",
              "      <td>1469974544</td>\n",
              "      <td>cheryl</td>\n",
              "      <td>intro.html</td>\n",
              "      <td>9</td>\n",
              "      <td>NaN</td>\n",
              "      <td>NaN</td>\n",
              "    </tr>\n",
              "    <tr>\n",
              "      <th>3</th>\n",
              "      <td>1469974574</td>\n",
              "      <td>cheryl</td>\n",
              "      <td>intro.html</td>\n",
              "      <td>10</td>\n",
              "      <td>NaN</td>\n",
              "      <td>NaN</td>\n",
              "    </tr>\n",
              "    <tr>\n",
              "      <th>4</th>\n",
              "      <td>1469977514</td>\n",
              "      <td>bob</td>\n",
              "      <td>intro.html</td>\n",
              "      <td>1</td>\n",
              "      <td>NaN</td>\n",
              "      <td>NaN</td>\n",
              "    </tr>\n",
              "  </tbody>\n",
              "</table>\n",
              "</div>"
            ],
            "text/plain": [
              "         time    user       video  playback position paused  volume\n",
              "0  1469974424  cheryl  intro.html                  5  False    10.0\n",
              "1  1469974454  cheryl  intro.html                  6    NaN     NaN\n",
              "2  1469974544  cheryl  intro.html                  9    NaN     NaN\n",
              "3  1469974574  cheryl  intro.html                 10    NaN     NaN\n",
              "4  1469977514     bob  intro.html                  1    NaN     NaN"
            ]
          },
          "metadata": {
            "tags": []
          },
          "execution_count": 8
        }
      ]
    },
    {
      "cell_type": "markdown",
      "metadata": {
        "id": "KfCGDtGTs_dF",
        "colab_type": "text"
      },
      "source": [
        "### NaN处理\n",
        "**三个函数**<br>\n",
        "bfill、ffill、fillna"
      ]
    },
    {
      "cell_type": "code",
      "metadata": {
        "id": "Xd0Nz70ZrW9t",
        "colab_type": "code",
        "outputId": "30cec753-4f17-4873-ca1e-96e2fb43a1d3",
        "colab": {
          "base_uri": "https://localhost:8080/",
          "height": 1000
        }
      },
      "source": [
        "#将NaN的值全部替换xxx\n",
        "df.fillna('xxx')"
      ],
      "execution_count": 0,
      "outputs": [
        {
          "output_type": "execute_result",
          "data": {
            "text/html": [
              "<div>\n",
              "<style scoped>\n",
              "    .dataframe tbody tr th:only-of-type {\n",
              "        vertical-align: middle;\n",
              "    }\n",
              "\n",
              "    .dataframe tbody tr th {\n",
              "        vertical-align: top;\n",
              "    }\n",
              "\n",
              "    .dataframe thead th {\n",
              "        text-align: right;\n",
              "    }\n",
              "</style>\n",
              "<table border=\"1\" class=\"dataframe\">\n",
              "  <thead>\n",
              "    <tr style=\"text-align: right;\">\n",
              "      <th></th>\n",
              "      <th>time</th>\n",
              "      <th>user</th>\n",
              "      <th>video</th>\n",
              "      <th>playback position</th>\n",
              "      <th>paused</th>\n",
              "      <th>volume</th>\n",
              "    </tr>\n",
              "  </thead>\n",
              "  <tbody>\n",
              "    <tr>\n",
              "      <th>0</th>\n",
              "      <td>1469974424</td>\n",
              "      <td>cheryl</td>\n",
              "      <td>intro.html</td>\n",
              "      <td>5</td>\n",
              "      <td>False</td>\n",
              "      <td>10</td>\n",
              "    </tr>\n",
              "    <tr>\n",
              "      <th>1</th>\n",
              "      <td>1469974454</td>\n",
              "      <td>cheryl</td>\n",
              "      <td>intro.html</td>\n",
              "      <td>6</td>\n",
              "      <td>xxx</td>\n",
              "      <td>xxx</td>\n",
              "    </tr>\n",
              "    <tr>\n",
              "      <th>2</th>\n",
              "      <td>1469974544</td>\n",
              "      <td>cheryl</td>\n",
              "      <td>intro.html</td>\n",
              "      <td>9</td>\n",
              "      <td>xxx</td>\n",
              "      <td>xxx</td>\n",
              "    </tr>\n",
              "    <tr>\n",
              "      <th>3</th>\n",
              "      <td>1469974574</td>\n",
              "      <td>cheryl</td>\n",
              "      <td>intro.html</td>\n",
              "      <td>10</td>\n",
              "      <td>xxx</td>\n",
              "      <td>xxx</td>\n",
              "    </tr>\n",
              "    <tr>\n",
              "      <th>4</th>\n",
              "      <td>1469977514</td>\n",
              "      <td>bob</td>\n",
              "      <td>intro.html</td>\n",
              "      <td>1</td>\n",
              "      <td>xxx</td>\n",
              "      <td>xxx</td>\n",
              "    </tr>\n",
              "    <tr>\n",
              "      <th>5</th>\n",
              "      <td>1469977544</td>\n",
              "      <td>bob</td>\n",
              "      <td>intro.html</td>\n",
              "      <td>1</td>\n",
              "      <td>xxx</td>\n",
              "      <td>xxx</td>\n",
              "    </tr>\n",
              "    <tr>\n",
              "      <th>6</th>\n",
              "      <td>1469977574</td>\n",
              "      <td>bob</td>\n",
              "      <td>intro.html</td>\n",
              "      <td>1</td>\n",
              "      <td>xxx</td>\n",
              "      <td>xxx</td>\n",
              "    </tr>\n",
              "    <tr>\n",
              "      <th>7</th>\n",
              "      <td>1469977604</td>\n",
              "      <td>bob</td>\n",
              "      <td>intro.html</td>\n",
              "      <td>1</td>\n",
              "      <td>xxx</td>\n",
              "      <td>xxx</td>\n",
              "    </tr>\n",
              "    <tr>\n",
              "      <th>8</th>\n",
              "      <td>1469974604</td>\n",
              "      <td>cheryl</td>\n",
              "      <td>intro.html</td>\n",
              "      <td>11</td>\n",
              "      <td>xxx</td>\n",
              "      <td>xxx</td>\n",
              "    </tr>\n",
              "    <tr>\n",
              "      <th>9</th>\n",
              "      <td>1469974694</td>\n",
              "      <td>cheryl</td>\n",
              "      <td>intro.html</td>\n",
              "      <td>14</td>\n",
              "      <td>xxx</td>\n",
              "      <td>xxx</td>\n",
              "    </tr>\n",
              "    <tr>\n",
              "      <th>10</th>\n",
              "      <td>1469974724</td>\n",
              "      <td>cheryl</td>\n",
              "      <td>intro.html</td>\n",
              "      <td>15</td>\n",
              "      <td>xxx</td>\n",
              "      <td>xxx</td>\n",
              "    </tr>\n",
              "    <tr>\n",
              "      <th>11</th>\n",
              "      <td>1469974454</td>\n",
              "      <td>sue</td>\n",
              "      <td>advanced.html</td>\n",
              "      <td>24</td>\n",
              "      <td>xxx</td>\n",
              "      <td>xxx</td>\n",
              "    </tr>\n",
              "    <tr>\n",
              "      <th>12</th>\n",
              "      <td>1469974524</td>\n",
              "      <td>sue</td>\n",
              "      <td>advanced.html</td>\n",
              "      <td>25</td>\n",
              "      <td>xxx</td>\n",
              "      <td>xxx</td>\n",
              "    </tr>\n",
              "    <tr>\n",
              "      <th>13</th>\n",
              "      <td>1469974424</td>\n",
              "      <td>sue</td>\n",
              "      <td>advanced.html</td>\n",
              "      <td>23</td>\n",
              "      <td>False</td>\n",
              "      <td>10</td>\n",
              "    </tr>\n",
              "    <tr>\n",
              "      <th>14</th>\n",
              "      <td>1469974554</td>\n",
              "      <td>sue</td>\n",
              "      <td>advanced.html</td>\n",
              "      <td>26</td>\n",
              "      <td>xxx</td>\n",
              "      <td>xxx</td>\n",
              "    </tr>\n",
              "    <tr>\n",
              "      <th>15</th>\n",
              "      <td>1469974624</td>\n",
              "      <td>sue</td>\n",
              "      <td>advanced.html</td>\n",
              "      <td>27</td>\n",
              "      <td>xxx</td>\n",
              "      <td>xxx</td>\n",
              "    </tr>\n",
              "    <tr>\n",
              "      <th>16</th>\n",
              "      <td>1469974654</td>\n",
              "      <td>sue</td>\n",
              "      <td>advanced.html</td>\n",
              "      <td>28</td>\n",
              "      <td>xxx</td>\n",
              "      <td>5</td>\n",
              "    </tr>\n",
              "    <tr>\n",
              "      <th>17</th>\n",
              "      <td>1469974724</td>\n",
              "      <td>sue</td>\n",
              "      <td>advanced.html</td>\n",
              "      <td>29</td>\n",
              "      <td>xxx</td>\n",
              "      <td>xxx</td>\n",
              "    </tr>\n",
              "    <tr>\n",
              "      <th>18</th>\n",
              "      <td>1469974484</td>\n",
              "      <td>cheryl</td>\n",
              "      <td>intro.html</td>\n",
              "      <td>7</td>\n",
              "      <td>xxx</td>\n",
              "      <td>xxx</td>\n",
              "    </tr>\n",
              "    <tr>\n",
              "      <th>19</th>\n",
              "      <td>1469974514</td>\n",
              "      <td>cheryl</td>\n",
              "      <td>intro.html</td>\n",
              "      <td>8</td>\n",
              "      <td>xxx</td>\n",
              "      <td>xxx</td>\n",
              "    </tr>\n",
              "    <tr>\n",
              "      <th>20</th>\n",
              "      <td>1469974754</td>\n",
              "      <td>sue</td>\n",
              "      <td>advanced.html</td>\n",
              "      <td>30</td>\n",
              "      <td>xxx</td>\n",
              "      <td>xxx</td>\n",
              "    </tr>\n",
              "    <tr>\n",
              "      <th>21</th>\n",
              "      <td>1469974824</td>\n",
              "      <td>sue</td>\n",
              "      <td>advanced.html</td>\n",
              "      <td>31</td>\n",
              "      <td>xxx</td>\n",
              "      <td>xxx</td>\n",
              "    </tr>\n",
              "    <tr>\n",
              "      <th>22</th>\n",
              "      <td>1469974854</td>\n",
              "      <td>sue</td>\n",
              "      <td>advanced.html</td>\n",
              "      <td>32</td>\n",
              "      <td>xxx</td>\n",
              "      <td>xxx</td>\n",
              "    </tr>\n",
              "    <tr>\n",
              "      <th>23</th>\n",
              "      <td>1469974924</td>\n",
              "      <td>sue</td>\n",
              "      <td>advanced.html</td>\n",
              "      <td>33</td>\n",
              "      <td>xxx</td>\n",
              "      <td>xxx</td>\n",
              "    </tr>\n",
              "    <tr>\n",
              "      <th>24</th>\n",
              "      <td>1469977424</td>\n",
              "      <td>bob</td>\n",
              "      <td>intro.html</td>\n",
              "      <td>1</td>\n",
              "      <td>True</td>\n",
              "      <td>10</td>\n",
              "    </tr>\n",
              "    <tr>\n",
              "      <th>25</th>\n",
              "      <td>1469977454</td>\n",
              "      <td>bob</td>\n",
              "      <td>intro.html</td>\n",
              "      <td>1</td>\n",
              "      <td>xxx</td>\n",
              "      <td>xxx</td>\n",
              "    </tr>\n",
              "    <tr>\n",
              "      <th>26</th>\n",
              "      <td>1469977484</td>\n",
              "      <td>bob</td>\n",
              "      <td>intro.html</td>\n",
              "      <td>1</td>\n",
              "      <td>xxx</td>\n",
              "      <td>xxx</td>\n",
              "    </tr>\n",
              "    <tr>\n",
              "      <th>27</th>\n",
              "      <td>1469977634</td>\n",
              "      <td>bob</td>\n",
              "      <td>intro.html</td>\n",
              "      <td>1</td>\n",
              "      <td>xxx</td>\n",
              "      <td>xxx</td>\n",
              "    </tr>\n",
              "    <tr>\n",
              "      <th>28</th>\n",
              "      <td>1469977664</td>\n",
              "      <td>bob</td>\n",
              "      <td>intro.html</td>\n",
              "      <td>1</td>\n",
              "      <td>xxx</td>\n",
              "      <td>xxx</td>\n",
              "    </tr>\n",
              "    <tr>\n",
              "      <th>29</th>\n",
              "      <td>1469974634</td>\n",
              "      <td>cheryl</td>\n",
              "      <td>intro.html</td>\n",
              "      <td>12</td>\n",
              "      <td>xxx</td>\n",
              "      <td>xxx</td>\n",
              "    </tr>\n",
              "    <tr>\n",
              "      <th>30</th>\n",
              "      <td>1469974664</td>\n",
              "      <td>cheryl</td>\n",
              "      <td>intro.html</td>\n",
              "      <td>13</td>\n",
              "      <td>xxx</td>\n",
              "      <td>xxx</td>\n",
              "    </tr>\n",
              "    <tr>\n",
              "      <th>31</th>\n",
              "      <td>1469977694</td>\n",
              "      <td>bob</td>\n",
              "      <td>intro.html</td>\n",
              "      <td>1</td>\n",
              "      <td>xxx</td>\n",
              "      <td>xxx</td>\n",
              "    </tr>\n",
              "    <tr>\n",
              "      <th>32</th>\n",
              "      <td>1469977724</td>\n",
              "      <td>bob</td>\n",
              "      <td>intro.html</td>\n",
              "      <td>1</td>\n",
              "      <td>xxx</td>\n",
              "      <td>xxx</td>\n",
              "    </tr>\n",
              "  </tbody>\n",
              "</table>\n",
              "</div>"
            ],
            "text/plain": [
              "          time    user          video  playback position paused volume\n",
              "0   1469974424  cheryl     intro.html                  5  False     10\n",
              "1   1469974454  cheryl     intro.html                  6    xxx    xxx\n",
              "2   1469974544  cheryl     intro.html                  9    xxx    xxx\n",
              "3   1469974574  cheryl     intro.html                 10    xxx    xxx\n",
              "4   1469977514     bob     intro.html                  1    xxx    xxx\n",
              "5   1469977544     bob     intro.html                  1    xxx    xxx\n",
              "6   1469977574     bob     intro.html                  1    xxx    xxx\n",
              "7   1469977604     bob     intro.html                  1    xxx    xxx\n",
              "8   1469974604  cheryl     intro.html                 11    xxx    xxx\n",
              "9   1469974694  cheryl     intro.html                 14    xxx    xxx\n",
              "10  1469974724  cheryl     intro.html                 15    xxx    xxx\n",
              "11  1469974454     sue  advanced.html                 24    xxx    xxx\n",
              "12  1469974524     sue  advanced.html                 25    xxx    xxx\n",
              "13  1469974424     sue  advanced.html                 23  False     10\n",
              "14  1469974554     sue  advanced.html                 26    xxx    xxx\n",
              "15  1469974624     sue  advanced.html                 27    xxx    xxx\n",
              "16  1469974654     sue  advanced.html                 28    xxx      5\n",
              "17  1469974724     sue  advanced.html                 29    xxx    xxx\n",
              "18  1469974484  cheryl     intro.html                  7    xxx    xxx\n",
              "19  1469974514  cheryl     intro.html                  8    xxx    xxx\n",
              "20  1469974754     sue  advanced.html                 30    xxx    xxx\n",
              "21  1469974824     sue  advanced.html                 31    xxx    xxx\n",
              "22  1469974854     sue  advanced.html                 32    xxx    xxx\n",
              "23  1469974924     sue  advanced.html                 33    xxx    xxx\n",
              "24  1469977424     bob     intro.html                  1   True     10\n",
              "25  1469977454     bob     intro.html                  1    xxx    xxx\n",
              "26  1469977484     bob     intro.html                  1    xxx    xxx\n",
              "27  1469977634     bob     intro.html                  1    xxx    xxx\n",
              "28  1469977664     bob     intro.html                  1    xxx    xxx\n",
              "29  1469974634  cheryl     intro.html                 12    xxx    xxx\n",
              "30  1469974664  cheryl     intro.html                 13    xxx    xxx\n",
              "31  1469977694     bob     intro.html                  1    xxx    xxx\n",
              "32  1469977724     bob     intro.html                  1    xxx    xxx"
            ]
          },
          "metadata": {
            "tags": []
          },
          "execution_count": 7
        }
      ]
    },
    {
      "cell_type": "markdown",
      "metadata": {
        "id": "mURrNJgfB7xo",
        "colab_type": "text"
      },
      "source": [
        "## 其他操作"
      ]
    },
    {
      "cell_type": "code",
      "metadata": {
        "id": "RTR_PGvOB9pG",
        "colab_type": "code",
        "outputId": "41409346-d435-4fa3-a14b-788fadc23ad8",
        "colab": {
          "base_uri": "https://localhost:8080/",
          "height": 138
        }
      },
      "source": [
        "purchase_1 = pd.Series({'Name':'Chris',\n",
        "                       'Item Purchased':'Dog Food',\n",
        "                       'Cost':22.50})\n",
        "purchase_2 = pd.Series({'Name':'kevyn',\n",
        "                       'Item Purchased':'Kitty Litter',\n",
        "                       'Cost':2.50})\n",
        "purchase_3 = pd.Series({'Name':'Vinod',\n",
        "                       'Item Purchased':'Bird Seed',\n",
        "                       'Cost':5.00})\n",
        "df = pd.DataFrame([purchase_1, purchase_2, purchase_3], index = ['Store 1', 'Store 1', 'Store 2'])"
      ],
      "execution_count": 0,
      "outputs": [
        {
          "output_type": "execute_result",
          "data": {
            "text/html": [
              "<div>\n",
              "<style scoped>\n",
              "    .dataframe tbody tr th:only-of-type {\n",
              "        vertical-align: middle;\n",
              "    }\n",
              "\n",
              "    .dataframe tbody tr th {\n",
              "        vertical-align: top;\n",
              "    }\n",
              "\n",
              "    .dataframe thead th {\n",
              "        text-align: right;\n",
              "    }\n",
              "</style>\n",
              "<table border=\"1\" class=\"dataframe\">\n",
              "  <thead>\n",
              "    <tr style=\"text-align: right;\">\n",
              "      <th></th>\n",
              "      <th>Name</th>\n",
              "      <th>Item Purchased</th>\n",
              "      <th>Cost</th>\n",
              "    </tr>\n",
              "  </thead>\n",
              "  <tbody>\n",
              "    <tr>\n",
              "      <th>Store 1</th>\n",
              "      <td>Chris</td>\n",
              "      <td>Dog Food</td>\n",
              "      <td>22.5</td>\n",
              "    </tr>\n",
              "    <tr>\n",
              "      <th>Store 1</th>\n",
              "      <td>kevyn</td>\n",
              "      <td>Kitty Litter</td>\n",
              "      <td>2.5</td>\n",
              "    </tr>\n",
              "    <tr>\n",
              "      <th>Store 2</th>\n",
              "      <td>Vinod</td>\n",
              "      <td>Bird Seed</td>\n",
              "      <td>5.0</td>\n",
              "    </tr>\n",
              "  </tbody>\n",
              "</table>\n",
              "</div>"
            ],
            "text/plain": [
              "          Name Item Purchased  Cost\n",
              "Store 1  Chris       Dog Food  22.5\n",
              "Store 1  kevyn   Kitty Litter   2.5\n",
              "Store 2  Vinod      Bird Seed   5.0"
            ]
          },
          "metadata": {
            "tags": []
          },
          "execution_count": 3
        }
      ]
    },
    {
      "cell_type": "markdown",
      "metadata": {
        "id": "ShmzuKD_CqB-",
        "colab_type": "text"
      },
      "source": [
        "### unique()\n",
        "类似于sql中的distinct\n"
      ]
    },
    {
      "cell_type": "code",
      "metadata": {
        "id": "DD1Yh8FhCRPf",
        "colab_type": "code",
        "outputId": "dd6c8af8-6613-4024-8f5d-08b162a5b771",
        "colab": {
          "base_uri": "https://localhost:8080/",
          "height": 50
        }
      },
      "source": [
        "print(df.index.unique())\n",
        "print(df['Name'].unique())"
      ],
      "execution_count": 0,
      "outputs": [
        {
          "output_type": "stream",
          "text": [
            "Index(['Store 1', 'Store 2'], dtype='object')\n",
            "['Chris' 'kevyn' 'Vinod']\n"
          ],
          "name": "stdout"
        }
      ]
    },
    {
      "cell_type": "markdown",
      "metadata": {
        "id": "qZ8oFx9nIqcC",
        "colab_type": "text"
      },
      "source": [
        "# **四、Merge（连接）**"
      ]
    },
    {
      "cell_type": "code",
      "metadata": {
        "id": "A_BGkBmoK6Vc",
        "colab_type": "code",
        "outputId": "48174a87-6111-4a9a-9087-806107614aa0",
        "colab": {
          "base_uri": "https://localhost:8080/",
          "height": 336
        }
      },
      "source": [
        "staff_df = pd.DataFrame([{'Name': 'Kelly', 'Role': 'Director of HR'},\n",
        "             {'Name': 'Sally', 'Role': 'Course liasion'},\n",
        "             {'Name': 'James', 'Role': 'Grader'}])\n",
        "staff_df = staff_df.set_index('Name')\n",
        "\n",
        "student_df = pd.DataFrame([{'Name': 'James', 'School': 'Business'},\n",
        "                           {'Name': 'Mike', 'School': 'Law'},\n",
        "                           {'Name': 'Sally', 'School': 'Engineering'}])\n",
        "student_df = student_df.set_index('Name')\n",
        "\n",
        "display(staff_df)\n",
        "print()\n",
        "student_df"
      ],
      "execution_count": 0,
      "outputs": [
        {
          "output_type": "display_data",
          "data": {
            "text/html": [
              "<div>\n",
              "<style scoped>\n",
              "    .dataframe tbody tr th:only-of-type {\n",
              "        vertical-align: middle;\n",
              "    }\n",
              "\n",
              "    .dataframe tbody tr th {\n",
              "        vertical-align: top;\n",
              "    }\n",
              "\n",
              "    .dataframe thead th {\n",
              "        text-align: right;\n",
              "    }\n",
              "</style>\n",
              "<table border=\"1\" class=\"dataframe\">\n",
              "  <thead>\n",
              "    <tr style=\"text-align: right;\">\n",
              "      <th></th>\n",
              "      <th>Role</th>\n",
              "    </tr>\n",
              "    <tr>\n",
              "      <th>Name</th>\n",
              "      <th></th>\n",
              "    </tr>\n",
              "  </thead>\n",
              "  <tbody>\n",
              "    <tr>\n",
              "      <th>Kelly</th>\n",
              "      <td>Director of HR</td>\n",
              "    </tr>\n",
              "    <tr>\n",
              "      <th>Sally</th>\n",
              "      <td>Course liasion</td>\n",
              "    </tr>\n",
              "    <tr>\n",
              "      <th>James</th>\n",
              "      <td>Grader</td>\n",
              "    </tr>\n",
              "  </tbody>\n",
              "</table>\n",
              "</div>"
            ],
            "text/plain": [
              "                 Role\n",
              "Name                 \n",
              "Kelly  Director of HR\n",
              "Sally  Course liasion\n",
              "James          Grader"
            ]
          },
          "metadata": {
            "tags": []
          }
        },
        {
          "output_type": "stream",
          "text": [
            "\n"
          ],
          "name": "stdout"
        },
        {
          "output_type": "execute_result",
          "data": {
            "text/html": [
              "<div>\n",
              "<style scoped>\n",
              "    .dataframe tbody tr th:only-of-type {\n",
              "        vertical-align: middle;\n",
              "    }\n",
              "\n",
              "    .dataframe tbody tr th {\n",
              "        vertical-align: top;\n",
              "    }\n",
              "\n",
              "    .dataframe thead th {\n",
              "        text-align: right;\n",
              "    }\n",
              "</style>\n",
              "<table border=\"1\" class=\"dataframe\">\n",
              "  <thead>\n",
              "    <tr style=\"text-align: right;\">\n",
              "      <th></th>\n",
              "      <th>School</th>\n",
              "    </tr>\n",
              "    <tr>\n",
              "      <th>Name</th>\n",
              "      <th></th>\n",
              "    </tr>\n",
              "  </thead>\n",
              "  <tbody>\n",
              "    <tr>\n",
              "      <th>James</th>\n",
              "      <td>Business</td>\n",
              "    </tr>\n",
              "    <tr>\n",
              "      <th>Mike</th>\n",
              "      <td>Law</td>\n",
              "    </tr>\n",
              "    <tr>\n",
              "      <th>Sally</th>\n",
              "      <td>Engineering</td>\n",
              "    </tr>\n",
              "  </tbody>\n",
              "</table>\n",
              "</div>"
            ],
            "text/plain": [
              "            School\n",
              "Name              \n",
              "James     Business\n",
              "Mike           Law\n",
              "Sally  Engineering"
            ]
          },
          "metadata": {
            "tags": []
          },
          "execution_count": 69
        }
      ]
    },
    {
      "cell_type": "markdown",
      "metadata": {
        "id": "lhEyoym1LIM3",
        "colab_type": "text"
      },
      "source": [
        "## 外连接(outer join)"
      ]
    },
    {
      "cell_type": "code",
      "metadata": {
        "id": "CENa-CzgLKoC",
        "colab_type": "code",
        "outputId": "a2848bcd-ea91-4d48-97f1-e34ffa4f17f8",
        "colab": {
          "base_uri": "https://localhost:8080/",
          "height": 198
        }
      },
      "source": [
        "pd.merge(staff_df, student_df, how='outer', left_index=True, right_index=True)"
      ],
      "execution_count": 0,
      "outputs": [
        {
          "output_type": "execute_result",
          "data": {
            "text/html": [
              "<div>\n",
              "<style scoped>\n",
              "    .dataframe tbody tr th:only-of-type {\n",
              "        vertical-align: middle;\n",
              "    }\n",
              "\n",
              "    .dataframe tbody tr th {\n",
              "        vertical-align: top;\n",
              "    }\n",
              "\n",
              "    .dataframe thead th {\n",
              "        text-align: right;\n",
              "    }\n",
              "</style>\n",
              "<table border=\"1\" class=\"dataframe\">\n",
              "  <thead>\n",
              "    <tr style=\"text-align: right;\">\n",
              "      <th></th>\n",
              "      <th>Role</th>\n",
              "      <th>School</th>\n",
              "    </tr>\n",
              "    <tr>\n",
              "      <th>Name</th>\n",
              "      <th></th>\n",
              "      <th></th>\n",
              "    </tr>\n",
              "  </thead>\n",
              "  <tbody>\n",
              "    <tr>\n",
              "      <th>James</th>\n",
              "      <td>Grader</td>\n",
              "      <td>Business</td>\n",
              "    </tr>\n",
              "    <tr>\n",
              "      <th>Kelly</th>\n",
              "      <td>Director of HR</td>\n",
              "      <td>NaN</td>\n",
              "    </tr>\n",
              "    <tr>\n",
              "      <th>Mike</th>\n",
              "      <td>NaN</td>\n",
              "      <td>Law</td>\n",
              "    </tr>\n",
              "    <tr>\n",
              "      <th>Sally</th>\n",
              "      <td>Course liasion</td>\n",
              "      <td>Engineering</td>\n",
              "    </tr>\n",
              "  </tbody>\n",
              "</table>\n",
              "</div>"
            ],
            "text/plain": [
              "                 Role       School\n",
              "Name                              \n",
              "James          Grader     Business\n",
              "Kelly  Director of HR          NaN\n",
              "Mike              NaN          Law\n",
              "Sally  Course liasion  Engineering"
            ]
          },
          "metadata": {
            "tags": []
          },
          "execution_count": 11
        }
      ]
    },
    {
      "cell_type": "markdown",
      "metadata": {
        "id": "aWqUe4ExQv2J",
        "colab_type": "text"
      },
      "source": [
        "## 内连接"
      ]
    },
    {
      "cell_type": "code",
      "metadata": {
        "id": "OiEmXd7mQw9x",
        "colab_type": "code",
        "outputId": "b1c7a9f3-a67c-48ab-d91b-76b2d683b1cf",
        "colab": {
          "base_uri": "https://localhost:8080/",
          "height": 138
        }
      },
      "source": [
        "pd.merge(staff_df, student_df, how='inner', left_index=True, right_index=True)"
      ],
      "execution_count": 0,
      "outputs": [
        {
          "output_type": "execute_result",
          "data": {
            "text/html": [
              "<div>\n",
              "<style scoped>\n",
              "    .dataframe tbody tr th:only-of-type {\n",
              "        vertical-align: middle;\n",
              "    }\n",
              "\n",
              "    .dataframe tbody tr th {\n",
              "        vertical-align: top;\n",
              "    }\n",
              "\n",
              "    .dataframe thead th {\n",
              "        text-align: right;\n",
              "    }\n",
              "</style>\n",
              "<table border=\"1\" class=\"dataframe\">\n",
              "  <thead>\n",
              "    <tr style=\"text-align: right;\">\n",
              "      <th></th>\n",
              "      <th>Role</th>\n",
              "      <th>School</th>\n",
              "    </tr>\n",
              "    <tr>\n",
              "      <th>Name</th>\n",
              "      <th></th>\n",
              "      <th></th>\n",
              "    </tr>\n",
              "  </thead>\n",
              "  <tbody>\n",
              "    <tr>\n",
              "      <th>Sally</th>\n",
              "      <td>Course liasion</td>\n",
              "      <td>Engineering</td>\n",
              "    </tr>\n",
              "    <tr>\n",
              "      <th>James</th>\n",
              "      <td>Grader</td>\n",
              "      <td>Business</td>\n",
              "    </tr>\n",
              "  </tbody>\n",
              "</table>\n",
              "</div>"
            ],
            "text/plain": [
              "                 Role       School\n",
              "Name                              \n",
              "Sally  Course liasion  Engineering\n",
              "James          Grader     Business"
            ]
          },
          "metadata": {
            "tags": []
          },
          "execution_count": 12
        }
      ]
    },
    {
      "cell_type": "markdown",
      "metadata": {
        "id": "K0sjpmhrRE5n",
        "colab_type": "text"
      },
      "source": [
        "## 左连接"
      ]
    },
    {
      "cell_type": "code",
      "metadata": {
        "id": "RvExnyK8RGJT",
        "colab_type": "code",
        "outputId": "ed34586b-d3df-4d41-deaf-3cef8baeea54",
        "colab": {
          "base_uri": "https://localhost:8080/",
          "height": 168
        }
      },
      "source": [
        "pd.merge(staff_df, student_df, how='left', left_index=True, right_index=True)"
      ],
      "execution_count": 0,
      "outputs": [
        {
          "output_type": "execute_result",
          "data": {
            "text/html": [
              "<div>\n",
              "<style scoped>\n",
              "    .dataframe tbody tr th:only-of-type {\n",
              "        vertical-align: middle;\n",
              "    }\n",
              "\n",
              "    .dataframe tbody tr th {\n",
              "        vertical-align: top;\n",
              "    }\n",
              "\n",
              "    .dataframe thead th {\n",
              "        text-align: right;\n",
              "    }\n",
              "</style>\n",
              "<table border=\"1\" class=\"dataframe\">\n",
              "  <thead>\n",
              "    <tr style=\"text-align: right;\">\n",
              "      <th></th>\n",
              "      <th>Role</th>\n",
              "      <th>School</th>\n",
              "    </tr>\n",
              "    <tr>\n",
              "      <th>Name</th>\n",
              "      <th></th>\n",
              "      <th></th>\n",
              "    </tr>\n",
              "  </thead>\n",
              "  <tbody>\n",
              "    <tr>\n",
              "      <th>Kelly</th>\n",
              "      <td>Director of HR</td>\n",
              "      <td>NaN</td>\n",
              "    </tr>\n",
              "    <tr>\n",
              "      <th>Sally</th>\n",
              "      <td>Course liasion</td>\n",
              "      <td>Engineering</td>\n",
              "    </tr>\n",
              "    <tr>\n",
              "      <th>James</th>\n",
              "      <td>Grader</td>\n",
              "      <td>Business</td>\n",
              "    </tr>\n",
              "  </tbody>\n",
              "</table>\n",
              "</div>"
            ],
            "text/plain": [
              "                 Role       School\n",
              "Name                              \n",
              "Kelly  Director of HR          NaN\n",
              "Sally  Course liasion  Engineering\n",
              "James          Grader     Business"
            ]
          },
          "metadata": {
            "tags": []
          },
          "execution_count": 13
        }
      ]
    },
    {
      "cell_type": "markdown",
      "metadata": {
        "id": "XOWk9XXSRNTB",
        "colab_type": "text"
      },
      "source": [
        "## 右连接"
      ]
    },
    {
      "cell_type": "code",
      "metadata": {
        "id": "6AGUl1jjRQLf",
        "colab_type": "code",
        "outputId": "3c922da6-fae2-4e5a-dcb2-6b4cb8be94b9",
        "colab": {
          "base_uri": "https://localhost:8080/",
          "height": 168
        }
      },
      "source": [
        "pd.merge(staff_df, student_df, how='right', left_index=True, right_index=True)"
      ],
      "execution_count": 0,
      "outputs": [
        {
          "output_type": "execute_result",
          "data": {
            "text/html": [
              "<div>\n",
              "<style scoped>\n",
              "    .dataframe tbody tr th:only-of-type {\n",
              "        vertical-align: middle;\n",
              "    }\n",
              "\n",
              "    .dataframe tbody tr th {\n",
              "        vertical-align: top;\n",
              "    }\n",
              "\n",
              "    .dataframe thead th {\n",
              "        text-align: right;\n",
              "    }\n",
              "</style>\n",
              "<table border=\"1\" class=\"dataframe\">\n",
              "  <thead>\n",
              "    <tr style=\"text-align: right;\">\n",
              "      <th></th>\n",
              "      <th>Role</th>\n",
              "      <th>School</th>\n",
              "    </tr>\n",
              "    <tr>\n",
              "      <th>Name</th>\n",
              "      <th></th>\n",
              "      <th></th>\n",
              "    </tr>\n",
              "  </thead>\n",
              "  <tbody>\n",
              "    <tr>\n",
              "      <th>James</th>\n",
              "      <td>Grader</td>\n",
              "      <td>Business</td>\n",
              "    </tr>\n",
              "    <tr>\n",
              "      <th>Mike</th>\n",
              "      <td>NaN</td>\n",
              "      <td>Law</td>\n",
              "    </tr>\n",
              "    <tr>\n",
              "      <th>Sally</th>\n",
              "      <td>Course liasion</td>\n",
              "      <td>Engineering</td>\n",
              "    </tr>\n",
              "  </tbody>\n",
              "</table>\n",
              "</div>"
            ],
            "text/plain": [
              "                 Role       School\n",
              "Name                              \n",
              "James          Grader     Business\n",
              "Mike              NaN          Law\n",
              "Sally  Course liasion  Engineering"
            ]
          },
          "metadata": {
            "tags": []
          },
          "execution_count": 14
        }
      ]
    },
    {
      "cell_type": "markdown",
      "metadata": {
        "id": "xVoKg_LDS7EO",
        "colab_type": "text"
      },
      "source": [
        "## 使用列名连接"
      ]
    },
    {
      "cell_type": "code",
      "metadata": {
        "id": "9drNSBwrS-UU",
        "colab_type": "code",
        "outputId": "751f4173-07c5-4580-b386-765bda0b3926",
        "colab": {
          "base_uri": "https://localhost:8080/",
          "height": 427
        }
      },
      "source": [
        "staff_df = staff_df.reset_index()\n",
        "student_df = student_df.reset_index()\n",
        "display(staff_df)\n",
        "print()\n",
        "display(student_df)\n",
        "\n",
        "new_df = pd.merge(staff_df, student_df, how='outer', left_on='Name', right_on='Name')\n",
        "new_df"
      ],
      "execution_count": 0,
      "outputs": [
        {
          "output_type": "display_data",
          "data": {
            "text/html": [
              "<div>\n",
              "<style scoped>\n",
              "    .dataframe tbody tr th:only-of-type {\n",
              "        vertical-align: middle;\n",
              "    }\n",
              "\n",
              "    .dataframe tbody tr th {\n",
              "        vertical-align: top;\n",
              "    }\n",
              "\n",
              "    .dataframe thead th {\n",
              "        text-align: right;\n",
              "    }\n",
              "</style>\n",
              "<table border=\"1\" class=\"dataframe\">\n",
              "  <thead>\n",
              "    <tr style=\"text-align: right;\">\n",
              "      <th></th>\n",
              "      <th>Name</th>\n",
              "      <th>Role</th>\n",
              "    </tr>\n",
              "  </thead>\n",
              "  <tbody>\n",
              "    <tr>\n",
              "      <th>0</th>\n",
              "      <td>Kelly</td>\n",
              "      <td>Director of HR</td>\n",
              "    </tr>\n",
              "    <tr>\n",
              "      <th>1</th>\n",
              "      <td>Sally</td>\n",
              "      <td>Course liasion</td>\n",
              "    </tr>\n",
              "    <tr>\n",
              "      <th>2</th>\n",
              "      <td>James</td>\n",
              "      <td>Grader</td>\n",
              "    </tr>\n",
              "  </tbody>\n",
              "</table>\n",
              "</div>"
            ],
            "text/plain": [
              "    Name            Role\n",
              "0  Kelly  Director of HR\n",
              "1  Sally  Course liasion\n",
              "2  James          Grader"
            ]
          },
          "metadata": {
            "tags": []
          }
        },
        {
          "output_type": "stream",
          "text": [
            "\n"
          ],
          "name": "stdout"
        },
        {
          "output_type": "display_data",
          "data": {
            "text/html": [
              "<div>\n",
              "<style scoped>\n",
              "    .dataframe tbody tr th:only-of-type {\n",
              "        vertical-align: middle;\n",
              "    }\n",
              "\n",
              "    .dataframe tbody tr th {\n",
              "        vertical-align: top;\n",
              "    }\n",
              "\n",
              "    .dataframe thead th {\n",
              "        text-align: right;\n",
              "    }\n",
              "</style>\n",
              "<table border=\"1\" class=\"dataframe\">\n",
              "  <thead>\n",
              "    <tr style=\"text-align: right;\">\n",
              "      <th></th>\n",
              "      <th>Name</th>\n",
              "      <th>School</th>\n",
              "    </tr>\n",
              "  </thead>\n",
              "  <tbody>\n",
              "    <tr>\n",
              "      <th>0</th>\n",
              "      <td>James</td>\n",
              "      <td>Business</td>\n",
              "    </tr>\n",
              "    <tr>\n",
              "      <th>1</th>\n",
              "      <td>Mike</td>\n",
              "      <td>Law</td>\n",
              "    </tr>\n",
              "    <tr>\n",
              "      <th>2</th>\n",
              "      <td>Sally</td>\n",
              "      <td>Engineering</td>\n",
              "    </tr>\n",
              "  </tbody>\n",
              "</table>\n",
              "</div>"
            ],
            "text/plain": [
              "    Name       School\n",
              "0  James     Business\n",
              "1   Mike          Law\n",
              "2  Sally  Engineering"
            ]
          },
          "metadata": {
            "tags": []
          }
        },
        {
          "output_type": "execute_result",
          "data": {
            "text/html": [
              "<div>\n",
              "<style scoped>\n",
              "    .dataframe tbody tr th:only-of-type {\n",
              "        vertical-align: middle;\n",
              "    }\n",
              "\n",
              "    .dataframe tbody tr th {\n",
              "        vertical-align: top;\n",
              "    }\n",
              "\n",
              "    .dataframe thead th {\n",
              "        text-align: right;\n",
              "    }\n",
              "</style>\n",
              "<table border=\"1\" class=\"dataframe\">\n",
              "  <thead>\n",
              "    <tr style=\"text-align: right;\">\n",
              "      <th></th>\n",
              "      <th>Name</th>\n",
              "      <th>Role</th>\n",
              "      <th>School</th>\n",
              "    </tr>\n",
              "  </thead>\n",
              "  <tbody>\n",
              "    <tr>\n",
              "      <th>0</th>\n",
              "      <td>Kelly</td>\n",
              "      <td>Director of HR</td>\n",
              "      <td>NaN</td>\n",
              "    </tr>\n",
              "    <tr>\n",
              "      <th>1</th>\n",
              "      <td>Sally</td>\n",
              "      <td>Course liasion</td>\n",
              "      <td>Engineering</td>\n",
              "    </tr>\n",
              "    <tr>\n",
              "      <th>2</th>\n",
              "      <td>James</td>\n",
              "      <td>Grader</td>\n",
              "      <td>Business</td>\n",
              "    </tr>\n",
              "    <tr>\n",
              "      <th>3</th>\n",
              "      <td>Mike</td>\n",
              "      <td>NaN</td>\n",
              "      <td>Law</td>\n",
              "    </tr>\n",
              "  </tbody>\n",
              "</table>\n",
              "</div>"
            ],
            "text/plain": [
              "    Name            Role       School\n",
              "0  Kelly  Director of HR          NaN\n",
              "1  Sally  Course liasion  Engineering\n",
              "2  James          Grader     Business\n",
              "3   Mike             NaN          Law"
            ]
          },
          "metadata": {
            "tags": []
          },
          "execution_count": 30
        }
      ]
    },
    {
      "cell_type": "markdown",
      "metadata": {
        "id": "CHp9yQXsUvWu",
        "colab_type": "text"
      },
      "source": [
        "## 列名冲突处理"
      ]
    },
    {
      "cell_type": "code",
      "metadata": {
        "id": "E5eoM0ovUzD6",
        "colab_type": "code",
        "outputId": "a52235df-48a5-4c0e-d07b-8a25b69dc86b",
        "colab": {
          "base_uri": "https://localhost:8080/",
          "height": 138
        }
      },
      "source": [
        "staff_df = pd.DataFrame([{'Name': 'Kelly', 'Role': 'Director of HR', 'Location': 'State Street'},\n",
        "                         {'Name': 'Sally', 'Role': 'Course liasion', 'Location': 'Washington Avenue'},\n",
        "                         {'Name': 'James', 'Role': 'Grader', 'Location': 'Washington Avenue'}])\n",
        "student_df = pd.DataFrame([{'Name': 'James', 'School': 'Business', 'Location': '1024 Billiard Avenue'},\n",
        "                           {'Name': 'Mike', 'School': 'Law', 'Location': 'Fraternity House #22'},\n",
        "                           {'Name': 'Sally', 'School': 'Engineering', 'Location': '512 Wilson Crescent'}])\n",
        "pd.merge(staff_df, student_df, how='left', left_on='Name', right_on='Name')"
      ],
      "execution_count": 0,
      "outputs": [
        {
          "output_type": "execute_result",
          "data": {
            "text/html": [
              "<div>\n",
              "<style scoped>\n",
              "    .dataframe tbody tr th:only-of-type {\n",
              "        vertical-align: middle;\n",
              "    }\n",
              "\n",
              "    .dataframe tbody tr th {\n",
              "        vertical-align: top;\n",
              "    }\n",
              "\n",
              "    .dataframe thead th {\n",
              "        text-align: right;\n",
              "    }\n",
              "</style>\n",
              "<table border=\"1\" class=\"dataframe\">\n",
              "  <thead>\n",
              "    <tr style=\"text-align: right;\">\n",
              "      <th></th>\n",
              "      <th>Name</th>\n",
              "      <th>Role</th>\n",
              "      <th>Location_x</th>\n",
              "      <th>School</th>\n",
              "      <th>Location_y</th>\n",
              "    </tr>\n",
              "  </thead>\n",
              "  <tbody>\n",
              "    <tr>\n",
              "      <th>0</th>\n",
              "      <td>Kelly</td>\n",
              "      <td>Director of HR</td>\n",
              "      <td>State Street</td>\n",
              "      <td>NaN</td>\n",
              "      <td>NaN</td>\n",
              "    </tr>\n",
              "    <tr>\n",
              "      <th>1</th>\n",
              "      <td>Sally</td>\n",
              "      <td>Course liasion</td>\n",
              "      <td>Washington Avenue</td>\n",
              "      <td>Engineering</td>\n",
              "      <td>512 Wilson Crescent</td>\n",
              "    </tr>\n",
              "    <tr>\n",
              "      <th>2</th>\n",
              "      <td>James</td>\n",
              "      <td>Grader</td>\n",
              "      <td>Washington Avenue</td>\n",
              "      <td>Business</td>\n",
              "      <td>1024 Billiard Avenue</td>\n",
              "    </tr>\n",
              "  </tbody>\n",
              "</table>\n",
              "</div>"
            ],
            "text/plain": [
              "    Name            Role         Location_x       School            Location_y\n",
              "0  Kelly  Director of HR       State Street          NaN                   NaN\n",
              "1  Sally  Course liasion  Washington Avenue  Engineering   512 Wilson Crescent\n",
              "2  James          Grader  Washington Avenue     Business  1024 Billiard Avenue"
            ]
          },
          "metadata": {
            "tags": []
          },
          "execution_count": 33
        }
      ]
    },
    {
      "cell_type": "markdown",
      "metadata": {
        "id": "T2ZrL3G-ZQpQ",
        "colab_type": "text"
      },
      "source": [
        "## 多列连接"
      ]
    },
    {
      "cell_type": "code",
      "metadata": {
        "id": "-8dsmvOuZS2D",
        "colab_type": "code",
        "outputId": "d137f16d-6e12-4065-c151-d9b3ca53c20f",
        "colab": {
          "base_uri": "https://localhost:8080/",
          "height": 337
        }
      },
      "source": [
        "staff_df = pd.DataFrame([{'First Name': 'Kelly', 'Last Name': 'Desjardins', 'Role': 'Director of HR'},\n",
        "                         {'First Name': 'Sally', 'Last Name': 'Brooks', 'Role': 'Course liasion'},\n",
        "                         {'First Name': 'James', 'Last Name': 'Wilde', 'Role': 'Grader'}])\n",
        "student_df = pd.DataFrame([{'First Name': 'James', 'Last Name': 'Hammond', 'School': 'Business'},\n",
        "                           {'First Name': 'Mike', 'Last Name': 'Smith', 'School': 'Law'},\n",
        "                           {'First Name': 'Sally', 'Last Name': 'Brooks', 'School': 'Engineering'}])\n",
        "display(staff_df)\n",
        "print()\n",
        "display(student_df)\n",
        "pd.merge(staff_df, student_df, how='inner', left_on=['First Name','Last Name'], right_on=['First Name','Last Name'])"
      ],
      "execution_count": 0,
      "outputs": [
        {
          "output_type": "display_data",
          "data": {
            "text/html": [
              "<div>\n",
              "<style scoped>\n",
              "    .dataframe tbody tr th:only-of-type {\n",
              "        vertical-align: middle;\n",
              "    }\n",
              "\n",
              "    .dataframe tbody tr th {\n",
              "        vertical-align: top;\n",
              "    }\n",
              "\n",
              "    .dataframe thead th {\n",
              "        text-align: right;\n",
              "    }\n",
              "</style>\n",
              "<table border=\"1\" class=\"dataframe\">\n",
              "  <thead>\n",
              "    <tr style=\"text-align: right;\">\n",
              "      <th></th>\n",
              "      <th>First Name</th>\n",
              "      <th>Last Name</th>\n",
              "      <th>Role</th>\n",
              "    </tr>\n",
              "  </thead>\n",
              "  <tbody>\n",
              "    <tr>\n",
              "      <th>0</th>\n",
              "      <td>Kelly</td>\n",
              "      <td>Desjardins</td>\n",
              "      <td>Director of HR</td>\n",
              "    </tr>\n",
              "    <tr>\n",
              "      <th>1</th>\n",
              "      <td>Sally</td>\n",
              "      <td>Brooks</td>\n",
              "      <td>Course liasion</td>\n",
              "    </tr>\n",
              "    <tr>\n",
              "      <th>2</th>\n",
              "      <td>James</td>\n",
              "      <td>Wilde</td>\n",
              "      <td>Grader</td>\n",
              "    </tr>\n",
              "  </tbody>\n",
              "</table>\n",
              "</div>"
            ],
            "text/plain": [
              "  First Name   Last Name            Role\n",
              "0      Kelly  Desjardins  Director of HR\n",
              "1      Sally      Brooks  Course liasion\n",
              "2      James       Wilde          Grader"
            ]
          },
          "metadata": {
            "tags": []
          }
        },
        {
          "output_type": "stream",
          "text": [
            "\n"
          ],
          "name": "stdout"
        },
        {
          "output_type": "display_data",
          "data": {
            "text/html": [
              "<div>\n",
              "<style scoped>\n",
              "    .dataframe tbody tr th:only-of-type {\n",
              "        vertical-align: middle;\n",
              "    }\n",
              "\n",
              "    .dataframe tbody tr th {\n",
              "        vertical-align: top;\n",
              "    }\n",
              "\n",
              "    .dataframe thead th {\n",
              "        text-align: right;\n",
              "    }\n",
              "</style>\n",
              "<table border=\"1\" class=\"dataframe\">\n",
              "  <thead>\n",
              "    <tr style=\"text-align: right;\">\n",
              "      <th></th>\n",
              "      <th>First Name</th>\n",
              "      <th>Last Name</th>\n",
              "      <th>School</th>\n",
              "    </tr>\n",
              "  </thead>\n",
              "  <tbody>\n",
              "    <tr>\n",
              "      <th>0</th>\n",
              "      <td>James</td>\n",
              "      <td>Hammond</td>\n",
              "      <td>Business</td>\n",
              "    </tr>\n",
              "    <tr>\n",
              "      <th>1</th>\n",
              "      <td>Mike</td>\n",
              "      <td>Smith</td>\n",
              "      <td>Law</td>\n",
              "    </tr>\n",
              "    <tr>\n",
              "      <th>2</th>\n",
              "      <td>Sally</td>\n",
              "      <td>Brooks</td>\n",
              "      <td>Engineering</td>\n",
              "    </tr>\n",
              "  </tbody>\n",
              "</table>\n",
              "</div>"
            ],
            "text/plain": [
              "  First Name Last Name       School\n",
              "0      James   Hammond     Business\n",
              "1       Mike     Smith          Law\n",
              "2      Sally    Brooks  Engineering"
            ]
          },
          "metadata": {
            "tags": []
          }
        },
        {
          "output_type": "execute_result",
          "data": {
            "text/html": [
              "<div>\n",
              "<style scoped>\n",
              "    .dataframe tbody tr th:only-of-type {\n",
              "        vertical-align: middle;\n",
              "    }\n",
              "\n",
              "    .dataframe tbody tr th {\n",
              "        vertical-align: top;\n",
              "    }\n",
              "\n",
              "    .dataframe thead th {\n",
              "        text-align: right;\n",
              "    }\n",
              "</style>\n",
              "<table border=\"1\" class=\"dataframe\">\n",
              "  <thead>\n",
              "    <tr style=\"text-align: right;\">\n",
              "      <th></th>\n",
              "      <th>First Name</th>\n",
              "      <th>Last Name</th>\n",
              "      <th>Role</th>\n",
              "      <th>School</th>\n",
              "    </tr>\n",
              "  </thead>\n",
              "  <tbody>\n",
              "    <tr>\n",
              "      <th>0</th>\n",
              "      <td>Sally</td>\n",
              "      <td>Brooks</td>\n",
              "      <td>Course liasion</td>\n",
              "      <td>Engineering</td>\n",
              "    </tr>\n",
              "  </tbody>\n",
              "</table>\n",
              "</div>"
            ],
            "text/plain": [
              "  First Name Last Name            Role       School\n",
              "0      Sally    Brooks  Course liasion  Engineering"
            ]
          },
          "metadata": {
            "tags": []
          },
          "execution_count": 40
        }
      ]
    },
    {
      "cell_type": "markdown",
      "metadata": {
        "id": "TEKvLOQoZgSI",
        "colab_type": "text"
      },
      "source": [
        "# **五、Group by**"
      ]
    },
    {
      "cell_type": "code",
      "metadata": {
        "id": "qalgvbSHZhtT",
        "colab_type": "code",
        "outputId": "b11843f5-d1af-4b11-bed2-f87397e436eb",
        "colab": {
          "base_uri": "https://localhost:8080/",
          "height": 332
        }
      },
      "source": [
        "url = 'https://raw.githubusercontent.com/irJERAD/Intro-to-Data-Science-in-Python/master/MyNotebooks/census.csv'\n",
        "df = pd.read_csv(url)\n",
        "df = df[df['SUMLEV'] == 50]\n",
        "df.head()"
      ],
      "execution_count": 0,
      "outputs": [
        {
          "output_type": "execute_result",
          "data": {
            "text/html": [
              "<div>\n",
              "<style scoped>\n",
              "    .dataframe tbody tr th:only-of-type {\n",
              "        vertical-align: middle;\n",
              "    }\n",
              "\n",
              "    .dataframe tbody tr th {\n",
              "        vertical-align: top;\n",
              "    }\n",
              "\n",
              "    .dataframe thead th {\n",
              "        text-align: right;\n",
              "    }\n",
              "</style>\n",
              "<table border=\"1\" class=\"dataframe\">\n",
              "  <thead>\n",
              "    <tr style=\"text-align: right;\">\n",
              "      <th></th>\n",
              "      <th>SUMLEV</th>\n",
              "      <th>REGION</th>\n",
              "      <th>DIVISION</th>\n",
              "      <th>STATE</th>\n",
              "      <th>COUNTY</th>\n",
              "      <th>STNAME</th>\n",
              "      <th>CTYNAME</th>\n",
              "      <th>CENSUS2010POP</th>\n",
              "      <th>ESTIMATESBASE2010</th>\n",
              "      <th>POPESTIMATE2010</th>\n",
              "      <th>POPESTIMATE2011</th>\n",
              "      <th>POPESTIMATE2012</th>\n",
              "      <th>POPESTIMATE2013</th>\n",
              "      <th>POPESTIMATE2014</th>\n",
              "      <th>POPESTIMATE2015</th>\n",
              "      <th>NPOPCHG_2010</th>\n",
              "      <th>NPOPCHG_2011</th>\n",
              "      <th>NPOPCHG_2012</th>\n",
              "      <th>NPOPCHG_2013</th>\n",
              "      <th>NPOPCHG_2014</th>\n",
              "      <th>NPOPCHG_2015</th>\n",
              "      <th>BIRTHS2010</th>\n",
              "      <th>BIRTHS2011</th>\n",
              "      <th>BIRTHS2012</th>\n",
              "      <th>BIRTHS2013</th>\n",
              "      <th>BIRTHS2014</th>\n",
              "      <th>BIRTHS2015</th>\n",
              "      <th>DEATHS2010</th>\n",
              "      <th>DEATHS2011</th>\n",
              "      <th>DEATHS2012</th>\n",
              "      <th>DEATHS2013</th>\n",
              "      <th>DEATHS2014</th>\n",
              "      <th>DEATHS2015</th>\n",
              "      <th>NATURALINC2010</th>\n",
              "      <th>NATURALINC2011</th>\n",
              "      <th>NATURALINC2012</th>\n",
              "      <th>NATURALINC2013</th>\n",
              "      <th>NATURALINC2014</th>\n",
              "      <th>NATURALINC2015</th>\n",
              "      <th>INTERNATIONALMIG2010</th>\n",
              "      <th>...</th>\n",
              "      <th>RESIDUAL2013</th>\n",
              "      <th>RESIDUAL2014</th>\n",
              "      <th>RESIDUAL2015</th>\n",
              "      <th>GQESTIMATESBASE2010</th>\n",
              "      <th>GQESTIMATES2010</th>\n",
              "      <th>GQESTIMATES2011</th>\n",
              "      <th>GQESTIMATES2012</th>\n",
              "      <th>GQESTIMATES2013</th>\n",
              "      <th>GQESTIMATES2014</th>\n",
              "      <th>GQESTIMATES2015</th>\n",
              "      <th>RBIRTH2011</th>\n",
              "      <th>RBIRTH2012</th>\n",
              "      <th>RBIRTH2013</th>\n",
              "      <th>RBIRTH2014</th>\n",
              "      <th>RBIRTH2015</th>\n",
              "      <th>RDEATH2011</th>\n",
              "      <th>RDEATH2012</th>\n",
              "      <th>RDEATH2013</th>\n",
              "      <th>RDEATH2014</th>\n",
              "      <th>RDEATH2015</th>\n",
              "      <th>RNATURALINC2011</th>\n",
              "      <th>RNATURALINC2012</th>\n",
              "      <th>RNATURALINC2013</th>\n",
              "      <th>RNATURALINC2014</th>\n",
              "      <th>RNATURALINC2015</th>\n",
              "      <th>RINTERNATIONALMIG2011</th>\n",
              "      <th>RINTERNATIONALMIG2012</th>\n",
              "      <th>RINTERNATIONALMIG2013</th>\n",
              "      <th>RINTERNATIONALMIG2014</th>\n",
              "      <th>RINTERNATIONALMIG2015</th>\n",
              "      <th>RDOMESTICMIG2011</th>\n",
              "      <th>RDOMESTICMIG2012</th>\n",
              "      <th>RDOMESTICMIG2013</th>\n",
              "      <th>RDOMESTICMIG2014</th>\n",
              "      <th>RDOMESTICMIG2015</th>\n",
              "      <th>RNETMIG2011</th>\n",
              "      <th>RNETMIG2012</th>\n",
              "      <th>RNETMIG2013</th>\n",
              "      <th>RNETMIG2014</th>\n",
              "      <th>RNETMIG2015</th>\n",
              "    </tr>\n",
              "  </thead>\n",
              "  <tbody>\n",
              "    <tr>\n",
              "      <th>1</th>\n",
              "      <td>50</td>\n",
              "      <td>3</td>\n",
              "      <td>6</td>\n",
              "      <td>1</td>\n",
              "      <td>1</td>\n",
              "      <td>Alabama</td>\n",
              "      <td>Autauga County</td>\n",
              "      <td>54571</td>\n",
              "      <td>54571</td>\n",
              "      <td>54660</td>\n",
              "      <td>55253</td>\n",
              "      <td>55175</td>\n",
              "      <td>55038</td>\n",
              "      <td>55290</td>\n",
              "      <td>55347</td>\n",
              "      <td>89</td>\n",
              "      <td>593</td>\n",
              "      <td>-78</td>\n",
              "      <td>-137</td>\n",
              "      <td>252</td>\n",
              "      <td>57</td>\n",
              "      <td>151</td>\n",
              "      <td>636</td>\n",
              "      <td>615</td>\n",
              "      <td>574</td>\n",
              "      <td>623</td>\n",
              "      <td>600</td>\n",
              "      <td>152</td>\n",
              "      <td>507</td>\n",
              "      <td>558</td>\n",
              "      <td>583</td>\n",
              "      <td>504</td>\n",
              "      <td>467</td>\n",
              "      <td>-1</td>\n",
              "      <td>129</td>\n",
              "      <td>57</td>\n",
              "      <td>-9</td>\n",
              "      <td>119</td>\n",
              "      <td>133</td>\n",
              "      <td>33</td>\n",
              "      <td>...</td>\n",
              "      <td>22</td>\n",
              "      <td>-10</td>\n",
              "      <td>45</td>\n",
              "      <td>455</td>\n",
              "      <td>455</td>\n",
              "      <td>455</td>\n",
              "      <td>455</td>\n",
              "      <td>455</td>\n",
              "      <td>455</td>\n",
              "      <td>455</td>\n",
              "      <td>11.572789</td>\n",
              "      <td>11.138479</td>\n",
              "      <td>10.416194</td>\n",
              "      <td>11.293597</td>\n",
              "      <td>10.846281</td>\n",
              "      <td>9.225478</td>\n",
              "      <td>10.106133</td>\n",
              "      <td>10.579514</td>\n",
              "      <td>9.136393</td>\n",
              "      <td>8.442022</td>\n",
              "      <td>2.347311</td>\n",
              "      <td>1.032347</td>\n",
              "      <td>-0.163320</td>\n",
              "      <td>2.157204</td>\n",
              "      <td>2.404259</td>\n",
              "      <td>0.363924</td>\n",
              "      <td>0.289782</td>\n",
              "      <td>0.290347</td>\n",
              "      <td>0.326300</td>\n",
              "      <td>0.343466</td>\n",
              "      <td>7.242091</td>\n",
              "      <td>-2.915927</td>\n",
              "      <td>-3.012349</td>\n",
              "      <td>2.265971</td>\n",
              "      <td>-2.530799</td>\n",
              "      <td>7.606016</td>\n",
              "      <td>-2.626146</td>\n",
              "      <td>-2.722002</td>\n",
              "      <td>2.592270</td>\n",
              "      <td>-2.187333</td>\n",
              "    </tr>\n",
              "    <tr>\n",
              "      <th>2</th>\n",
              "      <td>50</td>\n",
              "      <td>3</td>\n",
              "      <td>6</td>\n",
              "      <td>1</td>\n",
              "      <td>3</td>\n",
              "      <td>Alabama</td>\n",
              "      <td>Baldwin County</td>\n",
              "      <td>182265</td>\n",
              "      <td>182265</td>\n",
              "      <td>183193</td>\n",
              "      <td>186659</td>\n",
              "      <td>190396</td>\n",
              "      <td>195126</td>\n",
              "      <td>199713</td>\n",
              "      <td>203709</td>\n",
              "      <td>928</td>\n",
              "      <td>3466</td>\n",
              "      <td>3737</td>\n",
              "      <td>4730</td>\n",
              "      <td>4587</td>\n",
              "      <td>3996</td>\n",
              "      <td>517</td>\n",
              "      <td>2187</td>\n",
              "      <td>2092</td>\n",
              "      <td>2160</td>\n",
              "      <td>2186</td>\n",
              "      <td>2240</td>\n",
              "      <td>532</td>\n",
              "      <td>1825</td>\n",
              "      <td>1879</td>\n",
              "      <td>1902</td>\n",
              "      <td>2044</td>\n",
              "      <td>1992</td>\n",
              "      <td>-15</td>\n",
              "      <td>362</td>\n",
              "      <td>213</td>\n",
              "      <td>258</td>\n",
              "      <td>142</td>\n",
              "      <td>248</td>\n",
              "      <td>69</td>\n",
              "      <td>...</td>\n",
              "      <td>91</td>\n",
              "      <td>434</td>\n",
              "      <td>58</td>\n",
              "      <td>2307</td>\n",
              "      <td>2307</td>\n",
              "      <td>2307</td>\n",
              "      <td>2249</td>\n",
              "      <td>2304</td>\n",
              "      <td>2308</td>\n",
              "      <td>2309</td>\n",
              "      <td>11.826352</td>\n",
              "      <td>11.096524</td>\n",
              "      <td>11.205586</td>\n",
              "      <td>11.072868</td>\n",
              "      <td>11.104997</td>\n",
              "      <td>9.868812</td>\n",
              "      <td>9.966716</td>\n",
              "      <td>9.867141</td>\n",
              "      <td>10.353587</td>\n",
              "      <td>9.875515</td>\n",
              "      <td>1.957540</td>\n",
              "      <td>1.129809</td>\n",
              "      <td>1.338445</td>\n",
              "      <td>0.719281</td>\n",
              "      <td>1.229482</td>\n",
              "      <td>1.011215</td>\n",
              "      <td>0.912334</td>\n",
              "      <td>0.881921</td>\n",
              "      <td>1.073855</td>\n",
              "      <td>1.095627</td>\n",
              "      <td>14.832960</td>\n",
              "      <td>17.647293</td>\n",
              "      <td>21.845705</td>\n",
              "      <td>19.243287</td>\n",
              "      <td>17.197872</td>\n",
              "      <td>15.844176</td>\n",
              "      <td>18.559627</td>\n",
              "      <td>22.727626</td>\n",
              "      <td>20.317142</td>\n",
              "      <td>18.293499</td>\n",
              "    </tr>\n",
              "    <tr>\n",
              "      <th>3</th>\n",
              "      <td>50</td>\n",
              "      <td>3</td>\n",
              "      <td>6</td>\n",
              "      <td>1</td>\n",
              "      <td>5</td>\n",
              "      <td>Alabama</td>\n",
              "      <td>Barbour County</td>\n",
              "      <td>27457</td>\n",
              "      <td>27457</td>\n",
              "      <td>27341</td>\n",
              "      <td>27226</td>\n",
              "      <td>27159</td>\n",
              "      <td>26973</td>\n",
              "      <td>26815</td>\n",
              "      <td>26489</td>\n",
              "      <td>-116</td>\n",
              "      <td>-115</td>\n",
              "      <td>-67</td>\n",
              "      <td>-186</td>\n",
              "      <td>-158</td>\n",
              "      <td>-326</td>\n",
              "      <td>70</td>\n",
              "      <td>335</td>\n",
              "      <td>300</td>\n",
              "      <td>283</td>\n",
              "      <td>260</td>\n",
              "      <td>269</td>\n",
              "      <td>128</td>\n",
              "      <td>319</td>\n",
              "      <td>291</td>\n",
              "      <td>294</td>\n",
              "      <td>310</td>\n",
              "      <td>309</td>\n",
              "      <td>-58</td>\n",
              "      <td>16</td>\n",
              "      <td>9</td>\n",
              "      <td>-11</td>\n",
              "      <td>-50</td>\n",
              "      <td>-40</td>\n",
              "      <td>2</td>\n",
              "      <td>...</td>\n",
              "      <td>19</td>\n",
              "      <td>-1</td>\n",
              "      <td>-5</td>\n",
              "      <td>3193</td>\n",
              "      <td>3193</td>\n",
              "      <td>3382</td>\n",
              "      <td>3388</td>\n",
              "      <td>3389</td>\n",
              "      <td>3353</td>\n",
              "      <td>3352</td>\n",
              "      <td>12.278483</td>\n",
              "      <td>11.032454</td>\n",
              "      <td>10.455923</td>\n",
              "      <td>9.667584</td>\n",
              "      <td>10.093051</td>\n",
              "      <td>11.692048</td>\n",
              "      <td>10.701480</td>\n",
              "      <td>10.862337</td>\n",
              "      <td>11.526735</td>\n",
              "      <td>11.593877</td>\n",
              "      <td>0.586435</td>\n",
              "      <td>0.330974</td>\n",
              "      <td>-0.406414</td>\n",
              "      <td>-1.859151</td>\n",
              "      <td>-1.500825</td>\n",
              "      <td>-0.146609</td>\n",
              "      <td>-0.257424</td>\n",
              "      <td>-0.110840</td>\n",
              "      <td>-0.074366</td>\n",
              "      <td>0.000000</td>\n",
              "      <td>-4.728132</td>\n",
              "      <td>-2.500690</td>\n",
              "      <td>-7.056824</td>\n",
              "      <td>-3.904217</td>\n",
              "      <td>-10.543299</td>\n",
              "      <td>-4.874741</td>\n",
              "      <td>-2.758113</td>\n",
              "      <td>-7.167664</td>\n",
              "      <td>-3.978583</td>\n",
              "      <td>-10.543299</td>\n",
              "    </tr>\n",
              "    <tr>\n",
              "      <th>4</th>\n",
              "      <td>50</td>\n",
              "      <td>3</td>\n",
              "      <td>6</td>\n",
              "      <td>1</td>\n",
              "      <td>7</td>\n",
              "      <td>Alabama</td>\n",
              "      <td>Bibb County</td>\n",
              "      <td>22915</td>\n",
              "      <td>22919</td>\n",
              "      <td>22861</td>\n",
              "      <td>22733</td>\n",
              "      <td>22642</td>\n",
              "      <td>22512</td>\n",
              "      <td>22549</td>\n",
              "      <td>22583</td>\n",
              "      <td>-58</td>\n",
              "      <td>-128</td>\n",
              "      <td>-91</td>\n",
              "      <td>-130</td>\n",
              "      <td>37</td>\n",
              "      <td>34</td>\n",
              "      <td>44</td>\n",
              "      <td>266</td>\n",
              "      <td>245</td>\n",
              "      <td>259</td>\n",
              "      <td>247</td>\n",
              "      <td>253</td>\n",
              "      <td>34</td>\n",
              "      <td>278</td>\n",
              "      <td>237</td>\n",
              "      <td>281</td>\n",
              "      <td>211</td>\n",
              "      <td>223</td>\n",
              "      <td>10</td>\n",
              "      <td>-12</td>\n",
              "      <td>8</td>\n",
              "      <td>-22</td>\n",
              "      <td>36</td>\n",
              "      <td>30</td>\n",
              "      <td>2</td>\n",
              "      <td>...</td>\n",
              "      <td>14</td>\n",
              "      <td>-16</td>\n",
              "      <td>-21</td>\n",
              "      <td>2224</td>\n",
              "      <td>2224</td>\n",
              "      <td>2224</td>\n",
              "      <td>2224</td>\n",
              "      <td>2224</td>\n",
              "      <td>2233</td>\n",
              "      <td>2236</td>\n",
              "      <td>11.668202</td>\n",
              "      <td>10.798898</td>\n",
              "      <td>11.471852</td>\n",
              "      <td>10.962917</td>\n",
              "      <td>11.211557</td>\n",
              "      <td>12.194587</td>\n",
              "      <td>10.446281</td>\n",
              "      <td>12.446295</td>\n",
              "      <td>9.365083</td>\n",
              "      <td>9.882124</td>\n",
              "      <td>-0.526385</td>\n",
              "      <td>0.352617</td>\n",
              "      <td>-0.974443</td>\n",
              "      <td>1.597834</td>\n",
              "      <td>1.329434</td>\n",
              "      <td>0.438654</td>\n",
              "      <td>0.705234</td>\n",
              "      <td>0.797272</td>\n",
              "      <td>0.932070</td>\n",
              "      <td>0.930604</td>\n",
              "      <td>-5.527043</td>\n",
              "      <td>-5.068871</td>\n",
              "      <td>-6.201001</td>\n",
              "      <td>-0.177537</td>\n",
              "      <td>0.177258</td>\n",
              "      <td>-5.088389</td>\n",
              "      <td>-4.363636</td>\n",
              "      <td>-5.403729</td>\n",
              "      <td>0.754533</td>\n",
              "      <td>1.107861</td>\n",
              "    </tr>\n",
              "    <tr>\n",
              "      <th>5</th>\n",
              "      <td>50</td>\n",
              "      <td>3</td>\n",
              "      <td>6</td>\n",
              "      <td>1</td>\n",
              "      <td>9</td>\n",
              "      <td>Alabama</td>\n",
              "      <td>Blount County</td>\n",
              "      <td>57322</td>\n",
              "      <td>57322</td>\n",
              "      <td>57373</td>\n",
              "      <td>57711</td>\n",
              "      <td>57776</td>\n",
              "      <td>57734</td>\n",
              "      <td>57658</td>\n",
              "      <td>57673</td>\n",
              "      <td>51</td>\n",
              "      <td>338</td>\n",
              "      <td>65</td>\n",
              "      <td>-42</td>\n",
              "      <td>-76</td>\n",
              "      <td>15</td>\n",
              "      <td>183</td>\n",
              "      <td>744</td>\n",
              "      <td>710</td>\n",
              "      <td>646</td>\n",
              "      <td>618</td>\n",
              "      <td>603</td>\n",
              "      <td>133</td>\n",
              "      <td>570</td>\n",
              "      <td>592</td>\n",
              "      <td>585</td>\n",
              "      <td>589</td>\n",
              "      <td>590</td>\n",
              "      <td>50</td>\n",
              "      <td>174</td>\n",
              "      <td>118</td>\n",
              "      <td>61</td>\n",
              "      <td>29</td>\n",
              "      <td>13</td>\n",
              "      <td>5</td>\n",
              "      <td>...</td>\n",
              "      <td>-22</td>\n",
              "      <td>-14</td>\n",
              "      <td>53</td>\n",
              "      <td>489</td>\n",
              "      <td>489</td>\n",
              "      <td>489</td>\n",
              "      <td>489</td>\n",
              "      <td>489</td>\n",
              "      <td>489</td>\n",
              "      <td>489</td>\n",
              "      <td>12.929686</td>\n",
              "      <td>12.295756</td>\n",
              "      <td>11.185179</td>\n",
              "      <td>10.711314</td>\n",
              "      <td>10.456859</td>\n",
              "      <td>9.905808</td>\n",
              "      <td>10.252236</td>\n",
              "      <td>10.128993</td>\n",
              "      <td>10.208680</td>\n",
              "      <td>10.231421</td>\n",
              "      <td>3.023878</td>\n",
              "      <td>2.043520</td>\n",
              "      <td>1.056186</td>\n",
              "      <td>0.502634</td>\n",
              "      <td>0.225438</td>\n",
              "      <td>0.052136</td>\n",
              "      <td>0.329041</td>\n",
              "      <td>0.346290</td>\n",
              "      <td>0.485302</td>\n",
              "      <td>0.485559</td>\n",
              "      <td>1.807375</td>\n",
              "      <td>-1.177622</td>\n",
              "      <td>-1.748766</td>\n",
              "      <td>-2.062535</td>\n",
              "      <td>-1.369970</td>\n",
              "      <td>1.859511</td>\n",
              "      <td>-0.848580</td>\n",
              "      <td>-1.402476</td>\n",
              "      <td>-1.577232</td>\n",
              "      <td>-0.884411</td>\n",
              "    </tr>\n",
              "  </tbody>\n",
              "</table>\n",
              "<p>5 rows × 100 columns</p>\n",
              "</div>"
            ],
            "text/plain": [
              "   SUMLEV  REGION  DIVISION  ...  RNETMIG2013  RNETMIG2014 RNETMIG2015\n",
              "1      50       3         6  ...    -2.722002     2.592270   -2.187333\n",
              "2      50       3         6  ...    22.727626    20.317142   18.293499\n",
              "3      50       3         6  ...    -7.167664    -3.978583  -10.543299\n",
              "4      50       3         6  ...    -5.403729     0.754533    1.107861\n",
              "5      50       3         6  ...    -1.402476    -1.577232   -0.884411\n",
              "\n",
              "[5 rows x 100 columns]"
            ]
          },
          "metadata": {
            "tags": []
          },
          "execution_count": 3
        }
      ]
    },
    {
      "cell_type": "markdown",
      "metadata": {
        "id": "jOzqapOCZnJH",
        "colab_type": "text"
      },
      "source": [
        "## group by column"
      ]
    },
    {
      "cell_type": "code",
      "metadata": {
        "id": "hdTRaroKY0Hj",
        "colab_type": "code",
        "colab": {}
      },
      "source": [
        "%%timeit -n 10\n",
        "for group, frame in df.groupby('STNAME'):\n",
        "  avg = np.average(frame['CENSUS2010POP'])\n",
        "  print('Countries in state' + group + 'have an average population of' + str(avg))"
      ],
      "execution_count": 0,
      "outputs": []
    },
    {
      "cell_type": "markdown",
      "metadata": {
        "id": "QKkVxlxTZsQs",
        "colab_type": "text"
      },
      "source": [
        "## group by function"
      ]
    },
    {
      "cell_type": "code",
      "metadata": {
        "id": "UsWg0HorgT2r",
        "colab_type": "code",
        "outputId": "e0d436c0-52b2-4c8e-cb6b-96335ecae852",
        "colab": {
          "base_uri": "https://localhost:8080/",
          "height": 67
        }
      },
      "source": [
        "df = df.set_index('STNAME')\n",
        "\n",
        "def fun(item):\n",
        "  if item[0] < 'M':\n",
        "    return 0\n",
        "  if item[0] < 'Q':\n",
        "    return 1\n",
        "  return 2\n",
        "\n",
        "for group, frame in df.groupby(fun):\n",
        "  print('There are ' + str(len(frame)) + ' records in group ' + str(group) + ' for processing') "
      ],
      "execution_count": 0,
      "outputs": [
        {
          "output_type": "stream",
          "text": [
            "There are 1177 records in group 0 for processing\n",
            "There are 1134 records in group 1 for processing\n",
            "There are 831 records in group 2 for processing\n"
          ],
          "name": "stdout"
        }
      ]
    },
    {
      "cell_type": "markdown",
      "metadata": {
        "id": "vodH7gZ2RzzS",
        "colab_type": "text"
      },
      "source": [
        "## groupby之后的一系列操作"
      ]
    },
    {
      "cell_type": "code",
      "metadata": {
        "id": "LMvfn72dSCgc",
        "colab_type": "code",
        "colab": {}
      },
      "source": [
        "df = pd.read_csv(url)\n",
        "df = df[df['SUMLEV'] == 50]\n",
        "df.head()"
      ],
      "execution_count": 0,
      "outputs": []
    },
    {
      "cell_type": "code",
      "metadata": {
        "id": "3DlHl_BOGaev",
        "colab_type": "code",
        "colab": {}
      },
      "source": [
        "#groupby之后求平均值\n",
        "df.groupby('STNAME').agg({'CENSUS2010POP':np.average})"
      ],
      "execution_count": 0,
      "outputs": []
    },
    {
      "cell_type": "code",
      "metadata": {
        "id": "1D2pULk7R98d",
        "colab_type": "code",
        "colab": {}
      },
      "source": [
        "#groupby之后，对指定某一列\n",
        "print(type(df.groupby(level=0)['POPESTIMATE2010']))\n",
        "# df.set_index('STNAME').groupby(level=0)['CENSUS2010POP'].agg({'avg': np.average, 'sum': np.sum})  过时的语法\n",
        "\n",
        "#意思是：先根据STNAME分组，取CENSUS2010POP这一列，最后对每个组的CENSUS2010POP求average， 求和\n",
        "df.set_index('STNAME').groupby(level=0)['CENSUS2010POP'].agg(avg=np.average, sum=np.sum, count=np.count_nonzero)"
      ],
      "execution_count": 0,
      "outputs": []
    },
    {
      "cell_type": "code",
      "metadata": {
        "id": "S8h9FdYjUmpz",
        "colab_type": "code",
        "colab": {}
      },
      "source": [
        "#groupby之后，指定多列\n",
        "print(type(df.groupby(level=0)['POPESTIMATE2010','POPESTIMATE2011']))\n",
        "#将POPESTIMATE2010， POPESTIMATE2011的avg sum都求出来\n",
        "display((df.set_index('STNAME').groupby(level=0)['POPESTIMATE2010','POPESTIMATE2011'].agg({'avg': np.average, 'sum': np.sum})).head())\n",
        "#指定求哪几个\n",
        "(df.set_index('STNAME').groupby(level=0).agg(POPESTIMATE2010_AVG=('POPESTIMATE2010',np.average), POPESTIMATE2011_AVG=('POPESTIMATE2011', np.sum))).head()"
      ],
      "execution_count": 0,
      "outputs": []
    },
    {
      "cell_type": "markdown",
      "metadata": {
        "id": "dx87Vbw1ZilB",
        "colab_type": "text"
      },
      "source": [
        "# **六、Scale**\n"
      ]
    },
    {
      "cell_type": "markdown",
      "metadata": {
        "id": "tuATeny8g3ap",
        "colab_type": "text"
      },
      "source": [
        "## ordinal、nominal\n",
        "区别在于ordered=True还是False"
      ]
    },
    {
      "cell_type": "code",
      "metadata": {
        "id": "0eyYYHtfZjhO",
        "colab_type": "code",
        "outputId": "674743b1-7e04-461f-fff4-8f7de3669125",
        "colab": {
          "base_uri": "https://localhost:8080/",
          "height": 378
        }
      },
      "source": [
        "df = pd.DataFrame(['A+', 'A', 'A-', 'B+', 'B', 'B-', 'C+', 'C', 'C-', 'D+', 'D'],\n",
        "          index=['excellent', 'excellent', 'excellent', 'good', 'good', 'good', 'ok', 'ok', 'ok', 'poor', 'poor'])\n",
        "df.rename(columns={0: 'Grades'}, inplace=True)\n",
        "df"
      ],
      "execution_count": 0,
      "outputs": [
        {
          "output_type": "execute_result",
          "data": {
            "text/html": [
              "<div>\n",
              "<style scoped>\n",
              "    .dataframe tbody tr th:only-of-type {\n",
              "        vertical-align: middle;\n",
              "    }\n",
              "\n",
              "    .dataframe tbody tr th {\n",
              "        vertical-align: top;\n",
              "    }\n",
              "\n",
              "    .dataframe thead th {\n",
              "        text-align: right;\n",
              "    }\n",
              "</style>\n",
              "<table border=\"1\" class=\"dataframe\">\n",
              "  <thead>\n",
              "    <tr style=\"text-align: right;\">\n",
              "      <th></th>\n",
              "      <th>Grades</th>\n",
              "    </tr>\n",
              "  </thead>\n",
              "  <tbody>\n",
              "    <tr>\n",
              "      <th>excellent</th>\n",
              "      <td>A+</td>\n",
              "    </tr>\n",
              "    <tr>\n",
              "      <th>excellent</th>\n",
              "      <td>A</td>\n",
              "    </tr>\n",
              "    <tr>\n",
              "      <th>excellent</th>\n",
              "      <td>A-</td>\n",
              "    </tr>\n",
              "    <tr>\n",
              "      <th>good</th>\n",
              "      <td>B+</td>\n",
              "    </tr>\n",
              "    <tr>\n",
              "      <th>good</th>\n",
              "      <td>B</td>\n",
              "    </tr>\n",
              "    <tr>\n",
              "      <th>good</th>\n",
              "      <td>B-</td>\n",
              "    </tr>\n",
              "    <tr>\n",
              "      <th>ok</th>\n",
              "      <td>C+</td>\n",
              "    </tr>\n",
              "    <tr>\n",
              "      <th>ok</th>\n",
              "      <td>C</td>\n",
              "    </tr>\n",
              "    <tr>\n",
              "      <th>ok</th>\n",
              "      <td>C-</td>\n",
              "    </tr>\n",
              "    <tr>\n",
              "      <th>poor</th>\n",
              "      <td>D+</td>\n",
              "    </tr>\n",
              "    <tr>\n",
              "      <th>poor</th>\n",
              "      <td>D</td>\n",
              "    </tr>\n",
              "  </tbody>\n",
              "</table>\n",
              "</div>"
            ],
            "text/plain": [
              "          Grades\n",
              "excellent     A+\n",
              "excellent      A\n",
              "excellent     A-\n",
              "good          B+\n",
              "good           B\n",
              "good          B-\n",
              "ok            C+\n",
              "ok             C\n",
              "ok            C-\n",
              "poor          D+\n",
              "poor           D"
            ]
          },
          "metadata": {
            "tags": []
          },
          "execution_count": 54
        }
      ]
    },
    {
      "cell_type": "code",
      "metadata": {
        "id": "4UEyqSUGZtP7",
        "colab_type": "code",
        "outputId": "2daa75e7-647b-4fcf-c4f5-3250d8163b49",
        "colab": {
          "base_uri": "https://localhost:8080/",
          "height": 135
        }
      },
      "source": [
        "df['Grades'].astype('category').head()"
      ],
      "execution_count": 0,
      "outputs": [
        {
          "output_type": "execute_result",
          "data": {
            "text/plain": [
              "excellent    A+\n",
              "excellent     A\n",
              "excellent    A-\n",
              "good         B+\n",
              "good          B\n",
              "Name: Grades, dtype: category\n",
              "Categories (11, object): [D, D+, C-, C, ..., B+, A-, A, A+]"
            ]
          },
          "metadata": {
            "tags": []
          },
          "execution_count": 53
        }
      ]
    },
    {
      "cell_type": "code",
      "metadata": {
        "id": "6CHqT9K4ZuGh",
        "colab_type": "code",
        "outputId": "470026e1-55ce-401d-d710-968fb32a52eb",
        "colab": {
          "base_uri": "https://localhost:8080/",
          "height": 135
        }
      },
      "source": [
        "from pandas.api.types import CategoricalDtype\n",
        "grades = df['Grades'].astype(CategoricalDtype(categories=['D', 'D+', 'C-', 'C', 'C+', 'B-', 'B', 'B+', 'A-', 'A', 'A+'],ordered=True))\n",
        "grades.head()"
      ],
      "execution_count": 0,
      "outputs": [
        {
          "output_type": "execute_result",
          "data": {
            "text/plain": [
              "excellent    A+\n",
              "excellent     A\n",
              "excellent    A-\n",
              "good         B+\n",
              "good          B\n",
              "Name: Grades, dtype: category\n",
              "Categories (11, object): [D < D+ < C- < C ... B+ < A- < A < A+]"
            ]
          },
          "metadata": {
            "tags": []
          },
          "execution_count": 46
        }
      ]
    },
    {
      "cell_type": "code",
      "metadata": {
        "id": "YM4yPdVxa_uG",
        "colab_type": "code",
        "outputId": "1fcb01f7-4b0b-408b-aece-09c9d6d0cd96",
        "colab": {
          "base_uri": "https://localhost:8080/",
          "height": 219
        }
      },
      "source": [
        "grades > 'C'"
      ],
      "execution_count": 0,
      "outputs": [
        {
          "output_type": "execute_result",
          "data": {
            "text/plain": [
              "excellent     True\n",
              "excellent     True\n",
              "excellent     True\n",
              "good          True\n",
              "good          True\n",
              "good          True\n",
              "ok            True\n",
              "ok           False\n",
              "ok           False\n",
              "poor         False\n",
              "poor         False\n",
              "Name: Grades, dtype: bool"
            ]
          },
          "metadata": {
            "tags": []
          },
          "execution_count": 51
        }
      ]
    },
    {
      "cell_type": "markdown",
      "metadata": {
        "id": "XeRGPaoBpgBf",
        "colab_type": "text"
      },
      "source": [
        "# **七、时间、日期**\n",
        "- Timestamp\n",
        "- DatetimeIndex\n",
        "- Period\n",
        "- PeriodIndex"
      ]
    },
    {
      "cell_type": "markdown",
      "metadata": {
        "id": "JqoxMHClqC2z",
        "colab_type": "text"
      },
      "source": [
        "## Timestamp\n",
        "从python的Timestamp继承过来"
      ]
    },
    {
      "cell_type": "code",
      "metadata": {
        "id": "OYQvkl0XpnJm",
        "colab_type": "code",
        "outputId": "72bc55e5-9035-4f3d-e103-04e9bcd11363",
        "colab": {
          "base_uri": "https://localhost:8080/",
          "height": 50
        }
      },
      "source": [
        "now=pd.Timestamp.now()\n",
        "display(now)\n",
        "\n",
        "now_shanghai = now.tz_localize(\"Asia/Shanghai\")\n",
        "now_shanghai"
      ],
      "execution_count": 0,
      "outputs": [
        {
          "output_type": "display_data",
          "data": {
            "text/plain": [
              "Timestamp('2019-10-28 09:36:04.745839')"
            ]
          },
          "metadata": {
            "tags": []
          }
        },
        {
          "output_type": "execute_result",
          "data": {
            "text/plain": [
              "Timestamp('2019-10-28 09:36:04.745839+0800', tz='Asia/Shanghai')"
            ]
          },
          "metadata": {
            "tags": []
          },
          "execution_count": 81
        }
      ]
    },
    {
      "cell_type": "code",
      "metadata": {
        "id": "MDz851-JtyWQ",
        "colab_type": "code",
        "outputId": "b7a5acd1-efcf-4b6b-ce46-5fc7f385218d",
        "colab": {
          "base_uri": "https://localhost:8080/",
          "height": 34
        }
      },
      "source": [
        "#这种写法比较适合中国人\n",
        "pd.Timestamp('2018-03-16 21:01:34')"
      ],
      "execution_count": 0,
      "outputs": [
        {
          "output_type": "execute_result",
          "data": {
            "text/plain": [
              "Timestamp('2018-03-16 21:01:34')"
            ]
          },
          "metadata": {
            "tags": []
          },
          "execution_count": 79
        }
      ]
    },
    {
      "cell_type": "markdown",
      "metadata": {
        "id": "0T0ZZ0SDvHyw",
        "colab_type": "text"
      },
      "source": [
        "## DatatimeIndex"
      ]
    },
    {
      "cell_type": "code",
      "metadata": {
        "id": "-0fINHkuvJ8E",
        "colab_type": "code",
        "outputId": "7512d3b5-220a-4246-9e09-257dad216cdc",
        "colab": {
          "base_uri": "https://localhost:8080/",
          "height": 84
        }
      },
      "source": [
        "t1 = pd.Series(list('abc'), index=[pd.Timestamp('2016-09-01'), pd.Timestamp('2016-09-02'), pd.Timestamp('2016-09-03')])\n",
        "t1"
      ],
      "execution_count": 0,
      "outputs": [
        {
          "output_type": "execute_result",
          "data": {
            "text/plain": [
              "2016-09-01    a\n",
              "2016-09-02    b\n",
              "2016-09-03    c\n",
              "dtype: object"
            ]
          },
          "metadata": {
            "tags": []
          },
          "execution_count": 3
        }
      ]
    },
    {
      "cell_type": "code",
      "metadata": {
        "id": "AotCARnxvWpM",
        "colab_type": "code",
        "outputId": "3f6d6584-8ba5-4ba2-c235-5201fbcb0352",
        "colab": {
          "base_uri": "https://localhost:8080/",
          "height": 34
        }
      },
      "source": [
        "type(t1.index)"
      ],
      "execution_count": 0,
      "outputs": [
        {
          "output_type": "execute_result",
          "data": {
            "text/plain": [
              "pandas.core.indexes.datetimes.DatetimeIndex"
            ]
          },
          "metadata": {
            "tags": []
          },
          "execution_count": 4
        }
      ]
    },
    {
      "cell_type": "markdown",
      "metadata": {
        "id": "vraPubaSuSb-",
        "colab_type": "text"
      },
      "source": [
        "## Period\n",
        "表示时间段<br>\n",
        "freq参数：Y, M, D, H, M, S"
      ]
    },
    {
      "cell_type": "code",
      "metadata": {
        "id": "VRHqEzxGuT0z",
        "colab_type": "code",
        "outputId": "87e732b3-a21d-420b-d2a4-9c850b9d5266",
        "colab": {
          "base_uri": "https://localhost:8080/",
          "height": 67
        }
      },
      "source": [
        "p = pd.Period('2016-1-11', freq='S')\n",
        "display(p)\n",
        "display(p.start_time)\n",
        "display(p.end_time)"
      ],
      "execution_count": 0,
      "outputs": [
        {
          "output_type": "display_data",
          "data": {
            "text/plain": [
              "Period('2016-01-11 00:00:00', 'S')"
            ]
          },
          "metadata": {
            "tags": []
          }
        },
        {
          "output_type": "display_data",
          "data": {
            "text/plain": [
              "Timestamp('2016-01-11 00:00:00')"
            ]
          },
          "metadata": {
            "tags": []
          }
        },
        {
          "output_type": "display_data",
          "data": {
            "text/plain": [
              "Timestamp('2016-01-11 00:00:00.999999999')"
            ]
          },
          "metadata": {
            "tags": []
          }
        }
      ]
    },
    {
      "cell_type": "markdown",
      "metadata": {
        "id": "2GS3v7gGvbwJ",
        "colab_type": "text"
      },
      "source": [
        "## PeriodIndex"
      ]
    },
    {
      "cell_type": "code",
      "metadata": {
        "id": "koeOHCnNvdD3",
        "colab_type": "code",
        "outputId": "0183cb08-6f6e-400c-e08e-8a02187194c6",
        "colab": {
          "base_uri": "https://localhost:8080/",
          "height": 84
        }
      },
      "source": [
        "t2 = pd.Series(list('def'), index=[pd.Period('2016-09'), pd.Period('2016-10'), pd.Period('2016-11')])\n",
        "t2"
      ],
      "execution_count": 0,
      "outputs": [
        {
          "output_type": "execute_result",
          "data": {
            "text/plain": [
              "2016-09    d\n",
              "2016-10    e\n",
              "2016-11    f\n",
              "Freq: M, dtype: object"
            ]
          },
          "metadata": {
            "tags": []
          },
          "execution_count": 6
        }
      ]
    },
    {
      "cell_type": "code",
      "metadata": {
        "id": "deYnEWDMvsdU",
        "colab_type": "code",
        "outputId": "659c136d-4df5-4289-ee4d-dcc12f36fafa",
        "colab": {
          "base_uri": "https://localhost:8080/",
          "height": 34
        }
      },
      "source": [
        "type(t2.index)"
      ],
      "execution_count": 0,
      "outputs": [
        {
          "output_type": "execute_result",
          "data": {
            "text/plain": [
              "pandas.core.indexes.period.PeriodIndex"
            ]
          },
          "metadata": {
            "tags": []
          },
          "execution_count": 7
        }
      ]
    },
    {
      "cell_type": "markdown",
      "metadata": {
        "id": "Y7Y53l6UvuYm",
        "colab_type": "text"
      },
      "source": [
        "## Converting to Datetime"
      ]
    },
    {
      "cell_type": "code",
      "metadata": {
        "id": "rpxltgmvwrQA",
        "colab_type": "code",
        "outputId": "aa8ecb3f-d0a2-4115-dc31-052059afe8ed",
        "colab": {
          "base_uri": "https://localhost:8080/",
          "height": 168
        }
      },
      "source": [
        "#demo1\n",
        "d1 = ['2 June 2013', 'Aug 29, 2014', '2015-06-26', '7/12/16']\n",
        "t3 = pd.DataFrame(np.random.randint(10, 100, (4,2)), index=d1, columns=list('ab'))\n",
        "t3"
      ],
      "execution_count": 0,
      "outputs": [
        {
          "output_type": "execute_result",
          "data": {
            "text/html": [
              "<div>\n",
              "<style scoped>\n",
              "    .dataframe tbody tr th:only-of-type {\n",
              "        vertical-align: middle;\n",
              "    }\n",
              "\n",
              "    .dataframe tbody tr th {\n",
              "        vertical-align: top;\n",
              "    }\n",
              "\n",
              "    .dataframe thead th {\n",
              "        text-align: right;\n",
              "    }\n",
              "</style>\n",
              "<table border=\"1\" class=\"dataframe\">\n",
              "  <thead>\n",
              "    <tr style=\"text-align: right;\">\n",
              "      <th></th>\n",
              "      <th>a</th>\n",
              "      <th>b</th>\n",
              "    </tr>\n",
              "  </thead>\n",
              "  <tbody>\n",
              "    <tr>\n",
              "      <th>2 June 2013</th>\n",
              "      <td>76</td>\n",
              "      <td>88</td>\n",
              "    </tr>\n",
              "    <tr>\n",
              "      <th>Aug 29, 2014</th>\n",
              "      <td>75</td>\n",
              "      <td>26</td>\n",
              "    </tr>\n",
              "    <tr>\n",
              "      <th>2015-06-26</th>\n",
              "      <td>20</td>\n",
              "      <td>60</td>\n",
              "    </tr>\n",
              "    <tr>\n",
              "      <th>7/12/16</th>\n",
              "      <td>75</td>\n",
              "      <td>15</td>\n",
              "    </tr>\n",
              "  </tbody>\n",
              "</table>\n",
              "</div>"
            ],
            "text/plain": [
              "               a   b\n",
              "2 June 2013   76  88\n",
              "Aug 29, 2014  75  26\n",
              "2015-06-26    20  60\n",
              "7/12/16       75  15"
            ]
          },
          "metadata": {
            "tags": []
          },
          "execution_count": 9
        }
      ]
    },
    {
      "cell_type": "code",
      "metadata": {
        "id": "NOiq3hBRw97h",
        "colab_type": "code",
        "outputId": "1dcc4611-ee8f-42cd-f624-3eeab1feeb78",
        "colab": {
          "base_uri": "https://localhost:8080/",
          "height": 168
        }
      },
      "source": [
        "t3.index = pd.to_datetime(t3.index)\n",
        "t3"
      ],
      "execution_count": 0,
      "outputs": [
        {
          "output_type": "execute_result",
          "data": {
            "text/html": [
              "<div>\n",
              "<style scoped>\n",
              "    .dataframe tbody tr th:only-of-type {\n",
              "        vertical-align: middle;\n",
              "    }\n",
              "\n",
              "    .dataframe tbody tr th {\n",
              "        vertical-align: top;\n",
              "    }\n",
              "\n",
              "    .dataframe thead th {\n",
              "        text-align: right;\n",
              "    }\n",
              "</style>\n",
              "<table border=\"1\" class=\"dataframe\">\n",
              "  <thead>\n",
              "    <tr style=\"text-align: right;\">\n",
              "      <th></th>\n",
              "      <th>a</th>\n",
              "      <th>b</th>\n",
              "    </tr>\n",
              "  </thead>\n",
              "  <tbody>\n",
              "    <tr>\n",
              "      <th>2013-06-02</th>\n",
              "      <td>76</td>\n",
              "      <td>88</td>\n",
              "    </tr>\n",
              "    <tr>\n",
              "      <th>2014-08-29</th>\n",
              "      <td>75</td>\n",
              "      <td>26</td>\n",
              "    </tr>\n",
              "    <tr>\n",
              "      <th>2015-06-26</th>\n",
              "      <td>20</td>\n",
              "      <td>60</td>\n",
              "    </tr>\n",
              "    <tr>\n",
              "      <th>2016-07-12</th>\n",
              "      <td>75</td>\n",
              "      <td>15</td>\n",
              "    </tr>\n",
              "  </tbody>\n",
              "</table>\n",
              "</div>"
            ],
            "text/plain": [
              "             a   b\n",
              "2013-06-02  76  88\n",
              "2014-08-29  75  26\n",
              "2015-06-26  20  60\n",
              "2016-07-12  75  15"
            ]
          },
          "metadata": {
            "tags": []
          },
          "execution_count": 11
        }
      ]
    },
    {
      "cell_type": "code",
      "metadata": {
        "id": "tt7SZg0hxN0K",
        "colab_type": "code",
        "outputId": "11cee2f4-1018-45e0-b16f-9e92da19a91f",
        "colab": {
          "base_uri": "https://localhost:8080/",
          "height": 34
        }
      },
      "source": [
        "#demo2\n",
        "pd.to_datetime('4.7.12', dayfirst=True)"
      ],
      "execution_count": 0,
      "outputs": [
        {
          "output_type": "execute_result",
          "data": {
            "text/plain": [
              "Timestamp('2012-07-04 00:00:00')"
            ]
          },
          "metadata": {
            "tags": []
          },
          "execution_count": 12
        }
      ]
    }
  ]
}