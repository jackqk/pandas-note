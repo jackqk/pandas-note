{
  "nbformat": 4,
  "nbformat_minor": 0,
  "metadata": {
    "colab": {
      "name": "DataFrame Method.ipynb",
      "provenance": [],
      "collapsed_sections": [
        "gSKl9fI17O-j",
        "JU3S-K2yI0tl",
        "nWKt0_RphJ6v",
        "VB3ABCsqYH5N",
        "WJGOFSkamR-f",
        "JBrSb68q7-O7",
        "nxcR-BPocWn7",
        "ESc09eM5uT-h",
        "LThI7f6gqBtH"
      ],
      "include_colab_link": true
    },
    "kernelspec": {
      "name": "python3",
      "display_name": "Python 3"
    }
  },
  "cells": [
    {
      "cell_type": "markdown",
      "metadata": {
        "id": "view-in-github",
        "colab_type": "text"
      },
      "source": [
        "<a href=\"https://colab.research.google.com/github/jackqk/pandas-note/blob/master/DataFrame_Method.ipynb\" target=\"_parent\"><img src=\"https://colab.research.google.com/assets/colab-badge.svg\" alt=\"Open In Colab\"/></a>"
      ]
    },
    {
      "cell_type": "markdown",
      "metadata": {
        "id": "p8eN2p0gSVhu",
        "colab_type": "text"
      },
      "source": [
        "# **DataFrame Method**"
      ]
    },
    {
      "cell_type": "markdown",
      "metadata": {
        "id": "gSKl9fI17O-j",
        "colab_type": "text"
      },
      "source": [
        "# **Group**"
      ]
    },
    {
      "cell_type": "code",
      "metadata": {
        "id": "8k5ErqPU7Sl3",
        "colab_type": "code",
        "outputId": "b6a29617-24f9-4db5-fa64-0c774020da22",
        "colab": {
          "base_uri": "https://localhost:8080/",
          "height": 167
        }
      },
      "source": [
        "import pandas as pd\n",
        "import numpy as np\n",
        "scores = pd.DataFrame({\n",
        "    'name':['Adam', 'Bob', 'Dave', 'Fred'],\n",
        "    'age': [15, 16, 16, 15],\n",
        "    'test1': [95, 81, 89, None],\n",
        "    'test2': [80, 82, 84, 88],\n",
        "    'teacher': ['Ashby', 'Ashby', 'Jones', 'Jones']})\n",
        "scores"
      ],
      "execution_count": 1,
      "outputs": [
        {
          "output_type": "execute_result",
          "data": {
            "text/html": [
              "<div>\n",
              "<style scoped>\n",
              "    .dataframe tbody tr th:only-of-type {\n",
              "        vertical-align: middle;\n",
              "    }\n",
              "\n",
              "    .dataframe tbody tr th {\n",
              "        vertical-align: top;\n",
              "    }\n",
              "\n",
              "    .dataframe thead th {\n",
              "        text-align: right;\n",
              "    }\n",
              "</style>\n",
              "<table border=\"1\" class=\"dataframe\">\n",
              "  <thead>\n",
              "    <tr style=\"text-align: right;\">\n",
              "      <th></th>\n",
              "      <th>name</th>\n",
              "      <th>age</th>\n",
              "      <th>test1</th>\n",
              "      <th>test2</th>\n",
              "      <th>teacher</th>\n",
              "    </tr>\n",
              "  </thead>\n",
              "  <tbody>\n",
              "    <tr>\n",
              "      <th>0</th>\n",
              "      <td>Adam</td>\n",
              "      <td>15</td>\n",
              "      <td>95.0</td>\n",
              "      <td>80</td>\n",
              "      <td>Ashby</td>\n",
              "    </tr>\n",
              "    <tr>\n",
              "      <th>1</th>\n",
              "      <td>Bob</td>\n",
              "      <td>16</td>\n",
              "      <td>81.0</td>\n",
              "      <td>82</td>\n",
              "      <td>Ashby</td>\n",
              "    </tr>\n",
              "    <tr>\n",
              "      <th>2</th>\n",
              "      <td>Dave</td>\n",
              "      <td>16</td>\n",
              "      <td>89.0</td>\n",
              "      <td>84</td>\n",
              "      <td>Jones</td>\n",
              "    </tr>\n",
              "    <tr>\n",
              "      <th>3</th>\n",
              "      <td>Fred</td>\n",
              "      <td>15</td>\n",
              "      <td>NaN</td>\n",
              "      <td>88</td>\n",
              "      <td>Jones</td>\n",
              "    </tr>\n",
              "  </tbody>\n",
              "</table>\n",
              "</div>"
            ],
            "text/plain": [
              "   name  age  test1  test2 teacher\n",
              "0  Adam   15   95.0     80   Ashby\n",
              "1   Bob   16   81.0     82   Ashby\n",
              "2  Dave   16   89.0     84   Jones\n",
              "3  Fred   15    NaN     88   Jones"
            ]
          },
          "metadata": {
            "tags": []
          },
          "execution_count": 1
        }
      ]
    },
    {
      "cell_type": "code",
      "metadata": {
        "id": "SjXMB2un8C9H",
        "colab_type": "code",
        "outputId": "7df086f2-bf9f-4275-f2ba-9dbda62c4d41",
        "colab": {
          "base_uri": "https://localhost:8080/",
          "height": 137
        }
      },
      "source": [
        "# group by teacher, then invoke median\n",
        "# 即相同的teacher name为条件进行分组\n",
        "scores.groupby('teacher').median()"
      ],
      "execution_count": 2,
      "outputs": [
        {
          "output_type": "execute_result",
          "data": {
            "text/html": [
              "<div>\n",
              "<style scoped>\n",
              "    .dataframe tbody tr th:only-of-type {\n",
              "        vertical-align: middle;\n",
              "    }\n",
              "\n",
              "    .dataframe tbody tr th {\n",
              "        vertical-align: top;\n",
              "    }\n",
              "\n",
              "    .dataframe thead th {\n",
              "        text-align: right;\n",
              "    }\n",
              "</style>\n",
              "<table border=\"1\" class=\"dataframe\">\n",
              "  <thead>\n",
              "    <tr style=\"text-align: right;\">\n",
              "      <th></th>\n",
              "      <th>age</th>\n",
              "      <th>test1</th>\n",
              "      <th>test2</th>\n",
              "    </tr>\n",
              "    <tr>\n",
              "      <th>teacher</th>\n",
              "      <th></th>\n",
              "      <th></th>\n",
              "      <th></th>\n",
              "    </tr>\n",
              "  </thead>\n",
              "  <tbody>\n",
              "    <tr>\n",
              "      <th>Ashby</th>\n",
              "      <td>15.5</td>\n",
              "      <td>88.0</td>\n",
              "      <td>81.0</td>\n",
              "    </tr>\n",
              "    <tr>\n",
              "      <th>Jones</th>\n",
              "      <td>15.5</td>\n",
              "      <td>89.0</td>\n",
              "      <td>86.0</td>\n",
              "    </tr>\n",
              "  </tbody>\n",
              "</table>\n",
              "</div>"
            ],
            "text/plain": [
              "          age  test1  test2\n",
              "teacher                    \n",
              "Ashby    15.5   88.0   81.0\n",
              "Jones    15.5   89.0   86.0"
            ]
          },
          "metadata": {
            "tags": []
          },
          "execution_count": 2
        }
      ]
    },
    {
      "cell_type": "code",
      "metadata": {
        "id": "Wq9gRO9W9pEO",
        "colab_type": "code",
        "outputId": "74042a72-5d31-4aa8-f804-1b2d28d6a552",
        "colab": {
          "base_uri": "https://localhost:8080/",
          "height": 227
        }
      },
      "source": [
        "# group by 'teacher' and 'age', then invoke min, max\n",
        "scores.groupby(['teacher', 'age']).agg([min, max])"
      ],
      "execution_count": 3,
      "outputs": [
        {
          "output_type": "execute_result",
          "data": {
            "text/html": [
              "<div>\n",
              "<style scoped>\n",
              "    .dataframe tbody tr th:only-of-type {\n",
              "        vertical-align: middle;\n",
              "    }\n",
              "\n",
              "    .dataframe tbody tr th {\n",
              "        vertical-align: top;\n",
              "    }\n",
              "\n",
              "    .dataframe thead tr th {\n",
              "        text-align: left;\n",
              "    }\n",
              "\n",
              "    .dataframe thead tr:last-of-type th {\n",
              "        text-align: right;\n",
              "    }\n",
              "</style>\n",
              "<table border=\"1\" class=\"dataframe\">\n",
              "  <thead>\n",
              "    <tr>\n",
              "      <th></th>\n",
              "      <th></th>\n",
              "      <th colspan=\"2\" halign=\"left\">name</th>\n",
              "      <th colspan=\"2\" halign=\"left\">test1</th>\n",
              "      <th colspan=\"2\" halign=\"left\">test2</th>\n",
              "    </tr>\n",
              "    <tr>\n",
              "      <th></th>\n",
              "      <th></th>\n",
              "      <th>min</th>\n",
              "      <th>max</th>\n",
              "      <th>min</th>\n",
              "      <th>max</th>\n",
              "      <th>min</th>\n",
              "      <th>max</th>\n",
              "    </tr>\n",
              "    <tr>\n",
              "      <th>teacher</th>\n",
              "      <th>age</th>\n",
              "      <th></th>\n",
              "      <th></th>\n",
              "      <th></th>\n",
              "      <th></th>\n",
              "      <th></th>\n",
              "      <th></th>\n",
              "    </tr>\n",
              "  </thead>\n",
              "  <tbody>\n",
              "    <tr>\n",
              "      <th rowspan=\"2\" valign=\"top\">Ashby</th>\n",
              "      <th>15</th>\n",
              "      <td>Adam</td>\n",
              "      <td>Adam</td>\n",
              "      <td>95.0</td>\n",
              "      <td>95.0</td>\n",
              "      <td>80</td>\n",
              "      <td>80</td>\n",
              "    </tr>\n",
              "    <tr>\n",
              "      <th>16</th>\n",
              "      <td>Bob</td>\n",
              "      <td>Bob</td>\n",
              "      <td>81.0</td>\n",
              "      <td>81.0</td>\n",
              "      <td>82</td>\n",
              "      <td>82</td>\n",
              "    </tr>\n",
              "    <tr>\n",
              "      <th rowspan=\"2\" valign=\"top\">Jones</th>\n",
              "      <th>15</th>\n",
              "      <td>Fred</td>\n",
              "      <td>Fred</td>\n",
              "      <td>NaN</td>\n",
              "      <td>NaN</td>\n",
              "      <td>88</td>\n",
              "      <td>88</td>\n",
              "    </tr>\n",
              "    <tr>\n",
              "      <th>16</th>\n",
              "      <td>Dave</td>\n",
              "      <td>Dave</td>\n",
              "      <td>89.0</td>\n",
              "      <td>89.0</td>\n",
              "      <td>84</td>\n",
              "      <td>84</td>\n",
              "    </tr>\n",
              "  </tbody>\n",
              "</table>\n",
              "</div>"
            ],
            "text/plain": [
              "             name       test1       test2    \n",
              "              min   max   min   max   min max\n",
              "teacher age                                  \n",
              "Ashby   15   Adam  Adam  95.0  95.0    80  80\n",
              "        16    Bob   Bob  81.0  81.0    82  82\n",
              "Jones   15   Fred  Fred   NaN   NaN    88  88\n",
              "        16   Dave  Dave  89.0  89.0    84  84"
            ]
          },
          "metadata": {
            "tags": []
          },
          "execution_count": 3
        }
      ]
    },
    {
      "cell_type": "markdown",
      "metadata": {
        "id": "JU3S-K2yI0tl",
        "colab_type": "text"
      },
      "source": [
        "# **Pivot Table**"
      ]
    },
    {
      "cell_type": "code",
      "metadata": {
        "id": "gAcGdx0LI6NC",
        "colab_type": "code",
        "outputId": "feff4fb9-016e-41e1-ab36-e9556438142e",
        "colab": {
          "base_uri": "https://localhost:8080/",
          "height": 0
        }
      },
      "source": [
        "import pandas as pd\n",
        "import numpy as np\n",
        "scores = pd.DataFrame({\n",
        "    'name':['Adam', 'Bob', 'Dave', 'Fred'],\n",
        "    'age': [15, 16, 16, 15],\n",
        "    'test1': [95, 81, 89, None],\n",
        "    'test2': [80, 82, 84, 88],\n",
        "    'teacher': ['Ashby', 'Ashby', 'Jones', 'Jones']})\n",
        "scores"
      ],
      "execution_count": 4,
      "outputs": [
        {
          "output_type": "execute_result",
          "data": {
            "text/html": [
              "<div>\n",
              "<style scoped>\n",
              "    .dataframe tbody tr th:only-of-type {\n",
              "        vertical-align: middle;\n",
              "    }\n",
              "\n",
              "    .dataframe tbody tr th {\n",
              "        vertical-align: top;\n",
              "    }\n",
              "\n",
              "    .dataframe thead th {\n",
              "        text-align: right;\n",
              "    }\n",
              "</style>\n",
              "<table border=\"1\" class=\"dataframe\">\n",
              "  <thead>\n",
              "    <tr style=\"text-align: right;\">\n",
              "      <th></th>\n",
              "      <th>name</th>\n",
              "      <th>age</th>\n",
              "      <th>test1</th>\n",
              "      <th>test2</th>\n",
              "      <th>teacher</th>\n",
              "    </tr>\n",
              "  </thead>\n",
              "  <tbody>\n",
              "    <tr>\n",
              "      <th>0</th>\n",
              "      <td>Adam</td>\n",
              "      <td>15</td>\n",
              "      <td>95.0</td>\n",
              "      <td>80</td>\n",
              "      <td>Ashby</td>\n",
              "    </tr>\n",
              "    <tr>\n",
              "      <th>1</th>\n",
              "      <td>Bob</td>\n",
              "      <td>16</td>\n",
              "      <td>81.0</td>\n",
              "      <td>82</td>\n",
              "      <td>Ashby</td>\n",
              "    </tr>\n",
              "    <tr>\n",
              "      <th>2</th>\n",
              "      <td>Dave</td>\n",
              "      <td>16</td>\n",
              "      <td>89.0</td>\n",
              "      <td>84</td>\n",
              "      <td>Jones</td>\n",
              "    </tr>\n",
              "    <tr>\n",
              "      <th>3</th>\n",
              "      <td>Fred</td>\n",
              "      <td>15</td>\n",
              "      <td>NaN</td>\n",
              "      <td>88</td>\n",
              "      <td>Jones</td>\n",
              "    </tr>\n",
              "  </tbody>\n",
              "</table>\n",
              "</div>"
            ],
            "text/plain": [
              "   name  age  test1  test2 teacher\n",
              "0  Adam   15   95.0     80   Ashby\n",
              "1   Bob   16   81.0     82   Ashby\n",
              "2  Dave   16   89.0     84   Jones\n",
              "3  Fred   15    NaN     88   Jones"
            ]
          },
          "metadata": {
            "tags": []
          },
          "execution_count": 4
        }
      ]
    },
    {
      "cell_type": "code",
      "metadata": {
        "id": "9Z40Jbv7JPC_",
        "colab_type": "code",
        "outputId": "de541873-39e7-4df6-d7e1-c150bcb636d6",
        "colab": {
          "base_uri": "https://localhost:8080/",
          "height": 0
        }
      },
      "source": [
        "# 先根据teacher分组，再根据test1, test2字段进行median\n",
        "scores.pivot_table(index='teacher', values=['test1', 'test2'], aggfunc='median')"
      ],
      "execution_count": 5,
      "outputs": [
        {
          "output_type": "execute_result",
          "data": {
            "text/html": [
              "<div>\n",
              "<style scoped>\n",
              "    .dataframe tbody tr th:only-of-type {\n",
              "        vertical-align: middle;\n",
              "    }\n",
              "\n",
              "    .dataframe tbody tr th {\n",
              "        vertical-align: top;\n",
              "    }\n",
              "\n",
              "    .dataframe thead th {\n",
              "        text-align: right;\n",
              "    }\n",
              "</style>\n",
              "<table border=\"1\" class=\"dataframe\">\n",
              "  <thead>\n",
              "    <tr style=\"text-align: right;\">\n",
              "      <th></th>\n",
              "      <th>test1</th>\n",
              "      <th>test2</th>\n",
              "    </tr>\n",
              "    <tr>\n",
              "      <th>teacher</th>\n",
              "      <th></th>\n",
              "      <th></th>\n",
              "    </tr>\n",
              "  </thead>\n",
              "  <tbody>\n",
              "    <tr>\n",
              "      <th>Ashby</th>\n",
              "      <td>88.0</td>\n",
              "      <td>81</td>\n",
              "    </tr>\n",
              "    <tr>\n",
              "      <th>Jones</th>\n",
              "      <td>89.0</td>\n",
              "      <td>86</td>\n",
              "    </tr>\n",
              "  </tbody>\n",
              "</table>\n",
              "</div>"
            ],
            "text/plain": [
              "         test1  test2\n",
              "teacher              \n",
              "Ashby     88.0     81\n",
              "Jones     89.0     86"
            ]
          },
          "metadata": {
            "tags": []
          },
          "execution_count": 5
        }
      ]
    },
    {
      "cell_type": "code",
      "metadata": {
        "id": "Xd6nn081MzHh",
        "colab_type": "code",
        "outputId": "48f0473f-048f-42f3-94c8-5259dff3f72a",
        "colab": {
          "base_uri": "https://localhost:8080/",
          "height": 0
        }
      },
      "source": [
        "# 先根据teacher, age分组，再根据test1, test2字段进行median\n",
        "scores.pivot_table(index=['teacher', 'age'], values=['test1', 'test2'], aggfunc='median')"
      ],
      "execution_count": 6,
      "outputs": [
        {
          "output_type": "execute_result",
          "data": {
            "text/html": [
              "<div>\n",
              "<style scoped>\n",
              "    .dataframe tbody tr th:only-of-type {\n",
              "        vertical-align: middle;\n",
              "    }\n",
              "\n",
              "    .dataframe tbody tr th {\n",
              "        vertical-align: top;\n",
              "    }\n",
              "\n",
              "    .dataframe thead th {\n",
              "        text-align: right;\n",
              "    }\n",
              "</style>\n",
              "<table border=\"1\" class=\"dataframe\">\n",
              "  <thead>\n",
              "    <tr style=\"text-align: right;\">\n",
              "      <th></th>\n",
              "      <th></th>\n",
              "      <th>test1</th>\n",
              "      <th>test2</th>\n",
              "    </tr>\n",
              "    <tr>\n",
              "      <th>teacher</th>\n",
              "      <th>age</th>\n",
              "      <th></th>\n",
              "      <th></th>\n",
              "    </tr>\n",
              "  </thead>\n",
              "  <tbody>\n",
              "    <tr>\n",
              "      <th rowspan=\"2\" valign=\"top\">Ashby</th>\n",
              "      <th>15</th>\n",
              "      <td>95.0</td>\n",
              "      <td>80</td>\n",
              "    </tr>\n",
              "    <tr>\n",
              "      <th>16</th>\n",
              "      <td>81.0</td>\n",
              "      <td>82</td>\n",
              "    </tr>\n",
              "    <tr>\n",
              "      <th rowspan=\"2\" valign=\"top\">Jones</th>\n",
              "      <th>15</th>\n",
              "      <td>NaN</td>\n",
              "      <td>88</td>\n",
              "    </tr>\n",
              "    <tr>\n",
              "      <th>16</th>\n",
              "      <td>89.0</td>\n",
              "      <td>84</td>\n",
              "    </tr>\n",
              "  </tbody>\n",
              "</table>\n",
              "</div>"
            ],
            "text/plain": [
              "             test1  test2\n",
              "teacher age              \n",
              "Ashby   15    95.0     80\n",
              "        16    81.0     82\n",
              "Jones   15     NaN     88\n",
              "        16    89.0     84"
            ]
          },
          "metadata": {
            "tags": []
          },
          "execution_count": 6
        }
      ]
    },
    {
      "cell_type": "code",
      "metadata": {
        "id": "3VVaAf-cNCil",
        "colab_type": "code",
        "outputId": "5e286a0e-a266-458b-8ee8-7df609a98839",
        "colab": {
          "base_uri": "https://localhost:8080/",
          "height": 0
        }
      },
      "source": [
        "# 先根据teacher, age分组，再根据test1, test2字段进行min, max\n",
        "scores.pivot_table(index='teacher', values=['test1', 'test2'], aggfunc=[min, max])"
      ],
      "execution_count": 7,
      "outputs": [
        {
          "output_type": "execute_result",
          "data": {
            "text/html": [
              "<div>\n",
              "<style scoped>\n",
              "    .dataframe tbody tr th:only-of-type {\n",
              "        vertical-align: middle;\n",
              "    }\n",
              "\n",
              "    .dataframe tbody tr th {\n",
              "        vertical-align: top;\n",
              "    }\n",
              "\n",
              "    .dataframe thead tr th {\n",
              "        text-align: left;\n",
              "    }\n",
              "\n",
              "    .dataframe thead tr:last-of-type th {\n",
              "        text-align: right;\n",
              "    }\n",
              "</style>\n",
              "<table border=\"1\" class=\"dataframe\">\n",
              "  <thead>\n",
              "    <tr>\n",
              "      <th></th>\n",
              "      <th colspan=\"2\" halign=\"left\">min</th>\n",
              "      <th colspan=\"2\" halign=\"left\">max</th>\n",
              "    </tr>\n",
              "    <tr>\n",
              "      <th></th>\n",
              "      <th>test1</th>\n",
              "      <th>test2</th>\n",
              "      <th>test1</th>\n",
              "      <th>test2</th>\n",
              "    </tr>\n",
              "    <tr>\n",
              "      <th>teacher</th>\n",
              "      <th></th>\n",
              "      <th></th>\n",
              "      <th></th>\n",
              "      <th></th>\n",
              "    </tr>\n",
              "  </thead>\n",
              "  <tbody>\n",
              "    <tr>\n",
              "      <th>Ashby</th>\n",
              "      <td>81.0</td>\n",
              "      <td>80</td>\n",
              "      <td>95.0</td>\n",
              "      <td>82</td>\n",
              "    </tr>\n",
              "    <tr>\n",
              "      <th>Jones</th>\n",
              "      <td>89.0</td>\n",
              "      <td>84</td>\n",
              "      <td>89.0</td>\n",
              "      <td>88</td>\n",
              "    </tr>\n",
              "  </tbody>\n",
              "</table>\n",
              "</div>"
            ],
            "text/plain": [
              "          min         max      \n",
              "        test1 test2 test1 test2\n",
              "teacher                        \n",
              "Ashby    81.0    80  95.0    82\n",
              "Jones    89.0    84  89.0    88"
            ]
          },
          "metadata": {
            "tags": []
          },
          "execution_count": 7
        }
      ]
    },
    {
      "cell_type": "code",
      "metadata": {
        "id": "He3_NplkYaFW",
        "colab_type": "code",
        "outputId": "453d3a09-78bb-4f5e-cbda-68039b0ee720",
        "colab": {
          "base_uri": "https://localhost:8080/",
          "height": 0
        }
      },
      "source": [
        "# 在前面的基础上，加个汇总信息\n",
        "scores.pivot_table(index='teacher', values=['test1', 'test2'], aggfunc='median', margins=True)"
      ],
      "execution_count": 8,
      "outputs": [
        {
          "output_type": "execute_result",
          "data": {
            "text/html": [
              "<div>\n",
              "<style scoped>\n",
              "    .dataframe tbody tr th:only-of-type {\n",
              "        vertical-align: middle;\n",
              "    }\n",
              "\n",
              "    .dataframe tbody tr th {\n",
              "        vertical-align: top;\n",
              "    }\n",
              "\n",
              "    .dataframe thead th {\n",
              "        text-align: right;\n",
              "    }\n",
              "</style>\n",
              "<table border=\"1\" class=\"dataframe\">\n",
              "  <thead>\n",
              "    <tr style=\"text-align: right;\">\n",
              "      <th></th>\n",
              "      <th>test1</th>\n",
              "      <th>test2</th>\n",
              "    </tr>\n",
              "    <tr>\n",
              "      <th>teacher</th>\n",
              "      <th></th>\n",
              "      <th></th>\n",
              "    </tr>\n",
              "  </thead>\n",
              "  <tbody>\n",
              "    <tr>\n",
              "      <th>Ashby</th>\n",
              "      <td>88.0</td>\n",
              "      <td>81</td>\n",
              "    </tr>\n",
              "    <tr>\n",
              "      <th>Jones</th>\n",
              "      <td>89.0</td>\n",
              "      <td>86</td>\n",
              "    </tr>\n",
              "    <tr>\n",
              "      <th>All</th>\n",
              "      <td>89.0</td>\n",
              "      <td>82</td>\n",
              "    </tr>\n",
              "  </tbody>\n",
              "</table>\n",
              "</div>"
            ],
            "text/plain": [
              "         test1  test2\n",
              "teacher              \n",
              "Ashby     88.0     81\n",
              "Jones     89.0     86\n",
              "All       89.0     82"
            ]
          },
          "metadata": {
            "tags": []
          },
          "execution_count": 8
        }
      ]
    },
    {
      "cell_type": "code",
      "metadata": {
        "id": "LkoGc3Q1LT8v",
        "colab_type": "code",
        "outputId": "8a602848-bce6-4612-d112-41d493fd5322",
        "colab": {
          "base_uri": "https://localhost:8080/",
          "height": 0
        }
      },
      "source": [
        "# 以teacher, age两个特征进行分组，然后再test1， test2字段进行len、sum统计\n",
        "scores.pivot_table(index=['teacher', 'age'], values=['test1', 'test2'], aggfunc=[len, sum], margins=True, dropna=False)"
      ],
      "execution_count": 9,
      "outputs": [
        {
          "output_type": "execute_result",
          "data": {
            "text/html": [
              "<div>\n",
              "<style scoped>\n",
              "    .dataframe tbody tr th:only-of-type {\n",
              "        vertical-align: middle;\n",
              "    }\n",
              "\n",
              "    .dataframe tbody tr th {\n",
              "        vertical-align: top;\n",
              "    }\n",
              "\n",
              "    .dataframe thead tr th {\n",
              "        text-align: left;\n",
              "    }\n",
              "\n",
              "    .dataframe thead tr:last-of-type th {\n",
              "        text-align: right;\n",
              "    }\n",
              "</style>\n",
              "<table border=\"1\" class=\"dataframe\">\n",
              "  <thead>\n",
              "    <tr>\n",
              "      <th></th>\n",
              "      <th></th>\n",
              "      <th colspan=\"2\" halign=\"left\">len</th>\n",
              "      <th colspan=\"2\" halign=\"left\">sum</th>\n",
              "    </tr>\n",
              "    <tr>\n",
              "      <th></th>\n",
              "      <th></th>\n",
              "      <th>test1</th>\n",
              "      <th>test2</th>\n",
              "      <th>test1</th>\n",
              "      <th>test2</th>\n",
              "    </tr>\n",
              "    <tr>\n",
              "      <th>teacher</th>\n",
              "      <th>age</th>\n",
              "      <th></th>\n",
              "      <th></th>\n",
              "      <th></th>\n",
              "      <th></th>\n",
              "    </tr>\n",
              "  </thead>\n",
              "  <tbody>\n",
              "    <tr>\n",
              "      <th rowspan=\"2\" valign=\"top\">Ashby</th>\n",
              "      <th>15</th>\n",
              "      <td>1.0</td>\n",
              "      <td>1</td>\n",
              "      <td>95.0</td>\n",
              "      <td>80</td>\n",
              "    </tr>\n",
              "    <tr>\n",
              "      <th>16</th>\n",
              "      <td>1.0</td>\n",
              "      <td>1</td>\n",
              "      <td>81.0</td>\n",
              "      <td>82</td>\n",
              "    </tr>\n",
              "    <tr>\n",
              "      <th rowspan=\"2\" valign=\"top\">Jones</th>\n",
              "      <th>15</th>\n",
              "      <td>1.0</td>\n",
              "      <td>1</td>\n",
              "      <td>0.0</td>\n",
              "      <td>88</td>\n",
              "    </tr>\n",
              "    <tr>\n",
              "      <th>16</th>\n",
              "      <td>1.0</td>\n",
              "      <td>1</td>\n",
              "      <td>89.0</td>\n",
              "      <td>84</td>\n",
              "    </tr>\n",
              "    <tr>\n",
              "      <th>All</th>\n",
              "      <th></th>\n",
              "      <td>4.0</td>\n",
              "      <td>4</td>\n",
              "      <td>NaN</td>\n",
              "      <td>334</td>\n",
              "    </tr>\n",
              "  </tbody>\n",
              "</table>\n",
              "</div>"
            ],
            "text/plain": [
              "              len         sum      \n",
              "            test1 test2 test1 test2\n",
              "teacher age                        \n",
              "Ashby   15    1.0     1  95.0    80\n",
              "        16    1.0     1  81.0    82\n",
              "Jones   15    1.0     1   0.0    88\n",
              "        16    1.0     1  89.0    84\n",
              "All           4.0     4   NaN   334"
            ]
          },
          "metadata": {
            "tags": []
          },
          "execution_count": 9
        }
      ]
    },
    {
      "cell_type": "markdown",
      "metadata": {
        "id": "nWKt0_RphJ6v",
        "colab_type": "text"
      },
      "source": [
        "# **Reshape**"
      ]
    },
    {
      "cell_type": "markdown",
      "metadata": {
        "id": "VB3ABCsqYH5N",
        "colab_type": "text"
      },
      "source": [
        "## Melting Data"
      ]
    },
    {
      "cell_type": "code",
      "metadata": {
        "id": "goqHX1cvYLON",
        "colab_type": "code",
        "colab": {
          "base_uri": "https://localhost:8080/",
          "height": 0
        },
        "outputId": "c6b44590-ef97-4f2c-ef94-fd60558d3049"
      },
      "source": [
        "import pandas as pd\n",
        "import numpy as np\n",
        "scores = pd.DataFrame({\n",
        "    'name':['Adam', 'Bob', 'Dave', 'Fred'],\n",
        "    'age': [15, 16, 16, 15],\n",
        "    'test1': [95, 81, 89, None],\n",
        "    'test2': [80, 82, 84, 88],\n",
        "    'teacher': ['Ashby', 'Ashby', 'Jones', 'Jones']})\n",
        "scores"
      ],
      "execution_count": 10,
      "outputs": [
        {
          "output_type": "execute_result",
          "data": {
            "text/html": [
              "<div>\n",
              "<style scoped>\n",
              "    .dataframe tbody tr th:only-of-type {\n",
              "        vertical-align: middle;\n",
              "    }\n",
              "\n",
              "    .dataframe tbody tr th {\n",
              "        vertical-align: top;\n",
              "    }\n",
              "\n",
              "    .dataframe thead th {\n",
              "        text-align: right;\n",
              "    }\n",
              "</style>\n",
              "<table border=\"1\" class=\"dataframe\">\n",
              "  <thead>\n",
              "    <tr style=\"text-align: right;\">\n",
              "      <th></th>\n",
              "      <th>name</th>\n",
              "      <th>age</th>\n",
              "      <th>test1</th>\n",
              "      <th>test2</th>\n",
              "      <th>teacher</th>\n",
              "    </tr>\n",
              "  </thead>\n",
              "  <tbody>\n",
              "    <tr>\n",
              "      <th>0</th>\n",
              "      <td>Adam</td>\n",
              "      <td>15</td>\n",
              "      <td>95.0</td>\n",
              "      <td>80</td>\n",
              "      <td>Ashby</td>\n",
              "    </tr>\n",
              "    <tr>\n",
              "      <th>1</th>\n",
              "      <td>Bob</td>\n",
              "      <td>16</td>\n",
              "      <td>81.0</td>\n",
              "      <td>82</td>\n",
              "      <td>Ashby</td>\n",
              "    </tr>\n",
              "    <tr>\n",
              "      <th>2</th>\n",
              "      <td>Dave</td>\n",
              "      <td>16</td>\n",
              "      <td>89.0</td>\n",
              "      <td>84</td>\n",
              "      <td>Jones</td>\n",
              "    </tr>\n",
              "    <tr>\n",
              "      <th>3</th>\n",
              "      <td>Fred</td>\n",
              "      <td>15</td>\n",
              "      <td>NaN</td>\n",
              "      <td>88</td>\n",
              "      <td>Jones</td>\n",
              "    </tr>\n",
              "  </tbody>\n",
              "</table>\n",
              "</div>"
            ],
            "text/plain": [
              "   name  age  test1  test2 teacher\n",
              "0  Adam   15   95.0     80   Ashby\n",
              "1   Bob   16   81.0     82   Ashby\n",
              "2  Dave   16   89.0     84   Jones\n",
              "3  Fred   15    NaN     88   Jones"
            ]
          },
          "metadata": {
            "tags": []
          },
          "execution_count": 10
        }
      ]
    },
    {
      "cell_type": "code",
      "metadata": {
        "id": "8hADHNDlYk5R",
        "colab_type": "code",
        "colab": {
          "base_uri": "https://localhost:8080/",
          "height": 0
        },
        "outputId": "ecef1be2-ba71-4aef-b66c-b5f541815c77"
      },
      "source": [
        "pd.melt(scores, id_vars=['name', 'age'], value_vars=['test1', 'test2'])"
      ],
      "execution_count": 11,
      "outputs": [
        {
          "output_type": "execute_result",
          "data": {
            "text/html": [
              "<div>\n",
              "<style scoped>\n",
              "    .dataframe tbody tr th:only-of-type {\n",
              "        vertical-align: middle;\n",
              "    }\n",
              "\n",
              "    .dataframe tbody tr th {\n",
              "        vertical-align: top;\n",
              "    }\n",
              "\n",
              "    .dataframe thead th {\n",
              "        text-align: right;\n",
              "    }\n",
              "</style>\n",
              "<table border=\"1\" class=\"dataframe\">\n",
              "  <thead>\n",
              "    <tr style=\"text-align: right;\">\n",
              "      <th></th>\n",
              "      <th>name</th>\n",
              "      <th>age</th>\n",
              "      <th>variable</th>\n",
              "      <th>value</th>\n",
              "    </tr>\n",
              "  </thead>\n",
              "  <tbody>\n",
              "    <tr>\n",
              "      <th>0</th>\n",
              "      <td>Adam</td>\n",
              "      <td>15</td>\n",
              "      <td>test1</td>\n",
              "      <td>95.0</td>\n",
              "    </tr>\n",
              "    <tr>\n",
              "      <th>1</th>\n",
              "      <td>Bob</td>\n",
              "      <td>16</td>\n",
              "      <td>test1</td>\n",
              "      <td>81.0</td>\n",
              "    </tr>\n",
              "    <tr>\n",
              "      <th>2</th>\n",
              "      <td>Dave</td>\n",
              "      <td>16</td>\n",
              "      <td>test1</td>\n",
              "      <td>89.0</td>\n",
              "    </tr>\n",
              "    <tr>\n",
              "      <th>3</th>\n",
              "      <td>Fred</td>\n",
              "      <td>15</td>\n",
              "      <td>test1</td>\n",
              "      <td>NaN</td>\n",
              "    </tr>\n",
              "    <tr>\n",
              "      <th>4</th>\n",
              "      <td>Adam</td>\n",
              "      <td>15</td>\n",
              "      <td>test2</td>\n",
              "      <td>80.0</td>\n",
              "    </tr>\n",
              "    <tr>\n",
              "      <th>5</th>\n",
              "      <td>Bob</td>\n",
              "      <td>16</td>\n",
              "      <td>test2</td>\n",
              "      <td>82.0</td>\n",
              "    </tr>\n",
              "    <tr>\n",
              "      <th>6</th>\n",
              "      <td>Dave</td>\n",
              "      <td>16</td>\n",
              "      <td>test2</td>\n",
              "      <td>84.0</td>\n",
              "    </tr>\n",
              "    <tr>\n",
              "      <th>7</th>\n",
              "      <td>Fred</td>\n",
              "      <td>15</td>\n",
              "      <td>test2</td>\n",
              "      <td>88.0</td>\n",
              "    </tr>\n",
              "  </tbody>\n",
              "</table>\n",
              "</div>"
            ],
            "text/plain": [
              "   name  age variable  value\n",
              "0  Adam   15    test1   95.0\n",
              "1   Bob   16    test1   81.0\n",
              "2  Dave   16    test1   89.0\n",
              "3  Fred   15    test1    NaN\n",
              "4  Adam   15    test2   80.0\n",
              "5   Bob   16    test2   82.0\n",
              "6  Dave   16    test2   84.0\n",
              "7  Fred   15    test2   88.0"
            ]
          },
          "metadata": {
            "tags": []
          },
          "execution_count": 11
        }
      ]
    },
    {
      "cell_type": "code",
      "metadata": {
        "id": "YxkZma_jfxyA",
        "colab_type": "code",
        "colab": {
          "base_uri": "https://localhost:8080/",
          "height": 0
        },
        "outputId": "4a1d225b-ee15-4298-90b4-b6393601900d"
      },
      "source": [
        "pd.melt(scores, id_vars=['name', 'age'], value_vars=['test1', 'test2'], var_name='test', value_name='score')"
      ],
      "execution_count": 12,
      "outputs": [
        {
          "output_type": "execute_result",
          "data": {
            "text/html": [
              "<div>\n",
              "<style scoped>\n",
              "    .dataframe tbody tr th:only-of-type {\n",
              "        vertical-align: middle;\n",
              "    }\n",
              "\n",
              "    .dataframe tbody tr th {\n",
              "        vertical-align: top;\n",
              "    }\n",
              "\n",
              "    .dataframe thead th {\n",
              "        text-align: right;\n",
              "    }\n",
              "</style>\n",
              "<table border=\"1\" class=\"dataframe\">\n",
              "  <thead>\n",
              "    <tr style=\"text-align: right;\">\n",
              "      <th></th>\n",
              "      <th>name</th>\n",
              "      <th>age</th>\n",
              "      <th>test</th>\n",
              "      <th>score</th>\n",
              "    </tr>\n",
              "  </thead>\n",
              "  <tbody>\n",
              "    <tr>\n",
              "      <th>0</th>\n",
              "      <td>Adam</td>\n",
              "      <td>15</td>\n",
              "      <td>test1</td>\n",
              "      <td>95.0</td>\n",
              "    </tr>\n",
              "    <tr>\n",
              "      <th>1</th>\n",
              "      <td>Bob</td>\n",
              "      <td>16</td>\n",
              "      <td>test1</td>\n",
              "      <td>81.0</td>\n",
              "    </tr>\n",
              "    <tr>\n",
              "      <th>2</th>\n",
              "      <td>Dave</td>\n",
              "      <td>16</td>\n",
              "      <td>test1</td>\n",
              "      <td>89.0</td>\n",
              "    </tr>\n",
              "    <tr>\n",
              "      <th>3</th>\n",
              "      <td>Fred</td>\n",
              "      <td>15</td>\n",
              "      <td>test1</td>\n",
              "      <td>NaN</td>\n",
              "    </tr>\n",
              "    <tr>\n",
              "      <th>4</th>\n",
              "      <td>Adam</td>\n",
              "      <td>15</td>\n",
              "      <td>test2</td>\n",
              "      <td>80.0</td>\n",
              "    </tr>\n",
              "    <tr>\n",
              "      <th>5</th>\n",
              "      <td>Bob</td>\n",
              "      <td>16</td>\n",
              "      <td>test2</td>\n",
              "      <td>82.0</td>\n",
              "    </tr>\n",
              "    <tr>\n",
              "      <th>6</th>\n",
              "      <td>Dave</td>\n",
              "      <td>16</td>\n",
              "      <td>test2</td>\n",
              "      <td>84.0</td>\n",
              "    </tr>\n",
              "    <tr>\n",
              "      <th>7</th>\n",
              "      <td>Fred</td>\n",
              "      <td>15</td>\n",
              "      <td>test2</td>\n",
              "      <td>88.0</td>\n",
              "    </tr>\n",
              "  </tbody>\n",
              "</table>\n",
              "</div>"
            ],
            "text/plain": [
              "   name  age   test  score\n",
              "0  Adam   15  test1   95.0\n",
              "1   Bob   16  test1   81.0\n",
              "2  Dave   16  test1   89.0\n",
              "3  Fred   15  test1    NaN\n",
              "4  Adam   15  test2   80.0\n",
              "5   Bob   16  test2   82.0\n",
              "6  Dave   16  test2   84.0\n",
              "7  Fred   15  test2   88.0"
            ]
          },
          "metadata": {
            "tags": []
          },
          "execution_count": 12
        }
      ]
    },
    {
      "cell_type": "markdown",
      "metadata": {
        "id": "Ks12PdJwim7K",
        "colab_type": "text"
      },
      "source": [
        "### Demo："
      ]
    },
    {
      "cell_type": "code",
      "metadata": {
        "id": "_BaaTZOWiIVi",
        "colab_type": "code",
        "colab": {
          "base_uri": "https://localhost:8080/",
          "height": 0
        },
        "outputId": "23186f95-6a49-427f-da10-feaee31b4889"
      },
      "source": [
        "# melt回到原来的数据\n",
        "long_df = pd.melt(scores, id_vars=['name', 'age'], value_vars=['test1', 'test2'], var_name='test', value_name='score')\n",
        "long_df"
      ],
      "execution_count": 13,
      "outputs": [
        {
          "output_type": "execute_result",
          "data": {
            "text/html": [
              "<div>\n",
              "<style scoped>\n",
              "    .dataframe tbody tr th:only-of-type {\n",
              "        vertical-align: middle;\n",
              "    }\n",
              "\n",
              "    .dataframe tbody tr th {\n",
              "        vertical-align: top;\n",
              "    }\n",
              "\n",
              "    .dataframe thead th {\n",
              "        text-align: right;\n",
              "    }\n",
              "</style>\n",
              "<table border=\"1\" class=\"dataframe\">\n",
              "  <thead>\n",
              "    <tr style=\"text-align: right;\">\n",
              "      <th></th>\n",
              "      <th>name</th>\n",
              "      <th>age</th>\n",
              "      <th>test</th>\n",
              "      <th>score</th>\n",
              "    </tr>\n",
              "  </thead>\n",
              "  <tbody>\n",
              "    <tr>\n",
              "      <th>0</th>\n",
              "      <td>Adam</td>\n",
              "      <td>15</td>\n",
              "      <td>test1</td>\n",
              "      <td>95.0</td>\n",
              "    </tr>\n",
              "    <tr>\n",
              "      <th>1</th>\n",
              "      <td>Bob</td>\n",
              "      <td>16</td>\n",
              "      <td>test1</td>\n",
              "      <td>81.0</td>\n",
              "    </tr>\n",
              "    <tr>\n",
              "      <th>2</th>\n",
              "      <td>Dave</td>\n",
              "      <td>16</td>\n",
              "      <td>test1</td>\n",
              "      <td>89.0</td>\n",
              "    </tr>\n",
              "    <tr>\n",
              "      <th>3</th>\n",
              "      <td>Fred</td>\n",
              "      <td>15</td>\n",
              "      <td>test1</td>\n",
              "      <td>NaN</td>\n",
              "    </tr>\n",
              "    <tr>\n",
              "      <th>4</th>\n",
              "      <td>Adam</td>\n",
              "      <td>15</td>\n",
              "      <td>test2</td>\n",
              "      <td>80.0</td>\n",
              "    </tr>\n",
              "    <tr>\n",
              "      <th>5</th>\n",
              "      <td>Bob</td>\n",
              "      <td>16</td>\n",
              "      <td>test2</td>\n",
              "      <td>82.0</td>\n",
              "    </tr>\n",
              "    <tr>\n",
              "      <th>6</th>\n",
              "      <td>Dave</td>\n",
              "      <td>16</td>\n",
              "      <td>test2</td>\n",
              "      <td>84.0</td>\n",
              "    </tr>\n",
              "    <tr>\n",
              "      <th>7</th>\n",
              "      <td>Fred</td>\n",
              "      <td>15</td>\n",
              "      <td>test2</td>\n",
              "      <td>88.0</td>\n",
              "    </tr>\n",
              "  </tbody>\n",
              "</table>\n",
              "</div>"
            ],
            "text/plain": [
              "   name  age   test  score\n",
              "0  Adam   15  test1   95.0\n",
              "1   Bob   16  test1   81.0\n",
              "2  Dave   16  test1   89.0\n",
              "3  Fred   15  test1    NaN\n",
              "4  Adam   15  test2   80.0\n",
              "5   Bob   16  test2   82.0\n",
              "6  Dave   16  test2   84.0\n",
              "7  Fred   15  test2   88.0"
            ]
          },
          "metadata": {
            "tags": []
          },
          "execution_count": 13
        }
      ]
    },
    {
      "cell_type": "code",
      "metadata": {
        "id": "sx5wEyxUi0qe",
        "colab_type": "code",
        "colab": {
          "base_uri": "https://localhost:8080/",
          "height": 0
        },
        "outputId": "07b4ca36-56e2-4fa9-ae27-4487b95fa554"
      },
      "source": [
        "# 这种手法之所以能还原，是因为name、和age、与test1、test2，组成唯一，若你再加入一条一模一样的行，就不行了。\n",
        "wide_df = long_df.pivot_table(index=['name', 'age'], columns=['test'], values=['score'])\n",
        "wide_df"
      ],
      "execution_count": 14,
      "outputs": [
        {
          "output_type": "execute_result",
          "data": {
            "text/html": [
              "<div>\n",
              "<style scoped>\n",
              "    .dataframe tbody tr th:only-of-type {\n",
              "        vertical-align: middle;\n",
              "    }\n",
              "\n",
              "    .dataframe tbody tr th {\n",
              "        vertical-align: top;\n",
              "    }\n",
              "\n",
              "    .dataframe thead tr th {\n",
              "        text-align: left;\n",
              "    }\n",
              "\n",
              "    .dataframe thead tr:last-of-type th {\n",
              "        text-align: right;\n",
              "    }\n",
              "</style>\n",
              "<table border=\"1\" class=\"dataframe\">\n",
              "  <thead>\n",
              "    <tr>\n",
              "      <th></th>\n",
              "      <th></th>\n",
              "      <th colspan=\"2\" halign=\"left\">score</th>\n",
              "    </tr>\n",
              "    <tr>\n",
              "      <th></th>\n",
              "      <th>test</th>\n",
              "      <th>test1</th>\n",
              "      <th>test2</th>\n",
              "    </tr>\n",
              "    <tr>\n",
              "      <th>name</th>\n",
              "      <th>age</th>\n",
              "      <th></th>\n",
              "      <th></th>\n",
              "    </tr>\n",
              "  </thead>\n",
              "  <tbody>\n",
              "    <tr>\n",
              "      <th>Adam</th>\n",
              "      <th>15</th>\n",
              "      <td>95.0</td>\n",
              "      <td>80.0</td>\n",
              "    </tr>\n",
              "    <tr>\n",
              "      <th>Bob</th>\n",
              "      <th>16</th>\n",
              "      <td>81.0</td>\n",
              "      <td>82.0</td>\n",
              "    </tr>\n",
              "    <tr>\n",
              "      <th>Dave</th>\n",
              "      <th>16</th>\n",
              "      <td>89.0</td>\n",
              "      <td>84.0</td>\n",
              "    </tr>\n",
              "    <tr>\n",
              "      <th>Fred</th>\n",
              "      <th>15</th>\n",
              "      <td>NaN</td>\n",
              "      <td>88.0</td>\n",
              "    </tr>\n",
              "  </tbody>\n",
              "</table>\n",
              "</div>"
            ],
            "text/plain": [
              "         score      \n",
              "test     test1 test2\n",
              "name age            \n",
              "Adam 15   95.0  80.0\n",
              "Bob  16   81.0  82.0\n",
              "Dave 16   89.0  84.0\n",
              "Fred 15    NaN  88.0"
            ]
          },
          "metadata": {
            "tags": []
          },
          "execution_count": 14
        }
      ]
    },
    {
      "cell_type": "code",
      "metadata": {
        "id": "FNWo_pJOkHgr",
        "colab_type": "code",
        "colab": {
          "base_uri": "https://localhost:8080/",
          "height": 0
        },
        "outputId": "7ff70be9-cb80-49a2-d014-0b9e30a613d5"
      },
      "source": [
        "wide_df = wide_df.reset_index()\n",
        "wide_df"
      ],
      "execution_count": 15,
      "outputs": [
        {
          "output_type": "execute_result",
          "data": {
            "text/html": [
              "<div>\n",
              "<style scoped>\n",
              "    .dataframe tbody tr th:only-of-type {\n",
              "        vertical-align: middle;\n",
              "    }\n",
              "\n",
              "    .dataframe tbody tr th {\n",
              "        vertical-align: top;\n",
              "    }\n",
              "\n",
              "    .dataframe thead tr th {\n",
              "        text-align: left;\n",
              "    }\n",
              "</style>\n",
              "<table border=\"1\" class=\"dataframe\">\n",
              "  <thead>\n",
              "    <tr>\n",
              "      <th></th>\n",
              "      <th>name</th>\n",
              "      <th>age</th>\n",
              "      <th colspan=\"2\" halign=\"left\">score</th>\n",
              "    </tr>\n",
              "    <tr>\n",
              "      <th>test</th>\n",
              "      <th></th>\n",
              "      <th></th>\n",
              "      <th>test1</th>\n",
              "      <th>test2</th>\n",
              "    </tr>\n",
              "  </thead>\n",
              "  <tbody>\n",
              "    <tr>\n",
              "      <th>0</th>\n",
              "      <td>Adam</td>\n",
              "      <td>15</td>\n",
              "      <td>95.0</td>\n",
              "      <td>80.0</td>\n",
              "    </tr>\n",
              "    <tr>\n",
              "      <th>1</th>\n",
              "      <td>Bob</td>\n",
              "      <td>16</td>\n",
              "      <td>81.0</td>\n",
              "      <td>82.0</td>\n",
              "    </tr>\n",
              "    <tr>\n",
              "      <th>2</th>\n",
              "      <td>Dave</td>\n",
              "      <td>16</td>\n",
              "      <td>89.0</td>\n",
              "      <td>84.0</td>\n",
              "    </tr>\n",
              "    <tr>\n",
              "      <th>3</th>\n",
              "      <td>Fred</td>\n",
              "      <td>15</td>\n",
              "      <td>NaN</td>\n",
              "      <td>88.0</td>\n",
              "    </tr>\n",
              "  </tbody>\n",
              "</table>\n",
              "</div>"
            ],
            "text/plain": [
              "      name age score      \n",
              "test           test1 test2\n",
              "0     Adam  15  95.0  80.0\n",
              "1      Bob  16  81.0  82.0\n",
              "2     Dave  16  89.0  84.0\n",
              "3     Fred  15   NaN  88.0"
            ]
          },
          "metadata": {
            "tags": []
          },
          "execution_count": 15
        }
      ]
    },
    {
      "cell_type": "code",
      "metadata": {
        "id": "QbJkkTVNkP4D",
        "colab_type": "code",
        "colab": {
          "base_uri": "https://localhost:8080/",
          "height": 0
        },
        "outputId": "2d111915-29dd-404f-8cf3-9ec39ad068ce"
      },
      "source": [
        "cols = wide_df.columns\n",
        "cols.get_level_values(0)"
      ],
      "execution_count": 16,
      "outputs": [
        {
          "output_type": "execute_result",
          "data": {
            "text/plain": [
              "Index(['name', 'age', 'score', 'score'], dtype='object')"
            ]
          },
          "metadata": {
            "tags": []
          },
          "execution_count": 16
        }
      ]
    },
    {
      "cell_type": "code",
      "metadata": {
        "id": "KifDlNufkV-R",
        "colab_type": "code",
        "colab": {
          "base_uri": "https://localhost:8080/",
          "height": 0
        },
        "outputId": "7c778aa1-e323-4b87-f20f-3b7aed529dea"
      },
      "source": [
        "cols.get_level_values(1)"
      ],
      "execution_count": 17,
      "outputs": [
        {
          "output_type": "execute_result",
          "data": {
            "text/plain": [
              "Index(['', '', 'test1', 'test2'], dtype='object', name='test')"
            ]
          },
          "metadata": {
            "tags": []
          },
          "execution_count": 17
        }
      ]
    },
    {
      "cell_type": "code",
      "metadata": {
        "id": "vnsWt7-ckggS",
        "colab_type": "code",
        "colab": {
          "base_uri": "https://localhost:8080/",
          "height": 0
        },
        "outputId": "da449ccc-e4c0-4ddb-d54f-cb102392b578"
      },
      "source": [
        "l1 = cols.get_level_values(1)\n",
        "l0 = cols.get_level_values(0)\n",
        "names = [x[1] if x[1] else x[0] for x in zip(l0, l1)]\n",
        "names"
      ],
      "execution_count": 18,
      "outputs": [
        {
          "output_type": "execute_result",
          "data": {
            "text/plain": [
              "['name', 'age', 'test1', 'test2']"
            ]
          },
          "metadata": {
            "tags": []
          },
          "execution_count": 18
        }
      ]
    },
    {
      "cell_type": "code",
      "metadata": {
        "id": "VysyHVZllNlb",
        "colab_type": "code",
        "colab": {
          "base_uri": "https://localhost:8080/",
          "height": 0
        },
        "outputId": "43eb4dda-09b2-44ce-bf0f-bb7575e5b83d"
      },
      "source": [
        "wide_df.columns = names\n",
        "wide_df"
      ],
      "execution_count": 19,
      "outputs": [
        {
          "output_type": "execute_result",
          "data": {
            "text/html": [
              "<div>\n",
              "<style scoped>\n",
              "    .dataframe tbody tr th:only-of-type {\n",
              "        vertical-align: middle;\n",
              "    }\n",
              "\n",
              "    .dataframe tbody tr th {\n",
              "        vertical-align: top;\n",
              "    }\n",
              "\n",
              "    .dataframe thead th {\n",
              "        text-align: right;\n",
              "    }\n",
              "</style>\n",
              "<table border=\"1\" class=\"dataframe\">\n",
              "  <thead>\n",
              "    <tr style=\"text-align: right;\">\n",
              "      <th></th>\n",
              "      <th>name</th>\n",
              "      <th>age</th>\n",
              "      <th>test1</th>\n",
              "      <th>test2</th>\n",
              "    </tr>\n",
              "  </thead>\n",
              "  <tbody>\n",
              "    <tr>\n",
              "      <th>0</th>\n",
              "      <td>Adam</td>\n",
              "      <td>15</td>\n",
              "      <td>95.0</td>\n",
              "      <td>80.0</td>\n",
              "    </tr>\n",
              "    <tr>\n",
              "      <th>1</th>\n",
              "      <td>Bob</td>\n",
              "      <td>16</td>\n",
              "      <td>81.0</td>\n",
              "      <td>82.0</td>\n",
              "    </tr>\n",
              "    <tr>\n",
              "      <th>2</th>\n",
              "      <td>Dave</td>\n",
              "      <td>16</td>\n",
              "      <td>89.0</td>\n",
              "      <td>84.0</td>\n",
              "    </tr>\n",
              "    <tr>\n",
              "      <th>3</th>\n",
              "      <td>Fred</td>\n",
              "      <td>15</td>\n",
              "      <td>NaN</td>\n",
              "      <td>88.0</td>\n",
              "    </tr>\n",
              "  </tbody>\n",
              "</table>\n",
              "</div>"
            ],
            "text/plain": [
              "   name  age  test1  test2\n",
              "0  Adam   15   95.0   80.0\n",
              "1   Bob   16   81.0   82.0\n",
              "2  Dave   16   89.0   84.0\n",
              "3  Fred   15    NaN   88.0"
            ]
          },
          "metadata": {
            "tags": []
          },
          "execution_count": 19
        }
      ]
    },
    {
      "cell_type": "markdown",
      "metadata": {
        "id": "JFgtrF0KnHh8",
        "colab_type": "text"
      },
      "source": [
        "## Dummy Variables"
      ]
    },
    {
      "cell_type": "code",
      "metadata": {
        "id": "8_3aUpsHI0dE",
        "colab_type": "code",
        "colab": {
          "base_uri": "https://localhost:8080/",
          "height": 167
        },
        "outputId": "a886cf5c-380c-479b-8cd4-360b1085a756"
      },
      "source": [
        "import pandas as pd\n",
        "import numpy as np\n",
        "scores = pd.DataFrame({\n",
        "    'name':['Adam', 'Bob', 'Dave', 'Fred'],\n",
        "    'age': [15, 16, 16, 15],\n",
        "    'test1': [95, 81, 89, None],\n",
        "    'test2': [80, 82, 84, 88],\n",
        "    'teacher': ['Ashby', 'Ashby', 'Jones', 'Jones']})\n",
        "scores"
      ],
      "execution_count": 20,
      "outputs": [
        {
          "output_type": "execute_result",
          "data": {
            "text/html": [
              "<div>\n",
              "<style scoped>\n",
              "    .dataframe tbody tr th:only-of-type {\n",
              "        vertical-align: middle;\n",
              "    }\n",
              "\n",
              "    .dataframe tbody tr th {\n",
              "        vertical-align: top;\n",
              "    }\n",
              "\n",
              "    .dataframe thead th {\n",
              "        text-align: right;\n",
              "    }\n",
              "</style>\n",
              "<table border=\"1\" class=\"dataframe\">\n",
              "  <thead>\n",
              "    <tr style=\"text-align: right;\">\n",
              "      <th></th>\n",
              "      <th>name</th>\n",
              "      <th>age</th>\n",
              "      <th>test1</th>\n",
              "      <th>test2</th>\n",
              "      <th>teacher</th>\n",
              "    </tr>\n",
              "  </thead>\n",
              "  <tbody>\n",
              "    <tr>\n",
              "      <th>0</th>\n",
              "      <td>Adam</td>\n",
              "      <td>15</td>\n",
              "      <td>95.0</td>\n",
              "      <td>80</td>\n",
              "      <td>Ashby</td>\n",
              "    </tr>\n",
              "    <tr>\n",
              "      <th>1</th>\n",
              "      <td>Bob</td>\n",
              "      <td>16</td>\n",
              "      <td>81.0</td>\n",
              "      <td>82</td>\n",
              "      <td>Ashby</td>\n",
              "    </tr>\n",
              "    <tr>\n",
              "      <th>2</th>\n",
              "      <td>Dave</td>\n",
              "      <td>16</td>\n",
              "      <td>89.0</td>\n",
              "      <td>84</td>\n",
              "      <td>Jones</td>\n",
              "    </tr>\n",
              "    <tr>\n",
              "      <th>3</th>\n",
              "      <td>Fred</td>\n",
              "      <td>15</td>\n",
              "      <td>NaN</td>\n",
              "      <td>88</td>\n",
              "      <td>Jones</td>\n",
              "    </tr>\n",
              "  </tbody>\n",
              "</table>\n",
              "</div>"
            ],
            "text/plain": [
              "   name  age  test1  test2 teacher\n",
              "0  Adam   15   95.0     80   Ashby\n",
              "1   Bob   16   81.0     82   Ashby\n",
              "2  Dave   16   89.0     84   Jones\n",
              "3  Fred   15    NaN     88   Jones"
            ]
          },
          "metadata": {
            "tags": []
          },
          "execution_count": 20
        }
      ]
    },
    {
      "cell_type": "code",
      "metadata": {
        "id": "enz8bn8bI0qL",
        "colab_type": "code",
        "colab": {
          "base_uri": "https://localhost:8080/",
          "height": 167
        },
        "outputId": "e5392e74-3022-4416-ba12-8ab9540de0e5"
      },
      "source": [
        "# create dummy by age\n",
        "age_dummy = pd.get_dummies(scores, columns=['age'], prefix='age')\n",
        "age_dummy"
      ],
      "execution_count": 21,
      "outputs": [
        {
          "output_type": "execute_result",
          "data": {
            "text/html": [
              "<div>\n",
              "<style scoped>\n",
              "    .dataframe tbody tr th:only-of-type {\n",
              "        vertical-align: middle;\n",
              "    }\n",
              "\n",
              "    .dataframe tbody tr th {\n",
              "        vertical-align: top;\n",
              "    }\n",
              "\n",
              "    .dataframe thead th {\n",
              "        text-align: right;\n",
              "    }\n",
              "</style>\n",
              "<table border=\"1\" class=\"dataframe\">\n",
              "  <thead>\n",
              "    <tr style=\"text-align: right;\">\n",
              "      <th></th>\n",
              "      <th>name</th>\n",
              "      <th>test1</th>\n",
              "      <th>test2</th>\n",
              "      <th>teacher</th>\n",
              "      <th>age_15</th>\n",
              "      <th>age_16</th>\n",
              "    </tr>\n",
              "  </thead>\n",
              "  <tbody>\n",
              "    <tr>\n",
              "      <th>0</th>\n",
              "      <td>Adam</td>\n",
              "      <td>95.0</td>\n",
              "      <td>80</td>\n",
              "      <td>Ashby</td>\n",
              "      <td>1</td>\n",
              "      <td>0</td>\n",
              "    </tr>\n",
              "    <tr>\n",
              "      <th>1</th>\n",
              "      <td>Bob</td>\n",
              "      <td>81.0</td>\n",
              "      <td>82</td>\n",
              "      <td>Ashby</td>\n",
              "      <td>0</td>\n",
              "      <td>1</td>\n",
              "    </tr>\n",
              "    <tr>\n",
              "      <th>2</th>\n",
              "      <td>Dave</td>\n",
              "      <td>89.0</td>\n",
              "      <td>84</td>\n",
              "      <td>Jones</td>\n",
              "      <td>0</td>\n",
              "      <td>1</td>\n",
              "    </tr>\n",
              "    <tr>\n",
              "      <th>3</th>\n",
              "      <td>Fred</td>\n",
              "      <td>NaN</td>\n",
              "      <td>88</td>\n",
              "      <td>Jones</td>\n",
              "      <td>1</td>\n",
              "      <td>0</td>\n",
              "    </tr>\n",
              "  </tbody>\n",
              "</table>\n",
              "</div>"
            ],
            "text/plain": [
              "   name  test1  test2 teacher  age_15  age_16\n",
              "0  Adam   95.0     80   Ashby       1       0\n",
              "1   Bob   81.0     82   Ashby       0       1\n",
              "2  Dave   89.0     84   Jones       0       1\n",
              "3  Fred    NaN     88   Jones       1       0"
            ]
          },
          "metadata": {
            "tags": []
          },
          "execution_count": 21
        }
      ]
    },
    {
      "cell_type": "code",
      "metadata": {
        "id": "t_uqtJVvKs8-",
        "colab_type": "code",
        "colab": {
          "base_uri": "https://localhost:8080/",
          "height": 167
        },
        "outputId": "0fd468ed-6720-48b9-8e8d-a6ec7fad2d61"
      },
      "source": [
        "# Undoing Dummy Var\n",
        "def get_index(vals):\n",
        "  return list(vals).index(1)\n",
        "\n",
        "''' df - dataframe with dummy columns\n",
        "\tprefix - prefix of dummy columns\n",
        "\tnew_col_name - column name to replace dummy columns\n",
        "\tval_type - callable type for new column\n",
        "'''\n",
        "def undummy(df, prefix, new_col_name, val_type=float):\n",
        "\tdummy_cols = [col for col in df.columns if col.startswith(prefix)]\n",
        "\t# map of index location of dummy variable to new value\n",
        "\tidx2val = {i:val_type(col[len(prefix):]) for i, col\n",
        "\tin enumerate(dummy_cols)}\n",
        "\t\n",
        "\t# using the dummy_cols lookup the new value by idx\n",
        "\tser = df[dummy_cols].apply(\n",
        "\tlambda x: idx2val.get(get_index(x), None), axis=1)\n",
        "\tdf[new_col_name] = ser\n",
        "\tdf = df.drop(dummy_cols, axis=1)\n",
        "\treturn df\n",
        "undummy(age_dummy, 'age_', 'age')"
      ],
      "execution_count": 34,
      "outputs": [
        {
          "output_type": "execute_result",
          "data": {
            "text/html": [
              "<div>\n",
              "<style scoped>\n",
              "    .dataframe tbody tr th:only-of-type {\n",
              "        vertical-align: middle;\n",
              "    }\n",
              "\n",
              "    .dataframe tbody tr th {\n",
              "        vertical-align: top;\n",
              "    }\n",
              "\n",
              "    .dataframe thead th {\n",
              "        text-align: right;\n",
              "    }\n",
              "</style>\n",
              "<table border=\"1\" class=\"dataframe\">\n",
              "  <thead>\n",
              "    <tr style=\"text-align: right;\">\n",
              "      <th></th>\n",
              "      <th>name</th>\n",
              "      <th>test1</th>\n",
              "      <th>test2</th>\n",
              "      <th>teacher</th>\n",
              "      <th>age</th>\n",
              "    </tr>\n",
              "  </thead>\n",
              "  <tbody>\n",
              "    <tr>\n",
              "      <th>0</th>\n",
              "      <td>Adam</td>\n",
              "      <td>95.0</td>\n",
              "      <td>80</td>\n",
              "      <td>Ashby</td>\n",
              "      <td>15.0</td>\n",
              "    </tr>\n",
              "    <tr>\n",
              "      <th>1</th>\n",
              "      <td>Bob</td>\n",
              "      <td>81.0</td>\n",
              "      <td>82</td>\n",
              "      <td>Ashby</td>\n",
              "      <td>16.0</td>\n",
              "    </tr>\n",
              "    <tr>\n",
              "      <th>2</th>\n",
              "      <td>Dave</td>\n",
              "      <td>89.0</td>\n",
              "      <td>84</td>\n",
              "      <td>Jones</td>\n",
              "      <td>16.0</td>\n",
              "    </tr>\n",
              "    <tr>\n",
              "      <th>3</th>\n",
              "      <td>Fred</td>\n",
              "      <td>NaN</td>\n",
              "      <td>88</td>\n",
              "      <td>Jones</td>\n",
              "      <td>15.0</td>\n",
              "    </tr>\n",
              "  </tbody>\n",
              "</table>\n",
              "</div>"
            ],
            "text/plain": [
              "   name  test1  test2 teacher   age\n",
              "0  Adam   95.0     80   Ashby  15.0\n",
              "1   Bob   81.0     82   Ashby  16.0\n",
              "2  Dave   89.0     84   Jones  16.0\n",
              "3  Fred    NaN     88   Jones  15.0"
            ]
          },
          "metadata": {
            "tags": []
          },
          "execution_count": 34
        }
      ]
    },
    {
      "cell_type": "markdown",
      "metadata": {
        "id": "WJGOFSkamR-f",
        "colab_type": "text"
      },
      "source": [
        "# **统计**"
      ]
    },
    {
      "cell_type": "code",
      "metadata": {
        "id": "ojVlsStPmTRp",
        "colab_type": "code",
        "colab": {}
      },
      "source": [
        "import pandas as pd\n",
        "url = 'https://raw.githubusercontent.com/jackqk/pandas-note/master/data/tlocation.csv'\n",
        "df = pd.read_csv(url)\n",
        "df.head()"
      ],
      "execution_count": 0,
      "outputs": []
    },
    {
      "cell_type": "markdown",
      "metadata": {
        "id": "JBrSb68q7-O7",
        "colab_type": "text"
      },
      "source": [
        "## describe"
      ]
    },
    {
      "cell_type": "code",
      "metadata": {
        "id": "W2yXyGGbmVXs",
        "colab_type": "code",
        "colab": {}
      },
      "source": [
        "# 大概看一下，注意year因为是字符串，所以默认不会显示\n",
        "df.describe()"
      ],
      "execution_count": 0,
      "outputs": []
    },
    {
      "cell_type": "code",
      "metadata": {
        "id": "FCFaqNzk79NQ",
        "colab_type": "code",
        "colab": {}
      },
      "source": [
        "# 全部显示\n",
        "df.describe(include='all')"
      ],
      "execution_count": 0,
      "outputs": []
    },
    {
      "cell_type": "code",
      "metadata": {
        "id": "fSTMXVbHb-ty",
        "colab_type": "code",
        "colab": {}
      },
      "source": [
        "#中位数，就是describe中50%\n",
        "df.quantile()"
      ],
      "execution_count": 0,
      "outputs": []
    },
    {
      "cell_type": "code",
      "metadata": {
        "id": "xuN74YumcKgq",
        "colab_type": "code",
        "colab": {}
      },
      "source": [
        "df.quantile(q=[0.1, 0.9])"
      ],
      "execution_count": 0,
      "outputs": []
    },
    {
      "cell_type": "markdown",
      "metadata": {
        "id": "nxcR-BPocWn7",
        "colab_type": "text"
      },
      "source": [
        "## count、value_count"
      ]
    },
    {
      "cell_type": "code",
      "metadata": {
        "id": "uKd847p0cZqr",
        "colab_type": "code",
        "colab": {}
      },
      "source": [
        "# 返回个数：所有非NaN\n",
        "df.count()"
      ],
      "execution_count": 0,
      "outputs": []
    },
    {
      "cell_type": "code",
      "metadata": {
        "id": "PhTeO_N9pPrN",
        "colab_type": "code",
        "colab": {}
      },
      "source": [
        "# 因为year是字符串，所以用value_counts()查看是否有重复\n",
        "df['year'].value_counts()"
      ],
      "execution_count": 0,
      "outputs": []
    },
    {
      "cell_type": "markdown",
      "metadata": {
        "id": "ESc09eM5uT-h",
        "colab_type": "text"
      },
      "source": [
        "## rank"
      ]
    },
    {
      "cell_type": "code",
      "metadata": {
        "id": "feTmyEkUuVhJ",
        "colab_type": "code",
        "colab": {}
      },
      "source": [
        "# 给每一列都中的元素，都编上个序号\n",
        "df.rank()"
      ],
      "execution_count": 0,
      "outputs": []
    },
    {
      "cell_type": "code",
      "metadata": {
        "id": "yhWpqMyMusvv",
        "colab_type": "code",
        "colab": {}
      },
      "source": [
        "df.rank(ascending=False)"
      ],
      "execution_count": 0,
      "outputs": []
    },
    {
      "cell_type": "code",
      "metadata": {
        "id": "SO-s_640y0kk",
        "colab_type": "code",
        "colab": {}
      },
      "source": [
        "# 参数有average、min、max、first、dense\n",
        "df.rank(method='min')"
      ],
      "execution_count": 0,
      "outputs": []
    },
    {
      "cell_type": "markdown",
      "metadata": {
        "id": "Tq08NXaP1OuE",
        "colab_type": "text"
      },
      "source": [
        "## Correlation and Covariance"
      ]
    },
    {
      "cell_type": "code",
      "metadata": {
        "id": "IWm1H5VapgBP",
        "colab_type": "code",
        "colab": {}
      },
      "source": [
        "# Pearson Correlation Coefficient\n",
        "# 越接近1越相关，越接近-1越不想关\n",
        "df.corr()"
      ],
      "execution_count": 0,
      "outputs": []
    },
    {
      "cell_type": "code",
      "metadata": {
        "id": "gjYQIK9B1YLo",
        "colab_type": "code",
        "colab": {}
      },
      "source": [
        "df.corr(method='spearman')"
      ],
      "execution_count": 0,
      "outputs": []
    },
    {
      "cell_type": "code",
      "metadata": {
        "id": "CAE-dtbX1lOL",
        "colab_type": "code",
        "colab": {}
      },
      "source": [
        "# dataframe之间相关性比较\n",
        "df2 = df[['inches']] - 100\n",
        "df.corrwith(df2)"
      ],
      "execution_count": 0,
      "outputs": []
    },
    {
      "cell_type": "code",
      "metadata": {
        "id": "5DEKFMpI1uxL",
        "colab_type": "code",
        "colab": {}
      },
      "source": [
        "# pair-wise covariance\n",
        "df.cov()"
      ],
      "execution_count": 0,
      "outputs": []
    },
    {
      "cell_type": "markdown",
      "metadata": {
        "id": "VOqyp51aoLr3",
        "colab_type": "text"
      },
      "source": [
        "## Reductions\n",
        "collapse comluns into a single value"
      ]
    },
    {
      "cell_type": "code",
      "metadata": {
        "id": "05SyKofB51P_",
        "colab_type": "code",
        "colab": {}
      },
      "source": [
        "# sum\n",
        "print(df.sum())\n",
        "print()\n",
        "\n",
        "# sum numeric only\n",
        "df.sum(numeric_only=True)"
      ],
      "execution_count": 0,
      "outputs": []
    },
    {
      "cell_type": "code",
      "metadata": {
        "id": "3kpkkBan6MX_",
        "colab_type": "code",
        "colab": {}
      },
      "source": [
        "# multiple\n",
        "df.prod()"
      ],
      "execution_count": 0,
      "outputs": []
    },
    {
      "cell_type": "code",
      "metadata": {
        "id": "fLhNwciO6iQC",
        "colab_type": "code",
        "colab": {}
      },
      "source": [
        "# 平均数\n",
        "print(df.mean())\n",
        "print()\n",
        "print(df.mean(axis=1))"
      ],
      "execution_count": 0,
      "outputs": []
    },
    {
      "cell_type": "code",
      "metadata": {
        "id": "zTjyVziJ6lBc",
        "colab_type": "code",
        "colab": {}
      },
      "source": [
        "# variance\n",
        "df.var()"
      ],
      "execution_count": 0,
      "outputs": []
    },
    {
      "cell_type": "code",
      "metadata": {
        "id": "5odXWR566wo3",
        "colab_type": "code",
        "colab": {}
      },
      "source": [
        "# mad\n",
        "df.mad()"
      ],
      "execution_count": 0,
      "outputs": []
    },
    {
      "cell_type": "code",
      "metadata": {
        "id": "ygQCof9_605T",
        "colab_type": "code",
        "colab": {}
      },
      "source": [
        "# skew\n",
        "df.skew()"
      ],
      "execution_count": 0,
      "outputs": []
    },
    {
      "cell_type": "code",
      "metadata": {
        "id": "hk5ytE6Y60_T",
        "colab_type": "code",
        "colab": {}
      },
      "source": [
        "# kurt\n",
        "df.kurt()"
      ],
      "execution_count": 0,
      "outputs": []
    },
    {
      "cell_type": "code",
      "metadata": {
        "id": "AcQR-Sa568xi",
        "colab_type": "code",
        "colab": {}
      },
      "source": [
        "# df.idxmax() #报错\n",
        "df[['year', 'inches']].idxmax()"
      ],
      "execution_count": 0,
      "outputs": []
    },
    {
      "cell_type": "markdown",
      "metadata": {
        "id": "LThI7f6gqBtH",
        "colab_type": "text"
      },
      "source": [
        "# **Plotting**"
      ]
    },
    {
      "cell_type": "code",
      "metadata": {
        "id": "AWm7swLYqDTD",
        "colab_type": "code",
        "colab": {}
      },
      "source": [
        "import pandas as pd\n",
        "import matplotlib.pyplot as plt\n",
        "url = 'https://raw.githubusercontent.com/jackqk/pandas-note/master/data/sample1.csv'\n",
        "df = pd.read_csv(url)\n",
        "df"
      ],
      "execution_count": 0,
      "outputs": []
    },
    {
      "cell_type": "code",
      "metadata": {
        "id": "XOEmFiFzqNaK",
        "colab_type": "code",
        "colab": {}
      },
      "source": [
        "fig = plt.figure()\n",
        "df.plot()\n",
        "fig.savefig('/tmp/ex1.png')"
      ],
      "execution_count": 0,
      "outputs": []
    },
    {
      "cell_type": "code",
      "metadata": {
        "id": "M4fRopRTsBPV",
        "colab_type": "code",
        "colab": {}
      },
      "source": [
        "# 上图MILES看上去几乎为0，改善一下\n",
        "fig = plt.figure()\n",
        "ax = fig.add_subplot(111)\n",
        "df[['CUMUL', 'ELEVATION']].plot(ax=ax)\n",
        "df['MILES'].plot(secondary_y=True)\n",
        "plt.legend(loc='best')\n",
        "ax.set_ylabel('Elvation (feet)')\n",
        "ax.right_ax.set_ylabel('Distance(miles)')\n",
        "fig.savefig('/tmp/ex3.png')"
      ],
      "execution_count": 0,
      "outputs": []
    },
    {
      "cell_type": "code",
      "metadata": {
        "id": "DZ5umZixuXLN",
        "colab_type": "code",
        "colab": {}
      },
      "source": [
        "fig = plt.figure()\n",
        "ax = fig.add_subplot(111)\n",
        "df.plot(x='LOCATION', y=['ELEVATION', 'CUMUL'], ax=ax)\n",
        "df.plot(x='LOCATION', y='MILES', secondary_y=True, ax=ax)\n",
        "ax.set_ylabel('Elevation (feet)')\n",
        "ax.right_ax.set_ylabel('Distance (miles)')\n",
        "fig.autofmt_xdate()\n",
        "fig.savefig('/tmp/df-ex4.png', bbox_inches='tight')"
      ],
      "execution_count": 0,
      "outputs": []
    },
    {
      "cell_type": "code",
      "metadata": {
        "id": "tsE62HG0ult1",
        "colab_type": "code",
        "colab": {}
      },
      "source": [
        "fig = plt.figure()\n",
        "ax = fig.add_subplot(111)\n",
        "df.plot(x='MILES', y=['ELEVATION', 'CUMUL'], ax=ax)\n",
        "plt.legend(loc='best')\n",
        "ax.set_ylabel('Elevation (feet)')"
      ],
      "execution_count": 0,
      "outputs": []
    }
  ]
}