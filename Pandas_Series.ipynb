{
  "nbformat": 4,
  "nbformat_minor": 0,
  "metadata": {
    "colab": {
      "name": "Pandas Series.ipynb",
      "provenance": [],
      "collapsed_sections": [
        "Vwv1KHIPEZa-",
        "aeBfLtKXSCwv",
        "rXUdNxA_SPia",
        "Or-mL14GQ-5Z",
        "UxD4zP10UU04",
        "drSKtgEyZMPl",
        "Yjw7fzwHX9jK",
        "sS116RMJfOfA",
        "I9q5vQzKeQBQ"
      ],
      "include_colab_link": true
    },
    "kernelspec": {
      "name": "python3",
      "display_name": "Python 3"
    }
  },
  "cells": [
    {
      "cell_type": "markdown",
      "metadata": {
        "id": "view-in-github",
        "colab_type": "text"
      },
      "source": [
        "<a href=\"https://colab.research.google.com/github/jackqk/pandas-note/blob/master/Pandas_Series.ipynb\" target=\"_parent\"><img src=\"https://colab.research.google.com/assets/colab-badge.svg\" alt=\"Open In Colab\"/></a>"
      ]
    },
    {
      "cell_type": "markdown",
      "metadata": {
        "id": "Gm-gzAH8CBAn",
        "colab_type": "text"
      },
      "source": [
        "# The Series Data Structure"
      ]
    },
    {
      "cell_type": "code",
      "metadata": {
        "id": "PR1K8-6CCU1e",
        "colab_type": "code",
        "colab": {}
      },
      "source": [
        "import pandas as pd\n",
        "# pd.Series?caocaocao"
      ],
      "execution_count": 0,
      "outputs": []
    },
    {
      "cell_type": "markdown",
      "metadata": {
        "id": "Vwv1KHIPEZa-",
        "colab_type": "text"
      },
      "source": [
        "# 一、创建Series"
      ]
    },
    {
      "cell_type": "markdown",
      "metadata": {
        "id": "aeBfLtKXSCwv",
        "colab_type": "text"
      },
      "source": [
        "## 从list创建\n",
        "自动帮你生成从0开始的整数索引"
      ]
    },
    {
      "cell_type": "code",
      "metadata": {
        "id": "lvAOVrQ7CYVR",
        "colab_type": "code",
        "outputId": "9dfc7a06-fc11-4939-bf73-498a6de9b2f7",
        "colab": {
          "base_uri": "https://localhost:8080/",
          "height": 84
        }
      },
      "source": [
        "#注意dtype是object\n",
        "animals = ['tiger', 'bear', 'moose']\n",
        "pd.Series(animals)"
      ],
      "execution_count": 0,
      "outputs": [
        {
          "output_type": "execute_result",
          "data": {
            "text/plain": [
              "0    tiger\n",
              "1     bear\n",
              "2    moose\n",
              "dtype: object"
            ]
          },
          "metadata": {
            "tags": []
          },
          "execution_count": 2
        }
      ]
    },
    {
      "cell_type": "code",
      "metadata": {
        "id": "SAE71eWkQCg5",
        "colab_type": "code",
        "outputId": "a785c459-da15-4d27-c3ea-fde459b79455",
        "colab": {
          "base_uri": "https://localhost:8080/",
          "height": 84
        }
      },
      "source": [
        "numbers = [1,2,3]\n",
        "pd.Series(numbers)"
      ],
      "execution_count": 0,
      "outputs": [
        {
          "output_type": "execute_result",
          "data": {
            "text/plain": [
              "0    1\n",
              "1    2\n",
              "2    3\n",
              "dtype: int64"
            ]
          },
          "metadata": {
            "tags": []
          },
          "execution_count": 3
        }
      ]
    },
    {
      "cell_type": "code",
      "metadata": {
        "id": "m8CWDFI8vC65",
        "colab_type": "code",
        "outputId": "eb90e7f1-d275-473d-e865-869df6688403",
        "colab": {
          "base_uri": "https://localhost:8080/",
          "height": 84
        }
      },
      "source": [
        "s = pd.Series(['tiger', 'bear', 'moose'], index = ['India', 'America', 'Cannad'])\n",
        "s"
      ],
      "execution_count": 0,
      "outputs": [
        {
          "output_type": "execute_result",
          "data": {
            "text/plain": [
              "India      tiger\n",
              "America     bear\n",
              "Cannad     moose\n",
              "dtype: object"
            ]
          },
          "metadata": {
            "tags": []
          },
          "execution_count": 2
        }
      ]
    },
    {
      "cell_type": "markdown",
      "metadata": {
        "id": "rXUdNxA_SPia",
        "colab_type": "text"
      },
      "source": [
        "## 从dictionary创建\n",
        "可以给索引命名"
      ]
    },
    {
      "cell_type": "code",
      "metadata": {
        "id": "8Q4KyYkLSc9-",
        "colab_type": "code",
        "outputId": "51805e4f-baea-41fc-bba0-86280940a530",
        "colab": {
          "base_uri": "https://localhost:8080/",
          "height": 101
        }
      },
      "source": [
        "sports = {'Archery' : 'Bhutan',\n",
        "         'Golf' : 'Scotland',\n",
        "         'Sumo' : 'Japan',\n",
        "         'Taekwondo' : 'South Koear' }\n",
        "s = pd.Series(sports)\n",
        "s"
      ],
      "execution_count": 0,
      "outputs": [
        {
          "output_type": "execute_result",
          "data": {
            "text/plain": [
              "Archery           Bhutan\n",
              "Golf            Scotland\n",
              "Sumo               Japan\n",
              "Taekwondo    South Koear\n",
              "dtype: object"
            ]
          },
          "metadata": {
            "tags": []
          },
          "execution_count": 4
        }
      ]
    },
    {
      "cell_type": "code",
      "metadata": {
        "id": "uZ-6gkGfTwFI",
        "colab_type": "code",
        "outputId": "68119622-3aaf-437e-935c-d394746049c8",
        "colab": {
          "base_uri": "https://localhost:8080/",
          "height": 34
        }
      },
      "source": [
        "s.index"
      ],
      "execution_count": 0,
      "outputs": [
        {
          "output_type": "execute_result",
          "data": {
            "text/plain": [
              "Index(['Archery', 'Golf', 'Sumo', 'Taekwondo'], dtype='object')"
            ]
          },
          "metadata": {
            "tags": []
          },
          "execution_count": 5
        }
      ]
    },
    {
      "cell_type": "markdown",
      "metadata": {
        "id": "Or-mL14GQ-5Z",
        "colab_type": "text"
      },
      "source": [
        "## pandas对python的None处理"
      ]
    },
    {
      "cell_type": "code",
      "metadata": {
        "id": "tdF4WAzuROxl",
        "colab_type": "code",
        "outputId": "e1c7db83-f89e-4f42-b555-ce1ae6aaceba",
        "colab": {
          "base_uri": "https://localhost:8080/",
          "height": 84
        }
      },
      "source": [
        "#自动转为Object\n",
        "animals = ['tiger', 'bear', None]\n",
        "pd.Series(animals)"
      ],
      "execution_count": 0,
      "outputs": [
        {
          "output_type": "execute_result",
          "data": {
            "text/plain": [
              "0    tiger\n",
              "1     bear\n",
              "2     None\n",
              "dtype: object"
            ]
          },
          "metadata": {
            "tags": []
          },
          "execution_count": 8
        }
      ]
    },
    {
      "cell_type": "code",
      "metadata": {
        "id": "T2nCEVcZRUBq",
        "colab_type": "code",
        "outputId": "e29b74f5-dd4a-48d7-9762-95e371a88940",
        "colab": {
          "base_uri": "https://localhost:8080/",
          "height": 84
        }
      },
      "source": [
        "#自动转为np.nan\n",
        "numbers = [1,2,None]\n",
        "pd.Series(numbers)"
      ],
      "execution_count": 0,
      "outputs": [
        {
          "output_type": "execute_result",
          "data": {
            "text/plain": [
              "0    1.0\n",
              "1    2.0\n",
              "2    NaN\n",
              "dtype: float64"
            ]
          },
          "metadata": {
            "tags": []
          },
          "execution_count": 9
        }
      ]
    },
    {
      "cell_type": "code",
      "metadata": {
        "id": "n1ACRrXCRbml",
        "colab_type": "code",
        "outputId": "258c5be2-2a24-4881-a1c7-e679cb1b518b",
        "colab": {
          "base_uri": "https://localhost:8080/",
          "height": 67
        }
      },
      "source": [
        "#这个NaN十分有趣\n",
        "import numpy as np\n",
        "\n",
        "print(np.nan == None)\n",
        "print(np.nan == np.nan)\n",
        "  print(np.isnan(np.nan))"
      ],
      "execution_count": 0,
      "outputs": [
        {
          "output_type": "stream",
          "text": [
            "False\n",
            "False\n",
            "True\n"
          ],
          "name": "stdout"
        }
      ]
    },
    {
      "cell_type": "markdown",
      "metadata": {
        "id": "Pkej-lZuRxzS",
        "colab_type": "text"
      },
      "source": [
        "# 二、查询/选择"
      ]
    },
    {
      "cell_type": "markdown",
      "metadata": {
        "id": "UxD4zP10UU04",
        "colab_type": "text"
      },
      "source": [
        "## 像list，dict那样查询"
      ]
    },
    {
      "cell_type": "code",
      "metadata": {
        "id": "8YRqWGtwZHLE",
        "colab_type": "code",
        "colab": {}
      },
      "source": [
        "sports = {'Archery' : 'Bhutan',\n",
        "         'Golf' : 'Scotland',\n",
        "         'Sumo' : 'Japan',\n",
        "         'Taekwondo' : 'South Koear' }\n",
        "s = pd.Series(sports)"
      ],
      "execution_count": 0,
      "outputs": []
    },
    {
      "cell_type": "code",
      "metadata": {
        "id": "uyKqDpBTZJ4f",
        "colab_type": "code",
        "outputId": "fc1837af-c935-47c1-b83d-59863e74a484",
        "colab": {
          "base_uri": "https://localhost:8080/",
          "height": 34
        }
      },
      "source": [
        "#位置查询（如同list）\n",
        "#这之间有一个意外，就是当index为整数时，那么这种查询就会失效\n",
        "s[0]"
      ],
      "execution_count": 0,
      "outputs": [
        {
          "output_type": "execute_result",
          "data": {
            "text/plain": [
              "'Bhutan'"
            ]
          },
          "metadata": {
            "tags": []
          },
          "execution_count": 12
        }
      ]
    },
    {
      "cell_type": "code",
      "metadata": {
        "id": "Op5riyiZZKvf",
        "colab_type": "code",
        "outputId": "df049a8f-f2a8-4f56-8d4d-957c8d90f633",
        "colab": {
          "base_uri": "https://localhost:8080/",
          "height": 34
        }
      },
      "source": [
        "#index name\n",
        "s['Golf']"
      ],
      "execution_count": 0,
      "outputs": [
        {
          "output_type": "execute_result",
          "data": {
            "text/plain": [
              "'Scotland'"
            ]
          },
          "metadata": {
            "tags": []
          },
          "execution_count": 13
        }
      ]
    },
    {
      "cell_type": "markdown",
      "metadata": {
        "id": "drSKtgEyZMPl",
        "colab_type": "text"
      },
      "source": [
        "## iloc、loc查询\n",
        "loc如果传入的没有的列，这会创建一个新的列"
      ]
    },
    {
      "cell_type": "code",
      "metadata": {
        "id": "dxXYO6O4ZSaf",
        "colab_type": "code",
        "outputId": "d2b1d5ad-234c-4800-a355-ccea5398b004",
        "colab": {
          "base_uri": "https://localhost:8080/",
          "height": 34
        }
      },
      "source": [
        "#查第几行\n",
        "s.iloc[1]"
      ],
      "execution_count": 0,
      "outputs": [
        {
          "output_type": "execute_result",
          "data": {
            "text/plain": [
              "'Scotland'"
            ]
          },
          "metadata": {
            "tags": []
          },
          "execution_count": 14
        }
      ]
    },
    {
      "cell_type": "code",
      "metadata": {
        "id": "9R7V_l6JZV4N",
        "colab_type": "code",
        "outputId": "dc3aed4f-f887-4b24-874b-633a1e36f47b",
        "colab": {
          "base_uri": "https://localhost:8080/",
          "height": 34
        }
      },
      "source": [
        "#列名查找\n",
        "s.loc['Golf']"
      ],
      "execution_count": 0,
      "outputs": [
        {
          "output_type": "execute_result",
          "data": {
            "text/plain": [
              "'Scotland'"
            ]
          },
          "metadata": {
            "tags": []
          },
          "execution_count": 15
        }
      ]
    },
    {
      "cell_type": "markdown",
      "metadata": {
        "id": "aRNHF6D_U3T3",
        "colab_type": "text"
      },
      "source": [
        "## 当索引是整数是时出现的问题"
      ]
    },
    {
      "cell_type": "code",
      "metadata": {
        "id": "jdJP2EllZZuS",
        "colab_type": "code",
        "colab": {}
      },
      "source": [
        "#当索引是整数时，\n",
        "sports = {99: 'Bhutan',\n",
        "          100: 'Scotland',\n",
        "          101: 'Japan',\n",
        "          102: 'South Korea'}\n",
        "s = pd.Series(sports)"
      ],
      "execution_count": 0,
      "outputs": []
    },
    {
      "cell_type": "code",
      "metadata": {
        "id": "iWiRPOZhaBOE",
        "colab_type": "code",
        "colab": {}
      },
      "source": [
        "#出错（不能以list方式来查找）\n",
        "s[0]"
      ],
      "execution_count": 0,
      "outputs": []
    },
    {
      "cell_type": "code",
      "metadata": {
        "id": "mk_YvsejaCJG",
        "colab_type": "code",
        "outputId": "23696d36-e1fe-4916-db5f-609c99ca3b99",
        "colab": {
          "base_uri": "https://localhost:8080/",
          "height": 34
        }
      },
      "source": [
        "s.iloc[0]"
      ],
      "execution_count": 0,
      "outputs": [
        {
          "output_type": "execute_result",
          "data": {
            "text/plain": [
              "'Bhutan'"
            ]
          },
          "metadata": {
            "tags": []
          },
          "execution_count": 21
        }
      ]
    },
    {
      "cell_type": "markdown",
      "metadata": {
        "id": "GVhHFsGq1UMe",
        "colab_type": "text"
      },
      "source": [
        "## 选择多个index"
      ]
    },
    {
      "cell_type": "code",
      "metadata": {
        "id": "2kFZU-FZ5RWY",
        "colab_type": "code",
        "colab": {}
      },
      "source": [
        "original_sports = pd.Series({'Archery': 'Bhutan',\n",
        "                             'Golf': 'Scotland',\n",
        "                             'Sumo': 'Japan',\n",
        "                             'Taekwondo': 'South Korea'})\n",
        "cricket_loving_countries = pd.Series(['Australia',\n",
        "                                      'Barbados',\n",
        "                                      'Pakistan',\n",
        "                                      'England'], \n",
        "                                   index=['Cricket',\n",
        "                                          'Cricket',\n",
        "                                          'Cricket',\n",
        "                                          'Cricket'])\n",
        "all_countries = original_sports.append(cricket_loving_countries)"
      ],
      "execution_count": 0,
      "outputs": []
    },
    {
      "cell_type": "code",
      "metadata": {
        "id": "BkVpr05PlDqe",
        "colab_type": "code",
        "outputId": "198dc62f-ca84-4870-bfe1-c3ef38250ca1",
        "colab": {
          "base_uri": "https://localhost:8080/",
          "height": 101
        }
      },
      "source": [
        "# 拥有相同index\n",
        "all_countries['Cricket']"
      ],
      "execution_count": 0,
      "outputs": [
        {
          "output_type": "execute_result",
          "data": {
            "text/plain": [
              "Cricket    Australia\n",
              "Cricket     Barbados\n",
              "Cricket     Pakistan\n",
              "Cricket      England\n",
              "dtype: object"
            ]
          },
          "metadata": {
            "tags": []
          },
          "execution_count": 49
        }
      ]
    },
    {
      "cell_type": "code",
      "metadata": {
        "id": "ArO4rNGQnHli",
        "colab_type": "code",
        "outputId": "6c2aae22-6684-48be-c30c-8840895b6d38",
        "colab": {
          "base_uri": "https://localhost:8080/",
          "height": 84
        }
      },
      "source": [
        "# 切片,可以选择多个Index\n",
        "all_countries[0:3]"
      ],
      "execution_count": 0,
      "outputs": [
        {
          "output_type": "execute_result",
          "data": {
            "text/plain": [
              "Archery      Bhutan\n",
              "Golf       Scotland\n",
              "Sumo          Japan\n",
              "dtype: object"
            ]
          },
          "metadata": {
            "tags": []
          },
          "execution_count": 50
        }
      ]
    },
    {
      "cell_type": "code",
      "metadata": {
        "id": "2sAgEsml0azG",
        "colab_type": "code",
        "colab": {}
      },
      "source": [
        "# 选指定几个，暂时未解决\n"
      ],
      "execution_count": 0,
      "outputs": []
    },
    {
      "cell_type": "markdown",
      "metadata": {
        "id": "i99D4I71aWEQ",
        "colab_type": "text"
      },
      "source": [
        "# 三、Operation"
      ]
    },
    {
      "cell_type": "markdown",
      "metadata": {
        "id": "Yjw7fzwHX9jK",
        "colab_type": "text"
      },
      "source": [
        "## 遍历\n",
        "在遍历前，想想是否能够使用向量化，因为更快"
      ]
    },
    {
      "cell_type": "markdown",
      "metadata": {
        "id": "VSEylFUs5T6_",
        "colab_type": "text"
      },
      "source": [
        "**方法一：**<br>"
      ]
    },
    {
      "cell_type": "code",
      "metadata": {
        "id": "7MnTlAmDeKnc",
        "colab_type": "code",
        "outputId": "c66f2c20-d201-43ba-9a91-bc90604f2e80",
        "colab": {
          "base_uri": "https://localhost:8080/",
          "height": 84
        }
      },
      "source": [
        "#默认遍历value\n",
        "#可以用s.keys()方法，来指定遍历什么\n",
        "s = pd.Series([100.0, 110.0, 130.0,22.0])\n",
        "for item in s:\n",
        "    print(item)"
      ],
      "execution_count": 0,
      "outputs": [
        {
          "output_type": "stream",
          "text": [
            "100.0\n",
            "110.0\n",
            "130.0\n",
            "22.0\n"
          ],
          "name": "stdout"
        }
      ]
    },
    {
      "cell_type": "markdown",
      "metadata": {
        "id": "Td5VjvTV6l-w",
        "colab_type": "text"
      },
      "source": [
        "**方法二：**"
      ]
    },
    {
      "cell_type": "code",
      "metadata": {
        "id": "oWgIwMP8g7K6",
        "colab_type": "code",
        "outputId": "7d23f93a-2bae-4b73-df2a-74030bae7a1f",
        "colab": {
          "base_uri": "https://localhost:8080/",
          "height": 101
        }
      },
      "source": [
        "#key value都遍历出来\n",
        "for key, value in s.iteritems():\n",
        "  s.at[key] = value + 20\n",
        "s"
      ],
      "execution_count": 0,
      "outputs": [
        {
          "output_type": "execute_result",
          "data": {
            "text/plain": [
              "0    120.0\n",
              "1    130.0\n",
              "2    150.0\n",
              "3     42.0\n",
              "dtype: float64"
            ]
          },
          "metadata": {
            "tags": []
          },
          "execution_count": 9
        }
      ]
    },
    {
      "cell_type": "markdown",
      "metadata": {
        "id": "sS116RMJfOfA",
        "colab_type": "text"
      },
      "source": [
        "## 数学运算"
      ]
    },
    {
      "cell_type": "code",
      "metadata": {
        "id": "gyD7qiPUfQ1i",
        "colab_type": "code",
        "outputId": "6c76571c-9d68-40f6-d266-cee9c85b1c2e",
        "colab": {
          "base_uri": "https://localhost:8080/",
          "height": 101
        }
      },
      "source": [
        "s = pd.Series([100.0, 110.0, 130.0,22.0])\n",
        "s"
      ],
      "execution_count": 0,
      "outputs": [
        {
          "output_type": "execute_result",
          "data": {
            "text/plain": [
              "0    100.0\n",
              "1    110.0\n",
              "2    130.0\n",
              "3     22.0\n",
              "dtype: float64"
            ]
          },
          "metadata": {
            "tags": []
          },
          "execution_count": 65
        }
      ]
    },
    {
      "cell_type": "code",
      "metadata": {
        "id": "REjsNpQRjHjm",
        "colab_type": "code",
        "outputId": "6f91042a-a039-4c87-d2bc-000b18f7cada",
        "colab": {
          "base_uri": "https://localhost:8080/",
          "height": 34
        }
      },
      "source": [
        "np.sum(s)"
      ],
      "execution_count": 0,
      "outputs": [
        {
          "output_type": "execute_result",
          "data": {
            "text/plain": [
              "362.0"
            ]
          },
          "metadata": {
            "tags": []
          },
          "execution_count": 68
        }
      ]
    },
    {
      "cell_type": "code",
      "metadata": {
        "id": "ZS2rUjatjB4J",
        "colab_type": "code",
        "outputId": "79811f9c-b251-4766-dde9-f16a400d9640",
        "colab": {
          "base_uri": "https://localhost:8080/",
          "height": 101
        }
      },
      "source": [
        "s += 2\n",
        "s"
      ],
      "execution_count": 0,
      "outputs": [
        {
          "output_type": "execute_result",
          "data": {
            "text/plain": [
              "0    102.0\n",
              "1    112.0\n",
              "2    132.0\n",
              "3     24.0\n",
              "dtype: float64"
            ]
          },
          "metadata": {
            "tags": []
          },
          "execution_count": 69
        }
      ]
    },
    {
      "cell_type": "code",
      "metadata": {
        "id": "Y-VlqXeYjOOj",
        "colab_type": "code",
        "outputId": "410a7961-6ec2-4f98-f668-ab3bff96de26",
        "colab": {
          "base_uri": "https://localhost:8080/",
          "height": 101
        }
      },
      "source": [
        "s = s ** 2\n",
        "s"
      ],
      "execution_count": 0,
      "outputs": [
        {
          "output_type": "execute_result",
          "data": {
            "text/plain": [
              "0    10404.0\n",
              "1    12544.0\n",
              "2    17424.0\n",
              "3      576.0\n",
              "dtype: float64"
            ]
          },
          "metadata": {
            "tags": []
          },
          "execution_count": 70
        }
      ]
    },
    {
      "cell_type": "markdown",
      "metadata": {
        "id": "I9q5vQzKeQBQ",
        "colab_type": "text"
      },
      "source": [
        "## 关于速度"
      ]
    },
    {
      "cell_type": "code",
      "metadata": {
        "id": "xrb97ZGUf6dZ",
        "colab_type": "code",
        "outputId": "05e76d25-0b73-4e02-a17d-6bee8cf23013",
        "colab": {
          "base_uri": "https://localhost:8080/",
          "height": 118
        }
      },
      "source": [
        "s = pd.Series(np.random.randint(0, 1000, 10000))\n",
        "s.head()"
      ],
      "execution_count": 0,
      "outputs": [
        {
          "output_type": "execute_result",
          "data": {
            "text/plain": [
              "0    567\n",
              "1    553\n",
              "2    820\n",
              "3    342\n",
              "4    420\n",
              "dtype: int64"
            ]
          },
          "metadata": {
            "tags": []
          },
          "execution_count": 33
        }
      ]
    },
    {
      "cell_type": "code",
      "metadata": {
        "id": "ZFPUyh9PeoUb",
        "colab_type": "code",
        "outputId": "8f23c4ef-ad46-48ff-93a0-da2b70eb9ebc",
        "colab": {
          "base_uri": "https://localhost:8080/",
          "height": 34
        }
      },
      "source": [
        "%%timeit -n 100\n",
        "#下面的执行100次，取最佳时间\n",
        "summary = 0\n",
        "for item in s:\n",
        "  summary += item"
      ],
      "execution_count": 0,
      "outputs": [
        {
          "output_type": "stream",
          "text": [
            "100 loops, best of 3: 1.08 ms per loop\n"
          ],
          "name": "stdout"
        }
      ]
    },
    {
      "cell_type": "code",
      "metadata": {
        "id": "S30Q1JqBfbI5",
        "colab_type": "code",
        "outputId": "af9ec161-a645-42cc-d911-19185938dfdd",
        "colab": {
          "base_uri": "https://localhost:8080/",
          "height": 34
        }
      },
      "source": [
        "%%timeit -n 100\n",
        "summary = np.sum(s)"
      ],
      "execution_count": 0,
      "outputs": [
        {
          "output_type": "stream",
          "text": [
            "100 loops, best of 3: 130 µs per loop\n"
          ],
          "name": "stdout"
        }
      ]
    },
    {
      "cell_type": "markdown",
      "metadata": {
        "id": "QTsOIUvLfq3q",
        "colab_type": "text"
      },
      "source": [
        "## append\n"
      ]
    },
    {
      "cell_type": "code",
      "metadata": {
        "id": "fj0dUWyKk-qV",
        "colab_type": "code",
        "colab": {}
      },
      "source": [
        "original_sports = pd.Series({'Archery': 'Bhutan',\n",
        "                             'Golf': 'Scotland',\n",
        "                             'Sumo': 'Japan',\n",
        "                             'Taekwondo': 'South Korea'})\n",
        "cricket_loving_countries = pd.Series(['Australia',\n",
        "                                      'Barbados',\n",
        "                                      'Pakistan',\n",
        "                                      'England'], \n",
        "                                   index=['Cricket',\n",
        "                                          'Cricket',\n",
        "                                          'Cricket',\n",
        "                                          'Cricket'])\n",
        "all_countries = original_sports.append(cricket_loving_countries)"
      ],
      "execution_count": 0,
      "outputs": []
    },
    {
      "cell_type": "code",
      "metadata": {
        "id": "xTvj1Ewgk_FD",
        "colab_type": "code",
        "outputId": "eb15071d-66ed-4e0a-b161-94f411129308",
        "colab": {
          "base_uri": "https://localhost:8080/",
          "height": 101
        }
      },
      "source": [
        "#上面用了append之后，并没有改变\n",
        "original_sports"
      ],
      "execution_count": 0,
      "outputs": [
        {
          "output_type": "execute_result",
          "data": {
            "text/plain": [
              "Archery           Bhutan\n",
              "Golf            Scotland\n",
              "Sumo               Japan\n",
              "Taekwondo    South Korea\n",
              "dtype: object"
            ]
          },
          "metadata": {
            "tags": []
          },
          "execution_count": 72
        }
      ]
    },
    {
      "cell_type": "code",
      "metadata": {
        "id": "K05o0OS8lAbE",
        "colab_type": "code",
        "outputId": "cc8eb65b-3589-4073-c596-9760cd96fd1e",
        "colab": {
          "base_uri": "https://localhost:8080/",
          "height": 101
        }
      },
      "source": [
        "cricket_loving_countries"
      ],
      "execution_count": 0,
      "outputs": [
        {
          "output_type": "execute_result",
          "data": {
            "text/plain": [
              "Cricket    Australia\n",
              "Cricket     Barbados\n",
              "Cricket     Pakistan\n",
              "Cricket      England\n",
              "dtype: object"
            ]
          },
          "metadata": {
            "tags": []
          },
          "execution_count": 73
        }
      ]
    },
    {
      "cell_type": "code",
      "metadata": {
        "id": "xfpxzlzXlBtz",
        "colab_type": "code",
        "outputId": "e9b23eff-7377-430b-fa40-7dd88351ad73",
        "colab": {
          "base_uri": "https://localhost:8080/",
          "height": 169
        }
      },
      "source": [
        "all_countries"
      ],
      "execution_count": 0,
      "outputs": [
        {
          "output_type": "execute_result",
          "data": {
            "text/plain": [
              "Archery           Bhutan\n",
              "Golf            Scotland\n",
              "Sumo               Japan\n",
              "Taekwondo    South Korea\n",
              "Cricket        Australia\n",
              "Cricket         Barbados\n",
              "Cricket         Pakistan\n",
              "Cricket          England\n",
              "dtype: object"
            ]
          },
          "metadata": {
            "tags": []
          },
          "execution_count": 74
        }
      ]
    }
  ]
}