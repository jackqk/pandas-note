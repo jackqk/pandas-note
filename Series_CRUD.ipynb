{
  "nbformat": 4,
  "nbformat_minor": 0,
  "metadata": {
    "colab": {
      "name": "Series CRUD.ipynb",
      "provenance": [],
      "collapsed_sections": [
        "bWzBwToUsiCR",
        "-qHM5fmdoi35",
        "vmCgShHBD8KS"
      ],
      "include_colab_link": true
    },
    "kernelspec": {
      "name": "python3",
      "display_name": "Python 3"
    }
  },
  "cells": [
    {
      "cell_type": "markdown",
      "metadata": {
        "id": "view-in-github",
        "colab_type": "text"
      },
      "source": [
        "<a href=\"https://colab.research.google.com/github/jackqk/pandas-note/blob/master/Series_CRUD.ipynb\" target=\"_parent\"><img src=\"https://colab.research.google.com/assets/colab-badge.svg\" alt=\"Open In Colab\"/></a>"
      ]
    },
    {
      "cell_type": "markdown",
      "metadata": {
        "id": "ZqaneAzise7x",
        "colab_type": "text"
      },
      "source": [
        "# Series CRUD"
      ]
    },
    {
      "cell_type": "code",
      "metadata": {
        "id": "gixEnKSUuFMM",
        "colab_type": "code",
        "colab": {}
      },
      "source": [
        "import pandas as pd\n",
        "import numpy as np"
      ],
      "execution_count": 0,
      "outputs": []
    },
    {
      "cell_type": "markdown",
      "metadata": {
        "id": "bWzBwToUsiCR",
        "colab_type": "text"
      },
      "source": [
        "# 一、Creation"
      ]
    },
    {
      "cell_type": "markdown",
      "metadata": {
        "id": "BcCux7V35Upp",
        "colab_type": "text"
      },
      "source": [
        "## 1.通过list创建"
      ]
    },
    {
      "cell_type": "code",
      "metadata": {
        "id": "sNnmjzuesk1G",
        "colab_type": "code",
        "outputId": "bf362e03-82cc-47d7-e689-802382e749c1",
        "colab": {
          "base_uri": "https://localhost:8080/",
          "height": 101
        }
      },
      "source": [
        "# index不是unique\n",
        "g1 = pd.Series([10, 7, 1, 22], index=['1968', '1969', '1970', '1970'], name='George Songs')\n",
        "g1"
      ],
      "execution_count": 3,
      "outputs": [
        {
          "output_type": "execute_result",
          "data": {
            "text/plain": [
              "1968    10\n",
              "1969     7\n",
              "1970     1\n",
              "1970    22\n",
              "Name: George Songs, dtype: int64"
            ]
          },
          "metadata": {
            "tags": []
          },
          "execution_count": 3
        }
      ]
    },
    {
      "cell_type": "markdown",
      "metadata": {
        "id": "RDct-_XV5X-b",
        "colab_type": "text"
      },
      "source": [
        "## 2.通过dict创建"
      ]
    },
    {
      "cell_type": "code",
      "metadata": {
        "id": "K9p6LAg8uSza",
        "colab_type": "code",
        "colab": {
          "base_uri": "https://localhost:8080/",
          "height": 84
        },
        "outputId": "773d8e17-1663-45e5-b757-3200cb1b496a"
      },
      "source": [
        "\n",
        "# 值显示了一个1970，因为dict本身就是不能重复的。\n",
        "g2 = pd.Series({'1968':10, '1969':7, '1970':1, '1970':22})\n",
        "g2"
      ],
      "execution_count": 4,
      "outputs": [
        {
          "output_type": "execute_result",
          "data": {
            "text/plain": [
              "1968    10\n",
              "1969     7\n",
              "1970    22\n",
              "dtype: int64"
            ]
          },
          "metadata": {
            "tags": []
          },
          "execution_count": 4
        }
      ]
    },
    {
      "cell_type": "markdown",
      "metadata": {
        "id": "-qHM5fmdoi35",
        "colab_type": "text"
      },
      "source": [
        "# 二、Reading / Selecting"
      ]
    },
    {
      "cell_type": "code",
      "metadata": {
        "id": "cwY-Yaxy9PiR",
        "colab_type": "code",
        "colab": {
          "base_uri": "https://localhost:8080/",
          "height": 0
        },
        "outputId": "2f045b51-171c-4f24-cd0e-3026eec7372f"
      },
      "source": [
        "# index不是unique\n",
        "g1 = pd.Series([10, 7, 1, 22], index=['1968', '1969', '1970', '1970'], name='George Songs')\n",
        "g1"
      ],
      "execution_count": 5,
      "outputs": [
        {
          "output_type": "execute_result",
          "data": {
            "text/plain": [
              "1968    10\n",
              "1969     7\n",
              "1970     1\n",
              "1970    22\n",
              "Name: George Songs, dtype: int64"
            ]
          },
          "metadata": {
            "tags": []
          },
          "execution_count": 5
        }
      ]
    },
    {
      "cell_type": "markdown",
      "metadata": {
        "id": "wG69ROGGokJM",
        "colab_type": "text"
      },
      "source": [
        "## index"
      ]
    },
    {
      "cell_type": "code",
      "metadata": {
        "id": "leR2txff5SC1",
        "colab_type": "code",
        "colab": {
          "base_uri": "https://localhost:8080/",
          "height": 0
        },
        "outputId": "01447d70-2d4b-4016-b7d4-7c70fe0867c0"
      },
      "source": [
        "# 只有一个结果：返回scalar value\n",
        "g1['1968']"
      ],
      "execution_count": 6,
      "outputs": [
        {
          "output_type": "execute_result",
          "data": {
            "text/plain": [
              "10"
            ]
          },
          "metadata": {
            "tags": []
          },
          "execution_count": 6
        }
      ]
    },
    {
      "cell_type": "code",
      "metadata": {
        "id": "yjEevWGs5cQB",
        "colab_type": "code",
        "colab": {
          "base_uri": "https://localhost:8080/",
          "height": 0
        },
        "outputId": "01a9abaf-f126-4273-fd40-65b44c028bd2"
      },
      "source": [
        "# 多个结果：返回Series\n",
        "g1['1970']"
      ],
      "execution_count": 7,
      "outputs": [
        {
          "output_type": "execute_result",
          "data": {
            "text/plain": [
              "1970     1\n",
              "1970    22\n",
              "Name: George Songs, dtype: int64"
            ]
          },
          "metadata": {
            "tags": []
          },
          "execution_count": 7
        }
      ]
    },
    {
      "cell_type": "markdown",
      "metadata": {
        "id": "eb43Fsku8pJc",
        "colab_type": "text"
      },
      "source": [
        "## loc、iloc"
      ]
    },
    {
      "cell_type": "code",
      "metadata": {
        "id": "OAvkb2aP8q30",
        "colab_type": "code",
        "colab": {
          "base_uri": "https://localhost:8080/",
          "height": 0
        },
        "outputId": "ec0b092f-481c-41ca-f374-395941e8fd20"
      },
      "source": [
        "# 其实就是index查询\n",
        "g1.loc['1968']"
      ],
      "execution_count": 8,
      "outputs": [
        {
          "output_type": "execute_result",
          "data": {
            "text/plain": [
              "10"
            ]
          },
          "metadata": {
            "tags": []
          },
          "execution_count": 8
        }
      ]
    },
    {
      "cell_type": "code",
      "metadata": {
        "id": "tBVutirU8y8L",
        "colab_type": "code",
        "colab": {
          "base_uri": "https://localhost:8080/",
          "height": 0
        },
        "outputId": "81368b7b-c084-4018-c180-7f215914864b"
      },
      "source": [
        "# iloc表示位置，可以支持切片\n",
        "print(g1.iloc[0])\n",
        "# 切片返回Series\n",
        "g1.iloc[0:2]"
      ],
      "execution_count": 9,
      "outputs": [
        {
          "output_type": "stream",
          "text": [
            "10\n"
          ],
          "name": "stdout"
        },
        {
          "output_type": "execute_result",
          "data": {
            "text/plain": [
              "1968    10\n",
              "1969     7\n",
              "Name: George Songs, dtype: int64"
            ]
          },
          "metadata": {
            "tags": []
          },
          "execution_count": 9
        }
      ]
    },
    {
      "cell_type": "markdown",
      "metadata": {
        "id": "kXr2cg806Bvg",
        "colab_type": "text"
      },
      "source": [
        "## iterator"
      ]
    },
    {
      "cell_type": "code",
      "metadata": {
        "id": "wAds_82j7xxb",
        "colab_type": "code",
        "colab": {
          "base_uri": "https://localhost:8080/",
          "height": 0
        },
        "outputId": "af806de5-6766-46bb-8168-b08f64d8bb97"
      },
      "source": [
        "for item in g1:\n",
        "  print(item)"
      ],
      "execution_count": 10,
      "outputs": [
        {
          "output_type": "stream",
          "text": [
            "10\n",
            "7\n",
            "1\n",
            "22\n"
          ],
          "name": "stdout"
        }
      ]
    },
    {
      "cell_type": "code",
      "metadata": {
        "id": "-Zlh1A7h8FAF",
        "colab_type": "code",
        "colab": {
          "base_uri": "https://localhost:8080/",
          "height": 0
        },
        "outputId": "e429a0a2-73ee-42ff-c5fb-faf9a1afaa57"
      },
      "source": [
        "for key, value in g1.iteritems():\n",
        "  print(str(key), ' = ', str(value))"
      ],
      "execution_count": 11,
      "outputs": [
        {
          "output_type": "stream",
          "text": [
            "1968  =  10\n",
            "1969  =  7\n",
            "1970  =  1\n",
            "1970  =  22\n"
          ],
          "name": "stdout"
        }
      ]
    },
    {
      "cell_type": "markdown",
      "metadata": {
        "id": "vmCgShHBD8KS",
        "colab_type": "text"
      },
      "source": [
        "# 三、Updating、Append"
      ]
    },
    {
      "cell_type": "code",
      "metadata": {
        "id": "_EN5t8E0D_Z6",
        "colab_type": "code",
        "colab": {
          "base_uri": "https://localhost:8080/",
          "height": 101
        },
        "outputId": "e00df1df-ba1f-4fe1-fed9-e690246b33d5"
      },
      "source": [
        "# index不是unique\n",
        "g = pd.Series([10, 7, 1, 22], index=['1968', '1969', '1970', '1970'], name='George Songs')\n",
        "g"
      ],
      "execution_count": 20,
      "outputs": [
        {
          "output_type": "execute_result",
          "data": {
            "text/plain": [
              "1968    10\n",
              "1969     7\n",
              "1970     1\n",
              "1970    22\n",
              "Name: George Songs, dtype: int64"
            ]
          },
          "metadata": {
            "tags": []
          },
          "execution_count": 20
        }
      ]
    },
    {
      "cell_type": "markdown",
      "metadata": {
        "id": "t-HPFqWaED9A",
        "colab_type": "text"
      },
      "source": [
        "## 赋值语句插入、修改\n",
        "当index不存在，则赋值语句为修改<br>\n",
        "当index存在，则赋值语句为修改"
      ]
    },
    {
      "cell_type": "code",
      "metadata": {
        "id": "tlSuun1_EgwT",
        "colab_type": "code",
        "colab": {
          "base_uri": "https://localhost:8080/",
          "height": 101
        },
        "outputId": "995716b1-d8c8-4ebd-f188-b6aa46dc6829"
      },
      "source": [
        "#修改\n",
        "g['1969'] = 6\n",
        "g"
      ],
      "execution_count": 13,
      "outputs": [
        {
          "output_type": "execute_result",
          "data": {
            "text/plain": [
              "1968    10\n",
              "1969     6\n",
              "1970     1\n",
              "1970    22\n",
              "Name: George Songs, dtype: int64"
            ]
          },
          "metadata": {
            "tags": []
          },
          "execution_count": 13
        }
      ]
    },
    {
      "cell_type": "code",
      "metadata": {
        "id": "c493WA6EE_g9",
        "colab_type": "code",
        "colab": {
          "base_uri": "https://localhost:8080/",
          "height": 202
        },
        "outputId": "b1c89312-7767-45ab-94f3-e6298e55ef65"
      },
      "source": [
        "# 修改出现的问题\n",
        "# 全部都改：index方法\n",
        "g['1970'] = 2\n",
        "display(g)\n",
        "print()\n",
        "#修改特定某个：iloc\n",
        "g.iloc[3] = 22\n",
        "g"
      ],
      "execution_count": 14,
      "outputs": [
        {
          "output_type": "display_data",
          "data": {
            "text/plain": [
              "1968    10\n",
              "1969     6\n",
              "1970     2\n",
              "1970     2\n",
              "Name: George Songs, dtype: int64"
            ]
          },
          "metadata": {
            "tags": []
          }
        },
        {
          "output_type": "stream",
          "text": [
            "\n"
          ],
          "name": "stdout"
        },
        {
          "output_type": "execute_result",
          "data": {
            "text/plain": [
              "1968    10\n",
              "1969     6\n",
              "1970     2\n",
              "1970    22\n",
              "Name: George Songs, dtype: int64"
            ]
          },
          "metadata": {
            "tags": []
          },
          "execution_count": 14
        }
      ]
    },
    {
      "cell_type": "code",
      "metadata": {
        "id": "amVzihaIEoNO",
        "colab_type": "code",
        "colab": {
          "base_uri": "https://localhost:8080/",
          "height": 118
        },
        "outputId": "0c4e8775-e879-4483-a1ae-b5dd81a89ecf"
      },
      "source": [
        "#插入\n",
        "g['1973'] = 11\n",
        "g"
      ],
      "execution_count": 15,
      "outputs": [
        {
          "output_type": "execute_result",
          "data": {
            "text/plain": [
              "1968    10\n",
              "1969     6\n",
              "1970     2\n",
              "1970    22\n",
              "1973    11\n",
              "Name: George Songs, dtype: int64"
            ]
          },
          "metadata": {
            "tags": []
          },
          "execution_count": 15
        }
      ]
    },
    {
      "cell_type": "markdown",
      "metadata": {
        "id": "wzu2-w-rEzL3",
        "colab_type": "text"
      },
      "source": [
        "## append\n",
        "不修改原始数据，返回新Series"
      ]
    },
    {
      "cell_type": "code",
      "metadata": {
        "id": "B-hS_feyG1Sm",
        "colab_type": "code",
        "colab": {
          "base_uri": "https://localhost:8080/",
          "height": 253
        },
        "outputId": "b25bf400-4aef-4637-d8f1-aff2770d05d9"
      },
      "source": [
        "g_new = g.append(pd.Series({'1974':9}))\n",
        "display(g_new)\n",
        "print()\n",
        "display(g)"
      ],
      "execution_count": 16,
      "outputs": [
        {
          "output_type": "display_data",
          "data": {
            "text/plain": [
              "1968    10\n",
              "1969     6\n",
              "1970     2\n",
              "1970    22\n",
              "1973    11\n",
              "1974     9\n",
              "dtype: int64"
            ]
          },
          "metadata": {
            "tags": []
          }
        },
        {
          "output_type": "stream",
          "text": [
            "\n"
          ],
          "name": "stdout"
        },
        {
          "output_type": "display_data",
          "data": {
            "text/plain": [
              "1968    10\n",
              "1969     6\n",
              "1970     2\n",
              "1970    22\n",
              "1973    11\n",
              "Name: George Songs, dtype: int64"
            ]
          },
          "metadata": {
            "tags": []
          }
        }
      ]
    },
    {
      "cell_type": "markdown",
      "metadata": {
        "id": "7-mmlmvAHIiX",
        "colab_type": "text"
      },
      "source": [
        "## at, iat"
      ]
    },
    {
      "cell_type": "code",
      "metadata": {
        "id": "Gy80V1DcIDmX",
        "colab_type": "code",
        "colab": {
          "base_uri": "https://localhost:8080/",
          "height": 169
        },
        "outputId": "a05c58ec-a36e-4d2c-e938-0e47f499595a"
      },
      "source": [
        "# at：增加、修改都可以\n",
        "g_new = g.at['1980']=33\n",
        "display(g_new)\n",
        "print()\n",
        "g"
      ],
      "execution_count": 17,
      "outputs": [
        {
          "output_type": "display_data",
          "data": {
            "text/plain": [
              "33"
            ]
          },
          "metadata": {
            "tags": []
          }
        },
        {
          "output_type": "stream",
          "text": [
            "\n"
          ],
          "name": "stdout"
        },
        {
          "output_type": "execute_result",
          "data": {
            "text/plain": [
              "1968    10\n",
              "1969     6\n",
              "1970     2\n",
              "1970    22\n",
              "1973    11\n",
              "1980    33\n",
              "Name: George Songs, dtype: int64"
            ]
          },
          "metadata": {
            "tags": []
          },
          "execution_count": 17
        }
      ]
    },
    {
      "cell_type": "markdown",
      "metadata": {
        "id": "V6g_T2hCyzgK",
        "colab_type": "text"
      },
      "source": [
        "# 四、删除"
      ]
    },
    {
      "cell_type": "code",
      "metadata": {
        "id": "L4pnSMAyy0xa",
        "colab_type": "code",
        "colab": {
          "base_uri": "https://localhost:8080/",
          "height": 101
        },
        "outputId": "e290328f-6e7c-4c7f-8051-d5b1ba515b57"
      },
      "source": [
        "# index不是unique\n",
        "g = pd.Series([10, 7, 1, 22], index=['1968', '1969', '1970', '1970'], name='George Songs')\n",
        "g"
      ],
      "execution_count": 25,
      "outputs": [
        {
          "output_type": "execute_result",
          "data": {
            "text/plain": [
              "1968    10\n",
              "1969     7\n",
              "1970     1\n",
              "1970    22\n",
              "Name: George Songs, dtype: int64"
            ]
          },
          "metadata": {
            "tags": []
          },
          "execution_count": 25
        }
      ]
    },
    {
      "cell_type": "code",
      "metadata": {
        "id": "BZSTkeYIy7Ur",
        "colab_type": "code",
        "colab": {
          "base_uri": "https://localhost:8080/",
          "height": 84
        },
        "outputId": "25c2f0d2-fb38-4af4-b974-6f2ae938b640"
      },
      "source": [
        "# when index is unique\n",
        "del g['1968']\n",
        "g"
      ],
      "execution_count": 26,
      "outputs": [
        {
          "output_type": "execute_result",
          "data": {
            "text/plain": [
              "1969     7\n",
              "1970     1\n",
              "1970    22\n",
              "Name: George Songs, dtype: int64"
            ]
          },
          "metadata": {
            "tags": []
          },
          "execution_count": 26
        }
      ]
    },
    {
      "cell_type": "code",
      "metadata": {
        "id": "JFQrd7HizKDE",
        "colab_type": "code",
        "colab": {
          "base_uri": "https://localhost:8080/",
          "height": 50
        },
        "outputId": "db69af66-4129-48be-fab4-dc56d8b0fe66"
      },
      "source": [
        "del g['1970']\n",
        "g"
      ],
      "execution_count": 27,
      "outputs": [
        {
          "output_type": "execute_result",
          "data": {
            "text/plain": [
              "1969    7\n",
              "Name: George Songs, dtype: int64"
            ]
          },
          "metadata": {
            "tags": []
          },
          "execution_count": 27
        }
      ]
    }
  ]
}