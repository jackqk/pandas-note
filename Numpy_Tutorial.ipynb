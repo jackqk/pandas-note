{
  "nbformat": 4,
  "nbformat_minor": 0,
  "metadata": {
    "colab": {
      "name": "Numpy Tutorial.ipynb",
      "provenance": [],
      "collapsed_sections": [
        "8sCq8Qw0EQxJ",
        "p6zAuGKgrzjH",
        "DeK4fJ1WEzC4",
        "Fu9_78jiFYh2",
        "ZVKj2A84GJZG",
        "EObgc0wJG-Bl",
        "-tOPn6HYsMCP",
        "kp9gf0YesuWs",
        "6m7aWFc9xe1S",
        "gcOmt68BuuAa",
        "UKrrJ3j0xoU5",
        "wj4dklRgyxuU"
      ],
      "include_colab_link": true
    },
    "kernelspec": {
      "name": "python3",
      "display_name": "Python 3"
    }
  },
  "cells": [
    {
      "cell_type": "markdown",
      "metadata": {
        "id": "view-in-github",
        "colab_type": "text"
      },
      "source": [
        "<a href=\"https://colab.research.google.com/github/jackqk/pandas-note/blob/master/Numpy_Tutorial.ipynb\" target=\"_parent\"><img src=\"https://colab.research.google.com/assets/colab-badge.svg\" alt=\"Open In Colab\"/></a>"
      ]
    },
    {
      "cell_type": "markdown",
      "metadata": {
        "id": "8sCq8Qw0EQxJ",
        "colab_type": "text"
      },
      "source": [
        "# Numpy"
      ]
    },
    {
      "cell_type": "code",
      "metadata": {
        "id": "UQduOvB1EVpq",
        "colab_type": "code",
        "outputId": "690f3c4a-8564-4cdd-d4ac-36ec33838ea5",
        "colab": {
          "base_uri": "https://localhost:8080/",
          "height": 34
        }
      },
      "source": [
        "import numpy as np\n",
        "np.version.version"
      ],
      "execution_count": 0,
      "outputs": [
        {
          "output_type": "execute_result",
          "data": {
            "text/plain": [
              "'1.17.3'"
            ]
          },
          "metadata": {
            "tags": []
          },
          "execution_count": 5
        }
      ]
    },
    {
      "cell_type": "markdown",
      "metadata": {
        "id": "p6zAuGKgrzjH",
        "colab_type": "text"
      },
      "source": [
        "## 常用属性\n",
        "shape<br>\n",
        "dtype<br>"
      ]
    },
    {
      "cell_type": "markdown",
      "metadata": {
        "id": "kdRsQ5V6ElqQ",
        "colab_type": "text"
      },
      "source": [
        "# 一、Create Numpy Arrays"
      ]
    },
    {
      "cell_type": "markdown",
      "metadata": {
        "id": "DeK4fJ1WEzC4",
        "colab_type": "text"
      },
      "source": [
        "## list直接转换"
      ]
    },
    {
      "cell_type": "code",
      "metadata": {
        "id": "9x0AXZ39E6vC",
        "colab_type": "code",
        "outputId": "d0999e75-30b8-4e9a-abec-3e7c377e5872",
        "colab": {
          "base_uri": "https://localhost:8080/",
          "height": 34
        }
      },
      "source": [
        "mylist=[1,2,3]\n",
        "x = np.array(mylist)\n",
        "x"
      ],
      "execution_count": 0,
      "outputs": [
        {
          "output_type": "execute_result",
          "data": {
            "text/plain": [
              "array([1, 2, 3])"
            ]
          },
          "metadata": {
            "tags": []
          },
          "execution_count": 3
        }
      ]
    },
    {
      "cell_type": "code",
      "metadata": {
        "id": "ZprnzCx-E-9-",
        "colab_type": "code",
        "outputId": "9e26ead0-086d-4036-a220-921f2f621325",
        "colab": {
          "base_uri": "https://localhost:8080/",
          "height": 34
        }
      },
      "source": [
        "y = np.array([4,5,6])\n",
        "y"
      ],
      "execution_count": 0,
      "outputs": [
        {
          "output_type": "execute_result",
          "data": {
            "text/plain": [
              "array([4, 5, 6])"
            ]
          },
          "metadata": {
            "tags": []
          },
          "execution_count": 4
        }
      ]
    },
    {
      "cell_type": "code",
      "metadata": {
        "id": "jHesxSVxFE14",
        "colab_type": "code",
        "outputId": "59dfdf94-ad37-4b9b-c816-e08df6cc1921",
        "colab": {
          "base_uri": "https://localhost:8080/",
          "height": 50
        }
      },
      "source": [
        "m = np.array([[7,8,9],[10,11,12]])\n",
        "m"
      ],
      "execution_count": 0,
      "outputs": [
        {
          "output_type": "execute_result",
          "data": {
            "text/plain": [
              "array([[ 7,  8,  9],\n",
              "       [10, 11, 12]])"
            ]
          },
          "metadata": {
            "tags": []
          },
          "execution_count": 5
        }
      ]
    },
    {
      "cell_type": "code",
      "metadata": {
        "id": "o8U-drRQFN5t",
        "colab_type": "code",
        "outputId": "f863be90-861f-4d13-e805-da903fd0849f",
        "colab": {
          "base_uri": "https://localhost:8080/",
          "height": 34
        }
      },
      "source": [
        "#查看numpy 形状\n",
        "m.shape"
      ],
      "execution_count": 0,
      "outputs": [
        {
          "output_type": "execute_result",
          "data": {
            "text/plain": [
              "(2, 3)"
            ]
          },
          "metadata": {
            "tags": []
          },
          "execution_count": 6
        }
      ]
    },
    {
      "cell_type": "markdown",
      "metadata": {
        "id": "Fu9_78jiFYh2",
        "colab_type": "text"
      },
      "source": [
        "## arange创建"
      ]
    },
    {
      "cell_type": "code",
      "metadata": {
        "id": "_8SvB8X4tJHJ",
        "colab_type": "code",
        "outputId": "20270776-50e2-46f5-a182-4d89224eb6a2",
        "colab": {
          "base_uri": "https://localhost:8080/",
          "height": 34
        }
      },
      "source": [
        "n = np.arange(13)\n",
        "n"
      ],
      "execution_count": 0,
      "outputs": [
        {
          "output_type": "execute_result",
          "data": {
            "text/plain": [
              "array([ 0,  1,  2,  3,  4,  5,  6,  7,  8,  9, 10, 11, 12])"
            ]
          },
          "metadata": {
            "tags": []
          },
          "execution_count": 47
        }
      ]
    },
    {
      "cell_type": "code",
      "metadata": {
        "id": "XabSmjq6FqoO",
        "colab_type": "code",
        "outputId": "2028519a-63d5-4c62-bc31-aa50578e976f",
        "colab": {
          "base_uri": "https://localhost:8080/",
          "height": 34
        }
      },
      "source": [
        "# 起始为止，终止为止，步长（其实就是等差数列，指定差值）\n",
        "n = np.arange(0, 30, 2)\n",
        "n"
      ],
      "execution_count": 0,
      "outputs": [
        {
          "output_type": "execute_result",
          "data": {
            "text/plain": [
              "array([ 0,  2,  4,  6,  8, 10, 12, 14, 16, 18, 20, 22, 24, 26, 28])"
            ]
          },
          "metadata": {
            "tags": []
          },
          "execution_count": 7
        }
      ]
    },
    {
      "cell_type": "code",
      "metadata": {
        "id": "2M8YhRdYFtuw",
        "colab_type": "code",
        "outputId": "89557e04-033a-4ccd-8972-c98430c19b72",
        "colab": {
          "base_uri": "https://localhost:8080/",
          "height": 67
        }
      },
      "source": [
        "#形状修改，修改完赋值回去\n",
        "n = n.reshape(3, 5)\n",
        "n"
      ],
      "execution_count": 0,
      "outputs": [
        {
          "output_type": "execute_result",
          "data": {
            "text/plain": [
              "array([[ 0,  2,  4,  6,  8],\n",
              "       [10, 12, 14, 16, 18],\n",
              "       [20, 22, 24, 26, 28]])"
            ]
          },
          "metadata": {
            "tags": []
          },
          "execution_count": 8
        }
      ]
    },
    {
      "cell_type": "markdown",
      "metadata": {
        "id": "ZVKj2A84GJZG",
        "colab_type": "text"
      },
      "source": [
        "## linspace创建\n"
      ]
    },
    {
      "cell_type": "code",
      "metadata": {
        "id": "BQZZJdxWGVsi",
        "colab_type": "code",
        "outputId": "f4e9d345-03c8-4c96-d22f-019b541ea93f",
        "colab": {
          "base_uri": "https://localhost:8080/",
          "height": 34
        }
      },
      "source": [
        "# 起始为止，终止为止，步长（其实就是等差数列，指定个数）\n",
        "o = np.linspace(0, 4, 9)\n",
        "o"
      ],
      "execution_count": 0,
      "outputs": [
        {
          "output_type": "execute_result",
          "data": {
            "text/plain": [
              "array([0. , 0.5, 1. , 1.5, 2. , 2.5, 3. , 3.5, 4. ])"
            ]
          },
          "metadata": {
            "tags": []
          },
          "execution_count": 9
        }
      ]
    },
    {
      "cell_type": "code",
      "metadata": {
        "id": "WeoHim1fGiNW",
        "colab_type": "code",
        "outputId": "ba59e5a1-5d77-4907-ada9-f53aa55618b0",
        "colab": {
          "base_uri": "https://localhost:8080/",
          "height": 67
        }
      },
      "source": [
        "#形状修改，修改完不用赋值（这里需要知道与reshape之间的区别）\n",
        "o.resize(3,3)\n",
        "o"
      ],
      "execution_count": 0,
      "outputs": [
        {
          "output_type": "execute_result",
          "data": {
            "text/plain": [
              "array([[0. , 0.5, 1. ],\n",
              "       [1.5, 2. , 2.5],\n",
              "       [3. , 3.5, 4. ]])"
            ]
          },
          "metadata": {
            "tags": []
          },
          "execution_count": 10
        }
      ]
    },
    {
      "cell_type": "markdown",
      "metadata": {
        "id": "EObgc0wJG-Bl",
        "colab_type": "text"
      },
      "source": [
        "## numpy几个内置函数"
      ]
    },
    {
      "cell_type": "code",
      "metadata": {
        "id": "GfE7KNGpKeRB",
        "colab_type": "code",
        "outputId": "cba5a7df-99e3-413a-8c24-c0bf859fdd91",
        "colab": {
          "base_uri": "https://localhost:8080/",
          "height": 67
        }
      },
      "source": [
        "np.zeros((3,2))"
      ],
      "execution_count": 0,
      "outputs": [
        {
          "output_type": "execute_result",
          "data": {
            "text/plain": [
              "array([[0., 0.],\n",
              "       [0., 0.],\n",
              "       [0., 0.]])"
            ]
          },
          "metadata": {
            "tags": []
          },
          "execution_count": 11
        }
      ]
    },
    {
      "cell_type": "code",
      "metadata": {
        "id": "4BrS17-zKWWz",
        "colab_type": "code",
        "outputId": "5df7ec07-5d4e-4946-8209-547b1758efcf",
        "colab": {
          "base_uri": "https://localhost:8080/",
          "height": 67
        }
      },
      "source": [
        "np.ones((3,2))"
      ],
      "execution_count": 0,
      "outputs": [
        {
          "output_type": "execute_result",
          "data": {
            "text/plain": [
              "array([[1., 1.],\n",
              "       [1., 1.],\n",
              "       [1., 1.]])"
            ]
          },
          "metadata": {
            "tags": []
          },
          "execution_count": 12
        }
      ]
    },
    {
      "cell_type": "code",
      "metadata": {
        "id": "zktQ77yeKhvM",
        "colab_type": "code",
        "outputId": "9f743d49-ee11-4e85-9ff7-d10138b629b1",
        "colab": {
          "base_uri": "https://localhost:8080/",
          "height": 84
        }
      },
      "source": [
        "np.eye(4)"
      ],
      "execution_count": 0,
      "outputs": [
        {
          "output_type": "execute_result",
          "data": {
            "text/plain": [
              "array([[1., 0., 0., 0.],\n",
              "       [0., 1., 0., 0.],\n",
              "       [0., 0., 1., 0.],\n",
              "       [0., 0., 0., 1.]])"
            ]
          },
          "metadata": {
            "tags": []
          },
          "execution_count": 13
        }
      ]
    },
    {
      "cell_type": "code",
      "metadata": {
        "id": "eTGNVunfKjbP",
        "colab_type": "code",
        "outputId": "b9a82706-7ee8-4235-cb9e-cacc3ef43967",
        "colab": {
          "base_uri": "https://localhost:8080/",
          "height": 101
        }
      },
      "source": [
        "np.diag([1.,5,3.2,7,8])"
      ],
      "execution_count": 0,
      "outputs": [
        {
          "output_type": "execute_result",
          "data": {
            "text/plain": [
              "array([[1. , 0. , 0. , 0. , 0. ],\n",
              "       [0. , 5. , 0. , 0. , 0. ],\n",
              "       [0. , 0. , 3.2, 0. , 0. ],\n",
              "       [0. , 0. , 0. , 7. , 0. ],\n",
              "       [0. , 0. , 0. , 0. , 8. ]])"
            ]
          },
          "metadata": {
            "tags": []
          },
          "execution_count": 14
        }
      ]
    },
    {
      "cell_type": "markdown",
      "metadata": {
        "id": "4lyv-d5NKmy2",
        "colab_type": "text"
      },
      "source": [
        "## 组合创建"
      ]
    },
    {
      "cell_type": "code",
      "metadata": {
        "id": "F8A0yzS6LKyq",
        "colab_type": "code",
        "outputId": "c014e2d8-b02c-4381-8e99-ea51842ba1d1",
        "colab": {
          "base_uri": "https://localhost:8080/",
          "height": 34
        }
      },
      "source": [
        "np.array([1,2,3]*3)"
      ],
      "execution_count": 0,
      "outputs": [
        {
          "output_type": "execute_result",
          "data": {
            "text/plain": [
              "array([1, 2, 3, 1, 2, 3, 1, 2, 3])"
            ]
          },
          "metadata": {
            "tags": []
          },
          "execution_count": 15
        }
      ]
    },
    {
      "cell_type": "code",
      "metadata": {
        "id": "27uv0xiTLNjT",
        "colab_type": "code",
        "outputId": "256247e0-0bc0-4151-8bd5-ea234fc6a8f9",
        "colab": {
          "base_uri": "https://localhost:8080/",
          "height": 34
        }
      },
      "source": [
        "#注意与上面例子的区别\n",
        "np.repeat([1,2,3], 3)"
      ],
      "execution_count": 0,
      "outputs": [
        {
          "output_type": "execute_result",
          "data": {
            "text/plain": [
              "array([1, 1, 1, 2, 2, 2, 3, 3, 3])"
            ]
          },
          "metadata": {
            "tags": []
          },
          "execution_count": 16
        }
      ]
    },
    {
      "cell_type": "code",
      "metadata": {
        "id": "8ItPSCtRLRSl",
        "colab_type": "code",
        "outputId": "88c10743-89ba-4c55-e8ea-9ebbc02d0c45",
        "colab": {
          "base_uri": "https://localhost:8080/",
          "height": 50
        }
      },
      "source": [
        "p = np.ones([2,3], int)\n",
        "p"
      ],
      "execution_count": 0,
      "outputs": [
        {
          "output_type": "execute_result",
          "data": {
            "text/plain": [
              "array([[1, 1, 1],\n",
              "       [1, 1, 1]])"
            ]
          },
          "metadata": {
            "tags": []
          },
          "execution_count": 17
        }
      ]
    },
    {
      "cell_type": "code",
      "metadata": {
        "id": "-ToRBYVALkzR",
        "colab_type": "code",
        "outputId": "5584997d-db3a-4a54-f612-0e317e51ebac",
        "colab": {
          "base_uri": "https://localhost:8080/",
          "height": 84
        }
      },
      "source": [
        "#垂直堆叠\n",
        "np.vstack([p, 2*p])"
      ],
      "execution_count": 0,
      "outputs": [
        {
          "output_type": "execute_result",
          "data": {
            "text/plain": [
              "array([[1, 1, 1],\n",
              "       [1, 1, 1],\n",
              "       [2, 2, 2],\n",
              "       [2, 2, 2]])"
            ]
          },
          "metadata": {
            "tags": []
          },
          "execution_count": 18
        }
      ]
    },
    {
      "cell_type": "code",
      "metadata": {
        "id": "3u2-d95VLn6e",
        "colab_type": "code",
        "outputId": "54ec9118-ec0a-4a85-f85b-57ac20a3c1a9",
        "colab": {
          "base_uri": "https://localhost:8080/",
          "height": 50
        }
      },
      "source": [
        "#水平堆叠\n",
        "np.hstack([p, 2*p])"
      ],
      "execution_count": 0,
      "outputs": [
        {
          "output_type": "execute_result",
          "data": {
            "text/plain": [
              "array([[1, 1, 1, 2, 2, 2],\n",
              "       [1, 1, 1, 2, 2, 2]])"
            ]
          },
          "metadata": {
            "tags": []
          },
          "execution_count": 19
        }
      ]
    },
    {
      "cell_type": "markdown",
      "metadata": {
        "id": "LMy-foNYLtup",
        "colab_type": "text"
      },
      "source": [
        "# 二、Operation"
      ]
    },
    {
      "cell_type": "markdown",
      "metadata": {
        "id": "qDbLcG9_ra5v",
        "colab_type": "text"
      },
      "source": [
        "### 普通四则运算"
      ]
    },
    {
      "cell_type": "code",
      "metadata": {
        "id": "iAymVSLGLy7c",
        "colab_type": "code",
        "outputId": "d6e5f44d-c3d6-46a0-abf6-583ad51781a7",
        "colab": {
          "base_uri": "https://localhost:8080/",
          "height": 34
        }
      },
      "source": [
        "x = np.array([1,2,3])\n",
        "y = np.array([4,5,6])\n",
        "x + y"
      ],
      "execution_count": 0,
      "outputs": [
        {
          "output_type": "execute_result",
          "data": {
            "text/plain": [
              "array([5, 7, 9])"
            ]
          },
          "metadata": {
            "tags": []
          },
          "execution_count": 6
        }
      ]
    },
    {
      "cell_type": "code",
      "metadata": {
        "id": "is-Nj0sdrBo1",
        "colab_type": "code",
        "outputId": "16f8d952-5853-4466-d4bc-73477df042fa",
        "colab": {
          "base_uri": "https://localhost:8080/",
          "height": 34
        }
      },
      "source": [
        "x * y"
      ],
      "execution_count": 0,
      "outputs": [
        {
          "output_type": "execute_result",
          "data": {
            "text/plain": [
              "array([ 4, 10, 18])"
            ]
          },
          "metadata": {
            "tags": []
          },
          "execution_count": 26
        }
      ]
    },
    {
      "cell_type": "code",
      "metadata": {
        "id": "XSEBH5VRrGtC",
        "colab_type": "code",
        "outputId": "7f4599f2-81aa-42ca-f051-89f8267b7778",
        "colab": {
          "base_uri": "https://localhost:8080/",
          "height": 34
        }
      },
      "source": [
        "x ** 2"
      ],
      "execution_count": 0,
      "outputs": [
        {
          "output_type": "execute_result",
          "data": {
            "text/plain": [
              "array([1, 4, 9])"
            ]
          },
          "metadata": {
            "tags": []
          },
          "execution_count": 28
        }
      ]
    },
    {
      "cell_type": "markdown",
      "metadata": {
        "id": "2wfjEiVvrecM",
        "colab_type": "text"
      },
      "source": [
        "### 线性代数运算"
      ]
    },
    {
      "cell_type": "code",
      "metadata": {
        "id": "mwpH35nOrC84",
        "colab_type": "code",
        "outputId": "9277248a-0a4b-4079-bcbe-e1b25d70bca1",
        "colab": {
          "base_uri": "https://localhost:8080/",
          "height": 101
        }
      },
      "source": [
        "#线性代数相乘\n",
        "yy = np.vstack([y,y])\n",
        "display(x)\n",
        "display(yy.T)\n",
        "x.dot(yy.T)"
      ],
      "execution_count": 0,
      "outputs": [
        {
          "output_type": "display_data",
          "data": {
            "text/plain": [
              "array([1, 2, 3])"
            ]
          },
          "metadata": {
            "tags": []
          }
        },
        {
          "output_type": "display_data",
          "data": {
            "text/plain": [
              "array([[4, 4],\n",
              "       [5, 5],\n",
              "       [6, 6]])"
            ]
          },
          "metadata": {
            "tags": []
          }
        },
        {
          "output_type": "execute_result",
          "data": {
            "text/plain": [
              "array([32, 32])"
            ]
          },
          "metadata": {
            "tags": []
          },
          "execution_count": 13
        }
      ]
    },
    {
      "cell_type": "code",
      "metadata": {
        "id": "2z2vWePdrFYf",
        "colab_type": "code",
        "outputId": "86ce10eb-a8c9-419b-c2c7-4f0d89ce1606",
        "colab": {
          "base_uri": "https://localhost:8080/",
          "height": 50
        }
      },
      "source": [
        "z = np.array([y, 2*y])\n",
        "z"
      ],
      "execution_count": 0,
      "outputs": [
        {
          "output_type": "execute_result",
          "data": {
            "text/plain": [
              "array([[ 4,  5,  6],\n",
              "       [ 8, 10, 12]])"
            ]
          },
          "metadata": {
            "tags": []
          },
          "execution_count": 30
        }
      ]
    },
    {
      "cell_type": "code",
      "metadata": {
        "id": "7fIDwQhurjsW",
        "colab_type": "code",
        "outputId": "5635486b-6b72-498d-95ea-3b4c957e3c9d",
        "colab": {
          "base_uri": "https://localhost:8080/",
          "height": 34
        }
      },
      "source": [
        "z.shape"
      ],
      "execution_count": 0,
      "outputs": [
        {
          "output_type": "execute_result",
          "data": {
            "text/plain": [
              "(2, 3)"
            ]
          },
          "metadata": {
            "tags": []
          },
          "execution_count": 32
        }
      ]
    },
    {
      "cell_type": "code",
      "metadata": {
        "id": "R36jUgsXrmvD",
        "colab_type": "code",
        "outputId": "e29cb174-5d94-4737-ecfa-6edb4c6fe215",
        "colab": {
          "base_uri": "https://localhost:8080/",
          "height": 67
        }
      },
      "source": [
        "z.T"
      ],
      "execution_count": 0,
      "outputs": [
        {
          "output_type": "execute_result",
          "data": {
            "text/plain": [
              "array([[ 4,  8],\n",
              "       [ 5, 10],\n",
              "       [ 6, 12]])"
            ]
          },
          "metadata": {
            "tags": []
          },
          "execution_count": 33
        }
      ]
    },
    {
      "cell_type": "code",
      "metadata": {
        "id": "0D6BBg2VrpXF",
        "colab_type": "code",
        "outputId": "ba793299-3702-43fd-942b-3b3242dae443",
        "colab": {
          "base_uri": "https://localhost:8080/",
          "height": 34
        }
      },
      "source": [
        "z.T.shape"
      ],
      "execution_count": 0,
      "outputs": [
        {
          "output_type": "execute_result",
          "data": {
            "text/plain": [
              "(3, 2)"
            ]
          },
          "metadata": {
            "tags": []
          },
          "execution_count": 34
        }
      ]
    },
    {
      "cell_type": "code",
      "metadata": {
        "id": "1n6bTy03sCjA",
        "colab_type": "code",
        "outputId": "7aee1d3e-418b-471d-a471-264cf5ab251c",
        "colab": {
          "base_uri": "https://localhost:8080/",
          "height": 34
        }
      },
      "source": [
        "z.dtype"
      ],
      "execution_count": 0,
      "outputs": [
        {
          "output_type": "execute_result",
          "data": {
            "text/plain": [
              "dtype('int64')"
            ]
          },
          "metadata": {
            "tags": []
          },
          "execution_count": 35
        }
      ]
    },
    {
      "cell_type": "code",
      "metadata": {
        "id": "3KMmsdr7sIvx",
        "colab_type": "code",
        "outputId": "ddb9ac22-17bd-40a1-903c-084a14a17adf",
        "colab": {
          "base_uri": "https://localhost:8080/",
          "height": 34
        }
      },
      "source": [
        "z = z.astype('f')\n",
        "z.dtype"
      ],
      "execution_count": 0,
      "outputs": [
        {
          "output_type": "execute_result",
          "data": {
            "text/plain": [
              "dtype('float32')"
            ]
          },
          "metadata": {
            "tags": []
          },
          "execution_count": 36
        }
      ]
    },
    {
      "cell_type": "markdown",
      "metadata": {
        "id": "-tOPn6HYsMCP",
        "colab_type": "text"
      },
      "source": [
        "### 数学运算"
      ]
    },
    {
      "cell_type": "code",
      "metadata": {
        "id": "a1crEhg8sU4c",
        "colab_type": "code",
        "outputId": "4acb07c7-f518-435d-bff2-fa16b2760d6c",
        "colab": {
          "base_uri": "https://localhost:8080/",
          "height": 34
        }
      },
      "source": [
        "a = np.array([-4, -2, 1, 3, 5])\n",
        "a"
      ],
      "execution_count": 0,
      "outputs": [
        {
          "output_type": "execute_result",
          "data": {
            "text/plain": [
              "array([-4, -2,  1,  3,  5])"
            ]
          },
          "metadata": {
            "tags": []
          },
          "execution_count": 38
        }
      ]
    },
    {
      "cell_type": "code",
      "metadata": {
        "id": "zbPx9tCxsc3d",
        "colab_type": "code",
        "outputId": "ff0543c3-3a04-4f95-9902-bf3375bdd7da",
        "colab": {
          "base_uri": "https://localhost:8080/",
          "height": 34
        }
      },
      "source": [
        "a.sum()"
      ],
      "execution_count": 0,
      "outputs": [
        {
          "output_type": "execute_result",
          "data": {
            "text/plain": [
              "3"
            ]
          },
          "metadata": {
            "tags": []
          },
          "execution_count": 39
        }
      ]
    },
    {
      "cell_type": "code",
      "metadata": {
        "id": "0M8D34U8sfa9",
        "colab_type": "code",
        "outputId": "6401e8e2-08a9-4e93-e993-a77fe16b505e",
        "colab": {
          "base_uri": "https://localhost:8080/",
          "height": 34
        }
      },
      "source": [
        "a.max()"
      ],
      "execution_count": 0,
      "outputs": [
        {
          "output_type": "execute_result",
          "data": {
            "text/plain": [
              "5"
            ]
          },
          "metadata": {
            "tags": []
          },
          "execution_count": 40
        }
      ]
    },
    {
      "cell_type": "code",
      "metadata": {
        "id": "LEpdavlmsn-4",
        "colab_type": "code",
        "outputId": "502ad4b4-cd91-4b2e-a158-fcbfacdfd0ba",
        "colab": {
          "base_uri": "https://localhost:8080/",
          "height": 34
        }
      },
      "source": [
        "a.min()"
      ],
      "execution_count": 0,
      "outputs": [
        {
          "output_type": "execute_result",
          "data": {
            "text/plain": [
              "-4"
            ]
          },
          "metadata": {
            "tags": []
          },
          "execution_count": 41
        }
      ]
    },
    {
      "cell_type": "code",
      "metadata": {
        "id": "3XulN8TYsoq8",
        "colab_type": "code",
        "outputId": "499a85ff-c2ba-465d-9cad-83331f3fb0cd",
        "colab": {
          "base_uri": "https://localhost:8080/",
          "height": 34
        }
      },
      "source": [
        "a.mean()"
      ],
      "execution_count": 0,
      "outputs": [
        {
          "output_type": "execute_result",
          "data": {
            "text/plain": [
              "0.6"
            ]
          },
          "metadata": {
            "tags": []
          },
          "execution_count": 42
        }
      ]
    },
    {
      "cell_type": "code",
      "metadata": {
        "id": "TQRgg3-QsqHw",
        "colab_type": "code",
        "outputId": "60a5ce08-f397-47ad-a3bc-b62342c6f9af",
        "colab": {
          "base_uri": "https://localhost:8080/",
          "height": 34
        }
      },
      "source": [
        "a.std()"
      ],
      "execution_count": 0,
      "outputs": [
        {
          "output_type": "execute_result",
          "data": {
            "text/plain": [
              "3.2619012860600183"
            ]
          },
          "metadata": {
            "tags": []
          },
          "execution_count": 43
        }
      ]
    },
    {
      "cell_type": "code",
      "metadata": {
        "id": "Memk-200srC0",
        "colab_type": "code",
        "outputId": "9e86ec39-302d-47b7-f9ad-09960a1f9afa",
        "colab": {
          "base_uri": "https://localhost:8080/",
          "height": 34
        }
      },
      "source": [
        "a.argmax()"
      ],
      "execution_count": 0,
      "outputs": [
        {
          "output_type": "execute_result",
          "data": {
            "text/plain": [
              "4"
            ]
          },
          "metadata": {
            "tags": []
          },
          "execution_count": 44
        }
      ]
    },
    {
      "cell_type": "code",
      "metadata": {
        "id": "0RkjiOGXsslf",
        "colab_type": "code",
        "outputId": "da4a829d-5b4e-45cd-bd02-f94c4dc9474f",
        "colab": {
          "base_uri": "https://localhost:8080/",
          "height": 34
        }
      },
      "source": [
        "a.argmin()"
      ],
      "execution_count": 0,
      "outputs": [
        {
          "output_type": "execute_result",
          "data": {
            "text/plain": [
              "0"
            ]
          },
          "metadata": {
            "tags": []
          },
          "execution_count": 45
        }
      ]
    },
    {
      "cell_type": "markdown",
      "metadata": {
        "id": "kp9gf0YesuWs",
        "colab_type": "text"
      },
      "source": [
        "# 三、Index / Slicing"
      ]
    },
    {
      "cell_type": "markdown",
      "metadata": {
        "id": "6m7aWFc9xe1S",
        "colab_type": "text"
      },
      "source": [
        "## 一维"
      ]
    },
    {
      "cell_type": "code",
      "metadata": {
        "id": "XYDa0VDLs_Cs",
        "colab_type": "code",
        "outputId": "ef9e4385-2221-4680-9d41-c324172c1027",
        "colab": {
          "base_uri": "https://localhost:8080/",
          "height": 34
        }
      },
      "source": [
        "s = np.arange(13) ** 2\n",
        "s"
      ],
      "execution_count": 0,
      "outputs": [
        {
          "output_type": "execute_result",
          "data": {
            "text/plain": [
              "array([  0,   1,   4,   9,  16,  25,  36,  49,  64,  81, 100, 121, 144])"
            ]
          },
          "metadata": {
            "tags": []
          },
          "execution_count": 49
        }
      ]
    },
    {
      "cell_type": "code",
      "metadata": {
        "id": "RNImYhJBtUgS",
        "colab_type": "code",
        "outputId": "41e644ee-184b-4146-eb6d-0d81e03ab5df",
        "colab": {
          "base_uri": "https://localhost:8080/",
          "height": 34
        }
      },
      "source": [
        "s[0], s[4]"
      ],
      "execution_count": 0,
      "outputs": [
        {
          "output_type": "execute_result",
          "data": {
            "text/plain": [
              "(0, 16)"
            ]
          },
          "metadata": {
            "tags": []
          },
          "execution_count": 51
        }
      ]
    },
    {
      "cell_type": "code",
      "metadata": {
        "id": "5oMdwNCbtcBW",
        "colab_type": "code",
        "outputId": "16f4c9e0-c802-42dc-d5a8-dd9b4b61b73d",
        "colab": {
          "base_uri": "https://localhost:8080/",
          "height": 34
        }
      },
      "source": [
        "#s[a:b] ==> 结尾 = b - 1；个数 = b - a； \n",
        "s[0:3]"
      ],
      "execution_count": 0,
      "outputs": [
        {
          "output_type": "execute_result",
          "data": {
            "text/plain": [
              "array([0, 1, 4])"
            ]
          },
          "metadata": {
            "tags": []
          },
          "execution_count": 52
        }
      ]
    },
    {
      "cell_type": "code",
      "metadata": {
        "id": "A0F8CK6Wtw6H",
        "colab_type": "code",
        "outputId": "c15b8c87-d677-43e1-fa07-62d4197fa283",
        "colab": {
          "base_uri": "https://localhost:8080/",
          "height": 34
        }
      },
      "source": [
        "s[1:5]"
      ],
      "execution_count": 0,
      "outputs": [
        {
          "output_type": "execute_result",
          "data": {
            "text/plain": [
              "array([ 1,  4,  9, 16])"
            ]
          },
          "metadata": {
            "tags": []
          },
          "execution_count": 55
        }
      ]
    },
    {
      "cell_type": "code",
      "metadata": {
        "id": "Dy_585NcuKeO",
        "colab_type": "code",
        "outputId": "e0d8d62e-2704-40a1-9d7c-cd03b9a6f580",
        "colab": {
          "base_uri": "https://localhost:8080/",
          "height": 34
        }
      },
      "source": [
        "s[-4:]"
      ],
      "execution_count": 0,
      "outputs": [
        {
          "output_type": "execute_result",
          "data": {
            "text/plain": [
              "array([ 81, 100, 121, 144])"
            ]
          },
          "metadata": {
            "tags": []
          },
          "execution_count": 56
        }
      ]
    },
    {
      "cell_type": "code",
      "metadata": {
        "id": "fyqzwwLXua-A",
        "colab_type": "code",
        "outputId": "7127eb70-cf43-4c60-87d9-08f1832dfa63",
        "colab": {
          "base_uri": "https://localhost:8080/",
          "height": 34
        }
      },
      "source": [
        "#往前遍历\n",
        "s[-5::-2]"
      ],
      "execution_count": 0,
      "outputs": [
        {
          "output_type": "execute_result",
          "data": {
            "text/plain": [
              "array([64, 36, 16,  4,  0])"
            ]
          },
          "metadata": {
            "tags": []
          },
          "execution_count": 57
        }
      ]
    },
    {
      "cell_type": "markdown",
      "metadata": {
        "id": "gcOmt68BuuAa",
        "colab_type": "text"
      },
      "source": [
        "## 二维"
      ]
    },
    {
      "cell_type": "code",
      "metadata": {
        "id": "8TzGcc4CuhlQ",
        "colab_type": "code",
        "outputId": "af94b3f2-6bd6-4cbb-c4c6-88080618b62b",
        "colab": {
          "base_uri": "https://localhost:8080/",
          "height": 118
        }
      },
      "source": [
        "r = np.arange(36)\n",
        "r.resize([6,6])\n",
        "r"
      ],
      "execution_count": 0,
      "outputs": [
        {
          "output_type": "execute_result",
          "data": {
            "text/plain": [
              "array([[ 0,  1,  2,  3,  4,  5],\n",
              "       [ 6,  7,  8,  9, 10, 11],\n",
              "       [12, 13, 14, 15, 16, 17],\n",
              "       [18, 19, 20, 21, 22, 23],\n",
              "       [24, 25, 26, 27, 28, 29],\n",
              "       [30, 31, 32, 33, 34, 35]])"
            ]
          },
          "metadata": {
            "tags": []
          },
          "execution_count": 59
        }
      ]
    },
    {
      "cell_type": "code",
      "metadata": {
        "id": "IENe_uuju37U",
        "colab_type": "code",
        "outputId": "0ea9a4c0-e9e9-49fa-8549-46ee57c0dc6e",
        "colab": {
          "base_uri": "https://localhost:8080/",
          "height": 34
        }
      },
      "source": [
        "r[2,2]"
      ],
      "execution_count": 0,
      "outputs": [
        {
          "output_type": "execute_result",
          "data": {
            "text/plain": [
              "14"
            ]
          },
          "metadata": {
            "tags": []
          },
          "execution_count": 60
        }
      ]
    },
    {
      "cell_type": "code",
      "metadata": {
        "id": "0t8Euw0du72z",
        "colab_type": "code",
        "outputId": "feb2dabe-ef8d-4380-cade-e34f8b1ad754",
        "colab": {
          "base_uri": "https://localhost:8080/",
          "height": 34
        }
      },
      "source": [
        "r[3, 3:6]"
      ],
      "execution_count": 0,
      "outputs": [
        {
          "output_type": "execute_result",
          "data": {
            "text/plain": [
              "array([21, 22, 23])"
            ]
          },
          "metadata": {
            "tags": []
          },
          "execution_count": 61
        }
      ]
    },
    {
      "cell_type": "code",
      "metadata": {
        "id": "wWuj3YWWvLIE",
        "colab_type": "code",
        "outputId": "88786bc5-a7fc-4986-9254-c7a9cd39efc4",
        "colab": {
          "base_uri": "https://localhost:8080/",
          "height": 34
        }
      },
      "source": [
        "r[:2, -1]"
      ],
      "execution_count": 0,
      "outputs": [
        {
          "output_type": "execute_result",
          "data": {
            "text/plain": [
              "array([ 5, 11])"
            ]
          },
          "metadata": {
            "tags": []
          },
          "execution_count": 62
        }
      ]
    },
    {
      "cell_type": "code",
      "metadata": {
        "id": "gV0nKkP8vbDv",
        "colab_type": "code",
        "outputId": "ab6e28bf-a357-4e0e-eb12-66c06f0c7c4b",
        "colab": {
          "base_uri": "https://localhost:8080/",
          "height": 34
        }
      },
      "source": [
        "r[-1, ::2]"
      ],
      "execution_count": 0,
      "outputs": [
        {
          "output_type": "execute_result",
          "data": {
            "text/plain": [
              "array([30, 32, 34])"
            ]
          },
          "metadata": {
            "tags": []
          },
          "execution_count": 65
        }
      ]
    },
    {
      "cell_type": "markdown",
      "metadata": {
        "id": "UKrrJ3j0xoU5",
        "colab_type": "text"
      },
      "source": [
        "## 赋值"
      ]
    },
    {
      "cell_type": "code",
      "metadata": {
        "id": "JY4XmXnix013",
        "colab_type": "code",
        "outputId": "3187a1ee-d496-45ff-bc5c-c59ce27ca007",
        "colab": {
          "base_uri": "https://localhost:8080/",
          "height": 34
        }
      },
      "source": [
        "r[r>30]"
      ],
      "execution_count": 0,
      "outputs": [
        {
          "output_type": "execute_result",
          "data": {
            "text/plain": [
              "array([31, 32, 33, 34, 35])"
            ]
          },
          "metadata": {
            "tags": []
          },
          "execution_count": 66
        }
      ]
    },
    {
      "cell_type": "code",
      "metadata": {
        "id": "qpwRTqsMx5jt",
        "colab_type": "code",
        "outputId": "c0ea26a2-7488-4442-c555-23f0cf9a131c",
        "colab": {
          "base_uri": "https://localhost:8080/",
          "height": 118
        }
      },
      "source": [
        "r[r>30]=30\n",
        "r"
      ],
      "execution_count": 0,
      "outputs": [
        {
          "output_type": "execute_result",
          "data": {
            "text/plain": [
              "array([[ 0,  1,  2,  3,  4,  5],\n",
              "       [ 6,  7,  8,  9, 10, 11],\n",
              "       [12, 13, 14, 15, 16, 17],\n",
              "       [18, 19, 20, 21, 22, 23],\n",
              "       [24, 25, 26, 27, 28, 29],\n",
              "       [30, 30, 30, 30, 30, 30]])"
            ]
          },
          "metadata": {
            "tags": []
          },
          "execution_count": 68
        }
      ]
    },
    {
      "cell_type": "code",
      "metadata": {
        "id": "k83wtYGRx8T8",
        "colab_type": "code",
        "outputId": "d4bd7f01-ee7c-4e18-a4af-766547407c11",
        "colab": {
          "base_uri": "https://localhost:8080/",
          "height": 67
        }
      },
      "source": [
        "r2 = r[:3, :3]\n",
        "r2"
      ],
      "execution_count": 0,
      "outputs": [
        {
          "output_type": "execute_result",
          "data": {
            "text/plain": [
              "array([[ 0,  1,  2],\n",
              "       [ 6,  7,  8],\n",
              "       [12, 13, 14]])"
            ]
          },
          "metadata": {
            "tags": []
          },
          "execution_count": 76
        }
      ]
    },
    {
      "cell_type": "code",
      "metadata": {
        "id": "Y8QExBVryFc7",
        "colab_type": "code",
        "outputId": "4262226e-0b2c-4d4e-9319-ad56367f9594",
        "colab": {
          "base_uri": "https://localhost:8080/",
          "height": 67
        }
      },
      "source": [
        "#修改会影响原始r\n",
        "r2[:] = 0\n",
        "r2"
      ],
      "execution_count": 0,
      "outputs": [
        {
          "output_type": "execute_result",
          "data": {
            "text/plain": [
              "array([[0, 0, 0],\n",
              "       [0, 0, 0],\n",
              "       [0, 0, 0]])"
            ]
          },
          "metadata": {
            "tags": []
          },
          "execution_count": 79
        }
      ]
    },
    {
      "cell_type": "code",
      "metadata": {
        "id": "DMz8qtJhyGTw",
        "colab_type": "code",
        "outputId": "c5812b8c-8ede-4a17-fa2e-294118b5fb81",
        "colab": {
          "base_uri": "https://localhost:8080/",
          "height": 118
        }
      },
      "source": [
        "r"
      ],
      "execution_count": 0,
      "outputs": [
        {
          "output_type": "execute_result",
          "data": {
            "text/plain": [
              "array([[ 0,  0,  0,  3,  4,  5],\n",
              "       [ 0,  0,  0,  9, 10, 11],\n",
              "       [ 0,  0,  0, 15, 16, 17],\n",
              "       [18, 19, 20, 21, 22, 23],\n",
              "       [24, 25, 26, 27, 28, 29],\n",
              "       [30, 30, 30, 30, 30, 30]])"
            ]
          },
          "metadata": {
            "tags": []
          },
          "execution_count": 80
        }
      ]
    },
    {
      "cell_type": "code",
      "metadata": {
        "id": "wCK0J3nWydlq",
        "colab_type": "code",
        "outputId": "9c63ff85-4420-49a9-829d-3ad76eb63f8f",
        "colab": {
          "base_uri": "https://localhost:8080/",
          "height": 118
        }
      },
      "source": [
        "#调用copy就不会影响原始数据r了\n",
        "r_copy = r.copy()\n",
        "r_copy"
      ],
      "execution_count": 0,
      "outputs": [
        {
          "output_type": "execute_result",
          "data": {
            "text/plain": [
              "array([[ 0,  0,  0,  3,  4,  5],\n",
              "       [ 0,  0,  0,  9, 10, 11],\n",
              "       [ 0,  0,  0, 15, 16, 17],\n",
              "       [18, 19, 20, 21, 22, 23],\n",
              "       [24, 25, 26, 27, 28, 29],\n",
              "       [30, 30, 30, 30, 30, 30]])"
            ]
          },
          "metadata": {
            "tags": []
          },
          "execution_count": 81
        }
      ]
    },
    {
      "cell_type": "code",
      "metadata": {
        "id": "4SQmVkDyyucG",
        "colab_type": "code",
        "outputId": "b1801a32-329e-4ea8-ebc8-f07b0a49649b",
        "colab": {
          "base_uri": "https://localhost:8080/",
          "height": 236
        }
      },
      "source": [
        "r_copy[:]=10\n",
        "print(r)\n",
        "print()\n",
        "print(r_copy)"
      ],
      "execution_count": 0,
      "outputs": [
        {
          "output_type": "stream",
          "text": [
            "[[ 0  0  0  3  4  5]\n",
            " [ 0  0  0  9 10 11]\n",
            " [ 0  0  0 15 16 17]\n",
            " [18 19 20 21 22 23]\n",
            " [24 25 26 27 28 29]\n",
            " [30 30 30 30 30 30]]\n",
            "\n",
            "[[10 10 10 10 10 10]\n",
            " [10 10 10 10 10 10]\n",
            " [10 10 10 10 10 10]\n",
            " [10 10 10 10 10 10]\n",
            " [10 10 10 10 10 10]\n",
            " [10 10 10 10 10 10]]\n"
          ],
          "name": "stdout"
        }
      ]
    },
    {
      "cell_type": "markdown",
      "metadata": {
        "id": "wj4dklRgyxuU",
        "colab_type": "text"
      },
      "source": [
        "# 四、遍历"
      ]
    },
    {
      "cell_type": "code",
      "metadata": {
        "id": "89ChGUmhzL5_",
        "colab_type": "code",
        "outputId": "4e8cde53-f3e4-40c9-bb4e-a376cd194aa9",
        "colab": {
          "base_uri": "https://localhost:8080/",
          "height": 84
        }
      },
      "source": [
        "test = np.random.randint(0, 10, (4, 3))\n",
        "test"
      ],
      "execution_count": 0,
      "outputs": [
        {
          "output_type": "execute_result",
          "data": {
            "text/plain": [
              "array([[4, 4, 6],\n",
              "       [2, 7, 4],\n",
              "       [1, 0, 6],\n",
              "       [6, 4, 6]])"
            ]
          },
          "metadata": {
            "tags": []
          },
          "execution_count": 93
        }
      ]
    },
    {
      "cell_type": "code",
      "metadata": {
        "id": "R8JDBTKIzZdH",
        "colab_type": "code",
        "outputId": "351ea230-a22b-4749-c987-4b4625ebd934",
        "colab": {
          "base_uri": "https://localhost:8080/",
          "height": 84
        }
      },
      "source": [
        "#方法一：按行遍历\n",
        "for row in test:\n",
        "  print(row)"
      ],
      "execution_count": 0,
      "outputs": [
        {
          "output_type": "stream",
          "text": [
            "[4 4 6]\n",
            "[2 7 4]\n",
            "[1 0 6]\n",
            "[6 4 6]\n"
          ],
          "name": "stdout"
        }
      ]
    },
    {
      "cell_type": "code",
      "metadata": {
        "id": "H-jHhBfQzjtz",
        "colab_type": "code",
        "outputId": "12a4dd83-2623-4e66-ef2a-d9b5ca2b36df",
        "colab": {
          "base_uri": "https://localhost:8080/",
          "height": 84
        }
      },
      "source": [
        "#方法二：按行遍历：使用len(test)返回行数\n",
        "for i in range(len(test)):\n",
        "  print(test[i])"
      ],
      "execution_count": 0,
      "outputs": [
        {
          "output_type": "stream",
          "text": [
            "[4 4 6]\n",
            "[2 7 4]\n",
            "[1 0 6]\n",
            "[6 4 6]\n"
          ],
          "name": "stdout"
        }
      ]
    },
    {
      "cell_type": "code",
      "metadata": {
        "id": "Se0Oiqugz83K",
        "colab_type": "code",
        "outputId": "5aa76a3a-c8f2-4590-d149-c78c2846dca5",
        "colab": {
          "base_uri": "https://localhost:8080/",
          "height": 84
        }
      },
      "source": [
        "#方法三：enumerate\n",
        "for i, row in enumerate(test):\n",
        "    print('row', i, 'is ', row)"
      ],
      "execution_count": 0,
      "outputs": [
        {
          "output_type": "stream",
          "text": [
            "row 0 is  [4 4 6]\n",
            "row 1 is  [2 7 4]\n",
            "row 2 is  [1 0 6]\n",
            "row 3 is  [6 4 6]\n"
          ],
          "name": "stdout"
        }
      ]
    },
    {
      "cell_type": "code",
      "metadata": {
        "id": "YdWy2JGk0jjM",
        "colab_type": "code",
        "outputId": "35fc7b69-da97-4b74-e6d3-706a29d49950",
        "colab": {
          "base_uri": "https://localhost:8080/",
          "height": 84
        }
      },
      "source": [
        "test2 = test ** 2\n",
        "test2"
      ],
      "execution_count": 0,
      "outputs": [
        {
          "output_type": "execute_result",
          "data": {
            "text/plain": [
              "array([[16, 16, 36],\n",
              "       [ 4, 49, 16],\n",
              "       [ 1,  0, 36],\n",
              "       [36, 16, 36]])"
            ]
          },
          "metadata": {
            "tags": []
          },
          "execution_count": 116
        }
      ]
    },
    {
      "cell_type": "code",
      "metadata": {
        "id": "bPEu-T_Y09p7",
        "colab_type": "code",
        "outputId": "da56439c-ec78-4294-baae-ac1441ef2868",
        "colab": {
          "base_uri": "https://localhost:8080/",
          "height": 84
        }
      },
      "source": [
        "#同时遍历\n",
        "for i, j in zip(test, test2):\n",
        "  print(i,'+', j,'=', i+j)"
      ],
      "execution_count": 0,
      "outputs": [
        {
          "output_type": "stream",
          "text": [
            "[4 4 6] + [16 16 36] = [20 20 42]\n",
            "[2 7 4] + [ 4 49 16] = [ 6 56 20]\n",
            "[1 0 6] + [ 1  0 36] = [ 2  0 42]\n",
            "[6 4 6] + [36 16 36] = [42 20 42]\n"
          ],
          "name": "stdout"
        }
      ]
    }
  ]
}